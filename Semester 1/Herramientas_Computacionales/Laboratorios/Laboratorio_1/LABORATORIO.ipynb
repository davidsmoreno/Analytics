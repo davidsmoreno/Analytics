{
 "cells": [
  {
   "cell_type": "markdown",
   "metadata": {},
   "source": [
    "![miad4.png](Archivos/miad4.png)"
   ]
  },
  {
   "cell_type": "markdown",
   "metadata": {},
   "source": [
    "# Laboratorio 1"
   ]
  },
  {
   "cell_type": "markdown",
   "metadata": {},
   "source": [
    "## Desarrollo de una herramienta analítica usando recursos nativos de Python"
   ]
  },
  {
   "cell_type": "markdown",
   "metadata": {},
   "source": []
  },
  {
   "cell_type": "markdown",
   "metadata": {},
   "source": [
    "Para el desarrollo de esta actividad debes utilizar únicamente recursos nativos de Python (puedes usar librerías como `math` y `random`). Está prohibido el uso de librerías externas, a excepción de `matplotlib`. Te recomendamos leer por completo el enunciado del laboratorio antes de comenzar, de forma que tengas claro el propósito global de la actividad y puedas desarrollar tu solución apuntando a él desde el inicio."
   ]
  },
  {
   "cell_type": "markdown",
   "metadata": {},
   "source": [
    "En algunas de las misiones encontrarás: una **versión base**, la cual indica el requerimiento mínimo de la misión; una **versión completa**, la cual indica mejoras deseables o complementos a la **versión base**. Un desarrollo aceptable del laboratorio debe satisfacer la **versión base** y un desarrollo correcto del laboratorio debe satisfacer la **versión completa**. Cumplir con el desarrollo de la **versión completa** desde un inicio hará más sencillas las misiones siguientes."
   ]
  },
  {
   "cell_type": "markdown",
   "metadata": {},
   "source": [
    "Al desarrollar este laboratorio pondrás a prueba tus habilidades para:\n",
    "\n",
    "1. Identificar y abordar preguntas de negocio y analíticas.\n",
    "2. Leer datos desde archivos y almacenarlos en estructuras de Python.\n",
    "3. Crear y llamar funciones.\n",
    "4. Implementar condicionales diferenciando `if`, `elif` y `else`.\n",
    "5. Implementar ciclos diferenciando el propósito de `for` y `while`."
   ]
  },
  {
   "cell_type": "markdown",
   "metadata": {},
   "source": [
    "## Contexto: exploración del potencial para asignar becas Unialpes"
   ]
  },
  {
   "cell_type": "markdown",
   "metadata": {},
   "source": [
    "La Universidad de los Alpes se ha caracterizado por su compromiso con la generación de impacto en la sociedad a través de diferentes programas de becas. Programas como Becas para los Mejores, entre otros, han sido revolucionarios al mejorar el acceso democrático a la educación superior."
   ]
  },
  {
   "cell_type": "markdown",
   "metadata": {},
   "source": [
    "Actualmente, la universidad quiere evaluar el potencial impacto que tendrían algunos programas de acción afirmativa para asignación de becas, con base en información demográfica que ha obtenido a través de encuestas a personas interesadas en becas. Se cuenta con información respecto a la edad, género, estado civil, estrato socioeconómico, región de proveniencia, desempeño académico y nivel de escolaridad de las personas encuestadas. Los encargados de diseñar el programa saben que utilizar criterios basados en este tipo de variables es un tema sensible, pero es necesario si se quieren focalizar las oportunidades en poblaciones menos representadas."
   ]
  },
  {
   "cell_type": "markdown",
   "metadata": {},
   "source": [
    "El objetivo de este laboratorio es crear una herramienta computacional que permita a un tomador de decisiones explorar qué efecto podría tener el uso de diferentes reglas para seleccionar a los beneficiarios de las becas. Se espera que, para distintas reglas de selección, la herramienta ofrezca una caracterización de los potenciales beneficiarios, de forma que exista un sustento para elegir la regla de selección adecuada."
   ]
  },
  {
   "cell_type": "markdown",
   "metadata": {},
   "source": [
    "## Fase 1: obtener e inspeccionar archivos"
   ]
  },
  {
   "cell_type": "markdown",
   "metadata": {},
   "source": [
    "Los datos de encuestas fueron obtenidos como parte de un trabajo de campo y, por limitaciones tecnológicas, solo se cuenta con la información en archivos de texto plano (`.txt`). Cada archivo corresponde a uno de los atributos antes mencionados y están estructurados de forma que todos relacionan a las personas encuestadas en el mismo orden (i.e., en cada archivo la primera línea corresponde a un dato de la primera persona encuestada, la segunda línea corresponde a un dato de la segunda persona encuestada, etc.)."
   ]
  },
  {
   "cell_type": "markdown",
   "metadata": {},
   "source": [
    "Los archivos con los que cuentas son:\n",
    "\n",
    "* `\"edad.txt\"`: un archivo con la edad de cada persona encuestada;\n",
    "* `\"escolaridad.txt\"`: un archivo con el nivel de escolaridad de cada persona encuestada;\n",
    "* `\"estado_civil.txt\"`: un archivo con el estado civil de cada persona encuestada;\n",
    "* `\"estrato.txt\"`: un archivo con el estrato socioeconómico de cada persona encuestada;\n",
    "* `\"genero.txt\"`: un archivo con el género de cada persona encuestada;\n",
    "* `\"promedio.txt\"`: un archivo con el promedio académico de cada persona encuestada;\n",
    "* `\"region.txt\"`: un archivo con la región de proveniencia de cada persona encuestada."
   ]
  },
  {
   "cell_type": "markdown",
   "metadata": {},
   "source": [
    "### Misión 1"
   ]
  },
  {
   "cell_type": "markdown",
   "metadata": {},
   "source": [
    "**Versión base**: utiliza métodos de lectura de archivos para guardar la información de cada archivo en una estructura de datos de Python, de manera que se respete el orden y la categoría de los datos."
   ]
  },
  {
   "cell_type": "markdown",
   "metadata": {},
   "source": [
    "**Versión completa**: escribe una función que sea capaz de ejecutar la **versión base** y llámala dentro de un ciclo para automatizar la lectura de los archivos."
   ]
  },
  {
   "cell_type": "code",
<<<<<<< HEAD:Herramientas_Computacionales/Laboratorios/Laboratorio_1/LABORATORIO.ipynb
   "execution_count": 1,
   "metadata": {},
   "outputs": [],
   "source": [
    "# Implementa tu respuesta en esta celda\n",
    "\n",
    "\n",
    "directorio = './Archivos/'\n",
    "Archivos=[\"edad.txt\",\"escolaridad.txt\",\"estado_civil.txt\",\"estrato.txt\",\"genero.txt\",\"promedio.txt\",\"region.txt\"]\n",
    "\n",
    "\n",
    "import math as math\n",
    "import random as random\n",
    "\n",
    "\n",
=======
   "execution_count": 20,
   "metadata": {},
   "outputs": [],
   "source": [
    "\n",
    "directorio = \"./Archivos/\"\n",
    "Archivos=[\"edad.txt\",\"escolaridad.txt\",\"estado_civil.txt\",\"estrato.txt\",\"genero.txt\",\"promedio.txt\",\"region.txt\"]\n",
    "\n",
    "\n",
>>>>>>> c4dfe6c (Lab Adelanto):Herramientas Computacionales/Laboratorios/Laboratorio 1/LABORATORIO.ipynb
    "def read_txt(directorio):\n",
    "    with open(directorio, \"r\") as f:\n",
    "        lines = f.readlines()\n",
    "\n",
    "    cleaned_lines = [line.strip() for line in lines]\n",
    "\n",
    "    return cleaned_lines\n",
    "\n",
<<<<<<< HEAD:Herramientas_Computacionales/Laboratorios/Laboratorio_1/LABORATORIO.ipynb
    "\n",
    "matriz={}\n",
    "for i in Archivos:\n",
    "    file_path=directorio+str(i)\n",
    "    content=read_txt(file_path)\n",
    "    matriz[i]=content\n",
    "\n",
    "\n",
    "\n"
=======
    "def version_completa():\n",
    "    matriz={}\n",
    "    for i in Archivos:\n",
    "        file_path=directorio+str(i)\n",
    "        content=read_txt(file_path)\n",
    "        matriz[i]=content\n",
    "    return matriz\n",
    "\n",
    "#Creamos un diccionario con los datos de los archivos donde la llame es el nombre de la columna\n",
    "datos=version_completa()\n",
    "    \n"
>>>>>>> c4dfe6c (Lab Adelanto):Herramientas Computacionales/Laboratorios/Laboratorio 1/LABORATORIO.ipynb
   ]
  },
  {
   "cell_type": "code",
   "execution_count": 4,
   "metadata": {},
   "outputs": [
    {
     "data": {
      "text/plain": [
       "dict_keys(['edad.txt', 'escolaridad.txt', 'estado_civil.txt', 'estrato.txt', 'genero.txt', 'promedio.txt', 'region.txt'])"
      ]
     },
     "execution_count": 4,
     "metadata": {},
     "output_type": "execute_result"
    }
   ],
   "source": [
    "matriz.keys()"
   ]
  },
  {
   "cell_type": "markdown",
   "metadata": {},
   "source": [
    "### Misión 2"
   ]
  },
  {
   "cell_type": "markdown",
   "metadata": {},
   "source": [
    "**Versión base**: calcula estadísticas descriptivas básicas (por lo menos, media/mediana y varianza/desviación) para cada variable relevante en el contexto del problema y repórtalas concluyendo acerca de las principales características de los datos."
   ]
  },
  {
   "cell_type": "markdown",
   "metadata": {},
   "source": [
    "**Versión completa**: complementa la **versión base** con visualizaciones informativas sobre los datos (ej., histogramas, gráficos de dispersión, boxplots, etc.), relevantes para el problema."
   ]
  },
  {
   "cell_type": "code",
   "execution_count": 21,
   "metadata": {},
   "outputs": [
    {
     "name": "stdout",
     "output_type": "stream",
     "text": [
      "(48.748, 345.768496, 49.0, 18.59485133040864)\n",
      "(2.6212000000000004, 1.2452705600000036, 2.7, 1.1159169144698917)\n"
     ]
    }
   ],
   "source": [
    "# Implementa tu respuesta en esta celda\n",
    "## Estadisticas descripitivas\n",
    "def media(x):\n",
    "    return sum(x)/len(x)\n",
    "\n",
    "def varianza(x):\n",
    "    mu=media(x)\n",
    "    return sum([(xi-mu)**2 for xi in x])/len(x)\n",
    "\n",
    "def mediana(x):\n",
    "    n=len(x)\n",
    "    x_ordenado=sorted(x)\n",
    "    if n%2==0:\n",
    "        return (x_ordenado[n//2-1]+x_ordenado[n//2])/2\n",
    "    else:\n",
    "        return x_ordenado[n//2]\n",
    "    \n",
    "def desviacion_estandar(x):\n",
    "    return varianza(x)**0.5\n",
    "\n",
    "def estadisticas_descriptivas(x):\n",
    "    return media(x),varianza(x),mediana(x),desviacion_estandar(x)\n",
    "\n",
    "#En el contexto del problema solo tenemos 2 variables numericas, las cuales son edad y promedio\n",
    "\n",
    "##Convertimos los datos a numericos ya que eran strings \n",
    "datos[\"edad.txt\"]=[int(i) for i in datos[\"edad.txt\"]]\n",
    "datos[\"promedio.txt\"]=[float(i) for i in datos[\"promedio.txt\"]]\n",
    "\n",
    "\n",
    "edad_estadisticas=estadisticas_descriptivas(datos[\"edad.txt\"])\n",
    "promedio_estadisticas=estadisticas_descriptivas(datos[\"promedio.txt\"])\n",
    "\n",
    "print(edad_estadisticas)\n",
    "print(promedio_estadisticas)\n",
    "\n",
    "\n",
    "\n",
    "\n",
    "\n"
   ]
  },
  {
   "cell_type": "markdown",
   "metadata": {},
   "source": [
    "# Comentario sobre las Características Principales de los Datos de Edad\n",
    "\n",
    "1. **Media (Promedio) de Edad (48.748)**: La edad promedio de aproximadamente 48.748 sugiere que, en promedio, las personas en el conjunto de datos tienen una edad cercana a 48.748 años. Esto nos proporciona una medida de la tendencia central de la distribución de edades.\n",
    "\n",
    "2. **Varianza (Aproximadamente 345.768496)**:  La varianza mide cuánto se desvían las calificaciones individuales de la media. Una varianza más alta indica una mayor variabilidad o dispersión en los datos. En este caso, la varianza es aproximadamente 1.24527056, lo que sugiere que las calificaciones están algo dispersas en relación a la media. Esto podría significar que existe cierta variabilidad en el rendimiento de los estudiantes.\n",
    "\n",
    "3. **Mediana de Edad (49.0)**: La mediana de edad de 49.0 está muy cerca de la media, lo que sugiere que la distribución de edades es aproximadamente simétrica o distribuida normalmente. En este caso, la mediana proporciona una estimación sólida del valor central porque no está fuertemente influenciada por valores extremos.\n",
    "\n",
    "4. **Desviación Estándar (Aproximadamente 18.59485133040864)**: La desviación estándar de aproximadamente 18.59485133040864 cuantifica la cantidad de dispersión o variabilidad en las edades. Una desviación estándar más alta indica que las edades están más dispersas respecto a la media. En este conjunto de datos, la desviación estándar indica una cantidad moderada de variabilidad en las edades.\n",
    "\n",
    "En resumen, los datos de edad parecen estar razonablemente centrados alrededor de la edad media de 48.748, con una cantidad moderada de variabilidad alrededor de este valor central. La estrecha concordancia entre la mediana y la media sugiere que la distribución es aproximadamente simétrica. \n"
   ]
  },
  {
   "cell_type": "markdown",
   "metadata": {},
   "source": [
    "# Comentario sobre las Características Principales de los Datos de Promedio(Notas)\n",
    "\n",
    "1. **Media (Promedio) de Notas (2.62)**: La Nota promedio de aproximadamente 2.62 sugiere que, en promedio, las personas en el conjunto de datos tienen un promedio de notas de 2.62. Esto nos proporciona una medida de la tendencia central de la distribución de edades.\n",
    "\n",
    "2. **Varianza (Aproximadamente 1.24)**: La varianza de aproximadamente 1.24 indica que hay una cantidad moderada de variabilidad o dispersión en las edades dentro del conjunto de datos. Esto significa que Las notas estan en promedio alejadas 1.24 unidades de la media.\n",
    "\n",
    "3. **Mediana de Notas (2.7)**: La mediana es el valor medio cuando todas las calificaciones se ordenan de menor a mayor. Es una medida de tendencia central que se ve menos afectada por valores extremos (valores atípicos) que la media. En este conjunto de datos, la calificación mediana es 2.7, lo que significa que la mitad de los estudiantes obtuvo una calificación inferior a 2.7 y la otra mitad obtuvo una calificación superior. Esto proporciona una idea del valor \"típico\" de una calificación. Y también al estar tan cerca de la media nos proporciona información que no hay mcuchos outliers.\n",
    "\n",
    "4. **Desviación Estándar (Aproximadamente 1.11)**:    La desviación estándar es una medida de cuánto varían las calificaciones individuales con respecto a la media. Una desviación estándar menor indica que la mayoría de las calificaciones están cerca de la media, mientras que una desviación estándar mayor sugiere una mayor variabilidad. En este caso, la desviación estándar es aproximadamente 1.1159, lo que indica que hay algo de variabilidad en las calificaciones, pero no es extremadamente amplia. Esto sugiere un nivel moderado de consistencia en el rendimiento de los estudiantes.\n",
    "\n",
    "\n",
    "\n"
   ]
  },
  {
   "cell_type": "markdown",
   "metadata": {},
   "source": [
    "## Graficos"
   ]
  },
  {
   "cell_type": "code",
   "execution_count": 29,
   "metadata": {},
   "outputs": [
    {
     "data": {
      "image/png": "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",
      "text/plain": [
       "<Figure size 640x480 with 1 Axes>"
      ]
     },
     "metadata": {},
     "output_type": "display_data"
    }
   ],
   "source": [
    "import matplotlib.pyplot as plt\n",
    "\n",
    "# Supongamos que tienes dos variables numéricas 'edad.txt' y 'promedio.txt' en tu diccionario 'data'\n",
    "edad = datos['edad.txt']\n",
    "promedio = datos['promedio.txt']\n",
    "\n",
    "# Gráfico de Dispersión entre Edad y Promedio\n",
    "plt.scatter(datos['edad.txt'], datos['promedio.txt'], alpha=0.5)\n",
    "plt.xlabel('Edad')\n",
    "plt.ylabel('Promedio')\n",
    "plt.title('Edad vs. Promedio')\n",
    "plt.show()\n",
    "\n",
    "\n"
   ]
  },
  {
   "cell_type": "code",
   "execution_count": 36,
   "metadata": {},
   "outputs": [
    {
     "data": {
      "image/png": "iVBORw0KGgoAAAANSUhEUgAAA0EAAAJMCAYAAAA8FK2zAAAAOXRFWHRTb2Z0d2FyZQBNYXRwbG90bGliIHZlcnNpb24zLjcuMSwgaHR0cHM6Ly9tYXRwbG90bGliLm9yZy/bCgiHAAAACXBIWXMAAA9hAAAPYQGoP6dpAABM3UlEQVR4nO3deVyU9f7+8WvYQQHDfUFxjVGxXCqTTEnN3JKvmaVSeswyNVusjlnHXEpt0cosLa0sv5qVSnqOnWPaKUvLOi6ZpZCUopaapV8BZUng8/ujH3OcwAUc5ma4X8/Hg4fOPTf3XAxvlov7nvt2GGOMAAAAAMAm/KwOAAAAAADeRAkCAAAAYCuUIAAAAAC2QgkCAAAAYCuUIAAAAAC2QgkCAAAAYCuUIAAAAAC2QgkCAAAAYCuUIAAAAAC2QgkCAAAV1v79+xUVFaXHH3/c6igAKhFKEACf9Oabb8rhcLi91axZU127dtWaNWusjucSExOj4cOHl/r9srOzNWXKFG3YsOGiHn/Dhg1yOBwXvZ0i6enpbs+5n5+fqlevrt69e2vz5s0eeYyKoqTnbvjw4YqJibEsU3kYPny42+c0KChITZs21UMPPaTMzMxyf3yHw6EpU6aUeN/vv/+uQYMGqX///po2bVq5ZwFgHwFWBwCAi7Fo0SLFxsbKGKMjR47opZdeUr9+/fT3v/9d/fr1szpemWVnZ2vq1KmSpK5du1obpgTjxo3TkCFDVFBQoF27dmnq1KlKSEjQ5s2b1bZtW6vjlZtJkybpvvvuszqGx4WGhurjjz+WJJ04cUIrVqzQ7NmztXPnTq1bt65cH3vz5s1q0KBBifc9+OCDuuSSS7Rw4cJyzQDAfihBAHxa69at1aFDB9ftG264QZdccomWLVvm0yWoomvYsKE6duwoSYqPj1ezZs3UrVs3zZs376y/sObk5CgkJEQOh8ObUT2qadOmVkcok5ycHIWGhp71fj8/P9fnU/rj62jv3r1av3699u3bp8aNG5dbtjMf98/mzp1bbo8LwN44HA5ApRISEqKgoCAFBga6LT9+/LjGjBmj+vXrKygoSE2aNNFjjz2mvLw8SVJubq7atm2rZs2aKSMjw/V+R44cUZ06ddS1a1cVFBRI+uPwoapVq2rXrl3q1q2bqlSpopo1a+qee+5Rdnb2eTMeOHBASUlJqlWrloKDg+V0OjV79mwVFhZK+uOQs5o1a0qSpk6d6jpM6XyH1aWmpuqGG25QWFiYatSoobvvvltZWVklrvvRRx+pW7duioiIUFhYmOLj4/Xvf//7vNnPpugX2f3790v67+GK69at04gRI1SzZk2FhYUpLy9PhYWFeuaZZxQbG6vg4GDVqlVLt99+u3766Se3bXbt2lWtW7fW5s2b1alTJ4WGhiomJkaLFi2SJH3wwQdq166dwsLCFBcXp7Vr1xbLlZaWpiFDhrg91y+//HKZn7uSDofLzc3VxIkT1bhxYwUFBal+/foaO3asTpw4cd7nrTSzdKGPExMTo759+yo5OVlt27ZVSEiIa69iaRT9ceGXX35xW/7uu+/q6quvVpUqVVS1alX17NlTX3/9dbH3X7hwoVq0aKHg4GC1bNlSb7/9donPX0mHw3333Xfq37+/LrnkEoWEhOjyyy/XW2+95bZO0eGKy5Yt02OPPaZ69eopIiJC3bt31/fff1/qjxeAzRgA8EGLFi0yksyXX35pTp8+bX7//Xdz8OBBc++99xo/Pz+zdu1a17o5OTmmTZs2pkqVKmbWrFlm3bp1ZtKkSSYgIMD07t3btd6ePXtMeHi4GTBggDHGmIKCAnPdddeZWrVqmUOHDrnWGzZsmAkKCjINGzY006dPN+vWrTNTpkwxAQEBpm/fvm45GzVqZIYNG+a6ffToUVO/fn1Ts2ZN88orr5i1a9eae+65x0gyo0ePNsYYk5uba9auXWskmTvuuMNs3rzZbN682fzwww9nfT6OHDliatWqZerXr28WLVpk/vnPf5qhQ4eahg0bGknmk08+ca37v//7v8bhcJjExESTnJxs/vGPf5i+ffsaf39/89FHH53zed+3b5+RZJ599lm35d98842RZIYMGeL2+alfv7656667zL/+9S+zYsUKk5+fb+666y4jydxzzz1m7dq15pVXXjE1a9Y00dHR5tdff3Vts0uXLqZ69erm0ksvNa+//rr58MMPTd++fY0kM3XqVBMXF2eWLVtm/vnPf5qOHTua4OBg8/PPP7vef9euXSYyMtLExcWZxYsXm3Xr1pkHH3zQ+Pn5mSlTppTpuRs2bJhp1KiR63ZhYaHp2bOnCQgIMJMmTTLr1q0zs2bNMlWqVDFt27Y1ubm553w+L3SWSvM4jRo1MnXr1jVNmjQxb7zxhvnkk0/Mf/7zn3NmqFKlSrHlAwcONAEBAeaXX35xLZs+fbpxOBxmxIgRZs2aNSY5OdlcffXVpkqVKmbXrl2u9V599VUjydx0001mzZo1ZunSpaZFixamUaNGbs+fMcZIMpMnT3bdTk1NNeHh4aZp06Zm8eLF5oMPPjCDBw82kszTTz/tWu+TTz4xkkxMTIwZOnSo+eCDD8yyZctMw4YNTfPmzU1+fv45n3sA9kYJAuCTin7J/vNbcHCwmTdvntu6r7zyipFk3nvvPbflTz/9tJFk1q1b51r27rvvGknmhRdeMI8//rjx8/Nzu9+YP35plGTmzJnjtnz69OlGktm0aZNr2Z9L0COPPGIkma+++srtfUePHm0cDof5/vvvjTHG/Prrr8V+OTyXCRMmGIfDYXbs2OG2vEePHm6/yJ86dcpERUWZfv36ua1XUFBgLrvsMnPllVee83GKStDTTz9tTp8+bXJzc822bdvMFVdcYSSZDz74wBjz38/P7bff7vb+KSkpRpIZM2aM2/KvvvrKSDKPPvqoa1mXLl2MJLN161bXsmPHjhl/f38TGhrqVnh27NhhJJkXX3zRtaxnz56mQYMGJiMjw+2x7rnnHhMSEmKOHz9equfOmOIlqKisPvPMM27vWzRHCxYsOOtzWbS9C5ml0jxOo0aNjL+/v2uWzqeoBJ0+fdqcPn3a/Pbbb2b+/PnGz8/P7fNx4MABExAQYMaNG+f2/llZWaZOnTpm0KBBxpg/ZqlOnTrmqquucltv//79JjAw8Lwl6NZbbzXBwcHmwIEDbuv16tXLhIWFmRMnThhj/luCzvxDhjHGvPfee0aS2bx58wV9/ADsicPhAPi0xYsXa8uWLdqyZYv+9a9/adiwYRo7dqxeeukl1zoff/yxqlSpooEDB7q9b9HhZWceBjZo0CCNHj1aDz/8sJ588kk9+uij6tGjR4mPPXToULfbQ4YMkSR98sknZ8378ccfq2XLlrryyiuLZTHGuF6cXlqffPKJWrVqpcsuu6zETEW++OILHT9+XMOGDVN+fr7rrbCwUDfccIO2bNmiU6dOnffxJkyYoMDAQIWEhKh9+/Y6cOCAXn31VfXu3dttvZtuuqlYTknFDu278sor5XQ6ix2SV7duXbVv3951OyoqSrVq1dLll1+uevXquZY7nU5J/z0cLzc3V//+97/1P//zPwoLC3P7WHv37q3c3Fx9+eWXpXruSlL0+frzx3PzzTerSpUqF3yI4flmqbSP06ZNG7Vo0eKCHluSTp06pcDAQAUGBqpGjRoaPXq0brnlFk2fPt21zocffqj8/Hzdfvvtbs9nSEiIunTp4jqL3vfff68jR45o0KBBbo/RsGFDxcfHnzfLxx9/rG7duik6Otpt+fDhw5WdnV3sLIQ33nhjsY9d+u8sAEBJODECAJ/mdDqLnRhh//79+utf/6qkpCRVq1ZNx44dU506dYq9IL9WrVoKCAjQsWPH3JaPGDFC8+fPV1BQkO69994SHzcgIEDVq1d3W1anTh1JKra9Mx07dqzEUywX/UJ/rvc9l2PHjpX44vWiTEWKXt/x50J4puPHj6tKlSrnfLz77rtPSUlJ8vPzU7Vq1dS4ceMST3hQt27dYjlLWi798Rz8+RfXqKioYusFBQUVWx4UFCTpj/JT9Dj5+fmaO3fuWV9c/9tvv7nWvZDnriTHjh1TQECA6zVcRRwOh+rUqXNBn88LmaXSPk5Jz++5hIaG6rPPPpP0x+vgZs+erWXLlqlNmzZ65JFHJP13dq644ooSt+Hn5+eWuXbt2sXWqV27tvbt23fOLMeOHTvrfJy5/SJ/fu6Cg4Ml/XEyCAA4G0oQgEqnTZs2+vDDD7Vnzx5deeWVql69ur766isZY9x+UT969Kjy8/NVo0YN17JTp07ptttuU4sWLfTLL79o5MiRWr16dbHHyM/P17Fjx9x+ATty5Iik4r+Unal69eo6fPhwseWHDh2SJLcspVG9enXX45/pz8uKtj937tyznpWrpF9e/6xBgwZu5fNs/lyMip6bw4cPFzst8qFDh8r88f/ZJZdcIn9/f912220aO3ZsiesUFZ8Lfe5KUr16deXn5+vXX391Kyjm/5+y/WyF4UwXMkulfZzSnoHPz8/P7fPZo0cPtW/fXlOnTtXQoUMVHR3t+tysWLFCjRo1Ouu2ijL/+YQKZ35c51JeXyMAcCYOhwNQ6ezYsUOSXL8sduvWTSdPntSqVavc1lu8eLHr/iJ33323Dhw4oOTkZL3++uv6+9//rueff77Ex1m6dKnb7bffflvSua/r061bN+3evVvbt28vlsXhcCghIUFS6f+anZCQoF27dumbb74pMVOR+Ph4VatWTbt371aHDh1KfCvaq1IerrvuOknSkiVL3JZv2bJFKSkpbp+LixEWFqaEhAR9/fXXatOmTYkfZ9Ev6xf63JWkKO+fP56VK1fq1KlTF/zxnG+WPPU4Fyo4OFgvv/yycnNz9eSTT0qSevbsqYCAAP34449nnR1JuvTSS1WnTh299957bts8cOCAvvjii/M+drdu3fTxxx+7Sk+RxYsXKyws7Jyn1AaAC8WeIAA+7bvvvlN+fr6kPw6TSU5O1vr16/U///M/rr/033777Xr55Zc1bNgwpaenKy4uTps2bdKMGTPUu3dvde/eXZL02muvacmSJVq0aJFatWqlVq1a6Z577tGECRMUHx/v9jqeoKAgzZ49WydPntQVV1yhL774Qk8++aR69eqla6655qx5H3jgAS1evFh9+vTRtGnT1KhRI33wwQeaN2+eRo8e7XodR3h4uBo1aqTVq1erW7duioqKUo0aNUo8lE6S7r//fr3xxhvq06ePnnzySdWuXVtLly5Vamqq23pVq1bV3LlzNWzYMB0/flwDBw5UrVq19Ouvv+qbb77Rr7/+qvnz55f583E+l156qe666y7NnTtXfn5+6tWrl9LT0zVp0iRFR0frgQce8NhjzZkzR9dcc406d+6s0aNHKyYmRllZWfrhhx/0j3/8w/U6mwt97krSo0cP9ezZUxMmTFBmZqbi4+O1c+dOTZ48WW3bttVtt9123m1cyCx54nFKq0uXLurdu7cWLVqkRx55RI0bN9a0adP02GOPae/eva5rcv3yyy/6z3/+oypVqmjq1Kny8/PT1KlTNWrUKA0cOFAjRozQiRMnNHXqVNWtW9d12NzZTJ48WWvWrFFCQoIef/xxRUVFaenSpfrggw/0zDPPKDIy0uMfKwAbsva8DABQNiWdHS4yMtJcfvnl5rnnnit2auJjx46Zu+++29StW9cEBASYRo0amYkTJ7rW27lzpwkNDXU7k5sxf5yuun379iYmJsb83//9nzHmv2fT2rlzp+natasJDQ01UVFRZvTo0ebkyZNu7//ns8MZ88dZsoYMGWKqV69uAgMDzaWXXmqeffZZU1BQ4LbeRx99ZNq2bWuCg4ONpGLb+bPdu3ebHj16mJCQEBMVFWXuuOMOs3r16mJnODPGmE8//dT06dPHREVFmcDAQFO/fn3Tp08fs3z58nM+xtlOkf1nRZ+fLVu2FLuvoKDAPP3006ZFixYmMDDQ1KhRwyQlJZmDBw+6rdelSxfTqlWrYu/fqFEj06dPn2LLJZmxY8cWyztixAhTv359ExgYaGrWrGk6depknnzySbf1LvS5+/PZ4Yz54xTsEyZMMI0aNTKBgYGmbt26ZvTo0a55OZfSzNKFPs7Znp/zZSjJt99+a/z8/Mxf/vIX17JVq1aZhIQEExERYYKDg02jRo3MwIEDi51efcGCBaZZs2YmKCjItGjRwrzxxhumf//+pm3btm7rqYSzIH777bemX79+JjIy0gQFBZnLLrvMLFq0yG2dorPD/Xlmi2b0z+sDwJkcxhhjSfsCAB81fPhwrVixQidPnrQ6CnycnWbpxIkTatGihRITE7VgwQKr4wCwOQ6HAwAAHnXkyBFNnz5dCQkJql69uvbv36/nn39eWVlZuu+++6yOBwCUIAAA4FnBwcFKT0/XmDFjdPz4cdcJDV555RW1atXK6ngAIA6HAwAAAGArnCIbAAAAgK1QggAAAADYCiUIAAAAgK349IkRCgsLdejQIYWHh8vhcFgdBwAAAIBFjDHKyspSvXr1znthZp8uQYcOHVJ0dLTVMQAAAABUEAcPHlSDBg3OuY5Pl6Dw8HBJf3ygERERFqcBAAAAYJXMzExFR0e7OsK5+HQJKjoELiIighIEAAAA4IJeJsOJEQAAAADYCiUIAAAAgK1QggAAAADYCiUIAAAAgK1QggAAAADYCiUIAAAAgK1QggAAAADYCiUIAAAAgK1QggAAAADYCiUIAAAAgK1QggAAAADYCiUIAAAAgK1QggAAAADYCiUIAAAAgK1YWoKmTJkih8Ph9lanTh0rIwEAAACo5AKsDtCqVSt99NFHrtv+/v4WpgEAAABQ2VleggICAtj7AwAAAMBrLC9BaWlpqlevnoKDg3XVVVdpxowZatKkSYnr5uXlKS8vz3U7MzPTWzEBW8jOzlZqaqrHtpeTk6P09HTFxMQoNDTUI9uMjY1VWFiYR7YFoPLj+xqAklhagq666iotXrxYLVq00C+//KInn3xSnTp10q5du1S9evVi68+cOVNTp061IClgD6mpqWrfvr3VMc5p27ZtateundUxAPgIvq8BKInDGGOsDlHk1KlTatq0qf76179q/Pjxxe4vaU9QdHS0MjIyFBER4c2oQKXk6b+YpqSkKCkpSUuWLJHT6fTINvmLKYDS4PsaYB+ZmZmKjIy8oG5g+eFwZ6pSpYri4uKUlpZW4v3BwcEKDg72cirAPsLCwsrlr5FOp5O/cgKwBN/XAJSkQl0nKC8vTykpKapbt67VUQAAAABUUpaWoIceekiffvqp9u3bp6+++koDBw5UZmamhg0bZmUsAAAAAJWYpYfD/fTTTxo8eLB+++031axZUx07dtSXX36pRo0aWRkLAAAAQCVmaQl65513rHx4AAAAADZUoV4TBAAAAADlrUKdHQ4l40JvAAAAgOdQgnwAF3oDAAAAPIcS5ANiY2O1bds2j22vvC70BgAAAPgCSpAP4EJvAAAAgOdwYgQAAAAAtkIJAgAAAGArlCAAAAAAtkIJAgAAAGArlCAAAAAAtkIJAgAAAGArlCAAAAAAtkIJAgAAAGArlCAAAAAAtkIJAgAAAGArlCAAAAAAtkIJAgAAAGArlCAAAAAAtkIJAgAAAGArlCAAAAAAtkIJAgAAAGArlCAAAAAAtkIJAgAAAGArlCAAAAAAtkIJAgAAAGArlCAAAAAAthJgdQAAAADA12VnZys1NdVj28vJyVF6erpiYmIUGhrqkW3GxsYqLCzMI9vydZQgAAAA4CKlpqaqffv2Vsc4p23btqldu3ZWx6gQKEEAAADARYqNjdW2bds8tr2UlBQlJSVpyZIlcjqdHtlmbGysR7ZTGVCCAAAAgIsUFhZWLntZnE4ne2/KASdGAAAAAGArlCAAAAAAtkIJAgAAAGArlCAAAAAAtkIJAgAAAGArlCAAAAAAtkIJAgAAAGArlCAAAAAAtkIJAgAAAGArlCAAAAAAtkIJAgAAAGArlCAAAAAAtkIJAgAAAGArlCAAAAAAtkIJAgAAAGArlCAAAAAAtkIJAgAAAGArlCAAAAAAtkIJAgAAAGArlCAAAAAAtkIJAgAAAGArlCAAAAAAtkIJAgAAAGArlCAAAAAAtkIJAgAAAGArlCAAAAAAthJgdQAAAC5GQUGBNm7cqMOHD6tu3brq3Lmz/P39rY4FAKjA2BMEAPBZycnJatasmRISEjRkyBAlJCSoWbNmSk5OtjoaAKACowQBAHxScnKyBg4cqLi4OG3evFlZWVnavHmz4uLiNHDgQIoQAOCsKEEAAJ9TUFCgBx98UH379tWqVavUsWNHVa1aVR07dtSqVavUt29fPfTQQyooKLA6KgCgAqIEAQB8zsaNG5Wenq5HH31Ufn7uP8r8/Pw0ceJE7du3Txs3brQoIQCgIqMEAQB8zuHDhyVJrVu3LvH+ouVF6wEAcCZKEADA59StW1eS9N1335V4f9HyovUAADgTJQgA4HM6d+6smJgYzZgxQ4WFhW73FRYWaubMmWrcuLE6d+5sUUIAQEVGCQIA+Bx/f3/Nnj1ba9asUWJiotvZ4RITE7VmzRrNmjWL6wUBAErExVIBAD5pwIABWrFihR588EF16tTJtbxx48ZasWKFBgwYYGE6AEBFRgkCAPisAQMGqH///tq4caMOHz6sunXrqnPnzuwBAgCcEyUIAODT/P391bVrV6tjAAB8CK8JAgAAAGArlCAAAAAAtkIJAgAAAGArlCAAAAAAtsKJEQAAPq2goICzwwEASqXC7AmaOXOmHA6H7r//fqujAAB8RHJyspo1a6aEhAQNGTJECQkJatasmZKTk62OBgCowCpECdqyZYsWLFigNm3aWB0FAOAjkpOTNXDgQMXFxWnz5s3KysrS5s2bFRcXp4EDB1KEAABnZXkJOnnypIYOHaqFCxfqkksusToOAMAHFBQU6MEHH1Tfvn21atUqdezYUVWrVlXHjh21atUq9e3bVw899JAKCgqsjgoAqIAsL0Fjx45Vnz591L179/Oum5eXp8zMTLc3AID9bNy4Uenp6Xr00Ufl5+f+o8zPz08TJ07Uvn37tHHjRosSAgAqMktPjPDOO+9o+/bt2rJlywWtP3PmTE2dOrWcUwEAKrrDhw9Lklq3bl3i/UXLi9YDAOBMlu0JOnjwoO677z4tWbJEISEhF/Q+EydOVEZGhuvt4MGD5ZwSAFAR1a1bV5L03XfflXh/0fKi9QAAOJNlJWjbtm06evSo2rdvr4CAAAUEBOjTTz/Viy++qICAgBKP4w4ODlZERITbGwDAfjp37qyYmBjNmDFDhYWFbvcVFhZq5syZaty4sTp37mxRQgBARWZZCerWrZu+/fZb7dixw/XWoUMHDR06VDt27OAaDwCAs/L399fs2bO1Zs0aJSYmup0dLjExUWvWrNGsWbP4WQIAKJFlrwkKDw8vdix3lSpVVL169bMe4w0AQJEBAwZoxYoVevDBB9WpUyfX8saNG2vFihUaMGCAhekAABWZpSdGAADgYgwYMED9+/fXxo0bdfjwYdWtW1edO3dmDxAA4JwqVAnasGGD1REAAD7G399fXbt2tToGAMCHWH6dIAAAAADwpgq1JwgAYA/Z2dlKTU312PZycnKUnp6umJgYhYaGemSbsbGxCgsL88i2AAAVCyUIAOB1qampat++vdUxzmnbtm1q166d1TEAAOWAEgQA8LrY2Fht27bNY9tLSUlRUlKSlixZIqfT6ZFtxsbGemQ7AICKhxIEAPC6sLCwctnL4nQ62XsDADgvTowAAAAAwFYoQQAAAABshRIEAAAAwFYoQQAAAABshRIEAAAAwFYoQQAAAABshRIEAAAAwFYoQQAAAABshRIEAAAAwFYoQQAAAABshRIEAAAAwFYoQQAAAABshRIEAAAAwFYoQQAAAABshRIEAAAAwFYoQQAAAABshRIEAAAAwFYoQQAAAABshRIEAAAAwFYoQQAAAABshRIEAAAAwFYCrA5QmaWlpSkrK8vqGMWkpKS4/VuRhIeHq3nz5lbHAAAAQCVGCSonaWlpatGihdUxzikpKcnqCCXas2cPRQgAAADlhhJUTor2AC1ZskROp9PiNO5ycnKUnp6umJgYhYaGWh3HJSUlRUlJSRVy7xkAAAAqD0pQOXM6nWrXrp3VMYqJj4+3OgIAAABgCU6MAAAAAMBWKEEAAAAAbIUSBAAAAMBWKEEAAAAAbIUSBAAAAMBWKEEAAAAAbIUSBAAAAMBWKEEAAAAAbIUSBAAAAMBWKEEAAAAAbIUSBAAAAMBWKEEAAAAAbIUSBAAAAMBWAqwOAODipaWlKSsry+oYxaSkpLj9W5GEh4erefPmVscAcBZ8Xys9vq8BF44SBPi4tLQ0tWjRwuoY55SUlGR1hBLt2bOHXxiACojva2XH9zXgwlCCAB9X9JfSJUuWyOl0WpzGXU5OjtLT0xUTE6PQ0FCr47ikpKQoKSmpQv6VGQDf18qC72tA6VCCgErC6XSqXbt2VscoJj4+3uoIAHwU39cAlBdOjAAAAADAVihBAAAAAGyFEgQAAADAVihBAAAAAGyFEgQAAADAVihBAAAAAGyFEgQAAADAVihBAAAAAGyFEgQAAADAVihBAAAAAGyFEgQAAADAVihBAAAAAGyFEgQAAADAVihBAAAAAGyFEgQAAADAVihBAAAAAGyFEgQAAADAVihBAAAAAGyFEgQAAADAVihBAAAAAGyFEgQAAADAVgKsDgAAAABYJS0tTVlZWVbHKCYlJcXt34okPDxczZs3tzrGRaEEAQAAwJbS0tLUokULq2OcU1JSktURSrRnzx6fLkKUIAAAANhS0R6gJUuWyOl0WpzGXU5OjtLT0xUTE6PQ0FCr47ikpKQoKSmpQu49Kw1KEAAAAGzN6XSqXbt2VscoJj4+3uoIlRYnRgAAAABgK5aWoPnz56tNmzaKiIhQRESErr76av3rX/+yMhIAAACASs7SEtSgQQM99dRT2rp1q7Zu3arrrrtO/fv3165du6yMBQAAAKASs/Q1Qf369XO7PX36dM2fP19ffvmlWrVqZVEqAAAAAJVZhTkxQkFBgZYvX65Tp07p6quvLnGdvLw85eXluW5nZmZ6K16pOfJz1baOn0JP7JEO8dKrCxF6Yo/a1vGTIz/X6igAAACoxCwvQd9++62uvvpq5ebmqmrVqnr//ffVsmXLEtedOXOmpk6d6uWEZRNy8oC2j6oqfTZK+szqNL7BKWn7qKpKOXlAUier4wAAAKCSsrwEXXrppdqxY4dOnDihlStXatiwYfr0009LLEITJ07U+PHjXbczMzMVHR3tzbgXLLdqQ7V79aSWLl0qZ2ys1XF8QkpqqoYOHarXeze0OgoAAAAqMctLUFBQkJo1ayZJ6tChg7Zs2aI5c+bo1VdfLbZucHCwgoODvR2xTExAiL4+Uqicai2kepdbHccn5Bwp1NdHCmUCQqyOAgAAgEqswr1YxRjj9rofAAAAAPAkS/cEPfroo+rVq5eio6OVlZWld955Rxs2bNDatWutjAUAAACgErO0BP3yyy+67bbbdPjwYUVGRqpNmzZau3atevToYWUsAAAAAJWYpSXo9ddft/LhAQAAANhQhXtNEAAAAACUJ0oQAAAAAFuhBAEAAACwFUoQAAAAAFuhBAEAAACwFUoQAAAAAFsp8ymyT5w4oddff10pKSlyOBxyOp264447FBkZ6cl8AAAAAOBRZdoTtHXrVjVt2lTPP/+8jh8/rt9++03PP/+8mjZtqu3bt3s6IwAAAAB4TJn2BD3wwAO68cYbtXDhQgUE/LGJ/Px8jRw5Uvfff78+++wzj4YEAAAAAE8pUwnaunWrWwGSpICAAP31r39Vhw4dPBYOAFCxpKWlKSsry+oYxaSkpLj9W5GEh4erefPmVscAAJyhTCUoIiJCBw4cUGxsrNvygwcPKjw83CPBAAAVS1pamlq0aGF1jHNKSkqyOkKJ9uzZQxECgAqkTCXolltu0R133KFZs2apU6dOcjgc2rRpkx5++GENHjzY0xkBABVA0R6gJUuWyOl0WpzGXU5OjtLT0xUTE6PQ0FCr47ikpKQoKSmpQu49AwA7K1MJmjVrlhwOh26//Xbl5+dLkgIDAzV69Gg99dRTHg0IAKhYnE6n2rVrZ3WMYuLj462OAADwEWUqQUFBQZozZ45mzpypH3/8UcYYNWvWTGFhYZ7OBwAAAAAeVebrBElSWFiY4uLiPJUFAAAAAMrdBZegAQMG6M0331RERIQGDBhwznWTk5MvOhgAAAAAlIcLLkGRkZFyOByu/wMAAACAL7rgErRo0aIS/w8AAAAAvuSiXhMEwHqO/Fy1reOn0BN7pEN+VsfxCaEn9qhtHT858nOtjgIAsBA/Q0uvsvwMveAS1LZtW9fhcOezffv2MgcCUDohJw9o+6iq0mejpM+sTuMbnJK2j6qqlJMHJHWyOg4AwCL8DC29yvIz9IJLUGJiouv/ubm5mjdvnlq2bKmrr75akvTll19q165dGjNmjMdDAji73KoN1e7Vk1q6dKmcsbFWx/EJKampGjp0qF7v3dDqKAAAC/EztPQqy8/QCy5BkydPdv1/5MiRuvfee/XEE08UW+fgwYOeSwfgvExAiL4+Uqicai2kepdbHccn5Bwp1NdHCmUCQqyOAgCwED9DS6+y/Awt08GPy5cv1+23315seVJSklauXHnRoQAAAACgvJSpBIWGhmrTpk3Flm/atEkhIb7dCgEAAABUbmU6O9z999+v0aNHa9u2berYsaOkP14T9MYbb+jxxx/3aEAAAAAA8KQylaBHHnlETZo00Zw5c/T2229LkpxOp958800NGjTIowEBAAAAwJPKfJ2gQYMGUXgAAIDHce2W0qss124BvKXMJejEiRNasWKF9u7dq4ceekhRUVHavn27ateurfr163syIwAAsBGu3VJ6leXaLYC3lKkE7dy5U927d1dkZKTS09M1cuRIRUVF6f3339f+/fu1ePFiT+cEAAA2wbVbSq+yXLsF8JYylaDx48dr+PDheuaZZxQeHu5a3qtXLw0ZMsRj4QAAgP1w7ZbSqyzXbgG8pUwH2m7ZskWjRo0qtrx+/fo6cuTIRYcCAAAAgPJSphIUEhKizMzMYsu///571axZ86JDAQAAAEB5KVMJ6t+/v6ZNm6bTp09LkhwOhw4cOKBHHnlEN910k0cDAgAAAIAnlakEzZo1S7/++qtq1aqlnJwcdenSRc2aNVN4eLimT5/u6YwAAAAA4DFlOjFCRESENm3apI8//ljbt29XYWGh2rVrp+7du3s6HwAAAAB4VJmvEyRJ1113na677jpPZQEAAACAclfmEvSf//xHGzZs0NGjR1VYWOh233PPPXfRwQAAAACgPJSpBM2YMUN/+9vfdOmll6p27dpyOByu+878PwAAAABUNGUqQXPmzNEbb7yh4cOHezgOAAAAAJSvMp0dzs/PT/Hx8Z7OAgAAAADlrkwl6IEHHtDLL7/s6SwAAAAAUO7KdDjcQw89pD59+qhp06Zq2bKlAgMD3e5PTk72SDgAAAAA8LQylaBx48bpk08+UUJCgqpXr87JEAAAAAD4jDKVoMWLF2vlypXq06ePp/MAAAAAQLkq02uCoqKi1LRpU09nAQAAAIByV6YSNGXKFE2ePFnZ2dmezgMAAAAA5apMh8O9+OKL+vHHH1W7dm3FxMQUOzHC9u3bPRIOAAAAADytTCUoMTHRwzEAAAAAwDvKVIImT57s6RwAAAAA4BVlKkFFtm3bppSUFDkcDrVs2VJt27b1VC4AAAAAKBdlKkFHjx7Vrbfeqg0bNqhatWoyxigjI0MJCQl65513VLNmTU/nBAAAAACPKPPFUjMzM7Vr1y45nU5J0u7duzVs2DDde++9WrZsmUdDAgCs58jPVds6fgo9sUc6VKaTi9pO6Ik9alvHT478XKujAADOUKYStHbtWn300UeuAiRJLVu21Msvv6zrr7/eY+EAABVHyMkD2j6qqvTZKOkzq9P4Bqek7aOqKuXkAUmdrI4DAPj/ylSCCgsLi50WW5ICAwNVWFh40aEAABVPbtWGavfqSS1dulTO2Fir4/iElNRUDR06VK/3bmh1FADAGcpUgq677jrdd999WrZsmerVqydJ+vnnn/XAAw+oW7duHg0IAKgYTECIvj5SqJxqLaR6l1sdxyfkHCnU10cKZQJCrI4CADhDmQ7qfumll5SVlaWYmBg1bdpUzZo1U+PGjZWVlaW5c+d6OiMAAAAAeEyZ9gRFR0dr+/btWr9+vVJTU2WMUcuWLdW9e3dP5wMAAAAAjyp1CcrPz1dISIh27NihHj16qEePHuWRCwAAAADKRakPhwsICFCjRo1UUFBQHnkAAAAAoFyV6TVBf/vb3zRx4kQdP37c03kAAAAAoFyV6TVBL774on744QfVq1dPjRo1UpUqVdzu3759u0fCAQAAAICnlakEJSYmyuFwyBjj6TwAAAAAUK5KVYKys7P18MMPa9WqVTp9+rS6deumuXPnqkaNGuWVDwAAAAA8qlSvCZo8ebLefPNN9enTR4MHD9ZHH32k0aNHl1c2AAAAAPC4Uu0JSk5O1uuvv65bb71VkjR06FDFx8eroKBA/v7+5RIQAAAAADypVHuCDh48qM6dO7tuX3nllQoICNChQ4c8HgwAAAAAykOpSlBBQYGCgoLclgUEBCg/P9+joQAAAACgvJTqcDhjjIYPH67g4GDXstzcXN19991up8lOTk72XEIAAAAA8KBSlaBhw4YVW5aUlOSxMJVJdna2pIp5zaScnBylp6crJiZGoaGhVsdxSUlJsToCAAAAbKBUJWjRokXllaPSSU1NlSTdeeedFifxPeHh4VZHAAAAQCVWpoul4vwSExMlSbGxsQoLC7M2zJ+kpKQoKSlJS5YskdPptDqOm/DwcDVv3tzqGAAAAKjEKEHlpEaNGho5cqTVMc7J6XSqXbt2VscAAAAAvKpUZ4cDAAAAAF9naQmaOXOmrrjiCoWHh6tWrVpKTEzU999/b2UkAAAAAJWcpSXo008/1dixY/Xll19q/fr1ys/P1/XXX69Tp05ZGQsAAABAJWbpa4LWrl3rdnvRokWqVauWtm3bpmuvvdaiVAAAAAAqswp1YoSMjAxJUlRUVIn35+XlKS8vz3U7MzPTK7kAAFz/rCy4/lnZMGulx6wBpVNhSpAxRuPHj9c111yj1q1bl7jOzJkzNXXqVC8nAwBIXP/sYnD9s9Jh1sqOWQMuTIUpQffcc4927typTZs2nXWdiRMnavz48a7bmZmZio6O9kY8ALA9rn9WNlz/rPSYtbJh1oALVyFK0Lhx4/T3v/9dn332mRo0aHDW9YKDgxUcHOzFZACAIlz/DN7CrAEob5aWIGOMxo0bp/fff18bNmxQ48aNrYwDAAAAwAYsLUFjx47V22+/rdWrVys8PFxHjhyRJEVGRlaoFxsCAAAAqDwsvU7Q/PnzlZGRoa5du6pu3bqut3fffdfKWAAAAAAqMcsPhwMAAAAAb7J0TxAAAAAAeBslCAAAAICtUIIAAAAA2AolCAAAAICtUIIAAAAA2AolCAAAAICtUIIAAAAA2AolCAAAAICtUIIAAAAA2AolCAAAAICtUIIAAAAA2AolCAAAAICtUIIAAAAA2AolCAAAAICtUIIAAAAA2AolCAAAAICtUIIAAAAA2AolCAAAAICtUIIAAAAA2AolCAAAAICtUIIAAAAA2AolCAAAAICtUIIAAAAA2AolCAAAAICtUIIAAAAA2AolCAAAAICtBFgdAMDFyc7OliRt377d4iTF5eTkKD09XTExMQoNDbU6jktKSorVEQAAgIUoQYCPS01NlSTdeeedFifxPeHh4VZHAAAAFqAEAT4uMTFRkhQbG6uwsDBrw/xJSkqKkpKStGTJEjmdTqvjuAkPD1fz5s2tjgEAACxACQJ8XI0aNTRy5EirY5yT0+lUu3btrI4BAAAgiRMjAAAAALAZShAAAAAAW6EEAQAAALAVShAAAAAAW6EEAQAAALAVShAAAAAAW6EEAQAAALAVShAAAAAAW6EEAQAAALAVShAAAAAAW6EEAQAAALAVShAAAAAAW6EEAQAAALAVShAAAAAAW6EEAQAAALAVShAAAAAAW6EEAQAAALAVShAAAAAAW6EEAQAAALAVShAAAAAAW6EEAQAAALAVShAAAAAAW6EEAQAAALAVShAAAAAAW6EEAQAAALAVShAAAAAAW6EEAQAAALAVShAAAAAAW6EEAQAAALAVShAAAAAAWwmwOgAAAABghezsbEnS9u3bLU5SXE5OjtLT0xUTE6PQ0FCr47ikpKRYHcEjKEEAAACwpdTUVEnSnXfeaXES3xMeHm51hItCCQIAAIAtJSYmSpJiY2MVFhZmbZg/SUlJUVJSkpYsWSKn02l1HDfh4eFq3ry51TEuCiUIAAAAtlSjRg2NHDnS6hjn5HQ61a5dO6tjVDqcGAEAAACArVCCAAAAANgKJQgAAACArVCCAAAAANgKJQgAAACArVCCAAAAANgKJQgAAACArVCCAAAAANgKJQgAAACArVhagj777DP169dP9erVk8Ph0KpVq6yMAwAAAMAGLC1Bp06d0mWXXaaXXnrJyhgAAAAAbCTAygfv1auXevXqZWUEAAAAADZjaQkqrby8POXl5bluZ2ZmWpgGAFBW2dnZSk1N9dj2UlJS3P71hNjYWIWFhXlsewCAisOnStDMmTM1depUq2MAAC5Samqq2rdv7/HtJiUleWxb27ZtU7t27Ty2PQBAxeFTJWjixIkaP36863ZmZqaio6MtTAQAKIvY2Fht27bNY9vLyclRenq6YmJiFBoa6pFtxsbGemQ7AICKx6dKUHBwsIKDg62OAQC4SGFhYR7fyxIfH+/R7QEAKi+uEwQAAADAVizdE3Ty5En98MMPrtv79u3Tjh07FBUVpYYNG1qYDAAAAEBlZWkJ2rp1qxISEly3i17vM2zYML355psWpQIAAABQmVlagrp27SpjjJURAAAAANgMrwkCAAAAYCuUIAAAAAC2QgkCAAAAYCuUIAAAAAC2QgkCAAAAYCuUIAAAAAC2QgkCAAAAYCuUIAAAAAC2QgkCAAAAYCuUIAAAAAC2QgkCAAAAYCuUIAAAAAC2QgkCAAAAYCuUIAAAAAC2QgkCAAAAYCuUIAAAAAC2QgkCAAAAYCuUIAAAAAC2QgkCAAAAYCuUIAAAAAC2QgkCAAAAYCuUIAAAAAC2QgkCAAAAYCuUIAAAAAC2QgkCAAAAYCuUIAAAAAC2QgkCAAAAYCuUIAAAAAC2QgkCAAAAYCuUIAAAAAC2QgkCAAAAYCuUIAAAAAC2QgkCAAAAYCuUIAAAAAC2QgkCAAAAYCuUIAAAAAC2QgkCAAAAYCuUIAAAAAC2QgkCAAAAYCuUIAAAAAC2QgkCAAAAYCuUIAAAAAC2QgkCAAAAYCuUIAAAAAC2QgkCAAAAYCuUIAAAAAC2QgkCAAAAYCuUIAAAAAC2QgkCAAAAYCuUIAAAAAC2QgkCAAAAYCuUIAAAAAC2QgkCAAAAYCuUIAAAAAC2QgkCAAAAYCuUIAAAAAC2QgkCAAAAYCuUIAAAAAC2QgkCAAAAYCuUIAAAAAC2EmB1AAAAAMDXZWdnKzU11WPbS0lJcfvXE2JjYxUWFuax7fkyShAAAABwkVJTU9W+fXuPbzcpKclj29q2bZvatWvnse35MkoQAAAAcJFiY2O1bds2j20vJydH6enpiomJUWhoqEe2GRsb65HtVAaUIAAAAOAihYWFeXwvS3x8vEe3h//ixAgAAAAAbIUSBAAAAMBWKEEAAAAAbIUSBAAAAMBWODECABeucQAAAOyAEgTAhWscAAAAO6AEAXDhGgcAAMAOKEEAXLjGAQAAsANOjAAAAADAViwvQfPmzVPjxo0VEhKi9u3ba+PGjVZHAgAAAFCJWVqC3n33Xd1///167LHH9PXXX6tz587q1auXDhw4YGUsAAAAAJWYpSXoueee0x133KGRI0fK6XTqhRdeUHR0tObPn29lLAAAAACVmGUnRvj999+1bds2PfLII27Lr7/+en3xxRclvk9eXp7y8vJctzMzM8s1Y0XBtVsAACgbfoYCKIllJei3335TQUGBateu7ba8du3aOnLkSInvM3PmTE2dOtUb8SoUrt0CAEDZ8DMUQEksP0W2w+Fwu22MKbasyMSJEzV+/HjX7czMTEVHR5drvoqAa7cAAFA2/AwFUBLLSlCNGjXk7+9fbK/P0aNHi+0dKhIcHKzg4GBvxKtQuHYLAABlw89QACWx7MQIQUFBat++vdavX++2fP369erUqZNFqQAAAABUdpYeDjd+/Hjddttt6tChg66++motWLBABw4c0N13321lLAAAAACVmKUl6JZbbtGxY8c0bdo0HT58WK1bt9Y///lPNWrUyMpYAAAAACoxhzHGWB2irDIzMxUZGamMjAxFRERYHQcAAACARUrTDSy9WCoAAAAAeBslCAAAAICtUIIAAAAA2AolCAAAAICtUIIAAAAA2AolCAAAAICtUIIAAAAA2AolCAAAAICtUIIAAAAA2AolCAAAAICtUIIAAAAA2AolCAAAAICtUIIAAAAA2EqA1QEuhjFGkpSZmWlxEgAAAABWKuoERR3hXHy6BGVlZUmSoqOjLU4CAAAAoCLIyspSZGTkOddxmAupShVUYWGhDh06pPDwcDkcDqvj+IzMzExFR0fr4MGDioiIsDoOKjFmDd7CrMFbmDV4C7NWesYYZWVlqV69evLzO/erfnx6T5Cfn58aNGhgdQyfFRERwRcVvIJZg7cwa/AWZg3ewqyVzvn2ABXhxAgAAAAAbIUSBAAAAMBWKEE2FBwcrMmTJys4ONjqKKjkmDV4C7MGb2HW4C3MWvny6RMjAAAAAEBpsScIAAAAgK1QggAAAADYCiUIAAAAgK1QggAAAADYCiUIAAAAgK1QggAAAADYCiUIAAAAqIQyMjKsjlBhUYJQZgUFBVZHQCV39OhRHTt2TD///LPVUVDJpaWl6bvvvtPWrVutjoJK7oMPPtDHH39sdQzYwKJFi/Too4/q1KlTVkepkChBKJW3335bTzzxhCTJ399fhYWFFidCZfX222/rlltu0RVXXKHExEQtXbrU6kiopBYvXqzExETddNNNio+P19y5c62OhEpq69at6tevnwYNGkQRQrlasGCB7rjjDt1www2qUqWKJMkYY3GqiiXA6gDwHatXr1ZSUpIk6ffff9cTTzwhPz8/FRYWys+PPg3P+d///V/dfffdev755+Xv76+UlBQ98cQTatOmjeLi4qyOh0qkaNYWLlyoZs2aad26dZozZ47+8pe/qGrVqlbHQyXTqFEjde/eXYGBgbrxxhu1atUqde/e3W0dY4wcDodFCVEZvPHGGxozZoySk5PVr18/5eTkKDAwUCdOnFCNGjWsjldhUIJwQX744Qe98soruvfee9WwYUNNnz5d+fn5mjlzJkUIHvXNN9/omWee0bx58zRs2DBJ0nfffaf3339fe/fupQTBYz7//HNNnjxZr7/+ugYPHixJysrK0vbt2/Xdd98pOztb1157rQIC+FGJi2eM0enTp/Xbb7/pnXfe0bPPPqubbrpJ69ev15VXXql3331Xt9xyCwUIF+XDDz/UyJEjNW3aNCUmJuqHH37Qk08+qe+++055eXkaPHiwxo8fr5CQEKujWo7v7LggERERat26tW655RY5nU4FBQXp8ccflySKEDwqIyNDTZo00ZVXXula1rp1azVp0kTff/+9pD9ej+bv729VRFQSderU0cCBA9WlSxfXsueee05btmzRvn37lJaWpr59+2rBggWKjIy0MCkqA4fDoXr16qlVq1bKyMjQwoULJUk9evTQJZdcoi5duigxMVHBwcEWJ4Uvq1evnho0aKD09HQtXbpUjzzyiHr27Km+ffsqKChIU6ZM0U8//aR58+ZZHdVylCCclzFGtWrV0qRJkxQRESFJGjJkiIwxmjx5sowxeuqpp+Tn56eMjAzl5+erevXqFqeGr2revLkee+wxOZ1OSf8tPMYY5efnSxIFCBfNGKOmTZtqypQpCgsLkyT97W9/0969e/XRRx8pJiZGP//8s9q2bavu3bvrzjvvtDgxKou8vDwlJyfriiuu0Msvv6z3339fP/30k/r160cBwkUpLCxUXFycVq9erZtvvlnLli3Tfffdp8mTJ7tm6/LLL9eNN96o/v37q2fPnhYnthZ/tsd5Fe2aLypAxhhFRUXptttu09SpU7Vw4UI9+uijKigoUM+ePfXaa69ZGRc+rm7duq69QGceGx8YGKjTp0+7lickJOj999+3LCd8W9FcFRUgSbr22mu1YcMGXXbZZYqMjJTT6VRcXJx+/fVXq2KiEik6kdBVV13l+nnaoUMHtWrVSjfffLNGjRqlNWvWWBkRPq7oqJy2bdsqOTlZN998s2699Va3ct26dWtVr15dx48ftzBpxUAJQqkV/fJQrVo13XbbbZo2bZoWLFigWrVq6ejRoxo/frzFCVFZOBwO1yGWoaGhrj1Affr00Y8//qi+fftaGQ+VzPXXX686deq4bv/yyy8KDg5W8+bNLUyFyqLoe9lll12m1atXKyYmRhEREUpOTtayZct0zTXX6MUXX7Q4JXxdURFq06aN5syZozZt2kj675nh8vLy1LBhQ9WrV8/KmBUCJQgXpVq1aq4z3TidTu3Zs0eBgYGuw5aAi1X0jbuwsFCnT5/W4MGDlZaWph9//JFZQ7kwxig7O1sjR46Un5+fBgwYYHUkVCI1a9ZURkaGrrjiCiUnJ7sOH1+1apXWrl1rcTpUBkWF+8+vZczJydH999+viIgIde7c2YpoFYrDcNJwXISsrCwNHTpUKSkpSklJUUBAgPLz8zmbEjym6JC43r17a+3atbrsssv0n//8x1WAmDV40u+//65Vq1Zp/vz5ysjI0FdffaXAwEBOxgGP+vzzz+V0OhUVFVXsPk4yBE/7/ffftWLFCs2bN0+nTp1y/Qy1+6zZ9yOHR+Tm5qp9+/YUIJSbosMvr7rqKl177bXasmULBQjlJisrSwUFBYqLi3Mr2xQgeELR64Li4+NLLECSbP1LKcpHZmamTp8+rZYtW7r9DLX7rLEnCJKKX5ytLBdrO336tAIDAz0dDZVMWWdt//79io6Olp+fH7OGC1LWWfv9998VFBQkie9ruDCe+BkKXIiyzlpeXp7rBAl8X/uDvSsgJP3xl6miL6CTJ09K0gV9QRX9RasIX1A4n7LOmvTHldaL/mrFrOF8yjprxhhXAZKYNZzfxcwaUBoXM2tnniGO72t/oATZnDHG9YvlU089pcGDB6t79+5at26dMjIyLuj93n33XU7rifO6mFkrwqzhQlzMrBX9QsGs4UIwa/AWZs3zKEE2duZfFF544QU99dRT6tChg7KzszV27FgtWLBAx44dK/Z+Z35BvfLKKxo1apTbX06BP2PW4C3MGryFWYO3MGvlxMD2du3aZe666y6zfv1617IHHnjAtG7d2jz99NPmt99+M8YYU1hYaAoKClzrvPLKKyYyMtIsX77c65nhm5g1eAuzBm9h1uAtzJpnUYJsbsWKFaZWrVomJibGbNy40e2+oi+sZ555xhw9etTtvldffdVERESYFStWeDMufBizBm9h1uAtzBq8hVnzPEoQzLBhw0xQUJCZMWOGOXnypNt9Dz30kKlZs6ZZsmSJa9nLL79sqlatalauXOntqPBxzBq8hVmDtzBr8BZmzbMoQTZy5q7RP7vllltMbGysWbx4sTl16pTbfS+++KLJz883xhjzww8/mG7dupn33nuvXLPCtzFr8BZmDd7CrMFbmDXv4DpBNnHmVYGXL1+ulJQURUVFqXnz5urZs6ck6eabb9auXbs0ceJE3XTTTQoLCytxO4cOHVKDBg28mh++g1mDtzBr8BZmDd7CrHmR1S0M3vXwww+b2rVrm4SEBHP55ZebqKgoM23aNNf9N998s4mLizPz5883ubm5bu9bWFjo7bjwYcwavIVZg7cwa/AWZq38UYIquTO/ED744ANTq1Yt8/nnnxtjjDl06JB54YUXTGBgoHn66add6/Xo0cMMHTqULyKUCrMGb2HW4C3MGryFWfM+SlAlNW7cuGJfFPPmzTMdOnRwW5aVlWWmTZtmWrdubfbs2eNaXnQ8Kl9YOB9mDd7CrMFbmDV4C7NmHS6WWgnt2rVLe/bsUX5+vtvy2rVr6+DBg9q1a5drWdWqVXXttdfqwIEDysrKci338/NzuzgXUBJmDd7CrMFbmDV4C7NmLUpQJdSqVSutXbtWgYGBWrJkiQoLCyVJTZo0UYMGDbRo0SLt3bvXtX6DBg0UHR2t33//3W07RS/MA86GWYO3MGvwFmYN3sKsWYuzw1UyxhjXXwMOHTqkFi1aqF27dvrss88kSXPnztXLL7+sa665Rn369FF0dLQee+wxZWZm6vPPP+cLCReMWYO3MGvwFmYN3sKsWY8SVImc+QVV5Msvv9TQoUMVHR2tDRs2SJIWLFigf/zjH/rXv/6l1q1bKyIiQv/+978VGBjodmpG4GyYNXgLswZvYdbgLcxaxUAJqiTO/GJ4+umnFR0drSFDhkiSvvrqKw0aNEiNGzd2fWGdPHlShw8flsPhUJMmTeTn56f8/HwFBARY9SHARzBr8BZmDd7CrMFbmLUKxPvnYoCnnXll4QMHDphu3bqZyMhIs3r1atfyL7/80jRs2NAkJCSUeAaRc12dGCjCrMFbmDV4C7MGb2HWKhb2o1UCRX9R+Otf/6qBAwcqPDxc4eHhGjx4sJYvXy5Juuqqq7R8+XLt379fl112mcyfdgCySxUXglmDtzBr8BZmDd7CrFUwllYweMzSpUtN1apVzZYtW0xWVpb56aefzKhRo0xwcLBZvny5a72NGzeaAQMGmPz8fAvTwpcxa/AWZg3ewqzBW5i1ioMDCiuJw4cPq3379urQoYOkP84nP3fuXOXm5mrEiBEKCgrSjTfeqPj4eF1zzTWSpIKCAvn7+1sZGz6IWYO3MGvwFmYN3sKsVRzsU6sk/P39tX37dmVnZ0uS8vPzFRgYqMGDB+vkyZO6/fbbtW7dOjkcDtd56PmCQlkwa/AWZg3ewqzBW5i1ioOzw/mYs50S8ZdfflGvXr3UunVrvfDCC4qKipIkbd++XW+99Zby8vK0cuVK7dy5U3Xr1vV2bPggZg3ewqzBW5g1eAuzVvGxJ8iHnPkF9cYbb2jcuHEaM2aMXnvtNdWuXVv333+/9u7dqxEjRmjXrl36+uuvNWnSJB07dkzjxo2Tn5+fvvrqK4s/CvgCZg3ewqzBW5g1eAuz5ht4TZAPOfOsIosXL9Ztt92mnJwcTZgwQbt379bs2bNVWFiot956S3FxcYqJidEll1yiNWvW6NixY4qMjFR4eLjFHwV8AbMGb2HW4C3MGryFWfMRVp+ZAaXzySefmCZNmpjNmzcbY4x57733TFhYmHn11Vfd1vv888/N7t27XeeTf/jhh03Lli3Nzz//7PXM8E3MGryFWYO3MGvwFmat4qME+ZjFixebq6++2hhjzMqVK014eLh55ZVXjDHGZGRkmA8//NBt/c2bN5uxY8eaatWqma+//trbceHDmDV4C7MGb2HW4C3MWsXH4XAV2Lp167R+/XplZmYqISFBt956q8LCwlS3bl298847uvPOOzVr1iyNGjVKkrR582atWbNGLVu2VIMGDST9sUu2WrVq+uKLL+R0Oq38cFCBMWvwFmYN3sKswVuYNR9ldQtDyRYsWGBq1KhhEhMTTdu2bU1AQIBZsmSJOXDggAkPDzcOh8O89NJLrvWzs7PNDTfcYIYNG2YKCwvdtpWXl+ft+PAhzBq8hVmDtzBr8BZmzXdRgiqghQsXmqCgILNixQpjjDHffvutadCggbn22muNMcYsX77c+Pn5mXvuucesXLnSrF271nTv3t3ExcWZ06dPG2NMsS8soCTMGryFWYO3MGvwFmbNt1GCKphPPvnEOBwOM3XqVLflzZo1M06n0xw5csRkZ2ebDRs2mNatW5uYmBhzxRVXmMTERPP7778bY4zJz8+3Ijp8DLMGb2HW4C3MGryFWfN9XCy1gklLS9Mdd9yhSy65RJMmTVKHDh100003ae3atYqPj1d2drYyMzM1ZMgQ1a5dW23atFGTJk1UrVo1ORwO5efnKyCAl3rh/Jg1eAuzBm9h1uAtzJrvowRVQGlpabr33nvl7++vjIwMZWdn66233lLLli317bffKi0tTc8884z27dun66+/XkuXLpV09qsTA2fDrMFbmDV4C7MGb2HWfBslqIJKS0vTmDFjtGXLFi1YsECDBg2S9N8vnJycHO3fv1/NmzeXv7+/xWnhy5g1eAuzBm9h1uAtzJrvogRVYD/++KPGjh0rPz8/Pfroo7rmmmskqdgu1IKCAr6wcFGYNXgLswZvYdbgLcyab6IEVXBFu1ol6W9/+5vi4+MtToTKilmDtzBr8BZmDd7CrPkeDkis4Jo3b64XX3xR/v7+uv/++7Vz506rI6GSYtbgLcwavIVZg7cwa76HEuQDmjdvrmeffVbXXnutWrdubXUcVGLMGryFWYO3MGvwFmbNt3A4nA/irCLwFmYN3sKswVuYNXgLs1axUYIAAAAA2Ar1FAAAAICtUIIAAAAA2AolCAAAAICtUIIAAAAA2AolCAAAAICtUIIAALayYsUKrVy50uoYAAALUYIAAJXKhg0b5HA4dOLEiWL3bdq0SQ8//LA6duzo/WAAgAqDEgQA8Jrhw4fL4XDI4XAoICBADRs21OjRo/V///d/HnuMTp066fDhw4qMjHRb/ttvv2nUqFFavXq16tev77HHAwD4ngCrAwAA7OWGG27QokWLlJ+fr927d2vEiBE6ceKEli1b5pHtBwUFqU6dOsWW16hRQ7t27fLIYwAAfBt7ggAAXhUcHKw6deqoQYMGuv7663XLLbdo3bp1rvsXLVokp9OpkJAQxcbGat68eW7v/8UXX+jyyy9XSEiIOnTooFWrVsnhcGjHjh2SSj4cbuXKlWrVqpWCg4MVExOj2bNnu20zJiZGM2bM0IgRIxQeHq6GDRtqwYIF5fYcAACsRQkCAFhm7969Wrt2rQIDAyVJCxcu1GOPPabp06crJSVFM2bM0KRJk/TWW29JkrKystSvXz/FxcVp+/bteuKJJzRhwoRzPsa2bds0aNAg3Xrrrfr22281ZcoUTZo0SW+++abberNnz1aHDh309ddfa8yYMRo9erRSU1PL5eMGAFiLw+EAAF61Zs0aVa1aVQUFBcrNzZUkPffcc5KkJ554QrNnz9aAAQMkSY0bN9bu3bv16quvatiwYVq6dKkcDocWLlyokJAQtWzZUj///LPuvPPOsz7ec889p27dumnSpEmSpBYtWmj37t169tlnNXz4cNd6vXv31pgxYyRJEyZM0PPPP68NGzYoNja2PJ4GAICFKEEAAK9KSEjQ/PnzlZ2drddee0179uzRuHHj9Ouvv+rgwYO644473EpNfn6+6yQH33//vdq0aaOQkBDX/VdeeeU5Hy8lJUX9+/d3WxYfH68XXnhBBQUF8vf3lyS1adPGdb/D4VCdOnV09OjRi/54AQAVDyUIAOBVVapUUbNmzSRJL774ohISEjR16lTdc889kv44JO6qq65ye5+iomKMkcPhcLvPGHPOx7vQ9yk6JK+Iw+FQYWHhBXxEAABfw2uCAACWmjx5smbNmqWCggLVr19fe/fuVbNmzdzeGjduLEmKjY3Vzp07lZeX53r/rVu3nnP7LVu21KZNm9yWffHFF2rRooWrXAEA7IUSBACwVNeuXdWqVSvNmDFDU6ZM0cyZMzVnzhzt2bNH3377rRYtWuR6zdCQIUNUWFiou+66SykpKfrwww81a9YsSSq2t6fIgw8+qH//+9964okntGfPHr311lt66aWX9NBDD3ntYwQAVCyUIACA5caPH6+FCxeqZ8+eeu211/Tmm28qLi5OXbp00ZtvvunaExQREaF//OMf2rFjhy6//HI99thjevzxxyXJ7XVCZ2rXrp3ee+89vfPOO2rdurUef/xxTZs2ze2kCAAAe3GY8x1MDQBABbZ06VL95S9/UUZGhkJDQ62OAwDwAZwYAQDgUxYvXqwmTZqofv36+uabbzRhwgQNGjSIAgQAuGCUIACATzly5Igef/xxHTlyRHXr1tXNN9+s6dOnWx0LAOBDOBwOAAAAgK1wYgQAAAAAtkIJAgAAAGArlCAAAAAAtkIJAgAAAGArlCAAAAAAtkIJAgAAAGArlCAAAAAAtkIJAgAAAGArlCAAAAAAtvL/ANdHhMTEN7hJAAAAAElFTkSuQmCC",
      "text/plain": [
       "<Figure size 1000x600 with 1 Axes>"
      ]
     },
     "metadata": {},
     "output_type": "display_data"
    },
    {
     "name": "stdout",
     "output_type": "stream",
     "text": [
      "Media por Región:\n",
      "Region_1: 2.7690140845070426\n",
      "Region_2: 2.559829059829059\n",
      "Region_3: 2.433333333333333\n",
      "Region_4: 2.606217616580311\n",
      "Region_5: 2.306666666666666\n"
     ]
    }
   ],
   "source": [
    "import matplotlib.pyplot as plt\n",
    "import numpy as np\n",
    "\n",
    "# Datos\n",
    "regiones = datos['region.txt']\n",
    "promedio = datos['promedio.txt']\n",
    "\n",
    "# Agrupar valores de promedio por región\n",
    "valores_por_region = {}  # Un diccionario para almacenar listas de valores por región\n",
    "\n",
    "for region, prom in zip(regiones, promedio):\n",
    "    if region not in valores_por_region:\n",
    "        valores_por_region[region] = []\n",
    "    valores_por_region[region].append(prom)\n",
    "\n",
    "# Calcular la media por región\n",
    "medias_por_region = {region: np.mean(valores) for region, valores in valores_por_region.items()}\n",
    "\n",
    "# Boxplot de Promedio por Región\n",
    "plt.figure(figsize=(10, 6))\n",
    "plt.boxplot(valores_por_region.values(), labels=valores_por_region.keys())\n",
    "plt.xlabel('Región')\n",
    "plt.ylabel('Promedio')\n",
    "plt.title('Boxplot de Promedio por Región')\n",
    "plt.xticks(rotation=45)\n",
    "plt.show()\n",
    "\n",
    "# Calcular la media por región\n",
    "print(\"Media por Región:\")\n",
    "for region, media in medias_por_region.items():\n",
    "    print(f\"{region}: {media}\")\n",
    "\n",
    "\n"
   ]
  },
  {
   "cell_type": "code",
   "execution_count": 37,
   "metadata": {},
   "outputs": [
    {
     "data": {
      "image/png": "iVBORw0KGgoAAAANSUhEUgAAAqYAAAIhCAYAAACcznj/AAAAOXRFWHRTb2Z0d2FyZQBNYXRwbG90bGliIHZlcnNpb24zLjcuMSwgaHR0cHM6Ly9tYXRwbG90bGliLm9yZy/bCgiHAAAACXBIWXMAAA9hAAAPYQGoP6dpAAA6kklEQVR4nO3deXhU5cH+8XuyTRZCMIHIFhIEIWFTFhGIKKvKVtFSX5VgsNrKvikgthbwRVMFiwiCShVeRKWvGlCxpoAKyCXYEMQFE0FfA1hWoZIAIZLk+f3BL1OHRAiTSc4D+X6uay6cM2e5mTNT7p455zkuY4wRAAAA4LAApwMAAAAAEsUUAAAAlqCYAgAAwAoUUwAAAFiBYgoAAAArUEwBAABgBYopAAAArEAxBQAAgBUopgAAALACxRRw0NKlS+Vyubwe9erVU48ePbR69Wqn43kkJCRo+PDhF7zcyZMnNWPGDK1fv75S21+/fr1cLlel11MqNzfX6z0PCAhQTEyM+vfvr82bN/tlG7Yo770bPny4EhISHMtUFYYPH17mu/Tzx4X4+OOPNWPGDP34449VkvXVV1/V008/XSXrBi52QU4HACAtWbJEiYmJMsbowIEDWrBggQYNGqS3335bgwYNcjqez06ePKmZM2dKknr06OFsmHKMHTtWd911l4qLi7Vjxw7NnDlTPXv21ObNm9W+fXun41WZRx55ROPHj3c6ht+FhYXpgw8+qPR6Pv74Y82cOVPDhw9XnTp1Kh/sLK+++qq+/PJLTZgwwe/rBi52FFPAAm3atFGnTp08z2+++WZddtlleu211y7qYmq7Jk2aqEuXLpKk5ORkNW/eXL1799bChQu1ePHicpcpKChQaGjoBR+Fs0mzZs2cjuCTgoIChYWF/eLrAQEBnv1Znc6XC0DF8VM+YKHQ0FCFhIQoODjYa/rRo0c1atQoNWrUSCEhIbriiiv0hz/8QYWFhZKkU6dOqX379mrevLmOHTvmWe7AgQOqX7++evTooeLiYklnfvqsVauWduzYod69eysiIkL16tXTmDFjdPLkyfNm3LNnj1JSUhQbGyu3262kpCQ99dRTKikpkXTm5/J69epJkmbOnOn5SfV8pwTk5OTo5ptvVnh4uOrWrasRI0YoPz+/3HnXrVun3r17q3bt2goPD1dycrLef//982b/JaWlZvfu3ZL+c6rFmjVr9Nvf/lb16tVTeHi4CgsLVVJSoieffFKJiYlyu92KjY3V3Xffre+//95rnT169FCbNm20efNmdevWTWFhYUpISNCSJUskSe+++646dOig8PBwtW3bVhkZGWVy7dq1S3fddZfXe/3ss8/6/N6V91P+qVOnNG3aNDVt2lQhISFq1KiRRo8eXaGfsy/ks1TR7SQkJGjgwIFKT09X+/btFRoa6jn6XhklJSWaNWuWWrZsqbCwMNWpU0ft2rXTvHnzJEkzZszQ5MmTJUlNmzb1fG5LT4U4V65nn31W119/vWJjYxUREaG2bdvqySef1OnTpz3b79Gjh959913t3r273FMNzvcdBy55BoBjlixZYiSZLVu2mNOnT5uffvrJ7N2714wbN84EBASYjIwMz7wFBQWmXbt2JiIiwsyZM8esWbPGPPLIIyYoKMj079/fM9/OnTtNZGSkue2224wxxhQXF5tevXqZ2NhYs2/fPs98qampJiQkxDRp0sQ89thjZs2aNWbGjBkmKCjIDBw40CtnfHy8SU1N9Tw/dOiQadSokalXr5557rnnTEZGhhkzZoyRZEaOHGmMMebUqVMmIyPDSDL33nuv2bx5s9m8ebP55ptvfvH9OHDggImNjTWNGjUyS5YsMX//+9/N0KFDTZMmTYwk8+GHH3rmffnll43L5TKDBw826enp5p133jEDBw40gYGBZt26ded837/77jsjycyePdtr+meffWYkmbvuustr/zRq1Mj8/ve/N++995554403TFFRkfn9739vJJkxY8aYjIwM89xzz5l69eqZuLg4c/jwYc86b7jhBhMTE2NatmxpXnzxRfOPf/zDDBw40EgyM2fONG3btjWvvfaa+fvf/266dOli3G63+de//uVZfseOHSYqKsq0bdvWLFu2zKxZs8Y88MADJiAgwMyYMcOn9y41NdXEx8d7npeUlJibbrrJBAUFmUceecSsWbPGzJkzx0RERJj27dubU6dOnfP9rOhn6UK2Ex8fbxo0aGCuuOIK89JLL5kPP/zQ/POf/zxnhoiICHP69Okyj+LiYs98aWlpJjAw0EyfPt28//77JiMjwzz99NOe93Lv3r1m7NixRpJJT0/3fG6PHTt23lwTJ040ixYtMhkZGeaDDz4wc+fONXXr1jX33HOP1/5MTk429evX96x78+bNxpiKf8eBSxnFFHBQafE5++F2u83ChQu95n3uueeMJPO///u/XtOfeOIJI8msWbPGM+1vf/ubkWSefvpp86c//ckEBAR4vW7MmX/IJZl58+Z5TX/ssceMJLNp0ybPtLOL6UMPPWQkmU8++cRr2ZEjRxqXy2W+/vprY4wxhw8fNpLM9OnTK/R+TJ061bhcLrN9+3av6X379vUqVydOnDDR0dFm0KBBXvMVFxebq666ynTu3Pmc2yktpk888YQ5ffq0OXXqlMnKyjLXXHONkWTeffddY8x/9s/dd9/ttXx2draRZEaNGuU1/ZNPPjGSzMMPP+yZdsMNNxhJZuvWrZ5pR44cMYGBgSYsLMyrhG7fvt1IMs8884xn2k033WQaN27sKUalxowZY0JDQ83Ro0cv6L0zpmwxLf0/EE8++aTXsqWfoxdeeOEX38vS9VXks3Qh24mPjzeBgYGez9L5lGYo79G7d2/PfAMHDjRXX331Odc1e/ZsI8l89913ZV6raK7i4mJz+vRps2zZMhMYGOjZT8YYM2DAAK/3v9SFfMeBSxU/5QMWWLZsmTIzM5WZman33ntPqampGj16tBYsWOCZ54MPPlBERISGDBnitWzpT+M//wn79ttv18iRIzV58mTNmjVLDz/8sPr27VvutocOHer1/K677pIkffjhh7+Y94MPPlCrVq3UuXPnMlmMMT5fgPLhhx+qdevWuuqqq8rNVOrjjz/W0aNHlZqaqqKiIs+jpKREN998szIzM3XixInzbm/q1KkKDg5WaGioOnbsqD179uj5559X//79veb79a9/XSanpDKnJXTu3FlJSUllTido0KCBOnbs6HkeHR2t2NhYXX311WrYsKFnelJSkqT/nEpw6tQpvf/++7r11lsVHh7u9Xft37+/Tp06pS1btlzQe1ee0v119t/nN7/5jSIiIip8esT5PksXup127dqpRYsWFdq2dObip9Lv0c8fCxcu9MzTuXNnffbZZxo1apT+8Y9/KC8vr8LrP1+uTz/9VL/61a8UExOjwMBABQcH6+6771ZxcbF27tx53vVeyHccuFRx8RNggaSkpDIXP+3evVtTpkxRSkqK6tSpoyNHjqh+/fplLrqJjY1VUFCQjhw54jX9t7/9rRYtWqSQkBCNGzeu3O0GBQUpJibGa1r9+vUlqcz6fu7IkSPlDjdUWrLOtey5HDlyRE2bNi0zvTRTqYMHD0pSmX/Af+7o0aOKiIg45/bGjx+vlJQUBQQEqE6dOp5zCs/WoEGDMjnLmy6deQ9Ki2Wp6OjoMvOFhISUmR4SEiLpTCEt3U5RUZHmz5+v+fPnl/t3+OGHHzzzVuS9K8+RI0cUFBTkOSe4lMvlUv369Su0PyvyWbrQ7ZT3/p5LQECA1/eoPNOmTVNERISWL1+u5557ToGBgbr++uv1xBNPnHfZc+Xas2ePunfvrpYtW2revHlKSEhQaGio/vnPf2r06NEqKCg473ov9DsOXIoopoCl2rVrp3/84x/auXOnOnfurJiYGH3yyScyxnj9w3Xo0CEVFRWpbt26nmknTpzQsGHD1KJFCx08eFD33Xef3nrrrTLbKCoq0pEjR7wKxYEDBySpTMn4uZiYGO3fv7/M9H379kmSV5YLERMT49n+z509rXT98+fP/8WrsC+//PLzbq9x48YVKiNnF4XS92b//v1q3Lix12v79u3z+e9/tssuu0yBgYEaNmyYRo8eXe48pWW0ou9deWJiYlRUVKTDhw97lUbz/4cvu+aaa867jop8li50O1Ux8kFQUJAmTZqkSZMm6ccff9S6dev08MMP66abbtLevXsVHh5+3nWUl2vVqlU6ceKE0tPTFR8f75m+ffv2Cme7kO84cKnip3zAUqX/oJX+A967d28dP35cq1at8ppv2bJlntdLjRgxQnv27FF6erpefPFFvf3225o7d26523nllVe8nr/66quSzj3uaO/evfXVV19p27ZtZbK4XC717NlTkuR2uyWpQkeLJKlnz57asWOHPvvss3IzlUpOTladOnX01VdfqVOnTuU+So8+VoVevXpJkpYvX+41PTMzU9nZ2V77ojLCw8PVs2dPffrpp2rXrl25f8/S0lfR9648pXnP/vu8+eabOnHiRIX/Puf7LPlrO/5Sp04dDRkyRKNHj9bRo0eVm5sr6cI/t9J/ymrpstKZwl3esGNut7vcdV/Idxy4VHHEFLDAl19+qaKiIklnfs5LT0/X2rVrdeutt3qOiN1999169tlnlZqaqtzcXLVt21abNm3S448/rv79+6tPnz6SpL/+9a9avny5lixZotatW6t169YaM2aMpk6dquTkZK/zQkNCQvTUU0/p+PHjuuaaa/Txxx9r1qxZ6tevn6677rpfzDtx4kQtW7ZMAwYM0KOPPqr4+Hi9++67WrhwoUaOHOk5/y4yMlLx8fF666231Lt3b0VHR6tu3bq/eNehCRMm6KWXXtKAAQM0a9YsXX755XrllVeUk5PjNV+tWrU0f/58paam6ujRoxoyZIhiY2N1+PBhffbZZzp8+LAWLVrk8/44n5YtW+r3v/+95s+fr4CAAPXr10+5ubl65JFHFBcXp4kTJ/ptW/PmzdN1112n7t27a+TIkUpISFB+fr6++eYbvfPOO57zNiv63pWnb9++uummmzR16lTl5eUpOTlZn3/+uaZPn6727dtr2LBh511HRT5L/tjOuZSUlHjOuT1b+/bt5Xa7NWjQIM+4wfXq1dPu3bv19NNPKz4+XldeeaUkqW3btpLOvPepqakKDg5Wy5YtFRkZ+Yvb7tu3r0JCQnTnnXdqypQpOnXqlBYtWqR///vfZeZt27at0tPTtWjRInXs2NFzCkJFv+PAJc3JK6+Amq68q/KjoqLM1Vdfbf7yl7+UGabnyJEjZsSIEaZBgwYmKCjIxMfHm2nTpnnm+/zzz01YWJjXFfTGnBm6qWPHjiYhIcH8+9//Nsb8Z3idzz//3PTo0cOEhYWZ6OhoM3LkSHP8+HGv5c++Kt8YY3bv3m3uuusuExMTY4KDg03Lli3N7NmzvYbmMcaYdevWmfbt2xu3220klVnP2b766ivTt29fExoaaqKjo829995r3nrrrTJXlhtjzIYNG8yAAQNMdHS0CQ4ONo0aNTIDBgwwr7/++jm38UvDRZ2tdP9kZmaWea24uNg88cQTpkWLFiY4ONjUrVvXpKSkmL1793rNd8MNN5jWrVuXWT4+Pt4MGDCgzHRJZvTo0WXy/va3vzWNGjUywcHBpl69eqZbt25m1qxZXvNV9L07+6p8Y84MVTR16lQTHx9vgoODTYMGDczIkSM9n5dzuZDPUkW380vvz7kynP1d+vlj165dxhhjnnrqKdOtWzdTt25dzxBX9957r8nNzfVa37Rp00zDhg1NQECA1/t3rlzvvPOOueqqq0xoaKhp1KiRmTx5snnvvffKvP9Hjx41Q4YMMXXq1DEul8v8/J/i833HgUudyxhjqrcKA7DB8OHD9cYbb+j48eNOR8FFjs8SAH/hHFMAAABYgWIKAAAAK/BTPgAAAKzAEVMAAABYgWIKAAAAK1BMAQAAYIWLeoD9kpIS7du3T5GRkVVy6zoAAABUjjFG+fn5atiwoQICzn1M9KIupvv27VNcXJzTMQAAAHAee/fuVePGjc85z0VdTEtvD7d3717Vrl3b4TQAAAA4W15enuLi4s55W99SF3UxLf35vnbt2hRTAAAAi1XktEsufgIAAIAVKKYAAACwAsUUAAAAVqCYAgAAwAoUUwAAAFiBYgoAAAArUEwBAABgBYopAAAArEAxBQAAgBUopgAAALACxRQAAABWoJgCAADAChRTAAAAWIFiCgAAACs4WkxnzJghl8vl9ahfv76TkQAAAOCQIKcDtG7dWuvWrfM8DwwMdDANAAAAnOJ4MQ0KCuIoKQAAAJwvprt27VLDhg3ldrt17bXX6vHHH9cVV1xR7ryFhYUqLCz0PM/Ly6uumEClnDx5Ujk5OT4tW1BQoNzcXCUkJCgsLMznDImJiQoPD/d5eQDl4/sN+I+jxfTaa6/VsmXL1KJFCx08eFCzZs1St27dtGPHDsXExJSZPy0tTTNnznQgKVA5OTk56tixo6MZsrKy1KFDB0czAJcivt+A/7iMMcbpEKVOnDihZs2aacqUKZo0aVKZ18s7YhoXF6djx46pdu3a1RkVuCCVOaKSnZ2tlJQULV++XElJST5n4IgKUDX4fgPnlpeXp6ioqAr1Ncd/yv+5iIgItW3bVrt27Sr3dbfbLbfbXc2pgMoLDw+v9NGMpKQkjogAFuL7DfiPVeOYFhYWKjs7Ww0aNHA6CgAAAKqZo8X0wQcf1IYNG/Tdd9/pk08+0ZAhQ5SXl6fU1FQnYwEAAMABjv6U//333+vOO+/UDz/8oHr16qlLly7asmWL4uPjnYwFAAAABzhaTFesWOHk5gEAAGARqy5+AoBLAeNaAoBvKKYA4GeMawkAvqGYAoCfJSYmKisry6dl/TmuJQBcbCimAOBnjGsJAL6xahxTAAAA1FwcMQUAAKhixcXF+uijj7R//341aNBA3bt3V2BgoNOxrMMRUwAAgCqUnp6u5s2bq2fPnrrrrrvUs2dPNW/eXOnp6U5Hsw7FFAAAoIqkp6dryJAhatu2rTZv3qz8/Hxt3rxZbdu21ZAhQyinZ6GYAgAAVIHi4mI98MADGjhwoFatWqUuXbqoVq1a6tKli1atWqWBAwfqwQcfVHFxsdNRrcE5pg5hAG4AAC5tH330kXJzc/Xaa68pIMD7WGBAQICmTZumbt266aOPPlKPHj2cCWkZiqlDGIAbAIBL2/79+yVJbdq0Kff10uml84Fi6hgG4AYA4NLWoEEDSdKXX36pLl26lHn9yy+/9JoPFFPHMAA3AACXtu7duyshIUGPP/64Vq1a5fVzfklJidLS0tS0aVN1797dwZR24eInAACAKhAYGKinnnpKq1ev1uDBg72uyh88eLBWr16tOXPmMJ7pz3DEFAAAoIrcdttteuONN/TAAw+oW7dunulNmzbVG2+8odtuu83BdPahmAIAAFSh2267Tbfccgt3fqoAiikAAEAVCwwMZEioCuAcUwAAAFiBYgoAAAArUEwBAABgBYopAAAArEAxBQAAgBUopgAAALACxRQAAABWoJgCAADAChRTAAAAWIFiCgAAACtQTAEAAGAFiikAAACsQDEFAACAFSimAAAAsALFFAAAAFagmAIAAMAKFFMAAABYgWIKAAAAK1BMAQAAYAWKKQAAAKxAMQUAAIAVKKYAAACwAsUUAAAAVqCYAgAAwAoUUwAAAFiBYgoAAAArUEwBAABgBYopAAAArEAxBQAAgBUopgAAALACxRQAAABWoJgCAADAChRTAAAAWIFiCgAAACtQTAEAAGAFiikAAACsQDEFAACAFSimAAAAsALFFAAAAFagmAIAAMAKFFMAAABYgWIKAAAAK1BMAQAAYAWKKQAAAKxAMQUAAIAVKKYAAACwAsUUAAAAVqCYAgAAwAoUUwAAAFiBYgoAAAArUEwBAABgBYopAAAArEAxBQAAgBUopgAAALACxRQAAABWoJgCAADACtYU07S0NLlcLk2YMMHpKAAAAHCAFcU0MzNTL7zwgtq1a+d0FAAAADjE8WJ6/PhxDR06VIsXL9Zll13mdBwAAAA4xPFiOnr0aA0YMEB9+vQ577yFhYXKy8vzegAAAODSEOTkxlesWKFt27YpMzOzQvOnpaVp5syZVZwKAAAATnDsiOnevXs1fvx4LV++XKGhoRVaZtq0aTp27JjnsXfv3ipOCQAAgOri2BHTrKwsHTp0SB07dvRMKy4u1saNG7VgwQIVFhYqMDDQaxm32y23213dUQEAAFANHCumvXv31hdffOE17Z577lFiYqKmTp1appQCAADg0uZYMY2MjFSbNm28pkVERCgmJqbMdAAAAFz6HL8qHwAAAJAcvir/bOvXr3c6AgAAABxiVTEFAACw2cmTJ5WTk+PTsgUFBcrNzVVCQoLCwsJ8zpCYmKjw8HCfl7cZxRQAAKCCcnJyvEYUckJWVpY6dOjgaIaqQjEFAACooMTERGVlZfm0bHZ2tlJSUrR8+XIlJSVVKsOlimIKAABQQeHh4ZU+WpmUlHTJHvGsLK7KBwAAgBUopgAAALACxRQAAABWoJgCAADAChRTAAAAWIFiCgAAACtQTAEAAGAFiikAAACsQDEFAACAFSimAAAAsALFFAAAAFagmAIAAMAKFFMAAABYgWIKAAAAK1BMAQAAYAWKKQAAAKxAMQUAAIAVKKYAAACwAsUUAAAAVqCYAgAAwAoUUwAAAFghyOkAwMVi165dys/Pr/btZmdne/1Z3SIjI3XllVc6sm0AQM1CMQUqYNeuXWrRooWjGVJSUhzb9s6dOymnAIAqRzEFKqD0SOny5cuVlJRUrdsuKChQbm6uEhISFBYWVq3bzs7OVkpKiiNHigEANQ/FFLgASUlJ6tChQ7VvNzk5udq3CQBAdePiJwAAAFiBYgoAAAArUEwBAABgBYopAAAArEAxBQAAgBUopgAAALACxRQAAABWoJgCAADAChRTAAAAWIFiCgAAACtQTAEAAGCFIKcDAICNdu3apfz8/GrfbnZ2ttef1S0yMlJXXnmlI9sGAIopAJxl165datGihaMZUlJSHNv2zp07KacAHEExBYCzlB4pXb58uZKSkqp12wUFBcrNzVVCQoLCwsKqddvZ2dlKSUlx5Eix0zhCDtiBYgoAvyApKUkdOnSo9u0mJydX+zZrMo6Qc4Qc9qCYAgBqNI6Q17wj5LAXxRQAAHGEHLABw0UBAADAChRTAAAAWIFiCgAAACtQTAEAAGAFiikAAACswFX5lcCAzAAAAP5DMfURAzIzIDMAAPAviqmPGJCZAZkBAIB/UUwriQGZAQAA/IOLnwAAAGAFiikAAACsQDEFAACAFSimAAAAsALFFAAAAFagmAIAAMAKFFMAAABYgWIKAAAAK1BMAQAAYAWKKQAAAKxAMQUAAIAVKKYAAACwAsUUAAAAVqCYAgAAwAoUUwAAAFiBYgoAAAArUEwBAABgBYopAAAArOBoMV20aJHatWun2rVrq3bt2uratavee+89JyMBAADAIY4W08aNG+vPf/6ztm7dqq1bt6pXr1665ZZbtGPHDidjAQAAwAFBTm580KBBXs8fe+wxLVq0SFu2bFHr1q0dSgUAAAAnOFpMf664uFivv/66Tpw4oa5du5Y7T2FhoQoLCz3P8/LyqiseAAAAqpjjFz998cUXqlWrltxut0aMGKGVK1eqVatW5c6blpamqKgozyMuLq6a0wIAAKCqOF5MW7Zsqe3bt2vLli0aOXKkUlNT9dVXX5U777Rp03Ts2DHPY+/evdWcFgAAAFXF8Z/yQ0JC1Lx5c0lSp06dlJmZqXnz5un5558vM6/b7Zbb7a7uiAAAAKgGjh8xPZsxxus8UgAAANQMjh4xffjhh9WvXz/FxcUpPz9fK1as0Pr165WRkeFkLAAAADjA0WJ68OBBDRs2TPv371dUVJTatWunjIwM9e3b18lYAAAAcICjxfTFF190cvMAAACwiOMXPwEXA1fRKbWvH6CwH3dK+6w7NbvKhP24U+3rB8hVdMrpKADgN7t27VJ+fn61bzc7O9vrz+oWGRmpK6+80pFtVxTFFKiA0ON7tO3+WtLG+6WNTqepPkmStt1fS9nH90jq5nQcAKi0Xbt2qUWLFo5mSElJcWzbO3futLqcUkyBCjhVq4k6PH9cr7zyipISE52OU22yc3I0dOhQvdi/idNRAMAvSo+ULl++XElJSdW67YKCAuXm5iohIUFhYWHVuu3s7GylpKQ4cqT4QlBMgQowQaH69ECJCuq0kBpe7XScalNwoESfHiiRCQp1OgoA+FVSUpI6dOhQ7dtNTk6u9m1eTGrOyXIAAACwGsUUAAAAVvD5p/wff/xRL774orKzs+VyuZSUlKR7771XUVFR/swHAACAGsKnI6Zbt25Vs2bNNHfuXB09elQ//PCD5s6dq2bNmmnbtm3+zggAAIAawKcjphMnTtSvfvUrLV68WEFBZ1ZRVFSk++67TxMmTNDGjTVoPB0AAAD4hU/FdOvWrV6lVJKCgoI0ZcoUderUyW/hAACoatxAgxtowB4+FdPatWtrz549SjxrPMe9e/cqMjLSL8EAAKgO3ECDG2jAHj4V0//6r//Svffeqzlz5qhbt25yuVzatGmTJk+erDvvvNPfGQEAqDLcQIMbaMAePhXTOXPmyOVy6e6771ZRUZEkKTg4WCNHjtSf//xnvwYEAKAqcQMNbqABe/hUTENCQjRv3jylpaXp22+/lTFGzZs3V3h4uL/zAQAAoIao1C1Jw8PD1bZtW39lAQAAQA1W4WJ62223aenSpapdu7Zuu+22c86bnp5e6WAAAACoWSpcTKOiouRyuTz/DQAAAPhThYvpkiVLyv1vALjUMK4l41oCcEalzjEFgEsR41oyriUAZ1S4mLZv397zU/75bNu2zedAAOA0xrVkXEsAzqhwMR08eLDnv0+dOqWFCxeqVatW6tq1qyRpy5Yt2rFjh0aNGuX3kABQnRjXknEtATijwsV0+vTpnv++7777NG7cOP33f/93mXn27t3rv3QAAACoMXw6q//111/X3XffXWZ6SkqK3nzzzUqHAgAAQM3jUzENCwvTpk2bykzftGmTQkP5CQgAAAAXzqer8idMmKCRI0cqKytLXbp0kXTmHNOXXnpJf/rTn/waEAAAADWDT8X0oYce0hVXXKF58+bp1VdflSQlJSVp6dKluv322/0aEAAAADWDz+OY3n777ZRQAAAA+I3PtzT58ccf9de//lUPP/ywjh49KunM+KX/+te//BYOAAAANYdPR0w///xz9enTR1FRUcrNzdV9992n6OhorVy5Urt379ayZcv8nRMAAACXOJ+OmE6aNEnDhw/Xrl27vK7C79evnzZurEH37wMAAIDf+FRMMzMzdf/995eZ3qhRIx04cKDSoQAAAFDz+FRMQ0NDlZeXV2b6119/rXr16lU6FAAAAGoen4rpLbfcokcffVSnT5+WJLlcLu3Zs0cPPfSQfv3rX/s1IAAAAGoGn4rpnDlzdPjwYcXGxqqgoEA33HCDmjdvrsjISD322GP+zggAAIAawKer8mvXrq1Nmzbpgw8+0LZt21RSUqIOHTqoT58+/s4HAACAGsLnAfYlqVevXurVq5e/sgAAAKAG87mY/vOf/9T69et16NAhlZSUeL32l7/8pdLBAAAAULP4VEwff/xx/fGPf1TLli11+eWXy+VyeV77+X8DAAAAFeVTMZ03b55eeuklDR8+3M9xAAAAUFP5dFV+QECAkpOT/Z0FAAAANZhPxXTixIl69tln/Z0FAAAANZhPP+U/+OCDGjBggJo1a6ZWrVopODjY6/X09HS/hAMAAEDN4VMxHTt2rD788EP17NlTMTExNfKCJ1fRKbWvH6CwH3dK+3w68HxRCvtxp9rXD5Cr6JTTUQAAwCXGp2K6bNkyvfnmmxowYIC/81w0Qo/v0bb7a0kb75c2Op2m+iRJ2nZ/LWUf3yOpm9NxAADAJcSnYhodHa1mzZr5O8tF5VStJurw/HG98sorSkpMdDpOtcnOydHQoUP1Yv8mTkcBAACXGJ+K6YwZMzR9+nQtWbJE4eHh/s50UTBBofr0QIkK6rSQGl7tdJxqU3CgRJ8eKJEJCnU6CgAAuMT4VEyfeeYZffvtt7r88suVkJBQ5uKnbdu2+SUcAAAAag6fiungwYP9HAMAAAA1nU/FdPr06f7OAQAAgBrOp2JaKisrS9nZ2XK5XGrVqpXat2/vr1wAAACoYXwqpocOHdIdd9yh9evXq06dOjLG6NixY+rZs6dWrFihevXq+TsnAAAALnE+D7Cfl5enHTt2KCkpSZL01VdfKTU1VePGjdNrr73m15AAAAD+wA1y7L5Bjk/FNCMjQ+vWrfOUUklq1aqVnn32Wd14441+CwcAAOBP3CDH7hvk+FRMS0pKygwRJUnBwcEqKSmpdCgAAICqwA1y7L5Bjk/FtFevXho/frxee+01NWzYUJL0r3/9SxMnTlTv3r39GhAAAMBfuEGO3TfI8enkigULFig/P18JCQlq1qyZmjdvrqZNmyo/P1/z58/3d0YAAADUAD4dMY2Li9O2bdu0du1a5eTkyBijVq1aqU+fPv7OBwAAgBrigotpUVGRQkNDtX37dvXt21d9+/atilwAAACoYS74p/ygoCDFx8eruLi4KvIAAACghvLpHNM//vGPmjZtmo4ePervPAAAAKihfDrH9JlnntE333yjhg0bKj4+XhEREV6vb9u2zS/hAAAAUHP4VEwHDx4sl8slY4y/8wAAAKCGuqBievLkSU2ePFmrVq3S6dOn1bt3b82fP19169atqnwAAACoIS7oHNPp06dr6dKlGjBggO68806tW7dOI0eOrKpsAAAAqEEu6Ihpenq6XnzxRd1xxx2SpKFDhyo5OVnFxcUKDAyskoAAAACoGS7oiOnevXvVvXt3z/POnTsrKChI+/bt83swAAAA1CwXVEyLi4sVEhLiNS0oKEhFRUV+DQUAAICa54J+yjfGaPjw4XK73Z5pp06d0ogRI7yGjEpPT/dfQkudPHlSkjNDYxUUFCg3N1cJCQkKCwur1m1nZ2dX6/Zswf4GAKDqXVAxTU1NLTMtJSXFb2EuJjk5OZKk3/3udw4ncUZkZKTTEaoV+7tm7W8AgDMuqJguWbKkqnJcdAYPHixJSkxMVHh4eLVuOzs7WykpKVq+fLmSkpKqddvSmZJy5ZVXVvt2ncT+rln7GwDgDJ8G2IdUt25d3XfffY5mSEpKUocOHRzNUFOwvwEAqHoXdPETAAAAUFUopgAAALCCo8U0LS1N11xzjSIjIxUbG6vBgwfr66+/djISAAAAHOJoMd2wYYNGjx6tLVu2aO3atSoqKtKNN96oEydOOBkLAAAADnD04qeMjAyv50uWLFFsbKyysrJ0/fXXO5QKAAAATrDqqvxjx45JkqKjo8t9vbCwUIWFhZ7neXl51ZILAAAAVc+ai5+MMZo0aZKuu+46tWnTptx50tLSFBUV5XnExcVVc0oAAABUFWuOmI4ZM0aff/65Nm3a9IvzTJs2TZMmTfI8z8vLo5wC8DtuQQsAzrCimI4dO1Zvv/22Nm7cqMaNG//ifG63W263uxqTAaiJuAUtt6AF4AxHi6kxRmPHjtXKlSu1fv16NW3a1Mk4ACCJW9ByC1oATnG0mI4ePVqvvvqq3nrrLUVGRurAgQOSpKioqGr/CQsASnELWgBwhqMXPy1atEjHjh1Tjx491KBBA8/jb3/7m5OxAAAA4ADHf8oHAAAAJEsufgIAwCmMwlCzsL/tRjEFANRojMJQs0ZhYH/bvb8ppgCAGo1RGGrWKAzsb7v3N8UUAFCjMQpDzcL+tps1tyQFAABAzUYxBQAAgBUopgAAALACxRQAAABWoJgCAADAChRTAAAAWIFiCgAAACtQTAEAAGAFiikAAACsQDEFAACAFSimAAAAsALFFAAAAFagmAIAAMAKFFMAAABYgWIKAAAAK1BMAQAAYAWKKQAAAKxAMQUAAIAVKKYAAACwAsUUAAAAVqCYAgAAwAoUUwAAAFiBYgoAAAArUEwBAABgBYopAAAArEAxBQAAgBUopgAAALACxRQAAABWoJgCAADAChRTAAAAWIFiCgAAACtQTAEAAGAFiikAAACsQDEFAACAFSimAAAAsALFFAAAAFagmAIAAMAKFFMAAABYgWIKAAAAK1BMAQAAYAWKKQAAAKxAMQUAAIAVKKYAAACwAsUUAAAAVqCYAgAAwAoUUwAAAFiBYgoAAAArUEwBAABgBYopAAAArEAxBQAAgBUopgAAALACxRQAAABWoJgCAADAChRTAAAAWIFiCgAAACtQTAEAAGAFiikAAACsQDEFAACAFSimAAAAsALFFAAAAFagmAIAAMAKFFMAAABYgWIKAAAAK1BMAQAAYAWKKQAAAKxAMQUAAIAVKKYAAACwAsUUAAAAVqCYAgAAwAqOFtONGzdq0KBBatiwoVwul1atWuVkHAAAADjI0WJ64sQJXXXVVVqwYIGTMQAAAGCBICc33q9fP/Xr18/JCAAAALCEo8X0QhUWFqqwsNDzPC8vz8E0lXPy5Enl5OT4tGx2drbXn75KTExUeHh4pdYBAADgLxdVMU1LS9PMmTOdjuEXOTk56tixY6XWkZKSUqnls7Ky1KFDh0qtAwAAwF8uqmI6bdo0TZo0yfM8Ly9PcXFxDibyXWJiorKysnxatqCgQLm5uUpISFBYWFilMgAAANjioiqmbrdbbrfb6Rh+ER4eXqmjlcnJyX5MAwAA4DzGMQUAAIAVHD1ievz4cX3zzTee59999522b9+u6OhoNWnSxMFkAAAAqG6OFtOtW7eqZ8+enuel54+mpqZq6dKlDqUCAACAExwtpj169JAxxskIAAAAsATnmAIAAMAKFFMAAABYgWIKAAAAK1BMAQAAYAWKKQAAAKxAMQUAAIAVKKYAAACwAsUUAAAAVqCYAgAAwAoUUwAAAFiBYgoAAAArUEwBAABgBYopAAAArEAxBQAAgBUopgAAALACxRQAAABWoJgCAADAChRTAAAAWIFiCgAAACtQTAEAAGAFiikAAACsQDEFAACAFSimAAAAsALFFAAAAFagmAIAAMAKFFMAAABYgWIKAAAAK1BMAQAAYAWKKQAAAKxAMQUAAIAVKKYAAACwAsUUAAAAVqCYAgAAwAoUUwAAAFiBYgoAAAArUEwBAABgBYopAAAArEAxBQAAgBUopgAAALACxRQAAABWoJgCAADAChRTAAAAWCHI6QAAAAAXi5MnTyonJ8enZbOzs73+9FViYqLCw8MrtQ5bUUwBAAAqKCcnRx07dqzUOlJSUiq1fFZWljp06FCpddiKYgoAAFBBiYmJysrK8mnZgoIC5ebmKiEhQWFhYZXKcKmimAIAAFRQeHh4pY5WJicn+zHNpYeLnwAAAGAFiikAAACsQDEFAACAFSimAAAAsALFFAAAAFagmAIAAMAKFFMAAABYgWIKAAAAK1BMAQAAYAWKKQAAAKxAMQUAAIAVKKYAAACwAsUUAAAAVqCYAgAAwAoUUwAAAFiBYgoAAAArUEwBAABgBYopAAAArEAxBQAAgBUopgAAALACxRQAAABWCHI6AAAAF7OTJ08qJyfHp2Wzs7O9/vRVYmKiwsPDK7UOwAYUUwAAKiEnJ0cdO3as1DpSUlIqtXxWVpY6dOhQqXUANqCYAgBQCYmJicrKyvJp2YKCAuXm5iohIUFhYWGVygBcCiimAABUQnh4eKWOViYnJ/sxDXBx4+InAAAAWIEjpgAAAFXsp59+0sKFC/Xtt9+qWbNmGjVqlEJCQpyOZR3Hj5guXLhQTZs2VWhoqDp27KiPPvrI6UgAAAB+M2XKFEVERGjixIlasGCBJk6cqIiICE2ZMsXpaNZxtJj+7W9/04QJE/SHP/xBn376qbp3765+/fppz549TsYCAADwiylTpmj27NmKiYnR4sWLtX//fi1evFgxMTGaPXs25fQsLmOMcWrj1157rTp06KBFixZ5piUlJWnw4MFKS0s77/J5eXmKiorSsWPHVLt27aqMCjhm27Zt6tixI8PB1BDsb+DS8dNPPykiIkIxMTH6/vvvFRT0nzMoi4qK1LhxYx05ckQnTpy4pH/Wv5C+5tg5pj/99JOysrL00EMPeU2/8cYb9fHHH5e7TGFhoQoLCz3P8/LyqjQj4C8MwF2zsL8BSGdOVywqKtKsWbO8SqkkBQUF6dFHH9X999+vhQsXasKECc6EtIxjxfSHH35QcXGxLr/8cq/pl19+uQ4cOFDuMmlpaZo5c2Z1xAP8igG4axb2NwBJ+vbbbyVJAwcOLPf10uml88GCq/JdLpfXc2NMmWmlpk2bpkmTJnme5+XlKS4urkrzAf7AANw1C/sbgCQ1a9ZMkrR69Wrdd999ZV5fvXq113xw8BzTn376SeHh4Xr99dd16623eqaPHz9e27dv14YNG867Ds4xBQAAtuIc0zMupK85dlV+SEiIOnbsqLVr13pNX7t2rbp16+ZQKgAAAP8ICQnRxIkTdfDgQTVu3FgvvPCC9u3bpxdeeEGNGzfWwYMHNXHixEu6lF4oR3/KnzRpkoYNG6ZOnTqpa9eueuGFF7Rnzx6NGDHCyVgAAAB+8eSTT0qS5s6dq/vvv98zPSgoSJMnT/a8jjMcHS5KOnPF2pNPPqn9+/erTZs2mjt3rq6//voKLctP+QAA4GJQk+/8dCF9zfFiWhkUUwAAALtdFOeYAgAAAD9HMQUAAIAVKKYAAACwAsUUAAAAVqCYAgAAwAoUUwAAAFiBYgoAAAArUEwBAABgBYopAAAArEAxBQAAgBUopgAAALACxRQAAABWoJgCAADACkFOB6gMY4wkKS8vz+EkAAAAKE9pTyvtbedyURfT/Px8SVJcXJzDSQAAAHAu+fn5ioqKOuc8LlOR+mqpkpIS7du3T5GRkXK5XE7HqTZ5eXmKi4vT3r17Vbt2bafjoIqxv2sW9nfNwv6uWWrq/jbGKD8/Xw0bNlRAwLnPIr2oj5gGBASocePGTsdwTO3atWvUB7umY3/XLOzvmoX9XbPUxP19viOlpbj4CQAAAFagmAIAAMAKFNOLkNvt1vTp0+V2u52OgmrA/q5Z2N81C/u7ZmF/n99FffETAAAALh0cMQUAAIAVKKYAAACwAsUUAAAAVqCYAgAAwAoU04vIjBkz5HK5vB7169d3OhaqyMaNGzVo0CA1bNhQLpdLq1atcjoSqtCiRYvUrl07z8DbXbt21Xvvved0LFSRtLQ0XXPNNYqMjFRsbKwGDx6sr7/+2ulYqAZpaWlyuVyaMGGC01GsRDG9yLRu3Vr79+/3PL744gunI6GKnDhxQldddZUWLFjgdBRUg8aNG+vPf/6ztm7dqq1bt6pXr1665ZZbtGPHDqejoQps2LBBo0eP1pYtW7R27VoVFRXpxhtv1IkTJ5yOhiqUmZmpF154Qe3atXM6irUu6luS1kRBQUEcJa0h+vXrp379+jkdA9Vk0KBBXs8fe+wxLVq0SFu2bFHr1q0dSoWqkpGR4fV8yZIlio2NVVZWlq6//nqHUqEqHT9+XEOHDtXixYs1a9Ysp+NYiyOmF5ldu3apYcOGatq0qe644w793//9n9ORAPhZcXGxVqxYoRMnTqhr165Ox0E1OHbsmCQpOjra4SSoKqNHj9aAAQPUp08fp6NYjSOmF5Frr71Wy5YtU4sWLXTw4EHNmjVL3bp1044dOxQTE+N0PACV9MUXX6hr1646deqUatWqpZUrV6pVq1ZOx0IVM8Zo0qRJuu6669SmTRun46AKrFixQtu2bVNmZqbTUaxHMb2I/Pxn3bZt26pr165q1qyZ/ud//keTJk1yMBkAf2jZsqW2b9+uH3/8UW+++aZSU1O1YcMGyuklbsyYMfr888+1adMmp6OgCuzdu1fjx4/XmjVrFBoa6nQc61FML2IRERFq27atdu3a5XQUAH4QEhKi5s2bS5I6deqkzMxMzZs3T88//7zDyVBVxo4dq7ffflsbN25U48aNnY6DKpCVlaVDhw6pY8eOnmnFxcXauHGjFixYoMLCQgUGBjqY0C4U04tYYWGhsrOz1b17d6ejAKgCxhgVFhY6HQNVwBijsWPHauXKlVq/fr2aNm3qdCRUkd69e5cZQeeee+5RYmKipk6dSik9C8X0IvLggw9q0KBBatKkiQ4dOqRZs2YpLy9PqampTkdDFTh+/Li++eYbz/PvvvtO27dvV3R0tJo0aeJgMlSFhx9+WP369VNcXJzy8/O1YsUKrV+/vszV27g0jB49Wq+++qreeustRUZG6sCBA5KkqKgohYWFOZwO/hQZGVnm3OGIiAjFxMRwTnE5KKYXke+//1533nmnfvjhB9WrV09dunTRli1bFB8f73Q0VIGtW7eqZ8+enuel5xGnpqZq6dKlDqVCVTl48KCGDRum/fv3KyoqSu3atVNGRob69u3rdDRUgUWLFkmSevTo4TV9yZIlGj58ePUHAizhMsYYp0MAAAAAjGMKAAAAK1BMAQAAYAWKKQAAAKxAMQUAAIAVKKYAAACwAsUUAAAAVqCYAgAAwAoUUwAAAFiBYgoAAAArUEwBwAfDhw+Xy+Uq87j55pvPu2xCQoKefvppv2VxuVxatWqV39YHAE4JcjoAAFysbr75Zi1ZssRrmtvt9su6i4uL5XK5FBDA8QMANQf/iwcAPnK73apfv77X47LLLpMkzZgxQ02aNJHb7VbDhg01btw4SVKPHj20e/duTZw40XOUVZKWLl2qOnXqaPXq1WrVqpXcbrd2796tzMxM9e3bV3Xr1lVUVJRuuOEGbdu2zZMhISFBknTrrbfK5XJ5nkvSokWL1KxZM4WEhKhly5Z6+eWXq+eNAQAfUUwBwM/eeOMNzZ07V88//7x27dqlVatWqW3btpKk9PR0NW7cWI8++qj279+v/fv3e5Y7efKk0tLS9Ne//lU7duxQbGys8vPzlZqaqo8++khbtmzRlVdeqf79+ys/P1+SlJmZKUlasmSJ9u/f73m+cuVKjR8/Xg888IC+/PJL3X///brnnnv04YcfVvO7AQAVx0/5AOCj1atXq1atWl7Tpk6dqoiICNWvX199+vRRcHCwmjRpos6dO0uSoqOjFRgYqMjISNWvX99r2dOnT2vhwoW66qqrPNN69erlNc/zzz+vyy67TBs2bNDAgQNVr149SVKdOnW81jdnzhwNHz5co0aNkiRNmjRJW7Zs0Zw5c9SzZ0//vQkA4EccMQUAH/Xs2VPbt2/3eowePVq/+c1vVFBQoCuuuEK/+93vtHLlShUVFZ13fSEhIWrXrp3XtEOHDmnEiBFq0aKFoqKiFBUVpePHj2vPnj3nXFd2draSk5O9piUnJys7O/vC/6IAUE04YgoAPoqIiFDz5s3LTI+OjtbXX3+ttWvXat26dRo1apRmz56tDRs2KDg4+BfXFxYW5jnntNTw4cN1+PBhPf3004qPj5fb7VbXrl31008/nTff2esyxpSZBgA24YgpAFSBsLAw/epXv9Izzzyj9evXa/Pmzfriiy8knTkyWlxcXKH1fPTRRxo3bpz69++v1q1by+1264cffvCaJzg4uMz6kpKStGnTJq9pH3/8sZKSkirxtwKAqsURUwDwUWFhoQ4cOOA1LSgoSKtXr1ZxcbGuvfZahYeH6+WXX1ZYWJji4+MlnbmSfuPGjbrjjjvkdrtVt27dX9xG8+bN9fLLL6tTp07Ky8vT5MmTFRYW5jVPQkKC3n//fSUnJ8vtduuyyy7T5MmTdfvtt6tDhw7q3bu33nnnHaWnp2vdunX+fyMAwE84YgoAPsrIyFCDBg28Htddd53q1KmjxYsXKzk5We3atdP777+vd955RzExMZKkRx99VLm5uWrWrJnn4qVf8tJLL+nf//632rdvr2HDhmncuHGKjY31muepp57S2rVrFRcXp/bt20uSBg8erHnz5mn27Nlq3bq1nn/+eS1ZskQ9evSokvcCAPzBZYwxTocAAAAAOGIKAAAAK1BMAQAAYAWKKQAAAKxAMQUAAIAVKKYAAACwAsUUAAAAVqCYAgAAwAoUUwAAAFiBYgoAAAArUEwBAABgBYopAAAArPD/AETEc3+Cpw1QAAAAAElFTkSuQmCC",
      "text/plain": [
       "<Figure size 800x600 with 1 Axes>"
      ]
     },
     "metadata": {},
     "output_type": "display_data"
    },
    {
     "name": "stdout",
     "output_type": "stream",
     "text": [
      "Media por Estrato:\n",
      "5: 2.5999999999999996\n",
      "1: 2.705405405405405\n",
      "3: 2.6378205128205128\n",
      "2: 2.620540540540541\n",
      "4: 2.2914285714285714\n"
     ]
    },
    {
     "data": {
      "image/png": "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",
      "text/plain": [
       "<Figure size 800x600 with 1 Axes>"
      ]
     },
     "metadata": {},
     "output_type": "display_data"
    },
    {
     "name": "stdout",
     "output_type": "stream",
     "text": [
      "\n",
      "Media por Género:\n",
      "masculino: 2.624019607843137\n",
      "femenino: 2.653386454183267\n",
      "otro: 2.3833333333333333\n",
      "no binario: 2.4358974358974357\n"
     ]
    }
   ],
   "source": [
    "import matplotlib.pyplot as plt\n",
    "import numpy as np\n",
    "\n",
    "# Datos\n",
    "estratos = datos['estrato.txt']\n",
    "generos = datos['genero.txt']\n",
    "promedio = datos['promedio.txt']\n",
    "\n",
    "# Agrupar valores de promedio por estrato\n",
    "valores_por_estrato = {}  # Un diccionario para almacenar listas de valores por estrato\n",
    "\n",
    "for estrato, prom in zip(estratos, promedio):\n",
    "    if estrato not in valores_por_estrato:\n",
    "        valores_por_estrato[estrato] = []\n",
    "    valores_por_estrato[estrato].append(prom)\n",
    "\n",
    "# Calcular la media por estrato\n",
    "medias_por_estrato = {estrato: np.mean(valores) for estrato, valores in valores_por_estrato.items()}\n",
    "\n",
    "# Boxplot de Promedio por Estrato\n",
    "plt.figure(figsize=(8, 6))\n",
    "plt.boxplot(valores_por_estrato.values(), labels=valores_por_estrato.keys())\n",
    "plt.xlabel('Estrato')\n",
    "plt.ylabel('Promedio')\n",
    "plt.title('Boxplot de Promedio por Estrato')\n",
    "plt.show()\n",
    "\n",
    "# Calcular la media por estrato\n",
    "print(\"Media por Estrato:\")\n",
    "for estrato, media in medias_por_estrato.items():\n",
    "    print(f\"{estrato}: {media}\")\n",
    "\n",
    "# Agrupar valores de promedio por género\n",
    "valores_por_genero = {}  # Un diccionario para almacenar listas de valores por género\n",
    "\n",
    "for genero, prom in zip(generos, promedio):\n",
    "    if genero not in valores_por_genero:\n",
    "        valores_por_genero[genero] = []\n",
    "    valores_por_genero[genero].append(prom)\n",
    "\n",
    "# Calcular la media por género\n",
    "medias_por_genero = {genero: np.mean(valores) for genero, valores in valores_por_genero.items()}\n",
    "\n",
    "# Boxplot de Promedio por Género\n",
    "plt.figure(figsize=(8, 6))\n",
    "plt.boxplot(valores_por_genero.values(), labels=valores_por_genero.keys())\n",
    "plt.xlabel('Género')\n",
    "plt.ylabel('Promedio')\n",
    "plt.title('Boxplot de Promedio por Género')\n",
    "plt.show()\n",
    "\n",
    "# Calcular la media por género\n",
    "print(\"\\nMedia por Género:\")\n",
    "for genero, media in medias_por_genero.items():\n",
    "    print(f\"{genero}: {media}\")\n"
   ]
  },
  {
   "cell_type": "code",
   "execution_count": null,
   "metadata": {},
   "outputs": [],
   "source": []
  },
  {
   "cell_type": "markdown",
   "metadata": {},
   "source": [
    "## Fase 2: abordar la pregunta de negocio"
   ]
  },
  {
   "cell_type": "markdown",
   "metadata": {},
   "source": [
    "El comité encargado de diseñar el programa de becas ha tenido dificultades para llegar a acuerdos. Algunos piensan que considerar las características sociodemográficas (ej., género, región, etc.) es parte del espíritu del programa, mientras que otros piensan que el criterio de selección debería centrarse estrictamente en lo económico y académico. Dado esto, el comité ha sugerido evaluar dos propuestas, suponiendo un número $N$ de becas disponibles."
   ]
  },
  {
   "cell_type": "markdown",
   "metadata": {},
   "source": [
    "* La primera propuesta sugiere que se deben tomar las diferentes regiones y géneros y, para cada una de las combinaciones de estos dos criterios, asignar una cantidad de becas proporcional al número de personas de esa subpoblación con respecto al total de personas encuestadas. Dentro de cada subpoblación, las becas deben aprobarse a las personas con mejor promedio académico."
   ]
  },
  {
   "cell_type": "markdown",
   "metadata": {},
   "source": [
    "* La segunda propuesta sugiere que se deben tomar en orden ascendente los estratos y, en cada uno de ellos, asignar una beca a cada una de las personas que se encuentren dentro del 2% con mejor promedio académico en esa subpoblación. En caso de quedar becas disponibles luego de haber cubierto todos los estratos, se repite el mismo esquema hasta asignar todas las becas disponibles, excluyendo a las personas a quienes se les haya asignado una beca en alguna ronda anterior."
   ]
  },
  {
   "cell_type": "markdown",
   "metadata": {},
   "source": [
    "### Misión 3"
   ]
  },
  {
   "cell_type": "markdown",
   "metadata": {},
   "source": [
    "Define la pregunta de negocio y la pregunta de *analytics* para esta situación."
   ]
  },
  {
   "cell_type": "code",
   "execution_count": null,
   "metadata": {},
   "outputs": [],
   "source": [
    "# Implementa tu respuesta en esta celda\n"
   ]
  },
  {
   "cell_type": "markdown",
   "metadata": {},
   "source": [
    "#### Pregunta de negocio"
   ]
  },
  {
   "cell_type": "markdown",
   "metadata": {},
   "source": [
    "¿Cuál es la mejor estrategia de asignación de becas que debe adoptar el comité encargado del programa de becas para garantizar una distribución justa y efectiva de las becas disponibles, considerando tanto criterios socio-demográficos como académicos, y maximizando el impacto en la población objetivo?"
   ]
  },
  {
   "cell_type": "markdown",
   "metadata": {},
   "source": [
    "- "
   ]
  },
  {
   "cell_type": "markdown",
   "metadata": {},
   "source": [
    "### Misión 4"
   ]
  },
  {
   "cell_type": "markdown",
   "metadata": {},
   "source": [
    "**Versión base**: desarrolla un algoritmo que seleccione a los potenciales beneficiarios de las becas, según la primera propuesta."
   ]
  },
  {
   "cell_type": "markdown",
   "metadata": {},
   "source": [
    "**Versión completa**: escribe una función que sea capaz de ejecutar la **versión base** para distintos números $N$ de becas disponibles."
   ]
  },
  {
   "cell_type": "code",
   "execution_count": null,
   "metadata": {},
   "outputs": [],
   "source": [
    "# Implementa tu respuesta en esta celda\n"
   ]
  },
  {
   "cell_type": "markdown",
   "metadata": {},
   "source": [
    "### Misión 5"
   ]
  },
  {
   "cell_type": "markdown",
   "metadata": {},
   "source": [
    "**Versión base**: desarrolla un algoritmo que seleccione a los potenciales beneficiarios de las becas, según la segunda propuesta."
   ]
  },
  {
   "cell_type": "markdown",
   "metadata": {},
   "source": [
    "**Versión completa**: escribe una función que sea capaz de ejecutar la **versión base** para distintos números $N$ de becas disponibles."
   ]
  },
  {
   "cell_type": "code",
   "execution_count": null,
   "metadata": {},
   "outputs": [],
   "source": [
    "# Implementa tu respuesta en esta celda\n"
   ]
  },
  {
   "cell_type": "markdown",
   "metadata": {},
   "source": [
    "### Misión 6"
   ]
  },
  {
   "cell_type": "markdown",
   "metadata": {},
   "source": [
    "**Versión base**: con base en tu desarrollo de las misiones 2, 4 y 5, implementa un procedimiento que le permita al comité comparar las dos propuestas, exponiendo métricas y visualizaciones de las principales características demográficas de los potenciales beneficiarios de las becas que se obtendrían con cada propuesta."
   ]
  },
  {
   "cell_type": "markdown",
   "metadata": {},
   "source": [
    "**Versión completa**: escribe una función que sea capaz de ejecutar la **versión base** de manera automática para ambas propuestas."
   ]
  },
  {
   "cell_type": "code",
   "execution_count": null,
   "metadata": {},
   "outputs": [],
   "source": [
    "# Implementa tu respuesta en esta celda\n"
   ]
  },
  {
   "cell_type": "markdown",
   "metadata": {},
   "source": [
    "## Fase 3: desarrollar una solución analítica"
   ]
  },
  {
   "cell_type": "markdown",
   "metadata": {},
   "source": [
    "Reconociendo la complejidad de este problema y viendo el potencial del análisis de datos para enriquecer la discusión, el comité requiere una herramienta analítica que permita definir y evaluar nuevas propuestas de asignación de becas. Se debe poder:\n",
    "\n",
    "1. Ingresar el número de becas disponibles (ej., `N=0`).\n",
    "\n",
    "\n",
    "2. Ingresar un rango de edad para los candidatos factibles (ej., `min_edad=99, max_edad=100`).\n",
    "\n",
    "\n",
    "3. Elegir cualesquiera de las siguientes tres características: género, estrato, región (ej., `caracteristicas=[\"genero\", \"estrato\"]`).\n",
    "\n",
    "    \n",
    "4. Ingresar interactivamente (durante la ejecución de la herramienta) el porcentaje del total de las becas que se asignará a las personas con mejor promedio académico dentro de cada una de las combinaciones de las características elegidas. Por ejemplo, si se eligen las características `\"genero\"` y `\"estrato\"`, deberá asignarse un porcentaje a cada combinación (ej., asignar 3\\% de las becas al género `\"masculino\"` del estrato `1`, asignar 5\\% de las becas al género `\"femenino\"` del estrato `1`, etc.)."
   ]
  },
  {
   "cell_type": "markdown",
   "metadata": {},
   "source": [
    "La herramienta debe permitir al comité configurar una nueva propuesta y seleccionar al grupo de potenciales beneficiarios de las becas de acuerdo con la propuesta configurada. Además, la herramienta debe exponer métricas y visualizaciones de las principales características demográficas de los potenciales beneficiarios de las becas."
   ]
  },
  {
   "cell_type": "markdown",
   "metadata": {},
   "source": [
    "### Misión 7"
   ]
  },
  {
   "cell_type": "markdown",
   "metadata": {},
   "source": [
    "Desarrolla un algoritmo que reciba los parámetros para configurar la nueva propuesta y seleccione a los potenciales beneficiarios de las becas."
   ]
  },
  {
   "cell_type": "code",
   "execution_count": null,
   "metadata": {},
   "outputs": [],
   "source": [
    "# Implementa tu respuesta en esta celda\n"
   ]
  },
  {
   "cell_type": "markdown",
   "metadata": {},
   "source": [
    "### Misión 8"
   ]
  },
  {
   "cell_type": "markdown",
   "metadata": {},
   "source": [
    "Con base en tu desarrollo de la misión 7, implementa un algoritmo que: le permita al comité configurar una nueva propuesta; exponga métricas y visualizaciones de las principales características demográficas del grupo de potenciales beneficiarios para la propuesta configurada."
   ]
  },
  {
   "cell_type": "code",
   "execution_count": null,
   "metadata": {},
   "outputs": [],
   "source": [
    "# Implementa tu respuesta en esta celda\n"
   ]
  },
  {
   "cell_type": "markdown",
   "metadata": {},
   "source": [
    "### Misión 9"
   ]
  },
  {
   "cell_type": "markdown",
   "metadata": {},
   "source": [
    "Utiliza tu herramienta para configurar propuestas a tu criterio. Con sustento en las métricas y visualizaciones que obtengas, elige una de las propuestas que configuraste. Compara y concluye acerca de las virtudes y falencias de tu propuesta con respecto a las de las dos propuestas del comité."
   ]
  },
  {
   "cell_type": "code",
   "execution_count": null,
   "metadata": {},
   "outputs": [],
   "source": [
    "# Implementa tu respuesta en esta celda\n"
   ]
  },
  {
   "cell_type": "markdown",
   "metadata": {},
   "source": [
    "## Referencias"
   ]
  },
  {
   "cell_type": "markdown",
   "metadata": {},
   "source": [
    "* Discriminación Positiva<br>\n",
    "https://es.wikipedia.org/wiki/Discriminaci%C3%B3n_positiva\n",
    "* Análisis de formulación del programa “Ser Pilo Paga”<br>\n",
    "https://repository.urosario.edu.co/handle/10336/12526\n",
    "* La acción afirmativa en la Universidad de los Andes: El caso del programa \"Oportunidades para talentos nacionales\"<br> http://www.scielo.org.co/scielo.php?script=sci_arttext&pid=S0123-885X2004000300005\n",
    "* Acción afirmativa y equidad: un análisis desde la propuesta de Thomas Nagel<br>\n",
    "http://www.scielo.org.mx/scielo.php?script=sci_arttext&pid=S2007-24062016000200049"
   ]
  },
  {
   "cell_type": "markdown",
   "metadata": {},
   "source": [
    "## Créditos"
   ]
  },
  {
   "cell_type": "markdown",
   "metadata": {},
   "source": [
    "__Autores__: Camilo Hernando Gómez Castro, Alejandro Mantilla Redondo, Diego Alejandro Cely Gómez.\n",
    " \n",
    "__Fecha última actualización__: 11/07/2022"
   ]
  }
 ],
 "metadata": {
  "celltoolbar": "Create Assignment",
  "kernelspec": {
   "display_name": "Python 3 (ipykernel)",
   "language": "python",
   "name": "python3"
  },
  "language_info": {
   "codemirror_mode": {
    "name": "ipython",
    "version": 3
   },
   "file_extension": ".py",
   "mimetype": "text/x-python",
   "name": "python",
   "nbconvert_exporter": "python",
   "pygments_lexer": "ipython3",
   "version": "3.11.4"
  }
 },
 "nbformat": 4,
 "nbformat_minor": 1
}

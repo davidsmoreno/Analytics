{
 "cells": [
  {
   "cell_type": "markdown",
   "metadata": {
    "nbgrader": {
     "grade": false,
     "grade_id": "header",
     "locked": true,
     "schema_version": 3,
     "solution": false,
     "task": false
    },
    "tags": [
     "{}"
    ]
   },
   "source": [
    "<img src=\"Archivos/miad4.png\" width=900x>\n",
    "\n",
    " # TAREA 2\n",
    "\n",
    "**Departamento de Ingeniería Industrial.**\n",
    "\n",
    "**Maestría en Inteligencia Analítica para la Toma de Decisiones (Analytics).**\n",
    "\n",
    "**Modelos de Análisis Estadístico (MIIA 4100) - 202320.**\n",
    "\n",
    "Por ningún motivo se recibirán entregas posteriores a la hora límite. En caso de no realizar la entrega la nota asignada será 0.\n",
    "\n",
    "Notas: La entrega del taller deberá hacerse en un informe autocontenido incluyendo las **gráficas,interpretación y conclusiones**. Adicionalmente debe entregarse el código utilizado dentro de este mismo notebook, de considerar necesario comentar todas las partes del codigo que crean necesarias para el entendimiento del codigo.\n",
    "\n",
    "Para todos los literales que lo requieran, se recomienda utilizar una significancia del 5% (confianza del 95%). En caso de utilizar otro nivel de significancia, hacerlo explícito en el informe.\n",
    "\n",
    "______________________________________________________________________\n",
    "\n"
   ]
  },
  {
   "cell_type": "code",
   "execution_count": 30,
   "metadata": {
    "nbgrader": {
     "grade": false,
     "grade_id": "eje-data",
     "locked": true,
     "schema_version": 3,
     "solution": false,
     "task": false
    },
    "scrolled": true
   },
   "outputs": [],
   "source": [
    "#Librerias que podria necesitar\n",
    "import pandas as pd\n",
    "import matplotlib.pyplot as plt\n"
   ]
  },
  {
   "cell_type": "markdown",
   "metadata": {
    "nbgrader": {
     "grade": false,
     "grade_id": "eje-enun",
     "locked": true,
     "schema_version": 3,
     "solution": false,
     "task": false
    }
   },
   "source": [
    "## Ejercicio 1\n",
    "(35%) La base de datos contenida en diamantes.csv tiene información de los precios 53.940 diamantes teniendo en cuenta los carates, el corte, el color, la claridad, la profundidad, la longitud (x), el ancho (y) y la profundidad (z). <br>\n"
   ]
  },
  {
   "cell_type": "markdown",
   "metadata": {
    "nbgrader": {
     "grade": false,
     "grade_id": "eje-enun",
     "locked": true,
     "schema_version": 3,
     "solution": false,
     "task": false
    }
   },
   "source": [
    "a. (10%) Teniendo en cuenta los datos suministrados: ¿De qué variable o variables depende el valor de los diamantes?"
   ]
  },
  {
   "cell_type": "code",
   "execution_count": 1,
   "metadata": {
    "nbgrader": {
     "grade": false,
     "grade_id": "eje-data",
     "locked": true,
     "schema_version": 3,
     "solution": false,
     "task": false
    },
    "scrolled": true
   },
   "outputs": [],
   "source": [
    "# Implementa tu respuesta en esta celda\n",
    "\n"
   ]
  },
  {
   "cell_type": "markdown",
   "metadata": {
    "nbgrader": {
     "grade": false,
     "grade_id": "eje-task",
     "locked": true,
     "schema_version": 3,
     "solution": false,
     "task": false
    }
   },
   "source": [
    "b. (10%) Realice un modelo de regresión lineal múltiple para el precio de cada diamante teniendo en cuenta la longitud, el ancho y la profundidad de los diamantes, ponga su ecuación y estime los valores de los diamantes para los siguientes tamaños:\n",
    "|<center>X</center>|<center>Y</center>|<center>Z</center>|\n",
    "|-----------|-----------|-----------|\n",
    "|3.10|<center>3.17</center>| 3.43|\n",
    "|4.14|<center>3.25</center>|3.11|\n",
    "|4.00|<center>4.45</center>|3.14|\n",
    "|4.22|<center>4.14</center>|4.15|\n",
    "|4.14|<center>2.35</center>|2.85|\n",
    "|2.94|<center>4.96</center>|4.12|\n",
    "|4.95|<center>5.10</center>|3.47|\n",
    "|4.17|<center>4.01</center>|5.13|\n",
    "|2.77|<center>3.65</center>|5.17|\n",
    "|4.15|<center>3.05</center>|3.18|\n",
    "|4.16|<center>3.15</center>|4.17|\n",
    "|3.90|<center>4.12</center>|3.16|\n",
    "\n",
    "¿Qué puede concluir de los resultados obtenidos?"
   ]
  },
  {
   "cell_type": "code",
   "execution_count": 3,
   "metadata": {
    "nbgrader": {
     "grade": false,
     "grade_id": "eje-sol",
     "locked": true,
     "schema_version": 3,
     "solution": false,
     "task": false
    }
   },
   "outputs": [],
   "source": [
    "# Implementa tu respuesta en esta celda\n",
    "\n"
   ]
  },
  {
   "cell_type": "markdown",
   "metadata": {
    "nbgrader": {
     "grade": false,
     "grade_id": "ej1-enun",
     "locked": true,
     "schema_version": 3,
     "solution": false,
     "task": false
    }
   },
   "source": [
    "c. (10%) Realice un modelo de regresión lineal simple para el precio de cada diamante teniendo en cuenta los carates de los diamantes, ponga su ecuación. Responda las siguientes preguntas: <br>\n",
    "\n",
    "- ¿Es cierta la hipótesis que afirma que la los carates no influyen en el valor de los diamantes?\n",
    "- Hallé el coeficiente de correlación.\n",
    "- ¿Qué puede decir de la homocedasticidad? Justifique y grafique. \n",
    "\n"
   ]
  },
  {
   "cell_type": "code",
   "execution_count": null,
   "metadata": {
    "nbgrader": {
     "grade": false,
     "grade_id": "ej1-sol",
     "locked": false,
     "schema_version": 3,
     "solution": true,
     "task": false
    },
    "nombre": "Ej1"
   },
   "outputs": [],
   "source": [
    "# Implementa tu respuesta en esta celda\n",
    "\n"
   ]
  },
  {
   "cell_type": "code",
   "execution_count": null,
   "metadata": {
    "nbgrader": {
     "grade": true,
     "grade_id": "ej1-test",
     "locked": true,
     "points": 1,
     "schema_version": 3,
     "solution": false,
     "task": false
    }
   },
   "outputs": [],
   "source": [
    "# Implementa tu respuesta en esta celda\n",
    "\n"
   ]
  },
  {
   "cell_type": "code",
   "execution_count": null,
   "metadata": {
    "nbgrader": {
     "grade": false,
     "grade_id": "ej2-data",
     "locked": true,
     "schema_version": 3,
     "solution": false,
     "task": false
    }
   },
   "outputs": [],
   "source": [
    "# Implementa tu respuesta en esta celda\n",
    "\n"
   ]
  },
  {
   "cell_type": "markdown",
   "metadata": {
    "nbgrader": {
     "grade": false,
     "grade_id": "ej2-task",
     "locked": true,
     "schema_version": 3,
     "solution": false,
     "task": false
    }
   },
   "source": [
    "## Ejercicio 2\n",
    "\n",
    "(30%) 30%) Teniendo en cuenta la base de datos contenida en taxis.cvs, donde se muestran los datos de 6433 carreras de taxis, con su fecha de recogida, de bajada de los pasajeros, el número de pasajeros, las distancias, las tarifas, las propinas, el método de pago, la zona de recogida y de bajada.  <br>"
   ]
  },
  {
   "cell_type": "markdown",
   "metadata": {
    "nbgrader": {
     "grade": false,
     "grade_id": "ej2-task",
     "locked": true,
     "schema_version": 3,
     "solution": false,
     "task": false
    }
   },
   "source": [
    "a. (15%) Realice un modelo de regresión lineal simple para el precio de cada carrera teniendo en cuenta el tiempo que esta se demoró en minutos, ponga su ecuación. Responda las siguientes preguntas:\n",
    "- ¿Es cierta la hipótesis que afirma que el tiempo no influye en el valor de la carrera?\n",
    "- Hallé el coeficiente de correlación.\n",
    "- ¿Qué puede decir de la homocedasticidad? Justifique y grafique.\n"
   ]
  },
  {
   "cell_type": "code",
   "execution_count": null,
   "metadata": {
    "nbgrader": {
     "grade": false,
     "grade_id": "ej2-sol",
     "locked": false,
     "schema_version": 3,
     "solution": true,
     "task": false
    },
    "nombre": "Ej2"
   },
   "outputs": [],
   "source": [
    "# Implementa tu respuesta en esta celda\n",
    "\n"
   ]
  },
  {
   "cell_type": "code",
   "execution_count": null,
   "metadata": {
    "nbgrader": {
     "grade": false,
     "grade_id": "ej2-sol",
     "locked": false,
     "schema_version": 3,
     "solution": true,
     "task": false
    },
    "nombre": "Ej2"
   },
   "outputs": [],
   "source": [
    "# Implementa tu respuesta en esta celda\n",
    "\n"
   ]
  },
  {
   "cell_type": "code",
   "execution_count": null,
   "metadata": {
    "nbgrader": {
     "grade": false,
     "grade_id": "ej2-sol",
     "locked": false,
     "schema_version": 3,
     "solution": true,
     "task": false
    },
    "nombre": "Ej2"
   },
   "outputs": [],
   "source": [
    "# Implementa tu respuesta en esta celda\n",
    "\n"
   ]
  },
  {
   "cell_type": "markdown",
   "metadata": {
    "nbgrader": {
     "grade": false,
     "grade_id": "ej2-task",
     "locked": true,
     "schema_version": 3,
     "solution": false,
     "task": false
    }
   },
   "source": [
    "b. (15%) Realice un modelo de regresión lineal simple para el precio de cada carrera teniendo en cuenta la distancia, ponga su ecuación. Responda las siguientes preguntas:\n",
    "- ¿Es cierta la hipótesis que afirma que la distancia influye en el valor de la carrera?\n",
    "- Hallé el coeficiente de correlación.\n",
    "- ¿Qué puede decir de la homocedasticidad? Justifique y grafique.\n"
   ]
  },
  {
   "cell_type": "code",
   "execution_count": null,
   "metadata": {
    "nbgrader": {
     "grade": false,
     "grade_id": "ej2-sol",
     "locked": false,
     "schema_version": 3,
     "solution": true,
     "task": false
    },
    "nombre": "Ej2"
   },
   "outputs": [],
   "source": [
    "# Implementa tu respuesta en esta celda\n",
    "\n"
   ]
  },
  {
   "cell_type": "code",
   "execution_count": null,
   "metadata": {
    "nbgrader": {
     "grade": false,
     "grade_id": "ej2-sol",
     "locked": false,
     "schema_version": 3,
     "solution": true,
     "task": false
    },
    "nombre": "Ej2"
   },
   "outputs": [],
   "source": [
    "# Implementa tu respuesta en esta celda\n",
    "\n"
   ]
  },
  {
   "cell_type": "code",
   "execution_count": null,
   "metadata": {
    "nbgrader": {
     "grade": false,
     "grade_id": "ej2-sol",
     "locked": false,
     "schema_version": 3,
     "solution": true,
     "task": false
    },
    "nombre": "Ej2"
   },
   "outputs": [],
   "source": [
    "# Implementa tu respuesta en esta celda\n",
    "\n"
   ]
  },
  {
   "cell_type": "markdown",
   "metadata": {
    "nbgrader": {
     "grade": false,
     "grade_id": "ej2-task",
     "locked": true,
     "schema_version": 3,
     "solution": false,
     "task": false
    }
   },
   "source": [
    "## Ejercicio 3\n",
    "\n",
    "(35%) De acuerdo con la base de datos de Boston.cvs, en la cual se muestran el valor promedio de 506 predios en $1000’s y las siguientes variables:\n",
    "\n",
    "|<center>Index</center>|<center>Meaning</center>|\n",
    "|-----------|-----------|\n",
    "|<center> 1. CRIM|<center>per capita crime rate by town</center>|\n",
    "|<center> 2. ZN|<center>proportion of residential land zoned for lots over 25,000 sq.ft.</center>|\n",
    "|<center> 3. INDUS|<center>proportion of non-retail business acres per town</center>|\n",
    "|<center> 4. CHAS|<center>Charles River dummy variable (= 1 if tract bounds river; 0 otherwise)</center>|\n",
    "|<center> 5. NOX|<center>nitric oxides concentration (parts per 10 million)</center>|\n",
    "|<center> 6. RM|<center>average number of rooms per dwelling</center>|\n",
    "|<center> 7. AGE|<center>proportion of owner-occupied units built prior to 1940</center>|\n",
    "|<center> 8. DIS|<center>weighted distances to five Boston employment centres</center>|\n",
    "|<center> 9. RAD|<center>index of accessibility to radial highways</center>|\n",
    "|<center> 10. TAX|<center>full-value property-tax rate per 10,000</center>|\n",
    "| 11. PTRATIO|<center>pupil-teacher ratio by town</center>|\n",
    "|<center> 12. B|<center>1000(Bk - 0.63)^2 where Bk is the proportion of blacks by town</center>|\n",
    "|<center> 13. LSTAT|<center>% lower status of the population</center>|\n",
    "|<center> 14. MEDV|<center>Median value of owner-occupied homes in $1000's</center>|"
   ]
  },
  {
   "cell_type": "markdown",
   "metadata": {
    "nbgrader": {
     "grade": false,
     "grade_id": "ej2-task",
     "locked": true,
     "schema_version": 3,
     "solution": false,
     "task": false
    }
   },
   "source": [
    "b. (10%)  Determine las caracteristicas mas influyentes en el precio de las viviendas de Boston. Realice los analisis que considere relevantes como analisis de correlación o graficas de donde se interpreten los resultados."
   ]
  },
  {
   "cell_type": "code",
   "execution_count": null,
   "metadata": {
    "nbgrader": {
     "grade": false,
     "grade_id": "ej2-sol",
     "locked": false,
     "schema_version": 3,
     "solution": true,
     "task": false
    },
    "nombre": "Ej2"
   },
   "outputs": [],
   "source": [
    "# Implementa tu respuesta en esta celda\n",
    "\n"
   ]
  },
  {
   "cell_type": "markdown",
   "metadata": {
    "nbgrader": {
     "grade": false,
     "grade_id": "ej2-task",
     "locked": true,
     "schema_version": 3,
     "solution": false,
     "task": false
    }
   },
   "source": [
    "a. (25%) Con el conjunto de datos suministrado de Boston, realizen un modelo de regresion múltiple que prediga el precio medio de las viviendas en diferentes áreas en función de diversas características. Si considera necesario experimentar con diferentes configuraciones adelante."
   ]
  },
  {
   "cell_type": "code",
   "execution_count": null,
   "metadata": {
    "nbgrader": {
     "grade": false,
     "grade_id": "ej2-sol",
     "locked": false,
     "schema_version": 3,
     "solution": true,
     "task": false
    },
    "nombre": "Ej2"
   },
   "outputs": [],
   "source": [
    "# Implementa tu respuesta en esta celda\n",
    "\n"
   ]
  },
  {
   "cell_type": "markdown",
   "metadata": {
    "nbgrader": {
     "grade": false,
     "grade_id": "creds",
     "locked": true,
     "schema_version": 3,
     "solution": false,
     "task": false
    }
   },
   "source": [
    "## Créditos\n",
    "\n",
    "__Autores__: Laura Valentina Diaz Pinzon\n",
    "\n",
    "__Actualizado por__: Alejandra Tabares Pozos. \n",
    "\n",
    "__Fecha última actualización__: 01/09/2023"
   ]
  }
 ],
 "metadata": {
  "celltoolbar": "Create Assignment",
  "kernelspec": {
   "display_name": "Python 3 (ipykernel)",
   "language": "python",
   "name": "python3"
  },
  "language_info": {
   "codemirror_mode": {
    "name": "ipython",
    "version": 3
   },
   "file_extension": ".py",
   "mimetype": "text/x-python",
   "name": "python",
   "nbconvert_exporter": "python",
   "pygments_lexer": "ipython3",
   "version": "3.11.4"
  }
 },
 "nbformat": 4,
 "nbformat_minor": 2
}

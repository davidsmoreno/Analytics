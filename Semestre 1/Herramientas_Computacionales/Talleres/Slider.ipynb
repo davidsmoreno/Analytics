{
 "cells": [
  {
   "cell_type": "code",
   "execution_count": null,
   "metadata": {},
   "outputs": [
    {
     "data": {
      "application/vnd.jupyter.widget-view+json": {
       "model_id": "52741b44969a423ea733f8fe66f7fa93",
       "version_major": 2,
       "version_minor": 0
      },
      "text/plain": [
       "IntSlider(value=1, max=10, min=1)"
      ]
     },
     "metadata": {},
     "output_type": "display_data"
    },
    {
     "data": {
      "application/vnd.jupyter.widget-view+json": {
       "model_id": "2ef503c8332443338966a7c49494258a",
       "version_major": 2,
       "version_minor": 0
      },
      "text/plain": [
       "Output()"
      ]
     },
     "metadata": {},
     "output_type": "display_data"
    }
   ],
   "source": [
    "import ipywidgets as wd\n",
    "from IPython.display import display\n",
    "\n",
    "slider = wd.IntSlider(min=1, max=10, step=1)\n",
    "out = wd.Output()\n",
    "\n",
    "def funcion_a_correr_tras_cambio(info_widget):\n",
    "    print(info_widget)\n",
    "    out.clear_output()\n",
    "    with out:\n",
    "        print(\"El valor del slider es:\", info_widget['new'])\n",
    "\n",
    "slider.observe(funcion_a_correr_tras_cambio, names='value')\n",
    "display(slider, out)\n"
   ]
  }
 ],
 "metadata": {
  "kernelspec": {
   "display_name": "MachineLearning",
   "language": "python",
   "name": "python3"
  },
  "language_info": {
   "codemirror_mode": {
    "name": "ipython",
    "version": 3
   },
   "file_extension": ".py",
   "mimetype": "text/x-python",
   "name": "python",
   "nbconvert_exporter": "python",
   "pygments_lexer": "ipython3",
   "version": "3.11.5"
  },
  "orig_nbformat": 4
 },
 "nbformat": 4,
 "nbformat_minor": 2
}

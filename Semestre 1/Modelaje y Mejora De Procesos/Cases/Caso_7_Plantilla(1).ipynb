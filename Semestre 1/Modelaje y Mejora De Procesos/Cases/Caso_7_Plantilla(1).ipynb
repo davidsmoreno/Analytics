{
  "cells": [
    {
      "cell_type": "markdown",
      "id": "RaQtno4Y8J8v",
      "metadata": {
        "deletable": false,
        "editable": false,
        "id": "RaQtno4Y8J8v",
        "nbgrader": {
          "cell_type": "markdown",
          "checksum": "e86d6f95156500112a6e6b950743b082",
          "grade": false,
          "grade_id": "cell-e8fa9269aba80c31",
          "locked": true,
          "schema_version": 3,
          "solution": false,
          "task": false
        },
        "tags": []
      },
      "source": [
        "# Caso 7: Programación de turnos - Implementación\n",
        "\n",
        "---\n",
        "## Maestría en Inteligencia Analítica para la Toma de Decisiones\n",
        "\n",
        "\n",
        "* **Profesor**:\n",
        "    * *Andrés Medaglia*\n",
        "* **Asistentes**\n",
        "    * *Ariel Rojas*\n",
        "    * *Carlos Arroyo*"
      ]
    },
    {
      "cell_type": "markdown",
      "id": "cpwORocC8J8z",
      "metadata": {
        "deletable": false,
        "editable": false,
        "id": "cpwORocC8J8z",
        "nbgrader": {
          "cell_type": "markdown",
          "checksum": "c01705c196533c33697b5dffb8129dae",
          "grade": false,
          "grade_id": "cell-a23137f7cf11db91",
          "locked": true,
          "schema_version": 3,
          "solution": false,
          "task": false
        }
      },
      "source": [
        "## Instrucciones generales\n",
        "\n",
        "El primer paso antes de resolver este laboratorio es leer y entender el **enunciado del caso**. Una vez tengas claro el caso, te explicamos la estructura de este laboratorio (los demás laboratorios siguen una estrucutra similar).\n",
        "\n",
        "Este laboratorio contiene:\n",
        "* **Formulación**: Un breve resumen del modelo con notación matemática y descripción de sus componentes\n",
        "* **Importación de librerías**\n",
        "* **Creación de parámetros**\n",
        "* **Modelado - Escenario 1**\n",
        "* **Reporte de Resultados - Escenario 1**\n",
        "* **Modelado - Escenario 2**\n",
        "* **Reporte de Resultados - Escenario 2**\n",
        "\n",
        "Este tipo de actividades se evaluará sobre un total de 100 puntos. Las celdas calificables se distinguen por tener la instrucción `# your code here`. Antes de estas celdas  encontrarás instrucciones y consejos para resolver las preguntas, también el puntaje que le corresponde.\n",
        "\n",
        "¡Éxitos!"
      ]
    },
    {
      "cell_type": "markdown",
      "id": "sUcay20B8J8z",
      "metadata": {
        "deletable": false,
        "editable": false,
        "id": "sUcay20B8J8z",
        "nbgrader": {
          "cell_type": "markdown",
          "checksum": "caa332f0457e9f480ca09f06501ee16e",
          "grade": false,
          "grade_id": "cell-9fbd2d9c824c07a3",
          "locked": true,
          "schema_version": 3,
          "solution": false,
          "task": false
        },
        "tags": []
      },
      "source": [
        "## Formulación\n",
        "---\n",
        "\n",
        "Te presentamos la formulación del caso de la semana de forma resumida. Te recomendamos revisar la formulación una vez hayas leído el enunciado del caso. Es bueno que te familiarices con los elementos de la formulación antes de iniciar la implementación.\n",
        "\n",
        "### Conjuntos y Parámetros\n",
        ">#### **Conjuntos**\n",
        ">* $T$: conjunto de turnos\n",
        ">* $F$: conjunto de franjas horarias\n",
        "\n",
        ">#### **Parámetros**\n",
        ">* $c_t$: costo diario de contratar un domiciliario de turno $t\\in T$\n",
        ">* $d_f$: cantidad mínima de domiciliarios requeridos en la franja $f\\in F$\n",
        ">* $a_{ft}= \\begin{cases}1, & \\text{el turno } t\\in T \\text{ cubre la franja } f\\in F \\\\ 0, & \\text{de lo contrario}\\end{cases} $\n",
        "\n",
        "### Variables de Decisión\n",
        ">* $x_{t}$: cantidad de domiciliarios del turno $t\\in T$ a contratar\n",
        "\n",
        "### Restricciones\n",
        "> *# Para desarrollo del estudiante*\n",
        ">> $\\sum_{t \\in T}a_{ft}*x_{t}>=d_f $ para todo $f \\in F$\n",
        "\n",
        "> Naturaleza de las variables\n",
        ">> $x_{t} \\in Z^+$ \n",
        "\n",
        "### Función Objetivo\n",
        "> *# Para desarrollo del estudiante*\n",
        ">> Min $\\sum c_t x_t$"
      ]
    },
    {
      "cell_type": "markdown",
      "id": "0baz38iD8J80",
      "metadata": {
        "deletable": false,
        "editable": false,
        "id": "0baz38iD8J80",
        "nbgrader": {
          "cell_type": "markdown",
          "checksum": "86a914034e4b278811be4bce0ea8f091",
          "grade": false,
          "grade_id": "cell-db31881de45215f2",
          "locked": true,
          "schema_version": 3,
          "solution": false,
          "task": false
        },
        "tags": []
      },
      "source": [
        "## Importación de librerías\n",
        "---"
      ]
    },
    {
      "cell_type": "code",
      "execution_count": 47,
      "id": "fv6hFI7y8J81",
      "metadata": {
        "deletable": false,
        "editable": false,
        "id": "fv6hFI7y8J81",
        "nbgrader": {
          "cell_type": "code",
          "checksum": "1e183c7dce7981d45cdc92826663e532",
          "grade": false,
          "grade_id": "cell-8e960069c708e13f",
          "locked": true,
          "schema_version": 3,
          "solution": false,
          "task": false
        },
        "tags": []
      },
      "outputs": [],
      "source": [
        "import pulp as lp\n",
        "import pandas as pd\n",
        "from datetime import datetime"
      ]
    },
    {
      "cell_type": "markdown",
      "id": "bkQWT9le8J82",
      "metadata": {
        "deletable": false,
        "editable": false,
        "id": "bkQWT9le8J82",
        "nbgrader": {
          "cell_type": "markdown",
          "checksum": "a12d0a18eb694704c51ec95412f33912",
          "grade": false,
          "grade_id": "cell-685b1f71ce44c0b0",
          "locked": true,
          "schema_version": 3,
          "solution": false,
          "task": false
        },
        "tags": []
      },
      "source": [
        "## Creación de Parámetros\n",
        "---"
      ]
    },
    {
      "cell_type": "markdown",
      "id": "WlTR9hNY8J83",
      "metadata": {
        "deletable": false,
        "editable": false,
        "id": "WlTR9hNY8J83",
        "nbgrader": {
          "cell_type": "markdown",
          "checksum": "da774daba9fef790ed32819d61abc547",
          "grade": false,
          "grade_id": "cell-017532052c21f3ca",
          "locked": true,
          "schema_version": 3,
          "solution": false,
          "task": false
        }
      },
      "source": [
        "**Importación de parámetros desde archivo local**"
      ]
    },
    {
      "cell_type": "code",
      "execution_count": 48,
      "id": "dJ2FvEVf8J83",
      "metadata": {
        "deletable": false,
        "editable": false,
        "id": "dJ2FvEVf8J83",
        "nbgrader": {
          "cell_type": "code",
          "checksum": "128f3bbb561e53142a42521f415534bf",
          "grade": false,
          "grade_id": "cell-eff61acd3fd7c375",
          "locked": true,
          "schema_version": 3,
          "solution": false,
          "task": false
        }
      },
      "outputs": [],
      "source": [
        "archivo = \"Soporte Caso 7.xlsx\"\n",
        "turnos_esc_1 = pd.read_excel(archivo, sheet_name=\"Turnos Escenario 1\")\n",
        "turnos_esc_2 = pd.read_excel(archivo, sheet_name=\"Turnos Escenario 2\")\n",
        "costos_esc_1 = pd.read_excel(archivo, sheet_name=\"Costos Escenario 1\")\n",
        "costos_esc_2 = pd.read_excel(archivo, sheet_name=\"Costos Escenario 2\")"
      ]
    },
    {
      "cell_type": "markdown",
      "id": "fDr-YnHc8J84",
      "metadata": {
        "deletable": false,
        "editable": false,
        "id": "fDr-YnHc8J84",
        "nbgrader": {
          "cell_type": "markdown",
          "checksum": "a40c7610a44a2776de47b92d4428673b",
          "grade": false,
          "grade_id": "cell-139d636ca944c8b5",
          "locked": true,
          "schema_version": 3,
          "solution": false,
          "task": false
        }
      },
      "source": [
        "### Conjuntos\n",
        "\n",
        "Para crear los conjuntos utilizamos algunos de los parámetros importados, recomendados mucho que explores estos parámetros luego de la importación."
      ]
    },
    {
      "cell_type": "code",
      "execution_count": 49,
      "id": "zhIHC07l8J84",
      "metadata": {
        "deletable": false,
        "editable": false,
        "id": "zhIHC07l8J84",
        "nbgrader": {
          "cell_type": "code",
          "checksum": "7ec6946356b35b0cafe70dd871b569ad",
          "grade": false,
          "grade_id": "cell-30e9a09f71f5e2c9",
          "locked": true,
          "schema_version": 3,
          "solution": false,
          "task": false
        }
      },
      "outputs": [],
      "source": [
        "# Conjunto turnos en el escenario 1\n",
        "Turnos_1 = list(turnos_esc_1.columns[2:])\n",
        "\n",
        "# Conjunto turnos en el escenario 2\n",
        "Turnos_2 = list(turnos_esc_2.columns[2:])\n",
        "\n",
        "# Conjunto de franjas horarias\n",
        "Franjas = list(turnos_esc_1.Franjas)"
      ]
    },
    {
      "cell_type": "markdown",
      "id": "lPxqWh-k8J84",
      "metadata": {
        "deletable": false,
        "editable": false,
        "id": "lPxqWh-k8J84",
        "nbgrader": {
          "cell_type": "markdown",
          "checksum": "9c43fb85dd2416adfb3f6372859c4b04",
          "grade": false,
          "grade_id": "cell-1f708cd5f28d33b1",
          "locked": true,
          "schema_version": 3,
          "solution": false,
          "task": false
        }
      },
      "source": [
        "### Parámetros"
      ]
    },
    {
      "cell_type": "code",
      "execution_count": 50,
      "id": "MZT3UcvV8J84",
      "metadata": {
        "deletable": false,
        "editable": false,
        "id": "MZT3UcvV8J84",
        "nbgrader": {
          "cell_type": "code",
          "checksum": "3d47329758c2ca7b353f9012bc18059d",
          "grade": false,
          "grade_id": "cell-b699eb7aa9e74ef9",
          "locked": true,
          "schema_version": 3,
          "solution": false,
          "task": false
        },
        "tags": []
      },
      "outputs": [],
      "source": [
        "# Parámetros indexados en turnos\n",
        "costos_1 = {row[0]: row[1] for _, row in costos_esc_1.iterrows()}\n",
        "costos_2 = {row[0]: row[1] for _, row in costos_esc_2.iterrows()}\n",
        "\n",
        "# Parámetros indexados en franjas horarias\n",
        "demandas = {row[0]: row[1] for _, row in turnos_esc_1.iterrows()}\n",
        "\n",
        "# Parámetros indexados en (franja, turno)\n",
        "cubrimiento_1 = {}\n",
        "for _, row in turnos_esc_1.iterrows():\n",
        "    f = row[0]\n",
        "    for t in Turnos_1:\n",
        "        cubrimiento_1[f, t] = row[t]\n",
        "\n",
        "cubrimiento_2 = {}\n",
        "for _, row in turnos_esc_2.iterrows():\n",
        "    f = row[0]\n",
        "    for t in Turnos_2:\n",
        "        cubrimiento_2[f, t] = row[t]"
      ]
    },
    {
      "cell_type": "markdown",
      "id": "lM2YFSG18J85",
      "metadata": {
        "deletable": false,
        "editable": false,
        "id": "lM2YFSG18J85",
        "nbgrader": {
          "cell_type": "markdown",
          "checksum": "e08d2b893811145cf7164f4a9b9d07e2",
          "grade": false,
          "grade_id": "cell-587d11a8eb6313b7",
          "locked": true,
          "schema_version": 3,
          "solution": false,
          "task": false
        }
      },
      "source": [
        "**Celda de Prueba (0 puntos)**\n",
        "\n",
        "Es una buena práctica imprimir algunos objetos que contienen los parámetros en la consola luego de crearlos. De esta forma puedes corregir errores y familiarizarte con las estrucutras de datos que se van a utilizar. Puedes hacer estas pruebas en la celda a continuación.\n",
        "\n",
        "* **Esta celda no es calificable**"
      ]
    },
    {
      "cell_type": "code",
      "execution_count": 51,
      "id": "xttratvc8J85",
      "metadata": {
        "id": "xttratvc8J85"
      },
      "outputs": [
        {
          "data": {
            "text/plain": [
              "['11:00am - 11:30am',\n",
              " '11:30am - 12:00pm',\n",
              " '12:00pm - 12:30pm',\n",
              " '12:30pm - 1:00pm',\n",
              " '1:00pm - 1:30pm',\n",
              " '1:30pm - 2:00pm',\n",
              " '2:00pm - 2:30pm',\n",
              " '2:30pm - 3:00pm',\n",
              " '3:00pm - 3:30pm',\n",
              " '3:30pm - 4:00pm',\n",
              " '4:00pm - 4:30pm',\n",
              " '4:30pm - 5:00pm',\n",
              " '5:00pm - 5:30pm',\n",
              " '5:30pm - 6:00pm',\n",
              " '6:00pm - 6:30pm',\n",
              " '6:30pm - 7:00pm',\n",
              " '7:00pm - 7:30pm',\n",
              " '7:30pm - 8:00pm',\n",
              " '8:00pm - 8:30pm',\n",
              " '8:30pm - 9:00pm',\n",
              " '9:00pm - 9:30pm',\n",
              " '9:30pm - 10:00pm',\n",
              " '10:00pm - 10:30pm',\n",
              " '10:30pm - 11:00pm']"
            ]
          },
          "execution_count": 51,
          "metadata": {},
          "output_type": "execute_result"
        }
      ],
      "source": [
        "# Aquí puedes explorar los parámetros\n",
        "cubrimiento_1\n",
        "Turnos_1\n",
        "Franjas\n"
      ]
    },
    {
      "cell_type": "markdown",
      "id": "GgIJrTz38J85",
      "metadata": {
        "deletable": false,
        "editable": false,
        "id": "GgIJrTz38J85",
        "nbgrader": {
          "cell_type": "markdown",
          "checksum": "22bc04fcb29c1468ea6fe58e0f9ae6b0",
          "grade": false,
          "grade_id": "cell-6a52rae7e4899ef1",
          "locked": true,
          "schema_version": 3,
          "solution": false,
          "task": false
        },
        "tags": []
      },
      "source": [
        "## Modelamiento - Escenario 1\n",
        "---\n",
        "Primero, vamos a explorar el problema desde el primer escenario. Es **muy importante** que utilices los parámetros que corresponden a este escenario durante la creación del modelo."
      ]
    },
    {
      "cell_type": "markdown",
      "id": "ZZQt-Il38J85",
      "metadata": {
        "deletable": false,
        "editable": false,
        "id": "ZZQt-Il38J85",
        "nbgrader": {
          "cell_type": "markdown",
          "checksum": "42b799f28f145c3fced257e6d31ff8a6",
          "grade": false,
          "grade_id": "cell-ebeqd9c7c932a295",
          "locked": true,
          "schema_version": 3,
          "solution": false,
          "task": false
        }
      },
      "source": [
        "### Declaración del modelo"
      ]
    },
    {
      "cell_type": "markdown",
      "id": "tGFjVeW28J86",
      "metadata": {
        "deletable": false,
        "editable": false,
        "id": "tGFjVeW28J86",
        "nbgrader": {
          "cell_type": "markdown",
          "checksum": "9ed46e28d8cdf54733ee5fb9a99a2bca",
          "grade": false,
          "grade_id": "cell-1458de1b74d87fb4",
          "locked": true,
          "schema_version": 3,
          "solution": false,
          "task": false
        }
      },
      "source": [
        "**Pregunta 1**\n",
        "* Crea un objeto modelo en PuLP llamado `problema`"
      ]
    },
    {
      "cell_type": "code",
      "execution_count": 52,
      "id": "A7MOrzEV8J86",
      "metadata": {
        "deletable": false,
        "id": "A7MOrzEV8J86",
        "nbgrader": {
          "cell_type": "code",
          "checksum": "93d8ddcfede8e7d1696dfc90ff2e2bad",
          "grade": false,
          "grade_id": "cell-116db08f23f549da",
          "locked": false,
          "schema_version": 3,
          "solution": true,
          "task": false
        }
      },
      "outputs": [],
      "source": [
        "# your code here\n",
        "problema=lp.LpProblem(\"Caso_7\",lp.LpMinimize)"
      ]
    },
    {
      "cell_type": "code",
      "execution_count": 8,
      "id": "tPcWaxis8J86",
      "metadata": {
        "deletable": false,
        "editable": false,
        "id": "tPcWaxis8J86",
        "nbgrader": {
          "cell_type": "code",
          "checksum": "44522313cd668ddbd789621afee0743d",
          "grade": true,
          "grade_id": "cell-9466bada30deeca6",
          "locked": true,
          "points": 2,
          "schema_version": 3,
          "solution": false,
          "task": false
        }
      },
      "outputs": [],
      "source": [
        "# Esta celda esta reservada para uso del equipo docente"
      ]
    },
    {
      "cell_type": "code",
      "execution_count": 9,
      "id": "_zja3MEm8J86",
      "metadata": {
        "deletable": false,
        "editable": false,
        "id": "_zja3MEm8J86",
        "nbgrader": {
          "cell_type": "code",
          "checksum": "0746c167a2865ef5fec7c2190cb13ffc",
          "grade": true,
          "grade_id": "cell-6941d50f0e1c33ee",
          "locked": true,
          "points": 0,
          "schema_version": 3,
          "solution": false,
          "task": false
        }
      },
      "outputs": [],
      "source": [
        "# Esta celda esta reservada para uso del equipo docente"
      ]
    },
    {
      "cell_type": "markdown",
      "id": "v36XCpIj8J87",
      "metadata": {
        "deletable": false,
        "editable": false,
        "id": "v36XCpIj8J87",
        "nbgrader": {
          "cell_type": "markdown",
          "checksum": "0fd7a5b40cfa4e11b622c910cdbe158c",
          "grade": false,
          "grade_id": "cell-031e2c76bf498b03",
          "locked": true,
          "schema_version": 3,
          "solution": false,
          "task": false
        }
      },
      "source": [
        "### Variables de Decisión\n",
        "\n",
        "> $x_{t}$: cantidad de domiciliarios del turno $t\\in T$ a contratar\n",
        ">> `# Para desarrollo del estudiante`"
      ]
    },
    {
      "cell_type": "markdown",
      "id": "nlBYEljs8J87",
      "metadata": {
        "deletable": false,
        "editable": false,
        "id": "nlBYEljs8J87",
        "nbgrader": {
          "cell_type": "markdown",
          "checksum": "957805f369b69d8286107045da0b8bfd",
          "grade": false,
          "grade_id": "cell-43175c8cafca9ba7",
          "locked": true,
          "schema_version": 3,
          "solution": false,
          "task": false
        }
      },
      "source": [
        "**Pregunta 2**\n",
        "* Crea las variables del modelo: `x`, usando el método `lp.LpVariable.dicts()`\n",
        "* Especifica el nombre de la variable como `'contratar'` con el argumento `name`\n",
        "* Especifica sus índices con el argumento `indexs`\n",
        "* Especifica que el límite inferior de la variable es 0\n",
        "* Especifica su naturaleza con el argumento `cat`"
      ]
    },
    {
      "cell_type": "code",
      "execution_count": 53,
      "id": "EjPlJpC48J87",
      "metadata": {
        "deletable": false,
        "id": "EjPlJpC48J87",
        "nbgrader": {
          "cell_type": "code",
          "checksum": "22a06b1c9742b6df5568ac9682f718ea",
          "grade": false,
          "grade_id": "cell-e6ad5a30c90b9ab6",
          "locked": false,
          "schema_version": 3,
          "solution": true,
          "task": false
        }
      },
      "outputs": [],
      "source": [
        "# your code here\n",
        "x=lp.LpVariable.dicts(\"x\",(Turnos_1),lowBound=0,cat=\"Integer\")"
      ]
    },
    {
      "cell_type": "code",
      "execution_count": 11,
      "id": "bf467a72",
      "metadata": {},
      "outputs": [
        {
          "data": {
            "text/plain": [
              "{'Turno 1': x_Turno_1,\n",
              " 'Turno 2': x_Turno_2,\n",
              " 'Turno 3': x_Turno_3,\n",
              " 'Turno 4': x_Turno_4,\n",
              " 'Turno 5': x_Turno_5}"
            ]
          },
          "execution_count": 11,
          "metadata": {},
          "output_type": "execute_result"
        }
      ],
      "source": [
        "x"
      ]
    },
    {
      "cell_type": "code",
      "execution_count": 12,
      "id": "IvFVuOKf8J87",
      "metadata": {
        "deletable": false,
        "editable": false,
        "id": "IvFVuOKf8J87",
        "nbgrader": {
          "cell_type": "code",
          "checksum": "b0f28723635da2504d7c5bc811cbc286",
          "grade": true,
          "grade_id": "cell-9466bada00deeca6",
          "locked": true,
          "points": 6,
          "schema_version": 3,
          "solution": false,
          "task": false
        }
      },
      "outputs": [],
      "source": [
        "# Esta celda esta reservada para uso del equipo docente"
      ]
    },
    {
      "cell_type": "code",
      "execution_count": 13,
      "id": "w-H-M6Dy8J88",
      "metadata": {
        "deletable": false,
        "editable": false,
        "id": "w-H-M6Dy8J88",
        "nbgrader": {
          "cell_type": "code",
          "checksum": "b10e85873159ae2a156ea66224afe12f",
          "grade": true,
          "grade_id": "cell-8fcee6b85c4c770f",
          "locked": true,
          "points": 0,
          "schema_version": 3,
          "solution": false,
          "task": false
        }
      },
      "outputs": [],
      "source": [
        "# Esta celda esta reservada para uso del equipo docente"
      ]
    },
    {
      "cell_type": "markdown",
      "id": "8yQ5ofV38J88",
      "metadata": {
        "deletable": false,
        "editable": false,
        "id": "8yQ5ofV38J88",
        "nbgrader": {
          "cell_type": "markdown",
          "checksum": "fe68592ec785eaac5dd436d4bfeff905",
          "grade": false,
          "grade_id": "cell-d60527e6a75757d3",
          "locked": true,
          "schema_version": 3,
          "solution": false,
          "task": false
        }
      },
      "source": [
        "**Pregunta 3**\n",
        "* Crea la función objetivo y agrégala al modelo `problema`"
      ]
    },
    {
      "cell_type": "code",
      "execution_count": 54,
      "id": "oWQbkVQh8J88",
      "metadata": {
        "deletable": false,
        "id": "oWQbkVQh8J88",
        "nbgrader": {
          "cell_type": "code",
          "checksum": "a03bd297002f66bdaf5d2c2333d3aa82",
          "grade": false,
          "grade_id": "cell-c906d3fffb8469dc",
          "locked": false,
          "schema_version": 3,
          "solution": true,
          "task": false
        }
      },
      "outputs": [],
      "source": [
        "# your code here\n",
        "problema+=lp.lpSum([costos_1[t]*x[t] for t in Turnos_1])"
      ]
    },
    {
      "cell_type": "code",
      "execution_count": 15,
      "id": "ippBQ6-E8J88",
      "metadata": {
        "deletable": false,
        "editable": false,
        "id": "ippBQ6-E8J88",
        "nbgrader": {
          "cell_type": "code",
          "checksum": "5b8b42ff3a920e46c88d956f303e82e6",
          "grade": true,
          "grade_id": "cell-558f7fb2a608f774",
          "locked": true,
          "points": 10,
          "schema_version": 3,
          "solution": false,
          "task": false
        }
      },
      "outputs": [],
      "source": [
        "# Esta celda esta reservada para uso del equipo docente\n"
      ]
    },
    {
      "cell_type": "markdown",
      "id": "b3nFFaRS8J88",
      "metadata": {
        "deletable": false,
        "editable": false,
        "id": "b3nFFaRS8J88",
        "nbgrader": {
          "cell_type": "markdown",
          "checksum": "bd5f5013e02fa20793ab0f213df57b39",
          "grade": false,
          "grade_id": "cell-d6fa9f15b71fb4ce",
          "locked": true,
          "schema_version": 3,
          "solution": false,
          "task": false
        }
      },
      "source": [
        "### Restricciones\n",
        "    \n",
        "> **Advertencia**: `pulp` no permite sobreescribir restricciones, entonces, si ya creaste una restricción y quieres crearla de nuevo para corregir algo, asegúrate de volver a crear el modelo `problema` desde el principio. (Nosotros haremos esto antes de calificar, no te preocupes)"
      ]
    },
    {
      "cell_type": "markdown",
      "id": "NB8QruAO8J88",
      "metadata": {
        "deletable": false,
        "editable": false,
        "id": "NB8QruAO8J88",
        "nbgrader": {
          "cell_type": "markdown",
          "checksum": "a7a84d1da9dd10d497e91306fcccaa87",
          "grade": false,
          "grade_id": "cell-1443e690eb82387a",
          "locked": true,
          "schema_version": 3,
          "solution": false,
          "task": false
        }
      },
      "source": [
        "**Pregunta 4**\n",
        "\n",
        "* Crea el **único** grupo de restricciones del modelo, asígnale el nombre `'R1_'+str(<indice_del_para_todo>)` y añádela al modelo\n",
        "\n",
        "> *# Para desarrollo del estudiante*\n",
        ">> `# Para desarrollo del estudiante`\n",
        "\n",
        "> **Nota:** ten en cuenta que el parámetro $d_f$ se define como la cantidad **mínima** de domiciliarios requeridos en la franja $f\\in F$."
      ]
    },
    {
      "cell_type": "code",
      "execution_count": 56,
      "id": "0f48800d",
      "metadata": {},
      "outputs": [],
      "source": [
        "# Assuming you already have the 'problema' defined\n",
        "# Indexed parameters cubrimiento_1\n",
        "for f in Franjas:\n",
        "    problema += lp.lpSum([x[t] * cubrimiento_1[f, t] for t in Turnos_1]) >= demandas[f]\n"
      ]
    },
    {
      "cell_type": "code",
      "execution_count": null,
      "id": "a67b2a01",
      "metadata": {},
      "outputs": [],
      "source": []
    },
    {
      "cell_type": "code",
      "execution_count": 17,
      "id": "uYEwB3de8J89",
      "metadata": {
        "deletable": false,
        "editable": false,
        "id": "uYEwB3de8J89",
        "nbgrader": {
          "cell_type": "code",
          "checksum": "c34b860b2cfccebd2db972c1c2fca949",
          "grade": true,
          "grade_id": "cell-9f48881e304b6280",
          "locked": true,
          "points": 15,
          "schema_version": 3,
          "solution": false,
          "task": false
        }
      },
      "outputs": [],
      "source": [
        "# Esta celda esta reservada para uso del equipo docente"
      ]
    },
    {
      "cell_type": "markdown",
      "id": "R7QeF03-8J89",
      "metadata": {
        "deletable": false,
        "editable": false,
        "id": "R7QeF03-8J89",
        "nbgrader": {
          "cell_type": "markdown",
          "checksum": "fad770b0a16100dd8c56180c44efc287",
          "grade": false,
          "grade_id": "cell-a13c54ba3cb00c3b",
          "locked": true,
          "schema_version": 3,
          "solution": false,
          "task": false
        }
      },
      "source": [
        "### Invocar el optimizador"
      ]
    },
    {
      "cell_type": "code",
      "execution_count": 57,
      "id": "UIHmfbAQ8J89",
      "metadata": {
        "deletable": false,
        "editable": false,
        "id": "UIHmfbAQ8J89",
        "nbgrader": {
          "cell_type": "code",
          "checksum": "5bc29a6063cd1c2e5d072f7c9e680b10",
          "grade": false,
          "grade_id": "cell-b923c09dcdd338ad",
          "locked": true,
          "schema_version": 3,
          "solution": false,
          "task": false
        }
      },
      "outputs": [
        {
          "name": "stdout",
          "output_type": "stream",
          "text": [
            "Welcome to the CBC MILP Solver \n",
            "Version: 2.10.3 \n",
            "Build Date: Dec 15 2019 \n",
            "\n",
            "command line - /Users/davidmoreno/anaconda3/lib/python3.11/site-packages/pulp/solverdir/cbc/osx/64/cbc /var/folders/yd/vq4l_9kd7q71gkrqg9qyp_9m0000gn/T/36d32c56e90042ce9771bf160421d267-pulp.mps timeMode elapsed branch printingOptions all solution /var/folders/yd/vq4l_9kd7q71gkrqg9qyp_9m0000gn/T/36d32c56e90042ce9771bf160421d267-pulp.sol (default strategy 1)\n",
            "At line 2 NAME          MODEL\n",
            "At line 3 ROWS\n",
            "At line 29 COLUMNS\n",
            "At line 115 RHS\n",
            "At line 140 BOUNDS\n",
            "At line 146 ENDATA\n",
            "Problem MODEL has 24 rows, 5 columns and 70 elements\n",
            "Coin0008I MODEL read with 0 errors\n",
            "Option for timeMode changed from cpu to elapsed\n",
            "Continuous objective value is 826800 - 0.00 seconds\n",
            "Cgl0003I 0 fixed, 5 tightened bounds, 0 strengthened rows, 0 substitutions\n",
            "Cgl0004I processed model has 6 rows, 5 columns (5 integer (0 of which binary)) and 19 elements\n",
            "Cutoff increment increased from 1e-05 to 63600\n",
            "Cbc0012I Integer solution of 826800 found by greedy cover after 0 iterations and 0 nodes (0.02 seconds)\n",
            "Cbc0001I Search completed - best objective 826800, took 0 iterations and 0 nodes (0.02 seconds)\n",
            "Cbc0035I Maximum depth 0, 0 variables fixed on reduced cost\n",
            "Cuts at root node changed objective from 826800 to 826800\n",
            "Probing was tried 0 times and created 0 cuts of which 0 were active after adding rounds of cuts (0.000 seconds)\n",
            "Gomory was tried 0 times and created 0 cuts of which 0 were active after adding rounds of cuts (0.000 seconds)\n",
            "Knapsack was tried 0 times and created 0 cuts of which 0 were active after adding rounds of cuts (0.000 seconds)\n",
            "Clique was tried 0 times and created 0 cuts of which 0 were active after adding rounds of cuts (0.000 seconds)\n",
            "MixedIntegerRounding2 was tried 0 times and created 0 cuts of which 0 were active after adding rounds of cuts (0.000 seconds)\n",
            "FlowCover was tried 0 times and created 0 cuts of which 0 were active after adding rounds of cuts (0.000 seconds)\n",
            "TwoMirCuts was tried 0 times and created 0 cuts of which 0 were active after adding rounds of cuts (0.000 seconds)\n",
            "ZeroHalf was tried 0 times and created 0 cuts of which 0 were active after adding rounds of cuts (0.000 seconds)\n",
            "\n",
            "Result - Optimal solution found\n",
            "\n",
            "Objective value:                826800.00000000\n",
            "Enumerated nodes:               0\n",
            "Total iterations:               0\n",
            "Time (CPU seconds):             0.00\n",
            "Time (Wallclock seconds):       0.02\n",
            "\n",
            "Option for printingOptions changed from normal to all\n",
            "Total time (CPU seconds):       0.00   (Wallclock seconds):       0.03\n",
            "\n",
            "Tiempo transcurrido: 0:00:00.414681\n"
          ]
        }
      ],
      "source": [
        "inicio = datetime.now()\n",
        "problema.solve()\n",
        "print(\"Tiempo transcurrido:\", datetime.now() - inicio)"
      ]
    },
    {
      "cell_type": "markdown",
      "id": "LCmREDBi8J89",
      "metadata": {
        "deletable": false,
        "editable": false,
        "id": "LCmREDBi8J89",
        "nbgrader": {
          "cell_type": "markdown",
          "checksum": "4263e81b8a2a8f3734a79f0103863511",
          "grade": false,
          "grade_id": "cell-b1716f2e759f8b12",
          "locked": true,
          "schema_version": 3,
          "solution": false,
          "task": false
        },
        "tags": []
      },
      "source": [
        "## Reporte de resultados - Escenario 1\n",
        "---"
      ]
    },
    {
      "cell_type": "markdown",
      "id": "N5uq0zNU8J89",
      "metadata": {
        "deletable": false,
        "editable": false,
        "id": "N5uq0zNU8J89",
        "nbgrader": {
          "cell_type": "markdown",
          "checksum": "b1d7aab668c0fde47252d146e5379f4b",
          "grade": false,
          "grade_id": "cell-1122f3d782be0722",
          "locked": true,
          "schema_version": 3,
          "solution": false,
          "task": false
        }
      },
      "source": [
        "**Estado del optimizador, función objetivo y otros indicadores**"
      ]
    },
    {
      "cell_type": "markdown",
      "id": "zSlN6dVZ8J8-",
      "metadata": {
        "deletable": false,
        "editable": false,
        "id": "zSlN6dVZ8J8-",
        "nbgrader": {
          "cell_type": "markdown",
          "checksum": "3767a79439894bae979e45cffd5e8ddf",
          "grade": false,
          "grade_id": "cell-c4e0ada3fc396d58",
          "locked": true,
          "schema_version": 3,
          "solution": false,
          "task": false
        }
      },
      "source": [
        "**Pregunta 5**\n",
        "\n",
        "* Despues de haber corrido el modelo: `<modelo>.solve()`, asigna a una nueva variable `estado` el estado del optimizador en palabras según `lp.LpStatus`.\n",
        "* Asigna el valor de la función objetivo a la variable `obj`"
      ]
    },
    {
      "cell_type": "code",
      "execution_count": 58,
      "id": "sAGZGtZA8J8-",
      "metadata": {
        "deletable": false,
        "id": "sAGZGtZA8J8-",
        "nbgrader": {
          "cell_type": "code",
          "checksum": "60cd6477e02187af0f36fa55d548ecfe",
          "grade": false,
          "grade_id": "cell-6953a32a94a42577",
          "locked": false,
          "schema_version": 3,
          "solution": true,
          "task": false
        }
      },
      "outputs": [
        {
          "name": "stdout",
          "output_type": "stream",
          "text": [
            "Welcome to the CBC MILP Solver \n",
            "Version: 2.10.3 \n",
            "Build Date: Dec 15 2019 \n",
            "\n",
            "command line - /Users/davidmoreno/anaconda3/lib/python3.11/site-packages/pulp/solverdir/cbc/osx/64/cbc /var/folders/yd/vq4l_9kd7q71gkrqg9qyp_9m0000gn/T/7920dbd2385d436bbf403a679e5bf89a-pulp.mps timeMode elapsed branch printingOptions all solution /var/folders/yd/vq4l_9kd7q71gkrqg9qyp_9m0000gn/T/7920dbd2385d436bbf403a679e5bf89a-pulp.sol (default strategy 1)\n",
            "At line 2 NAME          MODEL\n",
            "At line 3 ROWS\n",
            "At line 29 COLUMNS\n",
            "At line 115 RHS\n",
            "At line 140 BOUNDS\n",
            "At line 146 ENDATA\n",
            "Problem MODEL has 24 rows, 5 columns and 70 elements\n",
            "Coin0008I MODEL read with 0 errors\n",
            "Option for timeMode changed from cpu to elapsed\n",
            "Continuous objective value is 826800 - 0.00 seconds\n",
            "Cgl0003I 0 fixed, 5 tightened bounds, 0 strengthened rows, 0 substitutions\n",
            "Cgl0004I processed model has 6 rows, 5 columns (5 integer (0 of which binary)) and 19 elements\n",
            "Cutoff increment increased from 1e-05 to 63600\n",
            "Cbc0012I Integer solution of 826800 found by greedy cover after 0 iterations and 0 nodes (0.00 seconds)\n",
            "Cbc0001I Search completed - best objective 826800, took 0 iterations and 0 nodes (0.00 seconds)\n",
            "Cbc0035I Maximum depth 0, 0 variables fixed on reduced cost\n",
            "Cuts at root node changed objective from 826800 to 826800\n",
            "Probing was tried 0 times and created 0 cuts of which 0 were active after adding rounds of cuts (0.000 seconds)\n",
            "Gomory was tried 0 times and created 0 cuts of which 0 were active after adding rounds of cuts (0.000 seconds)\n",
            "Knapsack was tried 0 times and created 0 cuts of which 0 were active after adding rounds of cuts (0.000 seconds)\n",
            "Clique was tried 0 times and created 0 cuts of which 0 were active after adding rounds of cuts (0.000 seconds)\n",
            "MixedIntegerRounding2 was tried 0 times and created 0 cuts of which 0 were active after adding rounds of cuts (0.000 seconds)\n",
            "FlowCover was tried 0 times and created 0 cuts of which 0 were active after adding rounds of cuts (0.000 seconds)\n",
            "TwoMirCuts was tried 0 times and created 0 cuts of which 0 were active after adding rounds of cuts (0.000 seconds)\n",
            "ZeroHalf was tried 0 times and created 0 cuts of which 0 were active after adding rounds of cuts (0.000 seconds)\n",
            "\n",
            "Result - Optimal solution found\n",
            "\n",
            "Objective value:                826800.00000000\n",
            "Enumerated nodes:               0\n",
            "Total iterations:               0\n",
            "Time (CPU seconds):             0.00\n",
            "Time (Wallclock seconds):       0.00\n",
            "\n",
            "Option for printingOptions changed from normal to all\n",
            "Total time (CPU seconds):       0.00   (Wallclock seconds):       0.00\n",
            "\n"
          ]
        },
        {
          "data": {
            "text/plain": [
              "826800.0"
            ]
          },
          "execution_count": 58,
          "metadata": {},
          "output_type": "execute_result"
        }
      ],
      "source": [
        "# your code here\n",
        "problema.solve()\n",
        "obj=lp.value(problema.objective)\n",
        "obj"
      ]
    },
    {
      "cell_type": "markdown",
      "id": "76994525",
      "metadata": {},
      "source": [
        "La función objetivo en este caso nos da 826800.0"
      ]
    },
    {
      "cell_type": "code",
      "execution_count": 20,
      "id": "WQvYg1tM8J8_",
      "metadata": {
        "deletable": false,
        "editable": false,
        "id": "WQvYg1tM8J8_",
        "nbgrader": {
          "cell_type": "code",
          "checksum": "1e9661365a04a266e0987de426b51c83",
          "grade": true,
          "grade_id": "cell-9f48881e304b6281",
          "locked": true,
          "points": 2,
          "schema_version": 3,
          "solution": false,
          "task": false
        }
      },
      "outputs": [],
      "source": [
        "# Esta celda esta reservada para uso del equipo docente"
      ]
    },
    {
      "cell_type": "markdown",
      "id": "NOY7d27Z8J8_",
      "metadata": {
        "deletable": false,
        "editable": false,
        "id": "NOY7d27Z8J8_",
        "nbgrader": {
          "cell_type": "markdown",
          "checksum": "825e6579ad650edcbb3a5da909b40699",
          "grade": false,
          "grade_id": "cell-c077b6093aba043e",
          "locked": true,
          "schema_version": 3,
          "solution": false,
          "task": false
        }
      },
      "source": [
        "**Contratación de domiciliarios**\n",
        "\n",
        "Después de correr el modelo, seguramente queremos conocer cuantos domiciliarios se contratan de cada turno para dar una recomedación a la empresa. De esto se trata la siguiente pregunta."
      ]
    },
    {
      "cell_type": "markdown",
      "id": "IsLRxcf58J8_",
      "metadata": {
        "deletable": false,
        "editable": false,
        "id": "IsLRxcf58J8_",
        "nbgrader": {
          "cell_type": "markdown",
          "checksum": "f16147167ddcffc6699f4f817d24598c",
          "grade": false,
          "grade_id": "cell-8d28af88f600be52",
          "locked": true,
          "schema_version": 3,
          "solution": false,
          "task": false
        }
      },
      "source": [
        "**Pregunta 6**\n",
        "\n",
        "* Guarda el total de domiciliarios a contratar en la variable `total`\n",
        "* Guarda en un diccionario `contratacion` los empleados contratados en cada turno, tal que las **llaves** sean los turnos que pertecen a `Turnos_1` y los **valores** sean el número de domiciliarios a contratar para ese turno (utiliza `int()` para convertir estos valores a enteros)\n",
        "\n",
        "\n",
        "**Nota:** dado que ya pasó el proceso de optimización, en caso de ser necesario, se debe usar la función `sum` y no `lp.lpSum` para recuperar resultados."
      ]
    },
    {
      "cell_type": "code",
      "execution_count": 21,
      "id": "f3XcmR_e8J8_",
      "metadata": {
        "deletable": false,
        "id": "f3XcmR_e8J8_",
        "nbgrader": {
          "cell_type": "code",
          "checksum": "e6934f9d01470ab286b67c72e935dddc",
          "grade": false,
          "grade_id": "cell-402bd0535a9e3ab6",
          "locked": false,
          "schema_version": 3,
          "solution": true,
          "task": false
        }
      },
      "outputs": [
        {
          "data": {
            "text/plain": [
              "13.0"
            ]
          },
          "execution_count": 21,
          "metadata": {},
          "output_type": "execute_result"
        }
      ],
      "source": [
        "# your code here\n",
        "total1=[x[t].varValue for t in Turnos_1]\n",
        "suma_total2=[]\n",
        "#COnvert all NoneType to 0 in this list\n",
        "for i in total1:\n",
        "    if i==None:\n",
        "\n",
        "        i=0\n",
        "    else:\n",
        "        i=i\n",
        "    suma_total2.append(i)\n",
        "suma_total2\n",
        "\n",
        "total=sum(suma_total2)\n",
        "total\n"
      ]
    },
    {
      "cell_type": "code",
      "execution_count": 59,
      "id": "d975e275",
      "metadata": {},
      "outputs": [
        {
          "data": {
            "text/plain": [
              "{'Turno 1': 2.0,\n",
              " 'Turno 2': 3.0,\n",
              " 'Turno 3': 0.0,\n",
              " 'Turno 4': 6.0,\n",
              " 'Turno 5': 2.0}"
            ]
          },
          "execution_count": 59,
          "metadata": {},
          "output_type": "execute_result"
        }
      ],
      "source": [
        "contratacion={}\n",
        "for t in Turnos_1:\n",
        "    contratacion[t]=x[t].varValue\n",
        "contratacion"
      ]
    },
    {
      "cell_type": "markdown",
      "id": "53f4007e",
      "metadata": {},
      "source": [
        "Total tiene el numero de domiciliarios a contratar y contratacion tiene el diccionario con los turnos."
      ]
    },
    {
      "cell_type": "markdown",
      "id": "9a8f0120",
      "metadata": {},
      "source": []
    },
    {
      "cell_type": "code",
      "execution_count": null,
      "id": "HK7Lc5kw8J9A",
      "metadata": {
        "deletable": false,
        "editable": false,
        "id": "HK7Lc5kw8J9A",
        "nbgrader": {
          "cell_type": "code",
          "checksum": "5b2ed3718e69d32afb33adcce50e4c9a",
          "grade": true,
          "grade_id": "cell-0d76423dd6123097",
          "locked": true,
          "points": 10,
          "schema_version": 3,
          "solution": false,
          "task": false
        }
      },
      "outputs": [],
      "source": [
        "# Esta celda esta reservada para uso del equipo docente"
      ]
    },
    {
      "cell_type": "markdown",
      "id": "linLAh0y8J9A",
      "metadata": {
        "deletable": false,
        "editable": false,
        "id": "linLAh0y8J9A",
        "nbgrader": {
          "cell_type": "markdown",
          "checksum": "ffba0023f77115dd49fddba45618a19a",
          "grade": false,
          "grade_id": "cell-rd6a91eb23723db3",
          "locked": true,
          "schema_version": 3,
          "solution": false,
          "task": false
        },
        "tags": []
      },
      "source": [
        "## Visualizaciones - Escenario 1\n",
        "---"
      ]
    },
    {
      "cell_type": "markdown",
      "id": "UDRJSjU38J9A",
      "metadata": {
        "deletable": false,
        "editable": false,
        "id": "UDRJSjU38J9A",
        "nbgrader": {
          "cell_type": "markdown",
          "checksum": "e31166c678ed6bd5a1722bfd1eb8b1f6",
          "grade": false,
          "grade_id": "cell-83d9e0c4992d661d",
          "locked": true,
          "schema_version": 3,
          "solution": false,
          "task": false
        }
      },
      "source": [
        "**Cubrimiento de demanda en franjas horarias**\n",
        "\n",
        "Esta visualización es muy útil para comparar los dos escenarios. Cuando termines con el segundo escenario, asegúrate de volver a esta celda y comprobar la diferencia!"
      ]
    },
    {
      "cell_type": "code",
      "execution_count": 60,
      "id": "2oPzZPtt8J9A",
      "metadata": {
        "deletable": false,
        "editable": false,
        "id": "2oPzZPtt8J9A",
        "nbgrader": {
          "cell_type": "code",
          "checksum": "77bd0d2cd3f06c299b8b59e3c3048c14",
          "grade": false,
          "grade_id": "cell-v35affd66d80a167",
          "locked": true,
          "schema_version": 3,
          "solution": false,
          "task": false
        }
      },
      "outputs": [
        {
          "name": "stderr",
          "output_type": "stream",
          "text": [
            "/var/folders/yd/vq4l_9kd7q71gkrqg9qyp_9m0000gn/T/ipykernel_55055/2939248837.py:4: MatplotlibDeprecationWarning: The seaborn styles shipped by Matplotlib are deprecated since 3.6, as they no longer correspond to the styles shipped by seaborn. However, they will remain available as 'seaborn-v0_8-<style>'. Alternatively, directly use the seaborn API instead.\n",
            "  plt.style.use('seaborn')\n"
          ]
        },
        {
          "data": {
            "image/png": "[encoded data removed]",
            "text/plain": [
              "<Figure size 800x550 with 1 Axes>"
            ]
          },
          "metadata": {
            "image/png": {
              "height": 525,
              "width": 684
            }
          },
          "output_type": "display_data"
        }
      ],
      "source": [
        "import matplotlib.pyplot as plt\n",
        "\n",
        "%config InlineBackend.figure_format = 'retina'\n",
        "plt.style.use('seaborn')\n",
        "\n",
        "Franjas_ = []\n",
        "for f in Franjas:\n",
        "    if f[4] == \"p\":\n",
        "        Franjas_.append(f[:4])\n",
        "    else:\n",
        "        Franjas_.append(f[:5])\n",
        "\n",
        "oferta = [sum(cubrimiento_1[f, t] * x[t].value() for t in Turnos_1) for f in Franjas]\n",
        "\n",
        "plt.plot(Franjas_, list(demandas.values()), c=\"r\", label=\"Empleados Requeridos\")\n",
        "plt.fill_between(Franjas_, oferta, alpha=0.5, label=\"Empleados Contratados\")\n",
        "plt.legend()\n",
        "plt.xticks(rotation=40)\n",
        "plt.xlabel(\"Franja horaria\")\n",
        "plt.ylabel(\"Domiciliarios\")\n",
        "plt.ylim(0, 13)\n",
        "plt.title(\"Cubrimiento de franjas horarias\")\n",
        "plt.show()"
      ]
    },
    {
      "cell_type": "markdown",
      "id": "9e-gBRY68J9A",
      "metadata": {
        "deletable": false,
        "editable": false,
        "id": "9e-gBRY68J9A",
        "nbgrader": {
          "cell_type": "markdown",
          "checksum": "b25554fdcd6137ac7cec3f3e7e18f627",
          "grade": false,
          "grade_id": "cell-6a525ae7e4899ef1",
          "locked": true,
          "schema_version": 3,
          "solution": false,
          "task": false
        },
        "tags": []
      },
      "source": [
        "## Modelamiento - Escenario 2\n",
        "---\n",
        "Ahora, vamos a explorar el problema desde el segundo escenario. Es **muy importante** que utilices los parámetros que corresponden a este escenario durante la creación del modelo."
      ]
    },
    {
      "cell_type": "markdown",
      "id": "laiQKxUG8J9A",
      "metadata": {
        "deletable": false,
        "editable": false,
        "id": "laiQKxUG8J9A",
        "nbgrader": {
          "cell_type": "markdown",
          "checksum": "32046f7ed4b359dfe697449072da98c0",
          "grade": false,
          "grade_id": "cell-ebebd9c7c932a295",
          "locked": true,
          "schema_version": 3,
          "solution": false,
          "task": false
        }
      },
      "source": [
        "### Declaración del modelo"
      ]
    },
    {
      "cell_type": "markdown",
      "id": "MIWKNJdw8J9A",
      "metadata": {
        "deletable": false,
        "editable": false,
        "id": "MIWKNJdw8J9A",
        "nbgrader": {
          "cell_type": "markdown",
          "checksum": "41a7df6d3c0071f1948a38542d60a95a",
          "grade": false,
          "grade_id": "cell-5f565c04740f1dbc",
          "locked": true,
          "schema_version": 3,
          "solution": false,
          "task": false
        }
      },
      "source": [
        "**Pregunta 7**\n",
        "* Crea un objeto modelo en PuLP llamado `problema2`"
      ]
    },
    {
      "cell_type": "code",
      "execution_count": 61,
      "id": "bHgTtwkp8J9B",
      "metadata": {
        "deletable": false,
        "id": "bHgTtwkp8J9B",
        "nbgrader": {
          "cell_type": "code",
          "checksum": "df79686e8731ba59a5a984b1170773b6",
          "grade": false,
          "grade_id": "cell-411507b80aeb60b6",
          "locked": false,
          "schema_version": 3,
          "solution": true,
          "task": false
        }
      },
      "outputs": [],
      "source": [
        "# your code here\n",
        "problema2=lp.LpProblem(\"Caso_7_2\",lp.LpMinimize)\n"
      ]
    },
    {
      "cell_type": "code",
      "execution_count": null,
      "id": "FVt62lRQ8J9B",
      "metadata": {
        "deletable": false,
        "editable": false,
        "id": "FVt62lRQ8J9B",
        "nbgrader": {
          "cell_type": "code",
          "checksum": "b770c980f8303bf923f9cd347b1c3d3a",
          "grade": true,
          "grade_id": "cell-d2169ff017c9ac50",
          "locked": true,
          "points": 2,
          "schema_version": 3,
          "solution": false,
          "task": false
        }
      },
      "outputs": [],
      "source": [
        "# Esta celda esta reservada para uso del equipo docente"
      ]
    },
    {
      "cell_type": "code",
      "execution_count": null,
      "id": "SANzRSg58J9B",
      "metadata": {
        "deletable": false,
        "editable": false,
        "id": "SANzRSg58J9B",
        "nbgrader": {
          "cell_type": "code",
          "checksum": "5c5b13d2ac659ca4e78819f746df5705",
          "grade": true,
          "grade_id": "cell-32c34140234b1be2",
          "locked": true,
          "points": 0,
          "schema_version": 3,
          "solution": false,
          "task": false
        }
      },
      "outputs": [],
      "source": [
        "# Esta celda esta reservada para uso del equipo docente"
      ]
    },
    {
      "cell_type": "markdown",
      "id": "U5i-mZI58J9B",
      "metadata": {
        "deletable": false,
        "editable": false,
        "id": "U5i-mZI58J9B",
        "nbgrader": {
          "cell_type": "markdown",
          "checksum": "b899531a15daac541e12d8e01682743b",
          "grade": false,
          "grade_id": "cell-032e2c76bf498b03",
          "locked": true,
          "schema_version": 3,
          "solution": false,
          "task": false
        }
      },
      "source": [
        "### Variables de Decisión\n",
        "\n",
        "> $x_{t}$: cantidad de domiciliarios del turno $t\\in T$ a contratar\n",
        ">> `# Para desarrollo del estudiante`"
      ]
    },
    {
      "cell_type": "markdown",
      "id": "2fNaoo_38J9B",
      "metadata": {
        "deletable": false,
        "editable": false,
        "id": "2fNaoo_38J9B",
        "nbgrader": {
          "cell_type": "markdown",
          "checksum": "5043645802f11d011a714d2919de6fd3",
          "grade": false,
          "grade_id": "cell-8eaef4c4dfff5346",
          "locked": true,
          "schema_version": 3,
          "solution": false,
          "task": false
        }
      },
      "source": [
        "**Pregunta 8**\n",
        "* Crea las variables del modelo: `x`, usando el método `lp.LpVariable.dicts()`\n",
        "* Especifica el nombre de la variable como `'contratar'` con el argumento `name`\n",
        "* Especifica sus índices con el argumento `indexs`\n",
        "* Especifica que el límite inferior de la variable es 0\n",
        "* Especifica su naturaleza con el argumento `cat`"
      ]
    },
    {
      "cell_type": "code",
      "execution_count": 62,
      "id": "HJYXD4Lj8J9B",
      "metadata": {
        "deletable": false,
        "id": "HJYXD4Lj8J9B",
        "nbgrader": {
          "cell_type": "code",
          "checksum": "a8291f4c298a71747377dd8bf959a1ab",
          "grade": false,
          "grade_id": "cell-e682a76a2ca9c586",
          "locked": false,
          "schema_version": 3,
          "solution": true,
          "task": false
        }
      },
      "outputs": [],
      "source": [
        "# your code here\n",
        "x=lp.LpVariable.dicts(\"x\",(Turnos_2),lowBound=0,cat=\"Integer\")\n"
      ]
    },
    {
      "cell_type": "code",
      "execution_count": null,
      "id": "VxMDu4eR8J9C",
      "metadata": {
        "deletable": false,
        "editable": false,
        "id": "VxMDu4eR8J9C",
        "nbgrader": {
          "cell_type": "code",
          "checksum": "bdf371d1fb192b5ea889bbd9bdab4c7a",
          "grade": true,
          "grade_id": "cell-c4d6a8c962c100f2",
          "locked": true,
          "points": 6,
          "schema_version": 3,
          "solution": false,
          "task": false
        }
      },
      "outputs": [],
      "source": [
        "# Esta celda esta reservada para uso del equipo docente"
      ]
    },
    {
      "cell_type": "code",
      "execution_count": null,
      "id": "Z_PZlEZt8J9C",
      "metadata": {
        "deletable": false,
        "editable": false,
        "id": "Z_PZlEZt8J9C",
        "nbgrader": {
          "cell_type": "code",
          "checksum": "dadc61e8897bcef6aa8cae3b3ff8bf24",
          "grade": true,
          "grade_id": "cell-eff22919ab63e720",
          "locked": true,
          "points": 0,
          "schema_version": 3,
          "solution": false,
          "task": false
        }
      },
      "outputs": [],
      "source": [
        "# Esta celda esta reservada para uso del equipo docente"
      ]
    },
    {
      "cell_type": "markdown",
      "id": "IZ0Py0z78J9C",
      "metadata": {
        "deletable": false,
        "editable": false,
        "id": "IZ0Py0z78J9C",
        "nbgrader": {
          "cell_type": "markdown",
          "checksum": "2bfdc5ef355e6bf77825e3d086bf8a20",
          "grade": false,
          "grade_id": "cell-747431c6a3556e72",
          "locked": true,
          "schema_version": 3,
          "solution": false,
          "task": false
        }
      },
      "source": [
        "### Función Objetivo\n",
        "\n",
        "> *# Para desarrollo del estudiante*\n",
        ">> `# Para desarrollo del estudiante`"
      ]
    },
    {
      "cell_type": "markdown",
      "id": "KUAQKoAy8J9C",
      "metadata": {
        "deletable": false,
        "editable": false,
        "id": "KUAQKoAy8J9C",
        "nbgrader": {
          "cell_type": "markdown",
          "checksum": "99050b27fce40e844c47a7890e8a518c",
          "grade": false,
          "grade_id": "cell-67d7926994183cad",
          "locked": true,
          "schema_version": 3,
          "solution": false,
          "task": false
        }
      },
      "source": [
        "**Pregunta 9**\n",
        "* Crea la función objetivo y agrégala al modelo `problema2`"
      ]
    },
    {
      "cell_type": "code",
      "execution_count": 63,
      "id": "K9n8YNr68J9C",
      "metadata": {
        "deletable": false,
        "id": "K9n8YNr68J9C",
        "nbgrader": {
          "cell_type": "code",
          "checksum": "bbb1bebea7f283ec2193e0eb35ad26c6",
          "grade": false,
          "grade_id": "cell-e5d6f3d2c89e6a98",
          "locked": false,
          "schema_version": 3,
          "solution": true,
          "task": false
        }
      },
      "outputs": [],
      "source": [
        "# your code here\n",
        "problema2+=lp.lpSum([costos_2[t]*x[t] for t in Turnos_2])\n"
      ]
    },
    {
      "cell_type": "code",
      "execution_count": null,
      "id": "vKQ1Lktv8J9C",
      "metadata": {
        "deletable": false,
        "editable": false,
        "id": "vKQ1Lktv8J9C",
        "nbgrader": {
          "cell_type": "code",
          "checksum": "92ef82c3c84966bc5f5950508d103a2d",
          "grade": true,
          "grade_id": "cell-44127a8fdf6a0fe1",
          "locked": true,
          "points": 10,
          "schema_version": 3,
          "solution": false,
          "task": false
        }
      },
      "outputs": [],
      "source": [
        "# Esta celda esta reservada para uso del equipo docente"
      ]
    },
    {
      "cell_type": "markdown",
      "id": "ILuittfh8J9D",
      "metadata": {
        "deletable": false,
        "editable": false,
        "id": "ILuittfh8J9D",
        "nbgrader": {
          "cell_type": "markdown",
          "checksum": "5432d084a91a34efe74bd4d7ff275f22",
          "grade": false,
          "grade_id": "cell-d6fb9f15b71fb4ce",
          "locked": true,
          "schema_version": 3,
          "solution": false,
          "task": false
        }
      },
      "source": [
        "### Restricciones\n",
        "    \n",
        "> **Advertencia**: `pulp` no permite sobreescribir restricciones, entonces, si ya creaste una restricción y quieres crearla de nuevo para corregir algo, asegurate de volver a crear el modelo `problema` desde el principio. (Nosotros haremos esto antes de calificar, no te preocupes)"
      ]
    },
    {
      "cell_type": "markdown",
      "id": "4NIA-MQx8J9D",
      "metadata": {
        "deletable": false,
        "editable": false,
        "id": "4NIA-MQx8J9D",
        "nbgrader": {
          "cell_type": "markdown",
          "checksum": "2d1c5ac5dc71af4ddb8f39a6d7816b18",
          "grade": false,
          "grade_id": "cell-28574286666de5f5",
          "locked": true,
          "schema_version": 3,
          "solution": false,
          "task": false
        }
      },
      "source": [
        "**Pregunta 10**\n",
        "\n",
        "* Crea el **único** grupo de restricciones del modelo, asígnale el nombre `'R1_'+str(<indice_del_para_todo>)` y añádela al modelo\n",
        "\n",
        "> *# Para desarrollo del estudiante*\n",
        "\n",
        "> **Nota:** ten en cuenta que el parámetro $d_f$ se define como la cantidad **mínima** de domiciliarios requeridos en la franja $f\\in F$.\n"
      ]
    },
    {
      "cell_type": "code",
      "execution_count": 64,
      "id": "pPWRxQJ18J9D",
      "metadata": {
        "deletable": false,
        "id": "pPWRxQJ18J9D",
        "nbgrader": {
          "cell_type": "code",
          "checksum": "d700e5440468b0bb1293d1bd26782cb3",
          "grade": false,
          "grade_id": "cell-08b83623393f0e8e",
          "locked": false,
          "schema_version": 3,
          "solution": true,
          "task": false
        }
      },
      "outputs": [],
      "source": [
        "# your code here\n",
        "for f in Franjas:\n",
        "    problema2 += lp.lpSum([x[t] * cubrimiento_2[f, t] for t in Turnos_2]) >= demandas[f]\n"
      ]
    },
    {
      "cell_type": "code",
      "execution_count": null,
      "id": "xGYsgHwf8J9D",
      "metadata": {
        "deletable": false,
        "editable": false,
        "id": "xGYsgHwf8J9D",
        "nbgrader": {
          "cell_type": "code",
          "checksum": "d6129263e70f644c3e6674b2bf6c3b8a",
          "grade": true,
          "grade_id": "cell-93ba7e4d9ea41fb4",
          "locked": true,
          "points": 15,
          "schema_version": 3,
          "solution": false,
          "task": false
        }
      },
      "outputs": [],
      "source": [
        "# Esta celda esta reservada para uso del equipo docente"
      ]
    },
    {
      "cell_type": "markdown",
      "id": "W8lG8rz_8J9D",
      "metadata": {
        "deletable": false,
        "editable": false,
        "id": "W8lG8rz_8J9D",
        "nbgrader": {
          "cell_type": "markdown",
          "checksum": "9f6d1092b53160ee72a420e31c153ad0",
          "grade": false,
          "grade_id": "cell-31425d212bcb279b",
          "locked": true,
          "schema_version": 3,
          "solution": false,
          "task": false
        }
      },
      "source": [
        "### Invocar el optimizador"
      ]
    },
    {
      "cell_type": "code",
      "execution_count": 65,
      "id": "MdiFG4ts8J9D",
      "metadata": {
        "deletable": false,
        "editable": false,
        "id": "MdiFG4ts8J9D",
        "nbgrader": {
          "cell_type": "code",
          "checksum": "a40301829de2125af1c31bdb4ac919d1",
          "grade": false,
          "grade_id": "cell-b924c09dcdd338ad",
          "locked": true,
          "schema_version": 3,
          "solution": false,
          "task": false
        }
      },
      "outputs": [
        {
          "name": "stdout",
          "output_type": "stream",
          "text": [
            "Welcome to the CBC MILP Solver \n",
            "Version: 2.10.3 \n",
            "Build Date: Dec 15 2019 \n",
            "\n",
            "command line - /Users/davidmoreno/anaconda3/lib/python3.11/site-packages/pulp/solverdir/cbc/osx/64/cbc /var/folders/yd/vq4l_9kd7q71gkrqg9qyp_9m0000gn/T/047b1670c07f40b39e18cc50f3146117-pulp.mps timeMode elapsed branch printingOptions all solution /var/folders/yd/vq4l_9kd7q71gkrqg9qyp_9m0000gn/T/047b1670c07f40b39e18cc50f3146117-pulp.sol (default strategy 1)\n",
            "At line 2 NAME          MODEL\n",
            "At line 3 ROWS\n",
            "At line 29 COLUMNS\n",
            "At line 387 RHS\n",
            "At line 412 BOUNDS\n",
            "At line 441 ENDATA\n",
            "Problem MODEL has 24 rows, 28 columns and 273 elements\n",
            "Coin0008I MODEL read with 0 errors\n",
            "Option for timeMode changed from cpu to elapsed\n",
            "Continuous objective value is 600660 - 0.00 seconds\n",
            "Cgl0003I 0 fixed, 28 tightened bounds, 0 strengthened rows, 0 substitutions\n",
            "Cgl0004I processed model has 24 rows, 28 columns (28 integer (0 of which binary)) and 273 elements\n",
            "Cbc0012I Integer solution of 600660 found by greedy cover after 0 iterations and 0 nodes (0.02 seconds)\n",
            "Cbc0001I Search completed - best objective 600660, took 0 iterations and 0 nodes (0.02 seconds)\n",
            "Cbc0035I Maximum depth 0, 0 variables fixed on reduced cost\n",
            "Cuts at root node changed objective from 600660 to 600660\n",
            "Probing was tried 0 times and created 0 cuts of which 0 were active after adding rounds of cuts (0.000 seconds)\n",
            "Gomory was tried 0 times and created 0 cuts of which 0 were active after adding rounds of cuts (0.000 seconds)\n",
            "Knapsack was tried 0 times and created 0 cuts of which 0 were active after adding rounds of cuts (0.000 seconds)\n",
            "Clique was tried 0 times and created 0 cuts of which 0 were active after adding rounds of cuts (0.000 seconds)\n",
            "MixedIntegerRounding2 was tried 0 times and created 0 cuts of which 0 were active after adding rounds of cuts (0.000 seconds)\n",
            "FlowCover was tried 0 times and created 0 cuts of which 0 were active after adding rounds of cuts (0.000 seconds)\n",
            "TwoMirCuts was tried 0 times and created 0 cuts of which 0 were active after adding rounds of cuts (0.000 seconds)\n",
            "ZeroHalf was tried 0 times and created 0 cuts of which 0 were active after adding rounds of cuts (0.000 seconds)\n",
            "\n",
            "Result - Optimal solution found\n",
            "\n",
            "Objective value:                600660.00000000\n",
            "Enumerated nodes:               0\n",
            "Total iterations:               0\n",
            "Time (CPU seconds):             0.00\n",
            "Time (Wallclock seconds):       0.02\n",
            "\n",
            "Option for printingOptions changed from normal to all\n",
            "Total time (CPU seconds):       0.00   (Wallclock seconds):       0.03\n",
            "\n",
            "Tiempo transcurrido: 0:00:00.069415\n"
          ]
        }
      ],
      "source": [
        "inicio = datetime.now()\n",
        "problema2.solve()\n",
        "print(\"Tiempo transcurrido:\", datetime.now() - inicio)"
      ]
    },
    {
      "cell_type": "markdown",
      "id": "MkBI38qs8J9D",
      "metadata": {
        "deletable": false,
        "editable": false,
        "id": "MkBI38qs8J9D",
        "nbgrader": {
          "cell_type": "markdown",
          "checksum": "ed6f090096b4467f4b41d15c1bb3c056",
          "grade": false,
          "grade_id": "cell-b1766f2e759f8b12",
          "locked": true,
          "schema_version": 3,
          "solution": false,
          "task": false
        },
        "tags": []
      },
      "source": [
        "## Reporte de resultados - Escenario 2\n",
        "---"
      ]
    },
    {
      "cell_type": "markdown",
      "id": "g61JNIwx8J9E",
      "metadata": {
        "deletable": false,
        "editable": false,
        "id": "g61JNIwx8J9E",
        "nbgrader": {
          "cell_type": "markdown",
          "checksum": "6aed93c3b3a03d6ae9785cda7926825b",
          "grade": false,
          "grade_id": "cell-1422f3d782be0722",
          "locked": true,
          "schema_version": 3,
          "solution": false,
          "task": false
        }
      },
      "source": [
        "**Estado del optimizador, función objetivo y otros indicadores**"
      ]
    },
    {
      "cell_type": "markdown",
      "id": "zzpBd_UQ8J9E",
      "metadata": {
        "deletable": false,
        "editable": false,
        "id": "zzpBd_UQ8J9E",
        "nbgrader": {
          "cell_type": "markdown",
          "checksum": "6a87b7b4db7c124fb5f09ae2b0c6fce0",
          "grade": false,
          "grade_id": "cell-a806cda576fcb48a",
          "locked": true,
          "schema_version": 3,
          "solution": false,
          "task": false
        }
      },
      "source": [
        "**Pregunta 11**\n",
        "\n",
        "* Despues de haber corrido el modelo: `<modelo>.solve()`, asigna a una nueva variable `estado` el estado del optimizador en palabras según `lp.LpStatus`.\n",
        "* Asigna el valor de la función objetivo a la variable `obj`\n"
      ]
    },
    {
      "cell_type": "code",
      "execution_count": 66,
      "id": "ojtfBbng8J9E",
      "metadata": {
        "deletable": false,
        "id": "ojtfBbng8J9E",
        "nbgrader": {
          "cell_type": "code",
          "checksum": "c3acca688e40f03d7b74569924f50ef2",
          "grade": false,
          "grade_id": "cell-730bbb2d69191a9d",
          "locked": false,
          "schema_version": 3,
          "solution": true,
          "task": false
        }
      },
      "outputs": [
        {
          "name": "stdout",
          "output_type": "stream",
          "text": [
            "Welcome to the CBC MILP Solver \n",
            "Version: 2.10.3 \n",
            "Build Date: Dec 15 2019 \n",
            "\n",
            "command line - /Users/davidmoreno/anaconda3/lib/python3.11/site-packages/pulp/solverdir/cbc/osx/64/cbc /var/folders/yd/vq4l_9kd7q71gkrqg9qyp_9m0000gn/T/60d7336b42b1422da07a2cd809d07c1d-pulp.mps timeMode elapsed branch printingOptions all solution /var/folders/yd/vq4l_9kd7q71gkrqg9qyp_9m0000gn/T/60d7336b42b1422da07a2cd809d07c1d-pulp.sol (default strategy 1)\n",
            "At line 2 NAME          MODEL\n",
            "At line 3 ROWS\n",
            "At line 29 COLUMNS\n",
            "At line 387 RHS\n",
            "At line 412 BOUNDS\n",
            "At line 441 ENDATA\n",
            "Problem MODEL has 24 rows, 28 columns and 273 elements\n",
            "Coin0008I MODEL read with 0 errors\n",
            "Option for timeMode changed from cpu to elapsed\n",
            "Continuous objective value is 600660 - 0.00 seconds\n",
            "Cgl0003I 0 fixed, 28 tightened bounds, 0 strengthened rows, 0 substitutions\n",
            "Cgl0004I processed model has 24 rows, 28 columns (28 integer (0 of which binary)) and 273 elements\n",
            "Cbc0012I Integer solution of 600660 found by greedy cover after 0 iterations and 0 nodes (0.00 seconds)\n",
            "Cbc0001I Search completed - best objective 600660, took 0 iterations and 0 nodes (0.00 seconds)\n",
            "Cbc0035I Maximum depth 0, 0 variables fixed on reduced cost\n",
            "Cuts at root node changed objective from 600660 to 600660\n",
            "Probing was tried 0 times and created 0 cuts of which 0 were active after adding rounds of cuts (0.000 seconds)\n",
            "Gomory was tried 0 times and created 0 cuts of which 0 were active after adding rounds of cuts (0.000 seconds)\n",
            "Knapsack was tried 0 times and created 0 cuts of which 0 were active after adding rounds of cuts (0.000 seconds)\n",
            "Clique was tried 0 times and created 0 cuts of which 0 were active after adding rounds of cuts (0.000 seconds)\n",
            "MixedIntegerRounding2 was tried 0 times and created 0 cuts of which 0 were active after adding rounds of cuts (0.000 seconds)\n",
            "FlowCover was tried 0 times and created 0 cuts of which 0 were active after adding rounds of cuts (0.000 seconds)\n",
            "TwoMirCuts was tried 0 times and created 0 cuts of which 0 were active after adding rounds of cuts (0.000 seconds)\n",
            "ZeroHalf was tried 0 times and created 0 cuts of which 0 were active after adding rounds of cuts (0.000 seconds)\n",
            "\n",
            "Result - Optimal solution found\n",
            "\n",
            "Objective value:                600660.00000000\n",
            "Enumerated nodes:               0\n",
            "Total iterations:               0\n",
            "Time (CPU seconds):             0.00\n",
            "Time (Wallclock seconds):       0.00\n",
            "\n",
            "Option for printingOptions changed from normal to all\n",
            "Total time (CPU seconds):       0.00   (Wallclock seconds):       0.00\n",
            "\n"
          ]
        },
        {
          "data": {
            "text/plain": [
              "600660.0"
            ]
          },
          "execution_count": 66,
          "metadata": {},
          "output_type": "execute_result"
        }
      ],
      "source": [
        "# your code here\n",
        "problema2.solve()\n",
        "obj=lp.value(problema2.objective)\n",
        "obj\n"
      ]
    },
    {
      "cell_type": "markdown",
      "id": "36f6fbfd",
      "metadata": {},
      "source": [
        "La funcion objetivo nos da 600660.0"
      ]
    },
    {
      "cell_type": "code",
      "execution_count": null,
      "id": "2ADgdG588J9E",
      "metadata": {
        "deletable": false,
        "editable": false,
        "id": "2ADgdG588J9E",
        "nbgrader": {
          "cell_type": "code",
          "checksum": "c737082daf75899e4302b38ba120b624",
          "grade": true,
          "grade_id": "cell-73327aff2297d1c4",
          "locked": true,
          "points": 2,
          "schema_version": 3,
          "solution": false,
          "task": false
        }
      },
      "outputs": [],
      "source": [
        "# Esta celda esta reservada para uso del equipo docente"
      ]
    },
    {
      "cell_type": "markdown",
      "id": "UXemXuBt8J9E",
      "metadata": {
        "deletable": false,
        "editable": false,
        "id": "UXemXuBt8J9E",
        "nbgrader": {
          "cell_type": "markdown",
          "checksum": "a60bcdb16c53c76e4a19553dfd52c392",
          "grade": false,
          "grade_id": "cell-0254e0b1f475a1b0",
          "locked": true,
          "schema_version": 3,
          "solution": false,
          "task": false
        }
      },
      "source": [
        "**Contratación de domiciliarios**\n",
        "\n",
        "Después de correr el modelo, seguramente queremos conocer cuantos domiciliarios se contratan de cada turno para dar una recomedación a la empresa. De esto se trata la siguiente pregunta."
      ]
    },
    {
      "cell_type": "markdown",
      "id": "DGQhUofF8J9E",
      "metadata": {
        "deletable": false,
        "editable": false,
        "id": "DGQhUofF8J9E",
        "nbgrader": {
          "cell_type": "markdown",
          "checksum": "00b7a404bcb1dac6f7f1d55cc9c92bce",
          "grade": false,
          "grade_id": "cell-7332f7a7cc693775",
          "locked": true,
          "schema_version": 3,
          "solution": false,
          "task": false
        }
      },
      "source": [
        "**Pregunta 12**\n",
        "\n",
        "* Guarda el total de domiciliarios a contratar en la variable `total`\n",
        "* Guarda en un diccionario `contratacion` los empleados contratados en cada turno, tal que las **llaves** sean los turnos que pertecen a `Turnos_2` y los **valores** sean el número de domiciliarios a contratar para ese turno (utiliza `int()` para convertir estos valores a enteros)\n",
        "\n",
        "\n",
        "**Nota:** dado que ya pasó el proceso de optimización, en caso de ser necesario, se debe usar la función `sum` y no `lp.lpSum` para recuperar resultados."
      ]
    },
    {
      "cell_type": "code",
      "execution_count": 67,
      "id": "tqpITUKg8J9F",
      "metadata": {
        "deletable": false,
        "id": "tqpITUKg8J9F",
        "nbgrader": {
          "cell_type": "code",
          "checksum": "cdbc86e65c0b4816f5dbfe71d249617a",
          "grade": false,
          "grade_id": "cell-abf1d86f663769a6",
          "locked": false,
          "schema_version": 3,
          "solution": true,
          "task": false
        }
      },
      "outputs": [
        {
          "data": {
            "text/plain": [
              "13.0"
            ]
          },
          "execution_count": 67,
          "metadata": {},
          "output_type": "execute_result"
        }
      ],
      "source": [
        "# your code here\n",
        "total2=[x[t].varValue for t in Turnos_2]\n",
        "suma_total=[]\n",
        "#COnvert all NoneType to 0 in this list\n",
        "for i in total2:\n",
        "    if i==None:\n",
        "\n",
        "        i=0\n",
        "    else:\n",
        "        i=i\n",
        "    suma_total.append(i)\n",
        "suma_total\n",
        "total=sum(suma_total)\n",
        "total\n",
        "\n"
      ]
    },
    {
      "cell_type": "code",
      "execution_count": 68,
      "id": "72baf83b",
      "metadata": {},
      "outputs": [
        {
          "data": {
            "text/plain": [
              "{'Turno 1': 1.0,\n",
              " 'Turno 2': 1.0,\n",
              " 'Turno 3': 1.0,\n",
              " 'Turno 4': 0.0,\n",
              " 'Turno 5': 1.0,\n",
              " 'Turno 6': 1.0,\n",
              " 'Turno 7': 0.0,\n",
              " 'Turno 8': 0.0,\n",
              " 'Turno 9': 0.0,\n",
              " 'Turno 10': 0.0,\n",
              " 'Turno 11': 0.0,\n",
              " 'Turno 12': 0.0,\n",
              " 'Turno 13': 0.0,\n",
              " 'Turno 14': 0.0,\n",
              " 'Turno 15': 0.0,\n",
              " 'Turno 16': 0.0,\n",
              " 'Turno 17': 0.0,\n",
              " 'Turno 18': 0.0,\n",
              " 'Turno 19': 0.0,\n",
              " 'Turno 20': 2.0,\n",
              " 'Turno 21': 0.0,\n",
              " 'Turno 22': 0.0,\n",
              " 'Turno 23': 0.0,\n",
              " 'Turno 24': 0.0,\n",
              " 'Turno 25': 0.0,\n",
              " 'Turno 26': 5.0,\n",
              " 'Turno 27': 0.0,\n",
              " 'Turno 28': 1.0}"
            ]
          },
          "execution_count": 68,
          "metadata": {},
          "output_type": "execute_result"
        }
      ],
      "source": [
        "contratacion={}\n",
        "for t in Turnos_2:\n",
        "    contratacion[t]=x[t].varValue\n",
        "contratacion"
      ]
    },
    {
      "cell_type": "markdown",
      "id": "879c1275",
      "metadata": {},
      "source": [
        "Se necesitan 13 personas para el segundo caso"
      ]
    },
    {
      "cell_type": "code",
      "execution_count": null,
      "id": "2svFjrOk8J9F",
      "metadata": {
        "deletable": false,
        "editable": false,
        "id": "2svFjrOk8J9F",
        "nbgrader": {
          "cell_type": "code",
          "checksum": "777c936d95b9d8d947998808d68a578e",
          "grade": true,
          "grade_id": "cell-0c8051c36b64d961",
          "locked": true,
          "points": 10,
          "schema_version": 3,
          "solution": false,
          "task": false
        }
      },
      "outputs": [],
      "source": [
        "# Esta celda esta reservada para uso del equipo docente"
      ]
    },
    {
      "cell_type": "markdown",
      "id": "Sscotgbu8J9F",
      "metadata": {
        "deletable": false,
        "editable": false,
        "id": "Sscotgbu8J9F",
        "nbgrader": {
          "cell_type": "markdown",
          "checksum": "a44bdf4a38858063dbb9f295fea783cd",
          "grade": false,
          "grade_id": "cell-fd6a91eb23723db3",
          "locked": true,
          "schema_version": 3,
          "solution": false,
          "task": false
        },
        "tags": []
      },
      "source": [
        "## Visualizaciones - Escenario 2\n",
        "---"
      ]
    },
    {
      "cell_type": "markdown",
      "id": "ZrLvLy-k8J9F",
      "metadata": {
        "deletable": false,
        "editable": false,
        "id": "ZrLvLy-k8J9F",
        "nbgrader": {
          "cell_type": "markdown",
          "checksum": "16d75fcb225f6633c02f0bf45b3032e9",
          "grade": false,
          "grade_id": "cell-83d8e0c4992d661d",
          "locked": true,
          "schema_version": 3,
          "solution": false,
          "task": false
        }
      },
      "source": [
        "**Cubrimiento de demanda en franjas horarias**\n",
        "\n",
        "Esta visualización es muy útil para comparar los dos escenarios. Ahora que terminaste el segundo escenario, te recomendamos ir a **Resporte de resultados - Escenario 1** y comparar las funciones objetivo, los turnos contratados y luego ir a **Visualizaciones - Escenario 1** para comparar las soluciones."
      ]
    },
    {
      "cell_type": "code",
      "execution_count": 69,
      "id": "0cyE07Ls8J9F",
      "metadata": {
        "deletable": false,
        "editable": false,
        "id": "0cyE07Ls8J9F",
        "nbgrader": {
          "cell_type": "code",
          "checksum": "f2c5d0fae1b1146e6c40eddaa348934b",
          "grade": false,
          "grade_id": "cell-a35affd66d80a167",
          "locked": true,
          "schema_version": 3,
          "solution": false,
          "task": false
        }
      },
      "outputs": [
        {
          "data": {
            "image/png": "[encoded data removed]",
            "text/plain": [
              "<Figure size 800x550 with 1 Axes>"
            ]
          },
          "metadata": {
            "image/png": {
              "height": 525,
              "width": 684
            }
          },
          "output_type": "display_data"
        }
      ],
      "source": [
        "Franjas_ = []\n",
        "for f in Franjas:\n",
        "    if f[4] == \"p\":\n",
        "        Franjas_.append(f[:4])\n",
        "    else:\n",
        "        Franjas_.append(f[:5])\n",
        "\n",
        "oferta = [sum(cubrimiento_2[f, t] * x[t].value() for t in Turnos_2) for f in Franjas]\n",
        "\n",
        "plt.plot(Franjas_, list(demandas.values()), c=\"r\", label=\"Empleados Requeridos\")\n",
        "plt.fill_between(Franjas_, oferta, alpha=0.5, label=\"Empleados Contratados\")\n",
        "plt.legend()\n",
        "plt.xticks(rotation=40)\n",
        "plt.xlabel(\"Franja horaria\")\n",
        "plt.ylabel(\"Domiciliarios\")\n",
        "plt.ylim(0, 13)\n",
        "plt.title(\"Cubrimiento de franjas horarias\")\n",
        "plt.show()"
      ]
    },
    {
      "cell_type": "markdown",
      "id": "ad8ecdae",
      "metadata": {},
      "source": [
        "## Analisis de los resultados"
      ]
    },
    {
      "cell_type": "markdown",
      "id": "52f45be9",
      "metadata": {},
      "source": [
        "\n",
        "\n",
        "\n",
        "# Caso 1: Asignación Variada de Personal por Turno\n",
        "\n",
        "En el Caso 1, se ha implementado una asignación variada de personal por turno. Esta asignación se refleja en la cantidad de trabajadores asignados a cada turno, donde algunos turnos tienen más personal que otros. Por ejemplo, el Turno 4 tiene una asignación de 6 trabajadores, mientras que el Turno 3 no tiene trabajadores asignados.\n",
        "\n",
        "La asignación de personal en el Caso 1 responde a las demandas específicas de cada franja horaria y turno. Esta estrategia podría ser beneficiosa para cumplir con la demanda en momentos pico, donde se requiere un mayor número de trabajadores para mantener un alto nivel de servicio. Sin embargo, también puede resultar en excedentes de personal en momentos de menor demanda, lo que aumentaría los costos operativos.\n",
        "\n",
        "Los costos totales en el Caso 1 ascienden a 826,800 unidades monetarias.\n",
        "\n",
        "# Caso 2: Asignación Uniforme de Personal por Turno\n",
        "\n",
        "Por otro lado, en el Caso 2, se ha implementado una asignación uniforme de personal por turno. Cada turno tiene asignado exactamente un trabajador, lo que resulta en una distribución uniforme de la fuerza laboral durante todo el día. Esta estrategia simplifica la gestión de personal pero puede ser menos sensible a las fluctuaciones en la demanda.\n",
        "\n",
        "Los costos totales en el Caso 2 son notoriamente más bajos, con un valor de 600,660 unidades monetarias. La asignación uniforme de personal permite una previsibilidad y una gestión más eficiente de los recursos humanos, lo que reduce los costos operativos en comparación con el Caso 1.\n",
        "\n",
        "# Comparación de los Casos\n",
        "\n",
        "Ahora, comparemos ambos casos en función de las diferencias clave:\n",
        "\n",
        "1. **Asignación de Personal por Turno:**\n",
        "   - En el Caso 1, la asignación de personal varía según la demanda por turno, lo que permite una respuesta rápida a los picos de demanda. En el Caso 2, la asignación es uniforme y constante.\n",
        "   \n",
        "2. **Costos Totales:**\n",
        "   - El Caso 2 tiene costos totales significativamente más bajos en comparación con el Caso 1. Esto sugiere que, aunque la asignación uniforme de personal puede no ser tan ágil para satisfacer picos de demanda, resulta en una operación más rentable.\n",
        "\n",
        "3. **Número de Personal Contratado:**\n",
        "   - Ambos casos requieren la misma cantidad de personal, es decir, 13 trabajadores, para cubrir la demanda. Sin embargo, la distribución de ese personal entre los turnos y las franjas horarias es diferente en ambos casos.\n",
        "\n",
        "# Conclusión\n",
        "\n",
        "En resumen, la elección entre el Caso 1 y el Caso 2 depende de los objetivos y las restricciones específicas de la planificación de la fuerza laboral. El Caso 1 ofrece mayor flexibilidad y capacidad de respuesta a la demanda, pero a un mayor costo. El Caso 2 es más eficiente en términos de costos y ofrece una gestión más uniforme de los recursos humanos, aunque puede ser menos ágil en situaciones donde la demanda predicta pueda no ser la real, y el local se quede sin personal. Sin embargo, si quieremos minimizar los costos con la demanda predicta la mejor opción es el Caso2.\n",
        "\n"
      ]
    },
    {
      "cell_type": "markdown",
      "id": "9nrIuGxZ8J9G",
      "metadata": {
        "deletable": false,
        "editable": false,
        "id": "9nrIuGxZ8J9G",
        "nbgrader": {
          "cell_type": "markdown",
          "checksum": "f3727d5a19da5380612f1cd556041e03",
          "grade": false,
          "grade_id": "cell-37653baf2332c3e6",
          "locked": true,
          "schema_version": 3,
          "solution": false,
          "task": false
        }
      },
      "source": [
        "### Fin del laboratorio\n",
        "---\n",
        "\n",
        "¡Muchos éxitos!"
      ]
    }
  ],
  "metadata": {
    "colab": {
      "provenance": []
    },
    "kernelspec": {
      "display_name": "Python 3",
      "language": "python",
      "name": "python3"
    },
    "language_info": {
      "codemirror_mode": {
        "name": "ipython",
        "version": 3
      },
      "file_extension": ".py",
      "mimetype": "text/x-python",
      "name": "python",
      "nbconvert_exporter": "python",
      "pygments_lexer": "ipython3",
      "version": "3.11.4"
    },
    "toc-autonumbering": false,
    "toc-showcode": false,
    "toc-showmarkdowntxt": false,
    "toc-showtags": false
  },
  "nbformat": 4,
  "nbformat_minor": 5
}

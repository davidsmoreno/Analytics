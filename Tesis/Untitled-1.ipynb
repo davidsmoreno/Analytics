{
 "cells": [
  {
   "cell_type": "markdown",
   "metadata": {},
   "source": [
    "## Vamos a programar una red neuronal desde el principio\n"
   ]
  },
  {
   "cell_type": "markdown",
   "metadata": {},
   "source": [
    "#### Creacion de clase\n"
   ]
  },
  {
   "cell_type": "code",
   "execution_count": 9,
   "metadata": {},
   "outputs": [],
   "source": [
    "#Vamos a crear una clase Network que nos va a crear una red neuronal\n",
    "import random\n",
    "import numpy as np\n",
    "\n",
    "class Network(object):\n",
    "\n",
    "    #Creamos el atributo capas para la red\n",
    "    def __init__(self,sizes):\n",
    "        self.num_layer=len(sizes)\n",
    "        self.sizes=sizes\n",
    "        self.biases=[np.random.randn(y,1) for y in sizes[1:]]\n",
    "        self.weights=[np.random.randn(y,x) for x,y in zip(sizes[:-1],sizes[1:])]\n"
   ]
  },
  {
   "cell_type": "code",
   "execution_count": 5,
   "metadata": {},
   "outputs": [],
   "source": [
    "net=Network([2,3,1])"
   ]
  },
  {
   "cell_type": "code",
   "execution_count": 6,
   "metadata": {},
   "outputs": [
    {
     "data": {
      "text/plain": [
       "<__main__.Network at 0x10ae975d0>"
      ]
     },
     "execution_count": 6,
     "metadata": {},
     "output_type": "execute_result"
    }
   ],
   "source": [
    "## a"
   ]
  },
  {
   "cell_type": "code",
   "execution_count": 7,
   "metadata": {},
   "outputs": [],
   "source": [
    "def sigmoid(z):\n",
    "    return 1.0/(1.0+np.exp(-z))\n"
   ]
  },
  {
   "cell_type": "code",
   "execution_count": 8,
   "metadata": {},
   "outputs": [],
   "source": [
    "def feedforward(self,a):\n",
    "    for b,w in zip(self.biases,self.weigths):\n",
    "        a=sigmoid(np.dot(w,a)+b)\n",
    "    return a\n"
   ]
  },
  {
   "cell_type": "code",
   "execution_count": 12,
   "metadata": {},
   "outputs": [],
   "source": [
    "#Ahora tenemos el codigo de graient descent\n",
    "def SGD(self,training_data,epochs,mini_batch_size,eta,test_data=None):\n",
    "    if test_data:n_test=len(test_data)\n",
    "    n=len(training_data)\n",
    "    for j in xrange(epochs):\n",
    "        random.shuffle(training_data) #Randomice the data each time\n",
    "        mini_barches=[\n",
    "            training_data[k:k+mini_batch_size]\n",
    "            for k in xrange(0,n,mini_batch_size)]\n",
    "        for mini_batch in mini_batches:\n",
    "            self.update_mini_batch(mini_batch,eta)\n",
    "        if test_data:\n",
    "            print (\"Epoch {0}:{1}/{2}\".format(j,self.evaluate(test_data),n_test))\n",
    "        else:\n",
    "            print (\"Epoch {0} complete\".format(j))\n"
   ]
  },
  {
   "cell_type": "code",
   "execution_count": null,
   "metadata": {},
   "outputs": [],
   "source": [
    "def update_mini_batch(self,mini_batch,eta):\n",
    "    nabla_b=[np.zeros(b.shape) for b in self.biases]\n",
    "    nabla_w=[np.zeros(w.shape) for w in self.weights]\n",
    "    for x,y in mini_batch:\n",
    "        delta_nabla_b,delta_nabla_w=self.backprop(x,y)\n",
    "        nabla_b=[nb+dnb for nb,dnb in zip(nabla_b,delta_nabla_b)]\n",
    "        nabla_w=[nw+dnw for nw,dnw in zip(nabla_w,delta_nabla_w)]\n",
    "    self.weights=[w-(eta/len(mini_batch))*nw\n",
    "                    for w,nw in zip(self.weights,nabla_w)]\n",
    "    self.biases=[b-(eta/len(mini_batch))*nb\n",
    "                    for b,nb in zip(self.biases,nabla_b)]\n",
    "    \n",
    "    "
   ]
  },
  {
   "cell_type": "code",
   "execution_count": null,
   "metadata": {},
   "outputs": [],
   "source": []
  },
  {
   "cell_type": "code",
   "execution_count": null,
   "metadata": {},
   "outputs": [],
   "source": []
  },
  {
   "cell_type": "markdown",
   "metadata": {},
   "source": []
  }
 ],
 "metadata": {
  "kernelspec": {
   "display_name": "base",
   "language": "python",
   "name": "python3"
  },
  "language_info": {
   "codemirror_mode": {
    "name": "ipython",
    "version": 3
   },
   "file_extension": ".py",
   "mimetype": "text/x-python",
   "name": "python",
   "nbconvert_exporter": "python",
   "pygments_lexer": "ipython3",
   "version": "3.11.4"
  },
  "orig_nbformat": 4
 },
 "nbformat": 4,
 "nbformat_minor": 2
}

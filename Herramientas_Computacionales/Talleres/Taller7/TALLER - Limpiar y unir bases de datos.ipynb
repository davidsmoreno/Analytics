{
 "cells": [
  {
   "cell_type": "markdown",
   "metadata": {
    "nbgrader": {
     "grade": false,
     "grade_id": "head",
     "locked": true,
     "schema_version": 3,
     "solution": false,
     "task": false
    }
   },
   "source": [
    "<img src=\"Archivos/miad4.png\" width=800x>\n",
    "\n",
    "# Modificar, limpiar y unir datos utilizando `pandas`\n",
    "\n",
    "En este taller modificarás, limpiarás y unirás bases de datos al resolver diversos ejercicios."
   ]
  },
  {
   "cell_type": "markdown",
   "metadata": {
    "nbgrader": {
     "grade": false,
     "grade_id": "objs",
     "locked": true,
     "schema_version": 3,
     "solution": false,
     "task": false
    }
   },
   "source": [
    "## Habilidades en práctica\n",
    "\n",
    "Al realizar este taller podrás revisar tu progreso para:\n",
    "\n",
    "**1.** Modificar cadenas de texto contenidas en un `Series`.<br>\n",
    "**2.** Representar fechas utilizando el paquete `datetime`.<br>\n",
    "**3.** Imputar datos faltantes en un `DataFrame`.<br>\n",
    "**4.** Unir dos `DataFrame` por coincidencia de filas o columnas."
   ]
  },
  {
   "cell_type": "markdown",
   "metadata": {
    "nbgrader": {
     "grade": false,
     "grade_id": "dir",
     "locked": true,
     "schema_version": 3,
     "solution": false,
     "task": false
    }
   },
   "source": [
    "## Instrucciones\n",
    "\n",
    "En cada uno de los siguientes ejercicios deberás escribir el código solicitado estrictamente en las celdas indicadas para ello, teniendo en cuenta las siguientes recomendaciones:\n",
    "\n",
    "* No crear, eliminar o modificar celdas de este Notebook (salvo lo que se te indique), pues puede verse afectado el proceso de calificación automática.\n",
    "\n",
    "* La calificación se realiza de manera automática con datos diferentes a los proporcionados en este taller. Por consiguiente, tu código debe funcionar para diferentes instancias de cada uno de los ejercicios; una instancia hace referencia a los posibles valores de los parámetros.\n",
    "\n",
    "* La calificación de cada ejercicio depende del valor que retorne la función especificada en su enunciado. Por lo tanto, aunque implementes funciones adicionales, es escencial que utilices los nombres propuestos en los enunciados de los ejercicios para implementar la función definitiva."
   ]
  },
  {
   "cell_type": "markdown",
   "metadata": {
    "nbgrader": {
     "grade": false,
     "grade_id": "go",
     "locked": true,
     "schema_version": 3,
     "solution": false,
     "task": false
    }
   },
   "source": [
    "## Ejercicios\n",
    "En la siguente celda encuentras declarados los paquetes necesarios para el desarrollo de este taller."
   ]
  },
  {
   "cell_type": "code",
   "execution_count": 31,
   "metadata": {
    "nbgrader": {
     "grade": false,
     "grade_id": "import",
     "locked": true,
     "schema_version": 3,
     "solution": false,
     "task": false
    }
   },
   "outputs": [],
   "source": [
    "# No modifiques esta celda\n",
    "import numpy as np\n",
    "import pandas as pd\n",
    "from datetime import datetime"
   ]
  },
  {
   "cell_type": "markdown",
   "metadata": {
    "nbgrader": {
     "grade": false,
     "grade_id": "ej1_enun",
     "locked": true,
     "schema_version": 3,
     "solution": false,
     "task": false
    }
   },
   "source": [
    "### Ejercicio 1\n",
    "\n",
    "En la siguiente celda encuentras declarados dos `DataFrame` que almacenan los datos de los clientes de un negocio."
   ]
  },
  {
   "cell_type": "code",
   "execution_count": 32,
   "metadata": {
    "nbgrader": {
     "grade": false,
     "grade_id": "ej1_data",
     "locked": true,
     "schema_version": 3,
     "solution": false,
     "task": false
    },
    "scrolled": true
   },
   "outputs": [],
   "source": [
    "# No modifiques esta celda\n",
    "orden_cliente = pd.DataFrame([[70001, 3002],\n",
    "                              [70002, 3001],\n",
    "                              [70003, 3001],\n",
    "                              [70004, 3003],\n",
    "                              [70005, 3003]],\n",
    "                              columns = ['no_orden', 'id_cliente'])\n",
    "\n",
    "cliente_categoria = pd.DataFrame([[3001, \"Platino\"],\n",
    "                                  [3002, \"Oro\"    ],\n",
    "                                  [3003, \"Oro\"    ],\n",
    "                                  [3004, \"Bronce\" ]],\n",
    "                                  columns = ['id_cliente', 'Categoría Cliente'])"
   ]
  },
  {
   "cell_type": "markdown",
   "metadata": {
    "nbgrader": {
     "grade": false,
     "grade_id": "ej1_task",
     "locked": true,
     "schema_version": 3,
     "solution": false,
     "task": false
    }
   },
   "source": [
    "Implementa una función llamada `union_derecha` que reciba por parámetro dos `DataFrame` como los declarados en la celda anterior y que retorne un `DataFrame` resultado de la unión, donde se preserven todas las filas del segundo `DataFrame` y solo las que coincidan del primer `DataFrame`. La coincidencia debe hacerse evaluando la columna \"id_cliente\".\n",
    "\n",
    "La función debe retornar un `DataFrame`."
   ]
  },
  {
   "cell_type": "code",
   "execution_count": 33,
   "metadata": {
    "nbgrader": {
     "grade": false,
     "grade_id": "ej1_sol",
     "locked": false,
     "schema_version": 3,
     "solution": true,
     "task": false
    },
    "scrolled": true
   },
   "outputs": [],
   "source": [
    "## Implementa tu respuesta en esta celda\n",
    "def union_derecha(dataframe1,dataframe2):\n",
    "    union=pd.merge(dataframe1,dataframe2,how='right',on='id_cliente')\n",
    "    return union\n",
    "\n"
   ]
  },
  {
   "cell_type": "code",
   "execution_count": 34,
   "metadata": {
    "nbgrader": {
     "grade": true,
     "grade_id": "ej1_test",
     "locked": true,
     "points": 1,
     "schema_version": 3,
     "solution": false,
     "task": false
    }
   },
   "outputs": [
    {
     "name": "stdout",
     "output_type": "stream",
     "text": [
      "Felicidades, realizaste este ejercicio correctamente.\n"
     ]
    }
   ],
   "source": [
    "## AUTO-CALIFICADOR\n",
    "\n",
    "# Base variables\n",
    "orden_cliente = pd.DataFrame([[70001, 3002],\n",
    "                              [70002, 3001],\n",
    "                              [70003, 3001],\n",
    "                              [70004, 3003],\n",
    "                              [70005, 3003]],\n",
    "                              columns = ['no_orden', 'id_cliente'])\n",
    "\n",
    "cliente_categoria = pd.DataFrame([[3001, \"Platino\"],\n",
    "                                  [3002, \"Oro\"    ],\n",
    "                                  [3003, \"Oro\"    ],\n",
    "                                  [3004, \"Bronce\" ]],\n",
    "                                  columns = ['id_cliente', 'Categoría Cliente'])\n",
    "\n",
    "orden_cliente_prueba= pd.DataFrame([[70001, 3002],\n",
    "                                    [70002, 3002],\n",
    "                                    [70003, 3001],\n",
    "                                    [70004, 3000],\n",
    "                                    [70006, 3004]],\n",
    "                                   columns = ['no_orden', 'id_cliente'])\n",
    "\n",
    "cliente_categoria_prueba = pd.DataFrame([[3001, \"Platino\"],\n",
    "                                         [3002, \"Oro\"    ],\n",
    "                                         [3000, \"Oro\"    ],\n",
    "                                         [3001, \"Bronce\" ]],\n",
    "                                        columns = ['id_cliente', 'Categoría Cliente'])\n",
    "\n",
    "# Caso 1: no existe la función.\n",
    "try:\n",
    "    union_derecha\n",
    "    assert type(union_derecha) == type(lambda:None)\n",
    "except:\n",
    "    raise NotImplementedError(\"No existe una función llamada union_derecha.\",)\n",
    "    \n",
    "# Caso 2: la función es interrumpida por errores durante su ejecución.\n",
    "try:\n",
    "    union_derecha(orden_cliente, cliente_categoria)\n",
    "except:\n",
    "    raise RuntimeError(\"Tu función produce un error al ejecutarse.\")\n",
    "\n",
    "# Caso 3: no retorna un DataFrame.\n",
    "assert type(union_derecha(orden_cliente, cliente_categoria)) == type(orden_cliente), f\"Tu función debe retornar un objeto de tipo '{type(orden_cliente).__name__}'.\"\n",
    "\n",
    "# Caso 4: retorna un dataframe con cantidad de columnas errada\n",
    "assert union_derecha(orden_cliente, cliente_categoria).shape[1] == 3, \"Tu función retorna un DataFrame con cantidad de columnas errada.\"\n",
    "assert union_derecha(orden_cliente_prueba, cliente_categoria_prueba).shape[1] == 3, \"Tu función retorna un DataFrame con cantidad de columnas errada.\"\n",
    "\n",
    "# Caso 5: devuelve un dataframe con cantidad de filas errada\n",
    "assert union_derecha(orden_cliente, cliente_categoria).shape[0] == 6, \"Tu función retorna un DataFrame con cantidad de filas errada.\"\n",
    "assert union_derecha(orden_cliente_prueba, cliente_categoria_prueba).shape[0] == 5, \"Tu función retorna un DataFrame con cantidad de filas errada.\"\n",
    "\n",
    "# Caso 6: retorna los valores que son (dfs prueba)\n",
    "assert union_derecha(orden_cliente_prueba, cliente_categoria_prueba).iat[4,2] == 'Bronce', \"Tu función retorna un DataFrame con valores distintos a los esperados.\"\n",
    "assert union_derecha(orden_cliente_prueba, cliente_categoria_prueba).iat[4,1] == 3001, \"Tu función retorna un DataFrame con valores distintos a los esperados.\"\n",
    "\n",
    "### BEGIN HIDDEN TESTS\n",
    "'''\n",
    "from pandas.testing import assert_frame_equal\n",
    "\n",
    "def union_derecha_sol(df1, df2):\n",
    "    resultado = df1.merge(df2, how = 'right', left_on = \"id_cliente\", right_on = \"id_cliente\")        \n",
    "    return resultado\n",
    "\n",
    "students = union_derecha(orden_cliente, cliente_categoria)\n",
    "ours = union_derecha_sol(orden_cliente, cliente_categoria)\n",
    "\n",
    "try:\n",
    "    assert_frame_equal(students, ours)\n",
    "except AssertionError as e:\n",
    "    e.args += (\"Tu respuesta es incorrecta.\",)\n",
    "    raise\n",
    "''' \n",
    "### END HIDDEN TESTS\n",
    "\n",
    "print(\"Felicidades, realizaste este ejercicio correctamente.\")"
   ]
  },
  {
   "cell_type": "markdown",
   "metadata": {
    "nbgrader": {
     "grade": false,
     "grade_id": "ej2_enun",
     "locked": true,
     "schema_version": 3,
     "solution": false,
     "task": false
    }
   },
   "source": [
    "### Ejercicio 2\n",
    "\n",
    "En la siguiente celda encuentras declarados dos `DataFrame` que almacenan los datos de los clientes de un negocio."
   ]
  },
  {
   "cell_type": "code",
   "execution_count": 43,
   "metadata": {
    "nbgrader": {
     "grade": false,
     "grade_id": "ej2_data",
     "locked": true,
     "schema_version": 3,
     "solution": false,
     "task": false
    },
    "scrolled": true
   },
   "outputs": [],
   "source": [
    "# No modifiques esta celda\n",
    "cliente_categoria_orden = pd.DataFrame([[3002, \"Platino\", 70001],\n",
    "                                        [3004, \"Oro\",     70002],\n",
    "                                        [3003, \"Oro\",     70003]],\n",
    "                                        columns = ['id_cliente', 'Categoría Cliente', 'no_orden'])\n",
    "    \n",
    "cliente_categoria = pd.DataFrame([[3006, \"Oro\"    ],\n",
    "                                  [3001, \"Oro\"    ],\n",
    "                                  [3005, \"Platino\"],\n",
    "                                  [3007, \"Platino\"]],\n",
    "                                  columns = ['id_cliente', 'Categoría Cliente'])"
   ]
  },
  {
   "cell_type": "markdown",
   "metadata": {
    "nbgrader": {
     "grade": false,
     "grade_id": "ej2_task",
     "locked": true,
     "schema_version": 3,
     "solution": false,
     "task": false
    }
   },
   "source": [
    "Implementa una función llamada `concatenar_interno` que reciba por parámetro dos `DataFrame` como los declarados en la celda anterior y que retorne un `DataFrame` resultado de la unión, donde se preserven las filas de ambos `DataFrame`.\n",
    "\n",
    "La función deber retornar un `DataFrame` con las **columnas** que existan en ambos `DataFrame` y todas las filas de ambos."
   ]
  },
  {
   "cell_type": "code",
   "execution_count": 66,
   "metadata": {
    "nbgrader": {
     "grade": false,
     "grade_id": "ej2_sol",
     "locked": false,
     "schema_version": 3,
     "solution": true,
     "task": false
    }
   },
   "outputs": [],
   "source": [
    "\n",
    "def concatenar_interno(dataframe1, dataframe2):\n",
    "    # Encontramos las columnas que tienen en comun.\n",
    "    common_columns = dataframe1.columns.intersection(dataframe2.columns).tolist()\n",
    "    \n",
    "    # Unimos las dos bases de datos.\n",
    "    result = pd.merge(dataframe1[common_columns], dataframe2[common_columns], how='outer')\n",
    "    return result\n",
    "\n",
    "\n"
   ]
  },
  {
   "cell_type": "code",
   "execution_count": 65,
   "metadata": {
    "nbgrader": {
     "grade": true,
     "grade_id": "ej2_test",
     "locked": true,
     "points": 1,
     "schema_version": 3,
     "solution": false,
     "task": false
    }
   },
   "outputs": [
    {
     "name": "stdout",
     "output_type": "stream",
     "text": [
      "Felicidades, realizaste este ejercicio correctamente.\n"
     ]
    }
   ],
   "source": [
    "## AUTO-CALIFICADOR\n",
    "\n",
    "# Base variables\n",
    "cliente_categoria_orden = pd.DataFrame([[3002, \"Platino\", 70001],\n",
    "                                        [3004, \"Oro\",     70002],\n",
    "                                        [3003, \"Oro\",     70003]],\n",
    "                                        columns = ['id_cliente', 'Categoría Cliente', 'no_orden'])\n",
    "    \n",
    "cliente_categoria = pd.DataFrame([[3006, \"Oro\"    ],\n",
    "                                  [3001, \"Oro\"    ],\n",
    "                                  [3005, \"Platino\"]],\n",
    "                                  columns = ['id_cliente', 'Categoría Cliente'])\n",
    "\n",
    "cliente_categoria_orden_prueba = pd.DataFrame([[3002, \"Platino\", 70001],\n",
    "                                        [3004, \"Oro\",     70002],\n",
    "                                        [3003, \"Oro\",     70003]],\n",
    "                                        columns = ['id_cliente', 'Categoría Cliente', 'no_orden'])\n",
    "    \n",
    "cliente_categoria_prueba = pd.DataFrame([[3006, 70006],\n",
    "                                  [3001, 70007],\n",
    "                                  [3009, 70008]],\n",
    "                                  columns = ['id_cliente', 'no_orden'])\n",
    "\n",
    "# Caso 1: no existe la función.\n",
    "try:\n",
    "    concatenar_interno\n",
    "    assert type(concatenar_interno) == type(lambda:None)\n",
    "except:\n",
    "    raise NotImplementedError(\"No existe una función llamada union_interna.\",)\n",
    "    \n",
    "# Caso 2: la función es interrumpida por errores durante su ejecución.\n",
    "try:\n",
    "    concatenar_interno(cliente_categoria_orden, cliente_categoria)\n",
    "except:\n",
    "    raise RuntimeError(\"Tu función produce un error al ejecutarse.\")\n",
    "\n",
    "# Caso 3: no retorna un DataFrame.\n",
    "assert type(concatenar_interno(cliente_categoria_orden, cliente_categoria)) == type(cliente_categoria), f\"Tu función debe retornar un objeto de tipo '{type(orden_cliente).__name__}'.\"\n",
    "\n",
    "# Caso 4: retorna un dataframe con cantidad de columnas errada\n",
    "assert concatenar_interno(cliente_categoria_orden, cliente_categoria).shape[1] == 2, \"Tu función retorna un DataFrame con cantidad de columnas errada.\"\n",
    "\n",
    "# Caso 5: devuelve un dataframe con cantidad de filas errada\n",
    "assert concatenar_interno(cliente_categoria_orden, cliente_categoria).shape[0] == 6, \"Tu función retorna un DataFrame con cantidad de filas errada.\"\n",
    "\n",
    "# Caso 7: devuelve un dataframe cuyas columnas tienen nombre distinto de lo esperado (dfs prueba)\n",
    "assert [*concatenar_interno(cliente_categoria_orden_prueba, cliente_categoria_prueba).columns] == ['id_cliente','no_orden'], \"Tu función retorna un DataFrame con las columnas incorrectas.\"\n",
    "\n",
    "\n",
    "#Caso 8: retorna un dataframe con los valores correctos (dfs prueba)\n",
    "assert concatenar_interno(cliente_categoria_orden_prueba, cliente_categoria_prueba).iat[1,1] == 70002, \"Tu función retorna un DataFrame con los valores incorrectos.\"\n",
    "assert concatenar_interno(cliente_categoria_orden_prueba, cliente_categoria_prueba).iat[5,0] == 3009,\"Tu función retorna un DataFrame con los valores incorrectos.\"\n",
    "\n",
    "### BEGIN HIDDEN TESTS\n",
    "'''\n",
    "def concatenar_interno_sol(df, df2):\n",
    "    \n",
    "    resultado = pd.concat([df,df2], axis = 0, join = \"inner\")\n",
    "    \n",
    "    return resultado\n",
    "\n",
    "students = concatenar_interno(cliente_categoria_orden, cliente_categoria)\n",
    "ours = concatenar_interno_sol(cliente_categoria_orden, cliente_categoria)\n",
    "try:\n",
    "    assert_frame_equal(students, ours)\n",
    "except AssertionError as e:\n",
    "    e.args += ('Tu respuesta es incorrecta',)\n",
    "    raise\n",
    "'''\n",
    "### END HIDDEN TESTS\n",
    "print(\"Felicidades, realizaste este ejercicio correctamente.\")\n"
   ]
  },
  {
   "cell_type": "markdown",
   "metadata": {
    "nbgrader": {
     "grade": false,
     "grade_id": "ej3_enun",
     "locked": true,
     "schema_version": 3,
     "solution": false,
     "task": false
    }
   },
   "source": [
    "### Ejercicio 3\n",
    "\n",
    "En la siguiente celda encuentras declarado un `DataFrame` que almacena las ventas diarias de los tres principales productos de un negocio."
   ]
  },
  {
   "cell_type": "code",
   "execution_count": 68,
   "metadata": {
    "nbgrader": {
     "grade": false,
     "grade_id": "ej3_data",
     "locked": true,
     "schema_version": 3,
     "solution": false,
     "task": false
    },
    "scrolled": true
   },
   "outputs": [],
   "source": [
    "# No modifiques esta celda\n",
    "ventas = pd.DataFrame([[2600.0,  12200.0, 6000.0],\n",
    "                       [11200.0, 9000.0,  600.0 ],\n",
    "                       [np.nan,  8000.0,  3000.0],\n",
    "                       [4000.0,  np.nan,  np.nan],\n",
    "                       [np.nan,  10000.0, 2000.0]],\n",
    "                      columns = [\"Producto 1\", \"Producto 2\", \"Producto 3\"])"
   ]
  },
  {
   "cell_type": "markdown",
   "metadata": {
    "nbgrader": {
     "grade": false,
     "grade_id": "ej3_task",
     "locked": true,
     "schema_version": 3,
     "solution": false,
     "task": false
    }
   },
   "source": [
    "Implementa una función llamada `mediana_faltantes` que reciba por parámetro un `DataFrame` como el declarado en la celda anterior, complete los datos faltantes del `DataFrame` con la mediana de su columna respectiva y lo retorne.\n",
    "\n",
    "La función deber retornar un `DataFrame` sin datos faltantes."
   ]
  },
  {
   "cell_type": "code",
   "execution_count": 72,
   "metadata": {
    "nbgrader": {
     "grade": false,
     "grade_id": "ej3_sol",
     "locked": false,
     "schema_version": 3,
     "solution": true,
     "task": false
    }
   },
   "outputs": [
    {
     "name": "stdout",
     "output_type": "stream",
     "text": [
      "   Producto 1  Producto 2  Producto 3\n",
      "0      2600.0     12200.0      6000.0\n",
      "1     11200.0      9000.0       600.0\n",
      "2      4000.0      8000.0      3000.0\n",
      "3      4000.0      9500.0      2500.0\n",
      "4      4000.0     10000.0      2000.0\n"
     ]
    }
   ],
   "source": [
    "## Implementa tu respuesta en esta celda\n",
    "def mediana_faltantes(dataframe):\n",
    "    mediana=dataframe.median(axis=0)\n",
    "    dataframe=dataframe.fillna(mediana)\n",
    "    return dataframe\n",
    "\n",
    "mediana=mediana_faltantes(ventas)\n",
    "print(mediana)"
   ]
  },
  {
   "cell_type": "code",
   "execution_count": 70,
   "metadata": {
    "nbgrader": {
     "grade": true,
     "grade_id": "ej3_test",
     "locked": true,
     "points": 1,
     "schema_version": 3,
     "solution": false,
     "task": false
    }
   },
   "outputs": [
    {
     "name": "stdout",
     "output_type": "stream",
     "text": [
      "Felicidades, realizaste este ejercicio correctamente.\n"
     ]
    }
   ],
   "source": [
    "## AUTO-CALIFICADOR\n",
    "\n",
    "# Base variables\n",
    "ventas = pd.DataFrame([[2600.0,  12200.0, 6000.0],\n",
    "                       [11200.0, 9000.0,  600.0 ],\n",
    "                       [np.nan,  8000.0,  3000.0],\n",
    "                       [4000.0,  np.nan,  np.nan],\n",
    "                       [np.nan,  10000.0, 2000.0]],\n",
    "                      columns = [\"Producto 1\", \"Producto 2\", \"Producto 3\"])\n",
    "\n",
    "ventas_prueba = pd.DataFrame([[2600.0,  12200.0, 6000.0],\n",
    "                       [11200.0, 9000.0,  6000.0 ],\n",
    "                       [3000.0,  8000.0,  np.nan],\n",
    "                       [np.nan,  np.nan,  6500.0],\n",
    "                       [np.nan,  12000.0, 2000.0]],\n",
    "                      columns = [\"Producto 1\", \"Producto 2\", \"Producto 3\"])\n",
    "\n",
    "# Caso 1: no existe la función.\n",
    "try:\n",
    "    mediana_faltantes\n",
    "    assert type(mediana_faltantes) == type(lambda:None)\n",
    "except:\n",
    "    raise NotImplementedError(\"No existe una función llamada mediana_faltantes.\",)\n",
    "\n",
    "# Caso 2: la función es interrumpida por errores durante su ejecución.\n",
    "try:\n",
    "    mediana_faltantes(ventas)\n",
    "except:\n",
    "    raise RuntimeError(\"Tu función produce un error al ejecutarse.\")\n",
    "\n",
    "# Caso 3: no retorna un DataFrame.\n",
    "assert type(mediana_faltantes(ventas)) == type(ventas), f\"Tu función debe retornar un objeto de tipo '{type(ventas).__name__}'.\"\n",
    "\n",
    "# Caso 4: retorna un dataframe con cantidad de columnas errada\n",
    "assert mediana_faltantes(ventas).shape[1] == 3, \"Tu función retorna un DataFrame con cantidad de columnas errada.\"\n",
    "\n",
    "# Caso 5: devuelve un dataframe con cantidad de filas errada\n",
    "assert mediana_faltantes(ventas).shape[0] == 5, \"Tu función retorna un DataFrame con cantidad de filas errada.\"\n",
    "\n",
    "# Caso 5: no hay valores na\n",
    "assert mediana_faltantes(ventas).isnull().sum().sum() == 0, \"Tu función retorna un DataFrame con valores faltantes.\"\n",
    "assert mediana_faltantes(ventas_prueba).isnull().sum().sum() == 0, \"Tu función retorna un DataFrame con valores faltantes.\"\n",
    "# Caso 6: Los espacios vacios se llenan con la mediana\n",
    "assert mediana_faltantes(ventas_prueba).iat[3,0] == 3000.0, \"Tu función retorna un DataFrame que no llena los valores faltantes con la mediana.\"\n",
    "assert mediana_faltantes(ventas_prueba).iat[2,2] == 6000.0, \"Tu función retorna un DataFrame que no llena los valores faltantes con la mediana.\"\n",
    "#respuestas \n",
    "try:\n",
    "    assert mediana_faltantes(ventas).iat[2,0] == 4000\n",
    "    assert mediana_faltantes(ventas).iat[3,1] == 9500\n",
    "except AssertionError as e:\n",
    "    e.args += (\"Tu función retorna un DataFrame que no llena los valores faltantes con la mediana.\",)\n",
    "    raise e\n",
    "    \n",
    "### BEGIN HIDDEN TESTS\n",
    "'''\n",
    "def mediana_faltantes_sol(df):\n",
    "    resultado = df.fillna(df.median())\n",
    "    return resultado\n",
    "\n",
    "students = mediana_faltantes(ventas)\n",
    "ours = mediana_faltantes_sol(ventas)\n",
    "\n",
    "try:\n",
    "    assert_frame_equal(students, ours)\n",
    "except AssertionError as e:\n",
    "    e.args += ('Tu respuesta es incorrecta',)\n",
    "    raise\n",
    "'''  \n",
    "### END HIDDEN TESTS\n",
    "\n",
    "print(\"Felicidades, realizaste este ejercicio correctamente.\")"
   ]
  },
  {
   "cell_type": "markdown",
   "metadata": {
    "nbgrader": {
     "grade": false,
     "grade_id": "ej4_enun",
     "locked": true,
     "schema_version": 3,
     "solution": false,
     "task": false
    }
   },
   "source": [
    "### Ejercicio 4\n",
    "\n",
    "En la siguiente celda encuentras declarados dos `DataFrame` que almacenan los datos de los clientes de un negocio."
   ]
  },
  {
   "cell_type": "code",
   "execution_count": 125,
   "metadata": {
    "nbgrader": {
     "grade": false,
     "grade_id": "ej4_data",
     "locked": true,
     "schema_version": 3,
     "solution": false,
     "task": false
    },
    "scrolled": true
   },
   "outputs": [],
   "source": [
    "# No modifiques esta celda\n",
    "clientes = pd.DataFrame([[3002, \"Masculino\", \"No\"],\n",
    "                         [3001, \"Femenino\",  \"No\"],\n",
    "                         [3003, \"Femenino\",  \"Sí\"]],\n",
    "                        columns = [\"id_cliente\", \"Sexo\", \"Cliente Premium\"])"
   ]
  },
  {
   "cell_type": "markdown",
   "metadata": {
    "nbgrader": {
     "grade": false,
     "grade_id": "ej4_task",
     "locked": true,
     "schema_version": 3,
     "solution": false,
     "task": false
    }
   },
   "source": [
    "Implemente una función llamada `cliente_dummies` que reciba por parámetro un `DataFrame` como el declarado en la celda anterior, y retorne un `DataFrame` con la representación en variables *dummy* de las columnas `\"Sexo\"` y `\"Cliente Premium\"`.\n",
    "\n",
    "* La variable `\"Sexo\"` debe ser representada por un 1 si su valor es `\"Femenino\"` y cero de lo contrario.\n",
    "* La variable `\"Cliente Premium\"` debe ser representada por un 1 si su valor es `\"No\"` y cero de lo contrario.\n",
    "\n",
    "La función deber retornar un `DataFrame` con la misma cantidad de filas y columnas, pero números binarios en lugar de los registros de sexo y si es cliente premium."
   ]
  },
  {
   "cell_type": "code",
   "execution_count": 126,
   "metadata": {
    "nbgrader": {
     "grade": false,
     "grade_id": "ej4_sol",
     "locked": false,
     "schema_version": 3,
     "solution": true,
     "task": false
    }
   },
   "outputs": [],
   "source": [
    "def cliente_dummies(dataframe):\n",
    "    # Crea variables dummy para la columna \"Sexo\"\n",
    "    dataframe['Sexo'] = dataframe['Sexo'].apply(lambda x: 1 if x == 'Femenino' else 0)\n",
    "    \n",
    "    # Crea variables dummy para la columna \"Cliente Premium\"\n",
    "    dataframe['Cliente Premium'] = dataframe['Cliente Premium'].apply(lambda x: 1 if x == 'No' else 0)\n",
    "    \n",
    "    return dataframe\n",
    "\n"
   ]
  },
  {
   "cell_type": "code",
   "execution_count": 127,
   "metadata": {
    "nbgrader": {
     "grade": true,
     "grade_id": "ej4_test",
     "locked": true,
     "points": 1,
     "schema_version": 3,
     "solution": false,
     "task": false
    }
   },
   "outputs": [
    {
     "ename": "AssertionError",
     "evalue": "Tu función retorna un DataFrame con los valores incorrectos.",
     "output_type": "error",
     "traceback": [
      "\u001b[1;31m---------------------------------------------------------------------------\u001b[0m",
      "\u001b[1;31mAssertionError\u001b[0m                            Traceback (most recent call last)",
      "\u001b[1;32mc:\\Users\\David\\Documents\\Analytics\\Herramientas_Computacionales\\Talleres\\Taller7\\TALLER - Limpiar y unir bases de datos.ipynb Cell 25\u001b[0m line \u001b[0;36m3\n\u001b[0;32m     <a href='vscode-notebook-cell:/c%3A/Users/David/Documents/Analytics/Herramientas_Computacionales/Talleres/Taller7/TALLER%20-%20Limpiar%20y%20unir%20bases%20de%20datos.ipynb#X33sZmlsZQ%3D%3D?line=35'>36</a>\u001b[0m \u001b[39m#Caso 6: Tu funcion no retorna los dummies que son (prueba)\u001b[39;00m\n\u001b[0;32m     <a href='vscode-notebook-cell:/c%3A/Users/David/Documents/Analytics/Herramientas_Computacionales/Talleres/Taller7/TALLER%20-%20Limpiar%20y%20unir%20bases%20de%20datos.ipynb#X33sZmlsZQ%3D%3D?line=36'>37</a>\u001b[0m \u001b[39massert\u001b[39;00m cliente_dummies(clientes_prueba)\u001b[39m.\u001b[39miat[\u001b[39m1\u001b[39m,\u001b[39m1\u001b[39m] \u001b[39m==\u001b[39m \u001b[39m0\u001b[39m,\u001b[39m\"\u001b[39m\u001b[39mTu función retorna un DataFrame con los valores incorrectos.\u001b[39m\u001b[39m\"\u001b[39m\n\u001b[1;32m---> <a href='vscode-notebook-cell:/c%3A/Users/David/Documents/Analytics/Herramientas_Computacionales/Talleres/Taller7/TALLER%20-%20Limpiar%20y%20unir%20bases%20de%20datos.ipynb#X33sZmlsZQ%3D%3D?line=37'>38</a>\u001b[0m \u001b[39massert\u001b[39;00m cliente_dummies(clientes_prueba)\u001b[39m.\u001b[39miat[\u001b[39m1\u001b[39m,\u001b[39m2\u001b[39m] \u001b[39m==\u001b[39m \u001b[39m1\u001b[39m,\u001b[39m\"\u001b[39m\u001b[39mTu función retorna un DataFrame con los valores incorrectos.\u001b[39m\u001b[39m\"\u001b[39m\n\u001b[0;32m     <a href='vscode-notebook-cell:/c%3A/Users/David/Documents/Analytics/Herramientas_Computacionales/Talleres/Taller7/TALLER%20-%20Limpiar%20y%20unir%20bases%20de%20datos.ipynb#X33sZmlsZQ%3D%3D?line=40'>41</a>\u001b[0m \u001b[39m### BEGIN HIDDEN TESTS\u001b[39;00m\n\u001b[0;32m     <a href='vscode-notebook-cell:/c%3A/Users/David/Documents/Analytics/Herramientas_Computacionales/Talleres/Taller7/TALLER%20-%20Limpiar%20y%20unir%20bases%20de%20datos.ipynb#X33sZmlsZQ%3D%3D?line=41'>42</a>\u001b[0m \u001b[39m'''\u001b[39;00m\n\u001b[0;32m     <a href='vscode-notebook-cell:/c%3A/Users/David/Documents/Analytics/Herramientas_Computacionales/Talleres/Taller7/TALLER%20-%20Limpiar%20y%20unir%20bases%20de%20datos.ipynb#X33sZmlsZQ%3D%3D?line=42'>43</a>\u001b[0m \u001b[39mdef cliente_dummies_sol(df):\u001b[39;00m\n\u001b[0;32m     <a href='vscode-notebook-cell:/c%3A/Users/David/Documents/Analytics/Herramientas_Computacionales/Talleres/Taller7/TALLER%20-%20Limpiar%20y%20unir%20bases%20de%20datos.ipynb#X33sZmlsZQ%3D%3D?line=43'>44</a>\u001b[0m \u001b[39m    \u001b[39;00m\n\u001b[1;32m   (...)\u001b[0m\n\u001b[0;32m     <a href='vscode-notebook-cell:/c%3A/Users/David/Documents/Analytics/Herramientas_Computacionales/Talleres/Taller7/TALLER%20-%20Limpiar%20y%20unir%20bases%20de%20datos.ipynb#X33sZmlsZQ%3D%3D?line=56'>57</a>\u001b[0m \u001b[39m    raise\u001b[39;00m\n\u001b[0;32m     <a href='vscode-notebook-cell:/c%3A/Users/David/Documents/Analytics/Herramientas_Computacionales/Talleres/Taller7/TALLER%20-%20Limpiar%20y%20unir%20bases%20de%20datos.ipynb#X33sZmlsZQ%3D%3D?line=57'>58</a>\u001b[0m \u001b[39m'''\u001b[39;00m\n",
      "\u001b[1;31mAssertionError\u001b[0m: Tu función retorna un DataFrame con los valores incorrectos."
     ]
    }
   ],
   "source": [
    "## AUTO-CALIFICADOR\n",
    "\n",
    "# Base variables\n",
    "clientes = pd.DataFrame([[3002, \"Masculino\", \"No\"],\n",
    "                         [3001, \"Femenino\",  \"No\"],\n",
    "                         [3003, \"Femenino\",  \"Sí\"]],\n",
    "                        columns = [\"id_cliente\", \"Sexo\", \"Cliente Premium\"])\n",
    "\n",
    "clientes_prueba = pd.DataFrame([[3002, \"Masculino\", \"Sí\"],\n",
    "                         [3001, \"Masculino\",  \"No\"],\n",
    "                         [3003, \"Femenino\",  \"Sí\"]],\n",
    "                        columns = [\"id_cliente\", \"Sexo\", \"Cliente Premium\"])\n",
    "\n",
    "# Caso 1: no existe la función.\n",
    "try:\n",
    "    cliente_dummies\n",
    "    assert type(cliente_dummies) == type(lambda:None)\n",
    "except:\n",
    "    raise NotImplementedError(\"No existe una función llamada cliente_dummies.\",)\n",
    "\n",
    "# Caso 2: la función es interrumpida por errores durante su ejecución.\n",
    "try:\n",
    "    cliente_dummies(clientes)\n",
    "except:\n",
    "    raise RuntimeError(\"Tu función produce un error al ejecutarse.\")\n",
    "\n",
    "# Caso 3: no retorna un DataFrame.\n",
    "assert type(cliente_dummies(clientes)) == type(clientes), f\"Tu función debe retornar un objeto de tipo '{type(clientes).__name__}'.\"\n",
    "\n",
    "# Caso 4: retorna un dataframe con cantidad de columnas errada\n",
    "assert cliente_dummies(clientes).shape[1] == 3, \"Tu función retorna un DataFrame con cantidad de columnas errada.\"\n",
    "\n",
    "# Caso 5: devuelve un dataframe con cantidad de filas errada\n",
    "assert cliente_dummies(clientes).shape[0] == 3, \"Tu función retorna un DataFrame con cantidad de filas errada.\"\n",
    "\n",
    "#Caso 6: Tu funcion no retorna los dummies que son (prueba)\n",
    "assert cliente_dummies(clientes_prueba).iat[1,1] == 0,\"Tu función retorna un DataFrame con los valores incorrectos.\"\n",
    "assert cliente_dummies(clientes_prueba).iat[1,2] == 1,\"Tu función retorna un DataFrame con los valores incorrectos.\"\n",
    "\n",
    "\n",
    "### BEGIN HIDDEN TESTS\n",
    "'''\n",
    "def cliente_dummies_sol(df):\n",
    "    \n",
    "    resultado = df.copy()\n",
    "    resultado['Sexo'] = resultado['Sexo'].str.get_dummies()\n",
    "    resultado['Cliente Premium'] = resultado['Cliente Premium'].str.get_dummies()\n",
    "    \n",
    "    return resultado\n",
    "\n",
    "students = cliente_dummies(clientes)\n",
    "ours = cliente_dummies_sol(clientes)\n",
    "try:\n",
    "    assert_frame_equal(students, ours)\n",
    "except AssertionError as e:\n",
    "    e.args += ('Tu respuesta es incorrecta',)\n",
    "    raise\n",
    "'''\n",
    "### END HIDDEN TESTS\n",
    "print(\"Felicidades, realizaste este ejercicio correctamente.\")\n"
   ]
  },
  {
   "cell_type": "markdown",
   "metadata": {
    "nbgrader": {
     "grade": false,
     "grade_id": "ej5_enun",
     "locked": true,
     "schema_version": 3,
     "solution": false,
     "task": false
    }
   },
   "source": [
    "### Ejercicio 5\n",
    "\n",
    "En la siguiente celda encuentras declarada una fecha tipo cadena de caracteres."
   ]
  },
  {
   "cell_type": "code",
   "execution_count": 128,
   "metadata": {
    "nbgrader": {
     "grade": false,
     "grade_id": "ej5_data",
     "locked": true,
     "schema_version": 3,
     "solution": false,
     "task": false
    },
    "scrolled": true
   },
   "outputs": [],
   "source": [
    "# No modifiques esta celda\n",
    "fecha_string = \"2020-10-December\""
   ]
  },
  {
   "cell_type": "markdown",
   "metadata": {
    "nbgrader": {
     "grade": false,
     "grade_id": "ej5_task",
     "locked": true,
     "schema_version": 3,
     "solution": false,
     "task": false
    }
   },
   "source": [
    "Implemente una función llamada `cadena_a_fecha` que reciba por parámetro una cadena como la declarada en la celda anterior y retorne un objeto de tipo `datetime` que represente la misma fecha.\n",
    "\n",
    "La función deber retornar un objeto de tipo `datetime`."
   ]
  },
  {
   "cell_type": "code",
   "execution_count": 129,
   "metadata": {
    "nbgrader": {
     "grade": false,
     "grade_id": "ej5_sol",
     "locked": false,
     "schema_version": 3,
     "solution": true,
     "task": false
    }
   },
   "outputs": [],
   "source": [
    "## Implementa tu respuesta en esta celda\n",
    "def cadena_a_fecha(cadena):\n",
    "    fecha=datetime.strptime(cadena,'%Y-%d-%B')\n",
    "    return fecha\n"
   ]
  },
  {
   "cell_type": "code",
   "execution_count": 130,
   "metadata": {
    "nbgrader": {
     "grade": true,
     "grade_id": "ej5_test",
     "locked": true,
     "points": 1,
     "schema_version": 3,
     "solution": false,
     "task": false
    }
   },
   "outputs": [
    {
     "name": "stdout",
     "output_type": "stream",
     "text": [
      "Felicidades, realizaste este ejercicio correctamente.\n"
     ]
    }
   ],
   "source": [
    "## AUTO-CALIFICADOR\n",
    "\n",
    "# Base variables\n",
    "\n",
    "fecha_string = \"2020-10-December\"\n",
    "\n",
    "fecha_string_prueba = \"2021-20-October\"\n",
    "\n",
    "# Caso 1: no existe la función.\n",
    "try:\n",
    "    cadena_a_fecha\n",
    "    assert type(cadena_a_fecha) == type(lambda:None)\n",
    "except:\n",
    "    raise NotImplementedError(\"No existe una función llamada cadena_a_fecha.\",)\n",
    "\n",
    "# Caso 2: la función es interrumpida por errores durante su ejecución.\n",
    "try:\n",
    "    cadena_a_fecha\n",
    "except:\n",
    "    raise RuntimeError(\"Tu función produce un error al ejecutarse.\")\n",
    "\n",
    "# Caso 3: no retorna un Datetime.\n",
    "assert type(cadena_a_fecha(fecha_string)) == datetime, f\"Tu función debe retornar un objeto de tipo '{datetime.__name__}'.\"\n",
    "\n",
    "#Caso 4: retorna la fecha correcta\n",
    "assert cadena_a_fecha(fecha_string_prueba) == datetime(2021, 10, 20, 0, 0), f\"Tu respuesta es incorrecta.\"\n",
    "assert cadena_a_fecha(fecha_string) == datetime(2020, 12, 10, 0, 0), f\"Tu respuesta es incorrecta.\"\n",
    "\n",
    "### BEGIN HIDDEN TESTS\n",
    "'''\n",
    "def cadena_a_fecha_sol(cadena):\n",
    "\n",
    "    resultado = datetime.strptime(fecha_string,\"%Y-%d-%B\")\n",
    "    \n",
    "    return resultado\n",
    "\n",
    "students = cadena_a_fecha(fecha_string)\n",
    "ours = cadena_a_fecha_sol(fecha_string)\n",
    "try:\n",
    "    assert students == ours\n",
    "except AssertionError as e:\n",
    "    e.args += ('Tu respuesta es incorrecta.',)\n",
    "    raise\n",
    "''' \n",
    "### END HIDDEN TESTS\n",
    "\n",
    "print(\"Felicidades, realizaste este ejercicio correctamente.\")"
   ]
  },
  {
   "cell_type": "markdown",
   "metadata": {
    "nbgrader": {
     "grade": false,
     "grade_id": "ej6_enun",
     "locked": true,
     "schema_version": 3,
     "solution": false,
     "task": false
    }
   },
   "source": [
    "### Ejercicio 6\n",
    "\n",
    "Junto a este Notebook encontrarás dos archivos de Excel. Cada uno de estos archivos contiene una base de datos, ambas provistas por el Banco de la República.\n",
    "\n",
    "La primera base de datos (`\"1.1.TIB_Serie historica IQY.xlsx\"`) corresponde a la tasa a la que se puede prestar o pedir prestado entre los bancos.\n",
    "\n",
    "La segunda base de datos (`\"1.2.TIP_Serie historica diaria IQY.xlsx\"`) corresponde a la tasa de interés de referencia fijada por el Banco de la República.\n",
    "\n",
    "Implemente una función llamada `union_izquierda` que no reciba parámetros, importe los datos de los archivos de Excel y retorne un `DataFrame` resultado de la unión, donde se preserven todas las filas de los datos de la Tasa Interbancaria y solo las que coincidan de la Tasa de Intervención Pública. La coincidencia debe hacerse evaluando la columna \"Fecha\".\n",
    "\n",
    "La función debe retornar un `DataFrame`."
   ]
  },
  {
   "cell_type": "code",
   "execution_count": 183,
   "metadata": {
    "nbgrader": {
     "grade": false,
     "grade_id": "ej6_sol",
     "locked": false,
     "schema_version": 3,
     "solution": true,
     "task": false
    },
    "scrolled": true
   },
   "outputs": [],
   "source": [
    "def union_izquierda():\n",
    "\n",
    "\n",
    "    df1 = pd.read_excel('Archivos/1.1.TIB_Serie historica IQY.xlsx', sheet_name='Sheet1', header=7)\n",
    "    df2 = pd.read_excel('Archivos/1.2.TIP_Serie historica diaria IQY.xlsx', header=7)\n",
    "    df1['Fecha(dd/mm/aaaa)'] = pd.to_datetime(df1['Fecha(dd/mm/aaaa)'], format='%Y-%m-%d', errors='coerce')\n",
    "    df2['Fecha (dd/mm/aaaa)']=pd.to_datetime(df2['Fecha (dd/mm/aaaa)'], format='%Y-%m-%d', errors='coerce')\n",
    "\n",
    "    resultado = pd.merge(df1, df2, how='left', left_on='Fecha(dd/mm/aaaa)', right_on='Fecha (dd/mm/aaaa)')\n",
    "    return resultado\n"
   ]
  },
  {
   "cell_type": "code",
   "execution_count": 184,
   "metadata": {
    "nbgrader": {
     "grade": true,
     "grade_id": "ej6_test",
     "locked": true,
     "points": 1,
     "schema_version": 3,
     "solution": false,
     "task": false
    }
   },
   "outputs": [
    {
     "name": "stdout",
     "output_type": "stream",
     "text": [
      "Felicidades, realizaste este ejercicio correctamente.\n"
     ]
    }
   ],
   "source": [
    "## AUTO-CALIFICADOR\n",
    "\n",
    "# Caso 1: no existe la función.\n",
    "try:\n",
    "    union_izquierda\n",
    "    assert type(union_izquierda) == type(lambda:None)\n",
    "except:\n",
    "    raise NotImplementedError(\"No existe una función llamada union_izquierda.\",)\n",
    "\n",
    "# Caso 2: la función es interrumpida por errores durante su ejecución.\n",
    "try:\n",
    "    union_izquierda\n",
    "except:\n",
    "    raise RuntimeError(\"Tu función produce un error al ejecutarse.\")\n",
    "\n",
    "# Caso 3: no retorna un Dataframe.\n",
    "assert type(union_izquierda()) == pd.core.frame.DataFrame, f\"Tu función debe retornar un objeto de tipo '{pd.core.frame.DataFrame.__name__}'.\"\n",
    "\n",
    "### BEGIN HIDDEN TESTS\n",
    "'''\n",
    "def union_izquierda_sol():\n",
    "\n",
    "    TIB = pd.read_excel(\"Archivos/1.1.TIB_Serie historica IQY.xlsx\",\n",
    "                        index_col=0, usecols = [0,1], skiprows =7, skipfooter = 5) \n",
    "    TIP = pd.read_excel(\"Archivos/1.2.TIP_Serie historica diaria IQY.xlsx\",\n",
    "                        index_col=0, usecols = [0,1], skiprows =7, skipfooter = 5)\n",
    "    resultado = TIP.join(TIB, how= \"left\")\n",
    "    \n",
    "    return resultado\n",
    "\n",
    "students = union_izquierda()\n",
    "ours = union_izquierda_sol()\n",
    "try:\n",
    "    assert_frame_equal(students, ours)\n",
    "except AssertionError as e:\n",
    "    e.args += ('Tu respuesta es incorrecta, intentalo de nuevo',)\n",
    "    raise\n",
    "'''\n",
    "### END HIDDEN TESTS\n",
    "\n",
    "print(\"Felicidades, realizaste este ejercicio correctamente.\")"
   ]
  },
  {
   "cell_type": "markdown",
   "metadata": {
    "nbgrader": {
     "grade": false,
     "grade_id": "ej7_enun",
     "locked": true,
     "schema_version": 3,
     "solution": false,
     "task": false
    }
   },
   "source": [
    "### Ejercicio 7\n",
    "\n",
    "Crea una función llamada `ejercicio7` que reciba un `DataFrame` y retorne en una lista el nombre de las columnas que tienen más de 1 dato faltante. Puedes usar el `DataFrame` de la celda de código para probar que tu función este obteniendo el resultado correctamente. Recuerda que pueden usarse otros `DataFrame` para poner a prueba tu función.\n",
    "\n",
    "La función `ejercicio7` debe retornar una lista."
   ]
  },
  {
   "cell_type": "code",
   "execution_count": 137,
   "metadata": {
    "nbgrader": {
     "grade": false,
     "grade_id": "ej7_data",
     "locked": true,
     "schema_version": 3,
     "solution": false,
     "task": false
    }
   },
   "outputs": [],
   "source": [
    "# No modifiques esta celda\n",
    "df = pd.DataFrame({'no_orden':    [70001,np.nan,70002,70004,np.nan,70005,np.nan,70010,70003,70012,np.nan,70013],\n",
    "                   'monto US$':   [150.5,270.65,65.26,110.5,948.5,2400.6,5760,1983.43,2480.4,250.45, 75.29,3045.6],\n",
    "                   'Fecha Orden': ['2012-10-05','2012-09-10',np.nan,'2012-08-17','2012-09-10','2012-07-27','2012-09-10','2012-10-10','2012-10-10','2012-06-27','2012-08-17','2012-04-25'],\n",
    "                   'idCliente':   [3002,3001,3001,3003,3002,3001,3001,3004,3003,3002,3001,3001],\n",
    "                   'idVendedor':  [5002,5003,5001,np.nan,5002,5001,5001,np.nan,5003,5002,5003,np.nan]})"
   ]
  },
  {
   "cell_type": "code",
   "execution_count": 141,
   "metadata": {
    "nbgrader": {
     "grade": false,
     "grade_id": "ej7_sol",
     "locked": false,
     "schema_version": 3,
     "solution": true,
     "task": false
    }
   },
   "outputs": [],
   "source": [
    "## Implementa tu respuesta en esta celda\n",
    "def ejercicio7(df):\n",
    "    n_columns=[]\n",
    "    for columns in df.columns:\n",
    "        count_na=df[columns].isnull().sum()\n",
    "        if count_na>1:\n",
    "            n_columns.append(columns)\n",
    "    return n_columns\n",
    "\n",
    "\n",
    "\n"
   ]
  },
  {
   "cell_type": "code",
   "execution_count": 142,
   "metadata": {
    "nbgrader": {
     "grade": true,
     "grade_id": "ej7_test",
     "locked": true,
     "points": 1,
     "schema_version": 3,
     "solution": false,
     "task": false
    }
   },
   "outputs": [
    {
     "name": "stdout",
     "output_type": "stream",
     "text": [
      "Felicidades, realizaste este ejercicio correctamente.\n"
     ]
    }
   ],
   "source": [
    "## AUTO-CALIFICADOR\n",
    "\n",
    "# Base variables\n",
    "\n",
    "df = pd.DataFrame({\n",
    "    'no_orden':[70001,np.nan,70002,70004,np.nan,70005,np.nan,70010,70003,70012,np.nan,70013],\n",
    "    'monto US$':[150.5,270.65,65.26,110.5,948.5,2400.6,5760,1983.43,2480.4,250.45, 75.29,3045.6],\n",
    "    'Fecha Orden': ['2012-10-05','2012-09-10',np.nan,'2012-08-17','2012-09-10','2012-07-27','2012-09-10','2012-10-10','2012-10-10','2012-06-27','2012-08-17','2012-04-25'],\n",
    "    'idCliente':[3002,3001,3001,3003,3002,3001,3001,3004,3003,3002,3001,3001],\n",
    "    'idVendedor':[5002,5003,5001,np.nan,5002,5001,5001,np.nan,5003,5002,5003,np.nan]})\n",
    "\n",
    "df_prueba = pd.DataFrame({\n",
    "    'no_orden':[70001,np.nan,70002,70004,np.nan,70005,np.nan,70010,70003,70012,np.nan,70013],\n",
    "    'monto US$':[150.5,270.65,65.26,110.5,948.5,2400.6,5760,1983.43,2480.4,250.45, 75.29,3045.6],\n",
    "    'Fecha Orden': ['2012-10-05','2012-09-10',np.nan,'2012-08-17','2012-09-10','2012-07-27','2012-09-10','2012-10-10','2012-10-10','2012-06-27','2012-08-17','2012-04-25'],\n",
    "    'idCliente':[3002,3001,3001,3003,3002,np.nan,3001,np.nan,3003,3002,3001,3001],\n",
    "    'idVendedor':[5002,5003,5001,5003,5002,5001,5001,5001,5003,5002,5003,np.nan]})\n",
    "\n",
    "# Caso 1: no existe la función.\n",
    "try:\n",
    "    ejercicio7\n",
    "    assert type(ejercicio7) == type(lambda:None)\n",
    "except:\n",
    "    raise NotImplementedError(\"No existe una función llamada ejercicio7.\",)\n",
    "\n",
    "# Caso 2: la función es interrumpida por errores durante su ejecución.\n",
    "try:\n",
    "    ejercicio7\n",
    "except:\n",
    "    raise RuntimeError(\"Tu función produce un error al ejecutarse.\")\n",
    "\n",
    "# Caso 3: no retorna un Dataframe.\n",
    "assert type(ejercicio7(df)) == list, f\"Tu función debe retornar un objeto de tipo '{list.__name__}'.\"\n",
    "\n",
    "# Caso 4: Probar con otro Dataframe que sean esas dos.\n",
    "assert ejercicio7(df_prueba) == ['no_orden', 'idCliente'], f\"Tu respuesta es incorrecta.\"\n",
    "\n",
    "### BEGIN HIDDEN TESTS\n",
    "'''\n",
    "#probar con la otra respuesta? sera buena idea botarles la repsuesta\n",
    "\n",
    "def ejercicio7_sol(df): \n",
    "    cantidad_faltantes = df.isnull().sum()  \n",
    "    return [*cantidad_faltantes[cantidad_faltantes > 1].index]\n",
    "\n",
    "assert ejercicio7(df) == ejercicio7_sol(df)\n",
    "assert ejercicio7(df_prueba) == ejercicio7_sol(df_prueba)\n",
    "'''\n",
    "### END HIDDEN TESTS\n",
    "\n",
    "print(\"Felicidades, realizaste este ejercicio correctamente.\")"
   ]
  },
  {
   "cell_type": "markdown",
   "metadata": {
    "nbgrader": {
     "grade": false,
     "grade_id": "ej8_enun",
     "locked": true,
     "schema_version": 3,
     "solution": false,
     "task": false
    }
   },
   "source": [
    "### Ejercicio 8\n",
    "\n",
    "Colombia es un país con un gran número de días feriados. En la carpeta de este taller encontrarás una base de datos (`\"Festivos.xlsx\"`) que contiene estas fechas. Esta base de datos organiza en columnas los festivos de cada año, desde el año 2001 hasta el año 2019. Todos los festivos se presentan con el mismo formato: \n",
    "\n",
    "    6 Enero Día de los Reyes Magos\n",
    "\n",
    "Crea una función llamada `ejercicio8` que procese la base de datos de festivos, de manera que retorne un objeto de tipo `DatetimeIndex` con todos los festivos que se han presentado en Colombia desde el año 2012 hasta el año 2020. \n",
    "\n",
    "Al imprimirse, el objeto tendría el siguientes aspecto:\n",
    "\n",
    "    DatetimeIndex(['2001-01-01', '2001-01-08', '2001-03-19', '2001-04-12',\n",
    "                   '2001-04-13', '2001-05-01', '2001-05-28', '2001-06-18',\n",
    "                   '2001-06-25', '2001-07-02',\n",
    "                   ...\n",
    "                   '2020-06-29', '2020-07-20', '2020-08-07', '2020-08-17',\n",
    "                   '2020-10-12', '2020-11-02', '2020-11-16', '2020-12-08',\n",
    "                   '2020-12-25', '2020-12-31'],\n",
    "                   dtype = 'datetime64[ns]', name = 'Fecha', length = 380, freq = None)\n",
    "    \n",
    "En la caja de código se le incluirá una lista con los meses del año. Esta lista le puede resultar util para procesar la información del `DataFrame`.\n",
    "\n",
    "La función `ejercicio8` debe retornar un objeto `DatetimeIndex`."
   ]
  },
  {
   "cell_type": "code",
   "execution_count": 22,
   "metadata": {
    "nbgrader": {
     "grade": false,
     "grade_id": "ej8_data",
     "locked": true,
     "schema_version": 3,
     "solution": false,
     "task": false
    },
    "scrolled": false
   },
   "outputs": [],
   "source": [
    "# No modifiques esta celda\n",
    "lista_meses = [\"Enero\",      \"Febrero\", \"Marzo\",     \"Abril\",\n",
    "               \"Mayo\",       \"Junio\",   \"Julio\",     \"Agosto\",\n",
    "               \"Septiembre\", \"Octubre\", \"Noviembre\", \"Diciembre\"] "
   ]
  },
  {
   "cell_type": "code",
   "execution_count": null,
   "metadata": {
    "nbgrader": {
     "grade": false,
     "grade_id": "ej8_sol",
     "locked": false,
     "schema_version": 3,
     "solution": true,
     "task": false
    }
   },
   "outputs": [],
   "source": [
    "## Implementa tu respuesta en esta celda\n"
   ]
  },
  {
   "cell_type": "code",
   "execution_count": 24,
   "metadata": {
    "nbgrader": {
     "grade": true,
     "grade_id": "ej8_test",
     "locked": true,
     "points": 1,
     "schema_version": 3,
     "solution": false,
     "task": false
    }
   },
   "outputs": [
    {
     "name": "stdout",
     "output_type": "stream",
     "text": [
      "Felicidades, realizaste este ejercicio correctamente.\n"
     ]
    }
   ],
   "source": [
    "## AUTO-CALIFICADOR\n",
    "\n",
    "# Base variables\n",
    "lista_meses = [\"Enero\", \"Febrero\", \"Marzo\", \"Abril\", \"Mayo\", \"Junio\", \"Julio\", \"Agosto\", \"Septiembre\",\n",
    "               \"Octubre\", \"Noviembre\", \"Diciembre\"] \n",
    "\n",
    "# Caso 1: no existe la función.\n",
    "try:\n",
    "    ejercicio8\n",
    "    assert type(ejercicio8) == type(lambda:None)\n",
    "except:\n",
    "    raise NotImplementedError(\"No existe una función llamada ejercicio8.\",)\n",
    "\n",
    "# Caso 2: la función es interrumpida por errores durante su ejecución.\n",
    "try:\n",
    "    ejercicio8\n",
    "except:\n",
    "    raise RuntimeError(\"Tu función produce un error al ejecutarse.\")\n",
    "\n",
    "# Caso 3: no retorna un Datatimeindex.\n",
    "assert type(ejercicio8()) == pd.core.indexes.datetimes.DatetimeIndex, f\"Tu función debe retornar un objeto de tipo '{pd.core.indexes.datetimes.DatetimeIndex.__name__}'.\"\n",
    "\n",
    "# Caso 4: retorna un dataframe con cantidad de columnas errada\n",
    "assert len(ejercicio8()) == 171, \"Tu función retorna un objeto DatetimeIndex con una longitud incorrecta.\"\n",
    "\n",
    "### BEGIN HIDDEN TESTS\n",
    "lista_meses_ingles_sol = [\"January\",   \"February\", \"March\",    \"April\",\n",
    "                          \"May\",       \"June\",     \"July\",     \"August\",\n",
    "                          \"September\", \"October\",  \"November\", \"December\"] \n",
    "\n",
    "def ejercicio8_sol():    \n",
    "    df = pd.read_excel('./Archivos/Festivos.xlsx')\n",
    "    anhos = list(range(2012, 2021))\n",
    "    df_filtr = df.loc[:, anhos]\n",
    "    lista_fechas = []\n",
    "    \n",
    "    for columna in df_filtr.columns:        \n",
    "        for indice in df_filtr.index:\n",
    "\n",
    "            cadena = df.loc[indice, columna]\n",
    "            cadena = cadena.replace(u'\\xa0', u' ')\n",
    "            dia = cadena.split(\" \")[0]\n",
    "            mes = lista_meses_ingles_sol[lista_meses.index(cadena.split(\" \")[1])]\n",
    "            \n",
    "            fecha_string = str(columna) + \"-\" + mes + \"-\" + str(dia)\n",
    "            fecha = datetime.strptime(fecha_string, \"%Y-%B-%d\")\n",
    "            lista_fechas.append(fecha)\n",
    "    \n",
    "    return pd.DatetimeIndex(lista_fechas)\n",
    "\n",
    "\n",
    "assert (ejercicio8() == ejercicio8_sol()).all\n",
    "\n",
    "### END HIDDEN TESTS\n",
    "print(\"Felicidades, realizaste este ejercicio correctamente.\")\n"
   ]
  },
  {
   "cell_type": "markdown",
   "metadata": {
    "nbgrader": {
     "grade": false,
     "grade_id": "refs",
     "locked": true,
     "schema_version": 3,
     "solution": false,
     "task": false
    }
   },
   "source": [
    "## Referencias\n",
    "\n",
    "Banco de la República (2020). 1.2.TIP_Serie histórica diaria IQY.xlsx [Base deDatos]. Recuperado el 15 de Noviembre de 2020 de :\n",
    "https://www.banrep.gov.co/es/estadisticas/tasas-interes-politica-monetaria\n",
    "\n",
    "Banco de la República (2020). 1.1.TIB_Serie histórica IQY.xlsx [Base deDatos]. Recuperado el 15 de Noviembre de 2020 de :\n",
    "https://www.banrep.gov.co/es/estadisticas/tasa-interbancaria-tib"
   ]
  },
  {
   "cell_type": "markdown",
   "metadata": {
    "nbgrader": {
     "grade": false,
     "grade_id": "creds",
     "locked": true,
     "schema_version": 3,
     "solution": false,
     "task": false
    }
   },
   "source": [
    "## Créditos\n",
    "\n",
    "**Autor(es)**: Jorge Esteban Camargo Forero, Juan David Reyes Jaimes, Alejandro Mantilla Redondo, Diego Alejandro Cely Gomez\n",
    "\n",
    "**Última actualización:** 17/09/2021"
   ]
  }
 ],
 "metadata": {
  "celltoolbar": "Create Assignment",
  "kernelspec": {
   "display_name": "Python 3 (ipykernel)",
   "language": "python",
   "name": "python3"
  },
  "language_info": {
   "codemirror_mode": {
    "name": "ipython",
    "version": 3
   },
   "file_extension": ".py",
   "mimetype": "text/x-python",
   "name": "python",
   "nbconvert_exporter": "python",
   "pygments_lexer": "ipython3",
   "version": "3.11.4"
  }
 },
 "nbformat": 4,
 "nbformat_minor": 2
}

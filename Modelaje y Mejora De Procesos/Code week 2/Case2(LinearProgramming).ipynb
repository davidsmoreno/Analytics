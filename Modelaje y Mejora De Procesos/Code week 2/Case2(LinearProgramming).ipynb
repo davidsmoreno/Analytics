{
 "cells": [
  {
   "cell_type": "markdown",
   "id": "f20a9c92",
   "metadata": {
    "nbgrader": {
     "grade": false,
     "grade_id": "cell-6be0347b6c6fdde0",
     "locked": true,
     "schema_version": 3,
     "solution": false,
     "task": false
    }
   },
   "source": [
    "# Caso 2: mezcla de canales digitales\n",
    "\n",
    "---\n",
    "## Maestría en Inteligencia Analítica para la Toma de Decisiones (MIIA)\n",
    "\n",
    "* **Profesor**: \n",
    "    * *Andrés Medaglia*\n",
    "* **Instructora**:\n",
    "    * *Alfaima Solano*"
   ]
  },
  {
   "cell_type": "markdown",
   "id": "ff043a01",
   "metadata": {
    "nbgrader": {
     "grade": false,
     "grade_id": "cell-da6a7ef22d5a66a8",
     "locked": true,
     "schema_version": 3,
     "solution": false,
     "task": false
    }
   },
   "source": [
    "## Instrucciones generales\n",
    "\n",
    "El primer paso antes de resolver este laboratorio es leer y entender el **enunciado del caso**. Una vez tengas claro el caso, te explicamos la estructura de este laboratorio (los demás laboratorios siguen una estrucutra similar). \n",
    "\n",
    "Este laboratorio tiene las siguientes secciones: \n",
    "* **Formulación**: un breve resumen del modelo con notación matemática y descripción de sus componentes\n",
    "* **Importación de librerías**\n",
    "* **Creación de parámetros**\n",
    "* **Modelamiento**: aquí implementamos el modelo visto en la formulación (aquí encontrarás por lo general celdas de código que debes completar, ¡nosotros te guiaremos en el proceso!)\n",
    "* **Reporte de Resultados**: esta sección nos muestra las soluciones encontradas por el modelo y, en ocasiones, algunas visualizaciones interesantes para entenderlo mejor. (es posible que en ciertas prácticas debas completar algunas celdas también)\n",
    "\n",
    "Este tipo de actividades se evaluará sobre un total de 100 puntos. Las celdas calificables se distinguen por tener la instrucción `# Escribe tu código a continuación`. Antes de estas celdas  encontrarás instrucciones y consejos para resolver las preguntas, también el puntaje que le corresponde.\n",
    "\n",
    "¡Éxitos!"
   ]
  },
  {
   "cell_type": "markdown",
   "id": "c2274d15",
   "metadata": {
    "nbgrader": {
     "grade": false,
     "grade_id": "cell-c11ef687a2132a2b",
     "locked": true,
     "schema_version": 3,
     "solution": false,
     "task": false
    }
   },
   "source": [
    "## Formulación\n",
    "---\n",
    "\n",
    "Te presentamos la formulación del caso de la semana de forma resumida. Te recomendamos revisar la formulación una vez hayas leído el enunciado del caso. Es bueno que te familiarices con los elementos de la formulación antes de iniciar la implementación.\n",
    "\n",
    "### Conjuntos y Parámetros\n",
    ">#### **Conjuntos**\n",
    ">* $I$: conjunto de canales de mercadeo.\n",
    "\n",
    ">#### **Parámetros**\n",
    ">* $a_i:$ incremento en ventas por cada dólar invertido en el canal $i \\in I$\n",
    ">* $c_i:$ presupuesto máximo para invertir en el canal $i\\in I$\n",
    ">* $p:$ presupuesto total para la campaña\n",
    ">* $q:$ mínimo porcentaje de inversión en el canal Facebook\n",
    "\n",
    "### Variables de Decisión\n",
    "> $x_i:$ dinero a ser invertido (en USD) en el canal $i\\in I$\n",
    "\n",
    "\n",
    "### Restricciones\n",
    "> 1. Cada canal $i\\in I$ tiene un máximo posible de inversión estipulado $c_i$\n",
    ">> $x_i \\leq c_i, \\; \\forall i\\in I$\n",
    "\n",
    "> 2. El presupuesto global para la campaña es de $p$\n",
    ">> $\\sum_{i\\in I} x_i \\leq p$\n",
    "\n",
    "> 3. La inversión en las publicaciones promocionadas de Facebook debe seguir siendo superior a q (0.3) del total de inversión.\n",
    ">> $q*\\sum_{i\\in I}x_i \\leq x_{\\text{Facebook}}$\n",
    "\n",
    "> **Naturaleza de Variables**\n",
    ">>$x_i\\geq 0 , \\; \\forall i\\in I$\n",
    "\n",
    "### Función Objetivo\n",
    "> Maximizar el incremento en ventas dado por la inversión en canales de mercadeo.\n",
    ">> $\\max{ \\sum_{i\\in I} a_ix_i}$"
   ]
  },
  {
   "cell_type": "markdown",
   "id": "7cc377b3",
   "metadata": {
    "nbgrader": {
     "grade": false,
     "grade_id": "cell-983ada4fc8bc8836",
     "locked": true,
     "schema_version": 3,
     "solution": false,
     "task": false
    }
   },
   "source": [
    "## Importación de librerías\n",
    "---\n",
    "En este curso usaremos el paquete/librería `pulp` en su versión 2.4. Este paquete proporciona un modelador de problemas lineales de optimización para Python. Su API permite crear variables, añadir restricciones y llamar optimizadores (gratuitos y pagos para resolver problemas). A través de este paquete se generan los archivos `LP`que son usados por los *optimizadores* para ejecutar los algoritmos de optimización. `pulp` utiliza por defecto el optimizador CBC que es mantenido por la comunidad de [COIN-OR](https://www.coin-or.org) y es de fuente libre. También puede ser usado con optimizadores pagos como Gurobi o CPLEX. Su alias para este curso el `lp`. Si deseas conocer más, puedes visitar:\n",
    ">**GitHub**: https://github.com/coin-or/pulp\n",
    "\n",
    ">**Documentación**: https://coin-or.github.io/pulp/\n",
    "\n",
    "La forma más fácil de instalar `pulp` es a través de PyPi ejecutando el comando de `pip`: ` python -m pip install pulp` en la consola. También está disponible en conda y [conda-forge](https://anaconda.org/conda-forge/pulp)\n",
    "\n",
    "Con el paquete `pulp` introduciremos métodos para crear diccionarios de variables (basados en conjuntos) y una forma fácil de formular expresiones que usan conjuntos en las sumas.\n",
    "\n",
    "> **Recuerda** que el alias de `pulp` es `lp` y que como estándar el nombre del objeto que guardará el problema de optimización se llamará `problema`."
   ]
  },
  {
   "cell_type": "code",
   "execution_count": 2,
   "id": "8be18161",
   "metadata": {
    "nbgrader": {
     "grade": false,
     "grade_id": "cell-81bb7a6952a9e1b5",
     "locked": true,
     "schema_version": 3,
     "solution": false,
     "task": false
    }
   },
   "outputs": [],
   "source": [
    "import pulp as lp"
   ]
  },
  {
   "cell_type": "markdown",
   "id": "16aef1fd",
   "metadata": {
    "nbgrader": {
     "grade": false,
     "grade_id": "cell-284326f1ee27ec51",
     "locked": true,
     "schema_version": 3,
     "solution": false,
     "task": false
    }
   },
   "source": [
    "## Creación de Parámetros\n",
    "---\n",
    "\n",
    "Para este caso nuestro único conjunto son los canales de mercadeo que escogeremos. Haremos una lista de Python donde guardaremos el nombre de cada canal. "
   ]
  },
  {
   "cell_type": "markdown",
   "id": "de23518e",
   "metadata": {
    "nbgrader": {
     "grade": false,
     "grade_id": "cell-ca8f0236477fa64a",
     "locked": true,
     "schema_version": 3,
     "solution": false,
     "task": false
    }
   },
   "source": [
    "### Conjuntos\n",
    "$I$: Conjunto de canales de mercadeo"
   ]
  },
  {
   "cell_type": "code",
   "execution_count": 3,
   "id": "cb80695c",
   "metadata": {
    "nbgrader": {
     "grade": false,
     "grade_id": "cell-df274dae63b7d25a",
     "locked": true,
     "schema_version": 3,
     "solution": false,
     "task": false
    }
   },
   "outputs": [],
   "source": [
    "I = [\"Facebook\", \"YouTube\", \"Twitter\", \"TikTok\", \"LinkedIn\"]"
   ]
  },
  {
   "cell_type": "markdown",
   "id": "4e45a000",
   "metadata": {
    "nbgrader": {
     "grade": false,
     "grade_id": "cell-35d881a070f59d12",
     "locked": true,
     "schema_version": 3,
     "solution": false,
     "task": false
    }
   },
   "source": [
    "### Parámetros\n",
    "* $a_i:$ Incremento en ventas por cada dólar invertido en el canal $i \\in I$\n",
    "* $c_i:$ Presupuesto máximo para invertir en el canal $i\\in I$\n",
    "* $p:$ Presupuesto total para la campaña\n",
    "* $q:$ Mínimo porcentaje de inversión en el canal Facebook\n"
   ]
  },
  {
   "cell_type": "markdown",
   "id": "36a441d6",
   "metadata": {
    "nbgrader": {
     "grade": false,
     "grade_id": "cell-ca40d34242cb874a",
     "locked": true,
     "schema_version": 3,
     "solution": false,
     "task": false
    }
   },
   "source": [
    "Para crear los parámetros construiremos diccionarios cuyas **llaves** correspondan los índices del conjunto y como **valores** el valor del parámetro correspondiente. "
   ]
  },
  {
   "cell_type": "code",
   "execution_count": 4,
   "id": "95889ab2",
   "metadata": {
    "nbgrader": {
     "grade": false,
     "grade_id": "cell-014d17c13a6f6fef",
     "locked": true,
     "schema_version": 3,
     "solution": false,
     "task": false
    }
   },
   "outputs": [],
   "source": [
    "a = {canal: val for canal, val in zip(I, (2,5,3,4.5,2.9))} #Incremento en ventas por dolar invertido en cada canal\n",
    "c = {canal: val for canal, val in zip(I, (3000,4000,2000,2000,3000))} #Presupuesto máximo para invertir en cada canal\n",
    "p = 10000 #Presupuesto total para la campaña\n",
    "q = 0.3   #Mínimo porcentaje de inversión en el canal 'Facebook' (30%)"
   ]
  },
  {
   "cell_type": "markdown",
   "id": "1be1d1ee",
   "metadata": {
    "nbgrader": {
     "grade": false,
     "grade_id": "cell-00705cef00167fde",
     "locked": true,
     "schema_version": 3,
     "solution": false,
     "task": false
    }
   },
   "source": [
    "**Celda de Prueba (0 puntos)**\n",
    "\n",
    "Recomendación: Una buena práctica es explorar los datos de entrada del problema antes de empezar a implementarlo y resolverlo. Por ejemplo, uno podría entender el contexto los datos al graficarlos o explorando las tablas o estructuras en las que vienen. \n",
    "* **Esta celda no es calificable**"
   ]
  },
  {
   "cell_type": "code",
   "execution_count": null,
   "id": "965c2fe2",
   "metadata": {},
   "outputs": [],
   "source": [
    "### Aquí puedes explorar los parámetros\n"
   ]
  },
  {
   "cell_type": "markdown",
   "id": "d300379a",
   "metadata": {
    "nbgrader": {
     "grade": false,
     "grade_id": "cell-f27ba0db228d3286",
     "locked": true,
     "schema_version": 3,
     "solution": false,
     "task": false
    }
   },
   "source": [
    "## Modelado\n",
    "---"
   ]
  },
  {
   "cell_type": "markdown",
   "id": "4093858a",
   "metadata": {
    "nbgrader": {
     "grade": false,
     "grade_id": "cell-c598d0df97aafe10",
     "locked": true,
     "schema_version": 3,
     "solution": false,
     "task": false
    }
   },
   "source": [
    "### Declaración del modelo\n",
    "El primer paso para desarrollar un problema de optimización en `pulp` es declarar el objeto `lp.LpProblem` en el cual podemos agregar variables, restricciones y la función objetivo. Como convención para todos los trabajos y entregas de este curso, este objeto se llamará `problema`. Este objeto nos permite añadir los componentes del problema de optimización.\n",
    "\n",
    "El método `lp.LpProblem()` crea un problema lineal de optimización."
   ]
  },
  {
   "cell_type": "markdown",
   "id": "773a5058",
   "metadata": {
    "nbgrader": {
     "grade": false,
     "grade_id": "cell-d2044139bedbc8b0",
     "locked": true,
     "schema_version": 3,
     "solution": false,
     "task": false
    }
   },
   "source": [
    "**Pregunta 1 (10 puntos)**\n",
    "* Crea un objeto modelo en PuLP (`lp.LpProblem`) llamado `problema`\n",
    "* Indica el sentido de la optimización: maximizar o minimizar\n",
    "\n",
    "\n",
    "> **Recuerda** que el sentido se indica con el argumento `sense` en `lp.LpProblem()`, que toma valores `lp.LpMaximize` o `lp.LpMinimize`"
   ]
  },
  {
   "cell_type": "code",
   "execution_count": 5,
   "id": "3aa01791",
   "metadata": {},
   "outputs": [
    {
     "name": "stderr",
     "output_type": "stream",
     "text": [
      "E:\\Apps\\Lib\\site-packages\\pulp\\pulp.py:1352: UserWarning: Spaces are not permitted in the name. Converted to '_'\n",
      "  warnings.warn(\"Spaces are not permitted in the name. Converted to '_'\")\n"
     ]
    }
   ],
   "source": [
    "problema = lp.LpProblem(\"Maximizar ganancias\", lp.LpMaximize)"
   ]
  },
  {
   "cell_type": "markdown",
   "id": "0d64bca5",
   "metadata": {
    "nbgrader": {
     "grade": false,
     "grade_id": "cell-55d47def8914e798",
     "locked": true,
     "schema_version": 3,
     "solution": false,
     "task": false
    }
   },
   "source": [
    "## Variables de decisión\n",
    "* $x_i:$ Dinero a ser invertido (en USD) en el canal de mercadeo $i\\in I$"
   ]
  },
  {
   "cell_type": "markdown",
   "id": "c9bf6fec",
   "metadata": {
    "nbgrader": {
     "grade": false,
     "grade_id": "cell-f83b2ae3f8095d8b",
     "locked": true,
     "schema_version": 3,
     "solution": false,
     "task": false
    }
   },
   "source": [
    "**Pregunta 2 (20 puntos)**\n",
    "\n",
    "* Crea las variables del modelo: `x`, usando el método `lp.LpVariable.dicts()`\n",
    "* Especifica el nombre de las variables como `'canales'` con el argumento `name`\n",
    "* Especifica los índices de las variables con el argumento `indexs` (aquí debes colocar el conjunto)\n",
    "* Especifica el tipo de variable con el argumento `cat` (continua: `lp.LpContinuous`, entera: `lp.LpInteger` o binaria: `lp.LpBinary`)\n",
    "* Especifica el límite inferior en 0 con el argumento `lowBound`\n",
    "\n",
    "> **Para crear una variable** usa el método `lp.LpVariable.dicts(name, indexs, lowBound=None, upBound=None, cat='Continuous')`\n",
    "\n",
    "> Donde:\n",
    "> - `name`: el nombre de la variable\n",
    "> - `indexs`: lista de las llaves que tendrá el diccionario de variables. Normalmente corresponde a los conjuntos\n",
    "> - `lowBound`: el límite inferior de la variable. Por defecto es `None`, esto es, el infinito negativo\n",
    "> - `upBound` : el límite superior de la variable. Por defecto es `None`, esto es, el infinito positivo\n",
    "> - `cat`: el tipo de variable: continua: `lp.LpContinuous`, entera: `lp.LpInteger` o binaria: `lp.LpBinary`\n",
    "\n"
   ]
  },
  {
   "cell_type": "code",
   "execution_count": 6,
   "id": "9bb235e8",
   "metadata": {},
   "outputs": [],
   "source": [
    "x = lp.LpVariable.dicts(\"Canales\", I, lowBound=0, cat=lp.LpContinuous)"
   ]
  },
  {
   "cell_type": "markdown",
   "id": "2186fbb6",
   "metadata": {
    "nbgrader": {
     "grade": false,
     "grade_id": "cell-29ed870d308e48c3",
     "locked": true,
     "schema_version": 3,
     "solution": false,
     "task": false
    }
   },
   "source": [
    "### Función Objetivo\n",
    "> Maximizar el incremento en ventas dado por la inversión en canales de mercadeo.\n",
    ">> $\\max{ \\sum_{i\\in I} a_ix_i}$\n"
   ]
  },
  {
   "cell_type": "markdown",
   "id": "47730433",
   "metadata": {
    "nbgrader": {
     "grade": false,
     "grade_id": "cell-aeda75d733860738",
     "locked": true,
     "schema_version": 3,
     "solution": false,
     "task": false
    }
   },
   "source": [
    "**Pregunta 3 (20 puntos)**\n",
    "* Crea la función objetivo y agregala al modelo `problema`. A continuación, te explicamos como se usan las sumatorias en `pulp`\n",
    "\n",
    "> **Recuerda** que para agregar una función objetivo o restricción a un modelo en pulp se usa la sintaxis: `<modelo> += <expresion>`\n",
    "\n",
    "> **Recuerda** que una función objetivo en `pulp` consiste en multiplicar variables de tipo `lp.pulp.Variable` (como `x`) por constantes así: `<variable>*<int|float>` y luego sumarlas o restarlas así: `<var1>*<const1> + <var2>*<const2>`\n",
    "\n",
    "> **Recuerda** que, para evitar escribir una sumatoria de muchos términos uno a uno, `pulp` permite crear sumatorias que recorran conjuntos siempre y cuando las variables esten indexadas (como `x`). Para esto, utiliza `lp.lpSum((<expresion> for <indices> in <conjuntos>))`. \n",
    "\n",
    "> **Ejemplo**:\n",
    ">> $ \\sum_{i \\in I}c_i x_i$\n",
    "es equivalente a `lp.lpSum((c[i]*x[i] for i in I))`"
   ]
  },
  {
   "cell_type": "code",
   "execution_count": 7,
   "id": "246cc54e",
   "metadata": {},
   "outputs": [],
   "source": [
    "problema += lp.lpSum([a[i] * x[i] for i in I]), \"Funcion Objetivo\"\n"
   ]
  },
  {
   "cell_type": "markdown",
   "id": "681948be",
   "metadata": {
    "nbgrader": {
     "grade": false,
     "grade_id": "cell-1edc2b7ebfaa0592",
     "locked": true,
     "schema_version": 3,
     "solution": false,
     "task": false
    }
   },
   "source": [
    "### Restricciones\n",
    "\n",
    "> **Recuerda** que para crear restricciones se debe usar la sintaxis: `<modelo> += <expresion_lado_izq> ==|>=|<= <expresion_lado_der>, 'Nombre_de_la_restriccion'`\n",
    "\n",
    "> **Recuerda** que las expresiones son combinaciones lineales de las variables, como: `<var1>*<const1> + <var2>*<const2>`\n",
    "\n",
    "> **Recuerda** que puedes usar `lp.lpSum()` para crear sumatorias (ver **Pregunta 3**)\n",
    "\n",
    "> **Recuerda** que para crear múltiples restricciones usando $\\forall i \\in I$, se debe utilizar la sintaxis:\n",
    ">>    * `for i in I:` \n",
    ">>       * `<restriccion>`\n",
    "\n",
    "> **Ejemplo**\n",
    ">> La siguiente restricción: $\\sum_{i \\in I} a_{ij} x_{ij} \\geq 1, \\; \\forall j \\in J$ es equivalente a:\n",
    ">>    * `for j in J:`\n",
    ">>        * `<modelo> += lp.lpSum((a[i,j]*x[i,j] for i in I)) >= 1, 'R1_'+str(j)`\n",
    "  \n",
    "> **Advertencia**: `pulp` no permite sobreescribir restricciones, entonces, si ya creaste una restricción y quieres crearla de nuevo para corregir algo, asegúrate de volver a crear el modelo `problema` desde el principio (nosotros haremos esto antes de calificar, no te preocupes)."
   ]
  },
  {
   "cell_type": "markdown",
   "id": "aee47a2d",
   "metadata": {
    "nbgrader": {
     "grade": false,
     "grade_id": "cell-a3e8ec52fde98bf1",
     "locked": true,
     "schema_version": 3,
     "solution": false,
     "task": false
    }
   },
   "source": [
    "**Pregunta 4 (10 puntos)**\n",
    "\n",
    "* Crea la siguiente restricción, asignale el nombre `'R1_'+str(<indice_del_para_todo>)` y añadela al modelo:\n",
    "\n",
    "> 1. Cada canal $i\\in I$ tiene un máximo posible de inversión estipulado $c_i$\n",
    ">> $x_i \\leq c_i ,\\; \\forall i\\in I$"
   ]
  },
  {
   "cell_type": "code",
   "execution_count": 8,
   "id": "3fec66d9",
   "metadata": {},
   "outputs": [],
   "source": [
    "for i in I:\n",
    "    problema += x[i] <= c[i], \"R1_\" + str(i)"
   ]
  },
  {
   "cell_type": "markdown",
   "id": "ed5aa7c0",
   "metadata": {
    "nbgrader": {
     "grade": false,
     "grade_id": "cell-8a13e7da68561b27",
     "locked": true,
     "schema_version": 3,
     "solution": false,
     "task": false
    }
   },
   "source": [
    "**Pregunta 5 (10 puntos)**\n",
    "\n",
    "* Crea la siguiente restricción, asignale el nombre `'R2'` y añadela al modelo:\n",
    "\n",
    "> 2. El presupuesto global para la campaña es de $p$\n",
    ">> $\\sum_{i\\in I} x_i \\leq p$"
   ]
  },
  {
   "cell_type": "code",
   "execution_count": 10,
   "id": "90346298",
   "metadata": {},
   "outputs": [],
   "source": [
    "for i in I:\n",
    "    problema += lp.lpSum(x[i]) <= p, \"R2\"+str(i)\n",
    "    "
   ]
  },
  {
   "cell_type": "markdown",
   "id": "32ec4f07",
   "metadata": {
    "nbgrader": {
     "grade": false,
     "grade_id": "cell-f2c67311dfa41b29",
     "locked": true,
     "schema_version": 3,
     "solution": false,
     "task": false
    }
   },
   "source": [
    "**Pregunta 6 (10 puntos)**\n",
    "\n",
    "* Crea la siguiente restricción, asignale el nombre `'R3'` y añadela al modelo:\n",
    "\n",
    "> 3. La inversión en las publicaciones promocionadas de Facebook debe seguir siendo superior a q (0.3) del total de inversión.\n",
    ">> $q*\\sum_{i\\in I}x_i \\leq x_{\\text{Facebook}}$"
   ]
  },
  {
   "cell_type": "code",
   "execution_count": 13,
   "id": "ca048f6e",
   "metadata": {},
   "outputs": [
    {
     "ename": "PulpError",
     "evalue": "overlapping constraint names: R3LinkedIn",
     "output_type": "error",
     "traceback": [
      "\u001b[1;31m---------------------------------------------------------------------------\u001b[0m",
      "\u001b[1;31mPulpError\u001b[0m                                 Traceback (most recent call last)",
      "Cell \u001b[1;32mIn[13], line 2\u001b[0m\n\u001b[0;32m      1\u001b[0m \u001b[38;5;28;01mfor\u001b[39;00m i \u001b[38;5;129;01min\u001b[39;00m I:\n\u001b[1;32m----> 2\u001b[0m     problema \u001b[38;5;241m+\u001b[39m\u001b[38;5;241m=\u001b[39m q\u001b[38;5;241m*\u001b[39mlp\u001b[38;5;241m.\u001b[39mlpSum(x[i]) \u001b[38;5;241m<\u001b[39m\u001b[38;5;241m=\u001b[39m x[\u001b[38;5;124m\"\u001b[39m\u001b[38;5;124mFacebook\u001b[39m\u001b[38;5;124m\"\u001b[39m],\u001b[38;5;124m\"\u001b[39m\u001b[38;5;124mR3\u001b[39m\u001b[38;5;124m\"\u001b[39m\u001b[38;5;241m+\u001b[39m\u001b[38;5;28mstr\u001b[39m(i)\n",
      "File \u001b[1;32mE:\\Apps\\Lib\\site-packages\\pulp\\pulp.py:1701\u001b[0m, in \u001b[0;36mLpProblem.__iadd__\u001b[1;34m(self, other)\u001b[0m\n\u001b[0;32m   1699\u001b[0m     \u001b[38;5;28mself\u001b[39m\u001b[38;5;241m.\u001b[39maddConstraint(other\u001b[38;5;241m.\u001b[39mconstraint)\n\u001b[0;32m   1700\u001b[0m \u001b[38;5;28;01melif\u001b[39;00m \u001b[38;5;28misinstance\u001b[39m(other, LpConstraint):\n\u001b[1;32m-> 1701\u001b[0m     \u001b[38;5;28mself\u001b[39m\u001b[38;5;241m.\u001b[39maddConstraint(other, name)\n\u001b[0;32m   1702\u001b[0m \u001b[38;5;28;01melif\u001b[39;00m \u001b[38;5;28misinstance\u001b[39m(other, LpAffineExpression):\n\u001b[0;32m   1703\u001b[0m     \u001b[38;5;28;01mif\u001b[39;00m \u001b[38;5;28mself\u001b[39m\u001b[38;5;241m.\u001b[39mobjective \u001b[38;5;129;01mis\u001b[39;00m \u001b[38;5;129;01mnot\u001b[39;00m \u001b[38;5;28;01mNone\u001b[39;00m:\n",
      "File \u001b[1;32mE:\\Apps\\Lib\\site-packages\\pulp\\pulp.py:1661\u001b[0m, in \u001b[0;36mLpProblem.addConstraint\u001b[1;34m(self, constraint, name)\u001b[0m\n\u001b[0;32m   1659\u001b[0m \u001b[38;5;28;01mif\u001b[39;00m name \u001b[38;5;129;01min\u001b[39;00m \u001b[38;5;28mself\u001b[39m\u001b[38;5;241m.\u001b[39mconstraints:\n\u001b[0;32m   1660\u001b[0m     \u001b[38;5;28;01mif\u001b[39;00m \u001b[38;5;28mself\u001b[39m\u001b[38;5;241m.\u001b[39mnoOverlap:\n\u001b[1;32m-> 1661\u001b[0m         \u001b[38;5;28;01mraise\u001b[39;00m const\u001b[38;5;241m.\u001b[39mPulpError(\u001b[38;5;124m\"\u001b[39m\u001b[38;5;124moverlapping constraint names: \u001b[39m\u001b[38;5;124m\"\u001b[39m \u001b[38;5;241m+\u001b[39m name)\n\u001b[0;32m   1662\u001b[0m     \u001b[38;5;28;01melse\u001b[39;00m:\n\u001b[0;32m   1663\u001b[0m         \u001b[38;5;28mprint\u001b[39m(\u001b[38;5;124m\"\u001b[39m\u001b[38;5;124mWarning: overlapping constraint names:\u001b[39m\u001b[38;5;124m\"\u001b[39m, name)\n",
      "\u001b[1;31mPulpError\u001b[0m: overlapping constraint names: R3LinkedIn"
     ]
    }
   ],
   "source": [
    "for i in I:\n",
    "    problema += q*lp.lpSum(x[i]) <= x[\"Facebook\"],\"R3\"+str(i)\n"
   ]
  },
  {
   "cell_type": "markdown",
   "id": "b59170dd",
   "metadata": {
    "nbgrader": {
     "grade": false,
     "grade_id": "cell-cf88d6c16a47eb99",
     "locked": true,
     "schema_version": 3,
     "solution": false,
     "task": false
    }
   },
   "source": [
    "### Invocar el optimizador\n",
    "\n",
    "Ahora que el modelo está listo, viene la mejor parte: ¡Correr el modelo! La celda a continuación se encarga de llamar al optimizador de `pulp` y guardar las soluciones del modelo (si llega a optimalidad). Más adelante extraeremos la solución y otras métricas de interés del objeto `problema` y del diccionario de variables `x`."
   ]
  },
  {
   "cell_type": "code",
   "execution_count": 15,
   "id": "4c572d58",
   "metadata": {
    "nbgrader": {
     "grade": false,
     "grade_id": "cell-60cd456296f18550",
     "locked": true,
     "schema_version": 3,
     "solution": false,
     "task": false
    },
    "scrolled": true
   },
   "outputs": [
    {
     "data": {
      "text/plain": [
       "1"
      ]
     },
     "execution_count": 15,
     "metadata": {},
     "output_type": "execute_result"
    }
   ],
   "source": [
    "solucion=problema.solve()\n",
    "solucion"
   ]
  },
  {
   "cell_type": "markdown",
   "id": "decaabe1",
   "metadata": {
    "nbgrader": {
     "grade": false,
     "grade_id": "cell-85de9af009c8d08b",
     "locked": true,
     "schema_version": 3,
     "solution": false,
     "task": false
    }
   },
   "source": [
    "## Reporte de resultados\n",
    "---"
   ]
  },
  {
   "cell_type": "markdown",
   "id": "682d2f62",
   "metadata": {
    "nbgrader": {
     "grade": false,
     "grade_id": "cell-d285cb65f019906c",
     "locked": true,
     "schema_version": 3,
     "solution": false,
     "task": false
    }
   },
   "source": [
    "**Estado del optimizador, función objetivo y otros indicadores**\n",
    "\n",
    "A continuación puede evaluar la función objetivo óptima además de el estado del optimizador.\n",
    "> **Recuerda** que al finalizar de correr el modelo, `<modelo>.status` tomará un valor de 1, -1, -2 o -3, que hace referencia a algún estado del optmizador:\n",
    "*  0 $\\rightarrow$ Sin Resolver: No se ha usado `<modelo>.solve()`\n",
    "*  1 $\\rightarrow$ Óptimo\n",
    "* -1 $\\rightarrow$ Infactible\n",
    "* -2 $\\rightarrow$ No acotado \n",
    "* -3 $\\rightarrow$ Otros\n",
    "\n",
    "> **Recuerda** que `lp.LpStatus` es un diccionario en PuLP que tiene como llaves los `status` del optimizador (número) en `<modelo>.status`, y para cada `status` contiene el estado del optimizador en palabras.\n",
    "\n",
    "> **Recuerda** que puedes inspeccionar el contenido de `lp.LpStatus`, simplemente corriendolo en una celda\n",
    "\n",
    "> **Recuerda** que `<modelo>.objective` contiene la **expresión** de la función objetivo, sin embargo, para conocer el valor de la función objetivo se debe reemplazar los valores de las variables en la solución dentro de esta expresión. Por fortuna, PuLP tiene una función que hace justo eso: `lp.value(<expresion>)`.\n",
    "\n"
   ]
  },
  {
   "cell_type": "code",
   "execution_count": 16,
   "id": "7708d4ff",
   "metadata": {
    "nbgrader": {
     "grade": false,
     "grade_id": "cell-41b32445d41ad53d",
     "locked": true,
     "schema_version": 3,
     "solution": false,
     "task": false
    }
   },
   "outputs": [
    {
     "name": "stdout",
     "output_type": "stream",
     "text": [
      "El incremento en ventas debido a la campaña es =  49700.0\n"
     ]
    }
   ],
   "source": [
    "print(\"El incremento en ventas debido a la campaña es = \", lp.value(problema.objective))"
   ]
  },
  {
   "cell_type": "markdown",
   "id": "2ae47e87",
   "metadata": {
    "nbgrader": {
     "grade": false,
     "grade_id": "cell-39272c986afd53f0",
     "locked": true,
     "schema_version": 3,
     "solution": false,
     "task": false
    }
   },
   "source": [
    "**Pregunta 7 (5 puntos)**\n",
    "\n",
    "Crea un diccionario llamado `resultados`.\n",
    "Coloca como **llaves** los diferentes canales en el conjunto $I$.\n",
    "Coloca como **valores** la cantidad de dinero a invertir en cada canal.\n",
    "\n",
    "Por ejemplo, el primer registro del diccionario se ve así: `\"Facebook\": 3000.0`\n",
    "\n",
    ">**Recuerde** que las variables `LpVariable` se almacenaron en un diccionario llamado `x` el cual tiene como llave el índice (del conjunto $I$) de la variable y como valor el objeto tipo `LpVariable`. \n",
    "\n",
    ">**Recuerde** que para obtener el valor actual de un objeto tipo `LpVariable`  puede usar su método `LpVariable.value()`."
   ]
  },
  {
   "cell_type": "code",
   "execution_count": 19,
   "id": "6af01956",
   "metadata": {
    "scrolled": true
   },
   "outputs": [
    {
     "name": "stdout",
     "output_type": "stream",
     "text": [
      "Canales_Facebook = 3000.0\n",
      "Canales_LinkedIn = 3000.0\n",
      "Canales_TikTok = 2000.0\n",
      "Canales_Twitter = 2000.0\n",
      "Canales_YouTube = 4000.0\n"
     ]
    },
    {
     "data": {
      "text/plain": [
       "{'Canales_Facebook': 3000.0,\n",
       " 'Canales_LinkedIn': 3000.0,\n",
       " 'Canales_TikTok': 2000.0,\n",
       " 'Canales_Twitter': 2000.0,\n",
       " 'Canales_YouTube': 4000.0}"
      ]
     },
     "execution_count": 19,
     "metadata": {},
     "output_type": "execute_result"
    }
   ],
   "source": [
    "for v in problema.variables():\n",
    "    print(v.name,\"=\",v.varValue)\n",
    "    \n",
    "resultados={v.name: v.varValue for v in problema.variables()}\n",
    "resultados"
   ]
  },
  {
   "cell_type": "markdown",
   "id": "cf18b1f0",
   "metadata": {},
   "source": [
    "**Pregunta 8 (5 puntos)**"
   ]
  },
  {
   "cell_type": "markdown",
   "id": "37e9c0c8",
   "metadata": {},
   "source": [
    "* Importa el paquete matplotlib.pyplot bajo el alias plt.\n",
    "* Crea una lista llamada `y` donde guardes los **valores** de la cantidad de dinero a invertir en cada canal.\n",
    "* Usa el conjunto $I$ y la lista `y` para graficar el resultado."
   ]
  },
  {
   "cell_type": "code",
   "execution_count": 27,
   "id": "cb59033c",
   "metadata": {},
   "outputs": [
    {
     "data": {
      "image/png": "[encoded data removed]",
      "text/plain": [
       "<Figure size 640x480 with 1 Axes>"
      ]
     },
     "metadata": {},
     "output_type": "display_data"
    }
   ],
   "source": [
    "import matplotlib.pyplot as plt\n",
    "import matplotlib.cm as cm\n",
    "valores=list(resultados.values())\n",
    "\n",
    "plt.bar(I,valores)\n",
    "plt.xlabel(\"Canales a Invertir\")\n",
    "plt.ylabel(\"Valores a invertir en cada canal\")\n",
    "plt.title(\"Resultados\")\n",
    "plt.show()"
   ]
  },
  {
   "cell_type": "code",
   "execution_count": 28,
   "id": "bbffdb2f",
   "metadata": {},
   "outputs": [
    {
     "name": "stderr",
     "output_type": "stream",
     "text": [
      "C:\\Users\\David\\AppData\\Local\\Temp\\ipykernel_7716\\1453158809.py:44: MatplotlibDeprecationWarning: Unable to determine Axes to steal space for Colorbar. Using gca(), but will raise in the future. Either provide the *cax* argument to use as the Axes for the Colorbar, provide the *ax* argument to steal space from it, or add *mappable* to an Axes.\n",
      "  cbar = plt.colorbar(sm, pad=0.05, aspect=10)\n"
     ]
    },
    {
     "data": {
      "image/png": "[encoded data removed]",
      "text/plain": [
       "<Figure size 1000x600 with 2 Axes>"
      ]
     },
     "metadata": {},
     "output_type": "display_data"
    }
   ],
   "source": [
    "channels = list(resultados.keys())\n",
    "values = list(resultados.values())\n",
    "\n",
    "# Create a figure and axis with custom styling\n",
    "plt.figure(figsize=(10, 6))  # Adjust figure size\n",
    "\n",
    "# Normalize values for color mapping\n",
    "norm = plt.Normalize(min(values), max(values))\n",
    "colors = cm.viridis(norm(values))\n",
    "\n",
    "# Create a bar plot with customized colors and edgecolor\n",
    "bars = plt.bar(channels, values, color=colors, edgecolor='gray')\n",
    "\n",
    "# Add data values on top of the bars\n",
    "for bar, value in zip(bars, values):\n",
    "    plt.text(\n",
    "        bar.get_x() + bar.get_width() / 2,  # X position\n",
    "        bar.get_height() + 0.3,             # Y position\n",
    "        f'{value}',                         # Text\n",
    "        ha='center',                        # Horizontal alignment\n",
    "        va='bottom',                        # Vertical alignment\n",
    "        fontsize=12,                        # Font size\n",
    "        color='black'                       # Text color\n",
    "    )\n",
    "\n",
    "# Add labels and title\n",
    "plt.xlabel(\"Channels to Invest\")\n",
    "plt.ylabel(\"Values to Invest in Each Channel\")\n",
    "plt.title(\"Results\")\n",
    "\n",
    "# Customize tick labels\n",
    "plt.xticks(rotation=45, ha='right', fontsize=12)\n",
    "\n",
    "# Add grid lines for better readability\n",
    "plt.grid(axis='y', linestyle='--', alpha=0.7)\n",
    "\n",
    "# Remove top and right spines\n",
    "plt.gca().spines['top'].set_visible(False)\n",
    "plt.gca().spines['right'].set_visible(False)\n",
    "\n",
    "# Create colorbar legend\n",
    "sm = plt.cm.ScalarMappable(cmap=cm.viridis, norm=norm)\n",
    "sm.set_array([])  # No data is being plotted\n",
    "cbar = plt.colorbar(sm, pad=0.05, aspect=10)\n",
    "cbar.set_label(\"Value\", rotation=270, labelpad=15)\n",
    "\n",
    "# Show the plot\n",
    "plt.tight_layout()  # Adjust spacing\n",
    "plt.show()"
   ]
  },
  {
   "cell_type": "markdown",
   "id": "a17ab518",
   "metadata": {},
   "source": [
    "**Pregunta 9 (10 puntos)**"
   ]
  },
  {
   "cell_type": "markdown",
   "id": "a0e8eb98",
   "metadata": {},
   "source": [
    "¿Qué recomendación le darías a la empresa? Prueba alguna variación del presupuesto, explica y concluye. \n",
    "\n"
   ]
  },
  {
   "cell_type": "code",
   "execution_count": 32,
   "id": "e511fc27",
   "metadata": {},
   "outputs": [
    {
     "name": "stdout",
     "output_type": "stream",
     "text": [
      "           Name                                     Constraint  shadow price  \\\n",
      "0   R1_Facebook                          {Canales_Facebook: 1}           2.0   \n",
      "1    R1_YouTube                           {Canales_YouTube: 1}           5.0   \n",
      "2    R1_Twitter                           {Canales_Twitter: 1}           3.0   \n",
      "3     R1_TikTok                            {Canales_TikTok: 1}           4.5   \n",
      "4   R1_LinkedIn                          {Canales_LinkedIn: 1}           2.9   \n",
      "5            R2                          {Canales_Facebook: 1}          -0.0   \n",
      "6    R2Facebook                          {Canales_Facebook: 1}          -0.0   \n",
      "7     R2YouTube                           {Canales_YouTube: 1}          -0.0   \n",
      "8     R2Twitter                           {Canales_Twitter: 1}          -0.0   \n",
      "9      R2TikTok                            {Canales_TikTok: 1}          -0.0   \n",
      "10   R2LinkedIn                          {Canales_LinkedIn: 1}          -0.0   \n",
      "11   R3LinkedIn  {Canales_LinkedIn: 0.3, Canales_Facebook: -1}          -0.0   \n",
      "12   R3Facebook                       {Canales_Facebook: -0.7}          -0.0   \n",
      "13    R3YouTube   {Canales_YouTube: 0.3, Canales_Facebook: -1}          -0.0   \n",
      "14    R3Twitter   {Canales_Twitter: 0.3, Canales_Facebook: -1}          -0.0   \n",
      "15     R3TikTok    {Canales_TikTok: 0.3, Canales_Facebook: -1}          -0.0   \n",
      "\n",
      "     slack  \n",
      "0     -0.0  \n",
      "1     -0.0  \n",
      "2     -0.0  \n",
      "3     -0.0  \n",
      "4     -0.0  \n",
      "5   7000.0  \n",
      "6   7000.0  \n",
      "7   6000.0  \n",
      "8   8000.0  \n",
      "9   8000.0  \n",
      "10  7000.0  \n",
      "11  2100.0  \n",
      "12  2100.0  \n",
      "13  1800.0  \n",
      "14  2400.0  \n",
      "15  2400.0  \n"
     ]
    }
   ],
   "source": [
    "o = [{'Name':name,'Constraint':c,'shadow price':c.pi,'slack': c.slack} for name, c in problema.constraints.items()]\n",
    "import pandas as pd\n",
    "print(pd.DataFrame(o))"
   ]
  },
  {
   "cell_type": "markdown",
   "id": "1662ea80",
   "metadata": {
    "nbgrader": {
     "grade": false,
     "grade_id": "cell-f1d532ceea5fd199",
     "locked": true,
     "schema_version": 3,
     "solution": false,
     "task": false
    }
   },
   "source": [
    "### Fin del laboratorio\n",
    "---\n",
    "Cuando hayas finalizado las preguntas, debes enviarlo por el enlace disponible en Bloque Neón. La nota del laboratorio y su retroalimentación se tendrá disponible en cinco días hábiles. \n",
    "¡Muchos éxitos!"
   ]
  }
 ],
 "metadata": {
  "celltoolbar": "Create Assignment",
  "kernelspec": {
   "display_name": "Python 3 (ipykernel)",
   "language": "python",
   "name": "python3"
  },
  "language_info": {
   "codemirror_mode": {
    "name": "ipython",
    "version": 3
   },
   "file_extension": ".py",
   "mimetype": "text/x-python",
   "name": "python",
   "nbconvert_exporter": "python",
   "pygments_lexer": "ipython3",
   "version": "3.11.3"
  },
  "vscode": {
   "interpreter": {
    "hash": "5544ca7e420cf96ebd726875ce015f13cfa63b01ebbe2244b2ea143f11e8e99c"
   }
  }
 },
 "nbformat": 4,
 "nbformat_minor": 5
}

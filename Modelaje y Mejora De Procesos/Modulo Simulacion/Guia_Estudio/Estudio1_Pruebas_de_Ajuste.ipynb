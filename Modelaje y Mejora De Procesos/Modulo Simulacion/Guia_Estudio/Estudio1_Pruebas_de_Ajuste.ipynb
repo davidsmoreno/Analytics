{
 "cells": [
  {
   "cell_type": "markdown",
   "metadata": {},
   "source": [
    "### Ejercicio 1"
   ]
  },
  {
   "cell_type": "code",
   "execution_count": 19,
   "metadata": {},
   "outputs": [
    {
     "data": {
      "image/png": "[encoded data removed]",
      "text/plain": [
       "<Figure size 640x480 with 1 Axes>"
      ]
     },
     "metadata": {},
     "output_type": "display_data"
    }
   ],
   "source": [
    "import numpy as np\n",
    "from scipy.stats import uniform\n",
    "import matplotlib.pyplot as plt\n",
    "\n",
    "\n",
    "distancia=[1.50,1.60,1.11,2.85,2.99,1.43,1.78,1.20,1.20,1.15,1.05,2.50,1.60,1.50,1.20,1.33,1.56,1.70,2.98,2.05,1.50,1.70]\n",
    "distancia_sort=np.sort(distancia)\n",
    "\n",
    "plt.hist(distancia_sort, bins=15, density=True, color='g')\n",
    "\n",
    "\n",
    "x=np.linspace(uniform.ppf(0.01),uniform.ppf(0.99),100)\n",
    "\n",
    "\n",
    "#Número de los datos\n",
    "n=len(distancia_sort)\n",
    "\n",
    "k=5 ## Número de intervalos, es arbitrario el número de intervalos\n",
    "\n",
    "\n",
    "frecuencia_esperada=n/k ## ya que es una distribución uniforme\n",
    "\n",
    "\n",
    "\n",
    "\n",
    "\n",
    "\n",
    "\n",
    "\n",
    "\n"
   ]
  },
  {
   "cell_type": "code",
   "execution_count": 26,
   "metadata": {},
   "outputs": [
    {
     "data": {
      "text/plain": [
       "array([0, 0, 0, 0, 0, 0, 0, 0, 0, 0, 0, 0, 0, 0, 0, 0, 0, 0, 0, 1, 0, 2,\n",
       "       3, 0, 0, 1, 0, 1, 3, 1, 2, 0, 2, 1, 0, 0, 0, 0, 1, 0, 0, 0, 0, 0,\n",
       "       0, 0, 0, 1, 0, 0, 0, 0, 0, 0, 1, 0, 2], dtype=int64)"
      ]
     },
     "execution_count": 26,
     "metadata": {},
     "output_type": "execute_result"
    }
   ],
   "source": [
    "frecuencias_observadas = np.bincount((distancia * k).astype(int)) ## Cuenta las ocurrencias por intervalo.\n",
    "frecuencias_observadas"
   ]
  },
  {
   "cell_type": "code",
   "execution_count": 21,
   "metadata": {},
   "outputs": [
    {
     "data": {
      "text/plain": [
       "1577.2909090909088"
      ]
     },
     "execution_count": 21,
     "metadata": {},
     "output_type": "execute_result"
    }
   ],
   "source": [
    "chi_cuadrado_stat = np.sum((frecuencias_observadas - frecuencia_esperada)**2 / frecuencia_esperada)\n",
    "chi_cuadrado_stat"
   ]
  },
  {
   "cell_type": "code",
   "execution_count": 25,
   "metadata": {},
   "outputs": [
    {
     "name": "stdout",
     "output_type": "stream",
     "text": [
      "Estadístico de prueba chi-cuadrado: 55.0\n",
      "Valor crítico de chi-cuadrado: 28.869299430392623\n",
      "Rechazamos la hipótesis nula. Los datos no se ajustan a una distribución uniforme.\n"
     ]
    }
   ],
   "source": [
    "import numpy as np\n",
    "from scipy.stats import chi2\n",
    "\n",
    "# Datos de distancia\n",
    "distancia = np.array([1.50, 1.60, 1.11, 2.85, 2.99, 1.43, 1.78, 1.20, 1.20, 1.15, 1.05, 2.50, 1.60, 1.50, 1.20, 1.33, 1.56, 1.70, 2.98, 2.05, 1.50, 1.70])\n",
    "\n",
    "# Nivel de significancia\n",
    "alpha = 0.05\n",
    "\n",
    "# Ordenar los datos\n",
    "distancia.sort()\n",
    "\n",
    "# Número de datos\n",
    "n = len(distancia)\n",
    "\n",
    "# Número de intervalos (k) - puedes ajustar este valor según tu preferencia\n",
    "k = 19\n",
    "\n",
    "# Calcular las frecuencias esperadas para una distribución uniforme\n",
    "frecuencia_esperada = n // k\n",
    "\n",
    "# Calcular las frecuencias observadas en cada intervalo\n",
    "frecuencias_observadas = np.bincount((distancia * k).astype(int))\n",
    "\n",
    "# Calcular el estadístico de prueba chi-cuadrado\n",
    "chi_cuadrado_stat = np.sum((frecuencias_observadas - frecuencia_esperada)**2 / frecuencia_esperada)\n",
    "\n",
    "# Grados de libertad (k - 1)\n",
    "grados_de_libertad = k - 1\n",
    "\n",
    "# Calcular el valor crítico de chi-cuadrado\n",
    "valor_critico = chi2.ppf(1 - alpha, df=grados_de_libertad)\n",
    "\n",
    "# Imprimir resultados\n",
    "print(\"Estadístico de prueba chi-cuadrado:\", chi_cuadrado_stat)\n",
    "print(\"Valor crítico de chi-cuadrado:\", valor_critico)\n",
    "\n",
    "# Comprobar la hipótesis nula\n",
    "if chi_cuadrado_stat < valor_critico:\n",
    "    print(\"No podemos rechazar la hipótesis nula. Los datos se ajustan a una distribución uniforme.\")\n",
    "else:\n",
    "    print(\"Rechazamos la hipótesis nula. Los datos no se ajustan a una distribución uniforme.\")\n"
   ]
  },
  {
   "cell_type": "markdown",
   "metadata": {},
   "source": []
  },
  {
   "cell_type": "markdown",
   "metadata": {},
   "source": [
    "- Queremos saber si sigue una variable uniforme con un nivel de significancia del 5%"
   ]
  },
  {
   "cell_type": "markdown",
   "metadata": {},
   "source": [
    "### Montecarlo Simulation\n"
   ]
  },
  {
   "cell_type": "code",
   "execution_count": 33,
   "metadata": {},
   "outputs": [],
   "source": [
    "import datetime\n",
    "\n",
    "import yfinance as yf\n",
    "\n",
    "import pandas as pd\n",
    "import numpy as np\n",
    "import matplotlib.pyplot as plt\n",
    "import matplotlib as mpl\n",
    "\n",
    "\n",
    "end = datetime.datetime(2019, 9, 12)\n",
    "start = end - datetime.timedelta(days = 7*365)\n",
    "\n",
    "my_stock = yf.Ticker('NFLX')\n",
    "my_stock = pd.DataFrame(my_stock.history(start = start, end = end)['Close'])\n",
    "my_stock = my_stock.rename(str.lower, axis = 'columns')"
   ]
  },
  {
   "cell_type": "code",
   "execution_count": 34,
   "metadata": {},
   "outputs": [
    {
     "data": {
      "text/html": [
       "<div>\n",
       "<style scoped>\n",
       "    .dataframe tbody tr th:only-of-type {\n",
       "        vertical-align: middle;\n",
       "    }\n",
       "\n",
       "    .dataframe tbody tr th {\n",
       "        vertical-align: top;\n",
       "    }\n",
       "\n",
       "    .dataframe thead th {\n",
       "        text-align: right;\n",
       "    }\n",
       "</style>\n",
       "<table border=\"1\" class=\"dataframe\">\n",
       "  <thead>\n",
       "    <tr style=\"text-align: right;\">\n",
       "      <th></th>\n",
       "      <th>close</th>\n",
       "    </tr>\n",
       "    <tr>\n",
       "      <th>Date</th>\n",
       "      <th></th>\n",
       "    </tr>\n",
       "  </thead>\n",
       "  <tbody>\n",
       "    <tr>\n",
       "      <th>2012-09-13 00:00:00-04:00</th>\n",
       "      <td>8.285714</td>\n",
       "    </tr>\n",
       "    <tr>\n",
       "      <th>2012-09-14 00:00:00-04:00</th>\n",
       "      <td>8.645714</td>\n",
       "    </tr>\n",
       "    <tr>\n",
       "      <th>2012-09-17 00:00:00-04:00</th>\n",
       "      <td>8.145714</td>\n",
       "    </tr>\n",
       "    <tr>\n",
       "      <th>2012-09-18 00:00:00-04:00</th>\n",
       "      <td>8.008571</td>\n",
       "    </tr>\n",
       "    <tr>\n",
       "      <th>2012-09-19 00:00:00-04:00</th>\n",
       "      <td>8.148571</td>\n",
       "    </tr>\n",
       "    <tr>\n",
       "      <th>...</th>\n",
       "      <td>...</td>\n",
       "    </tr>\n",
       "    <tr>\n",
       "      <th>2019-09-05 00:00:00-04:00</th>\n",
       "      <td>293.250000</td>\n",
       "    </tr>\n",
       "    <tr>\n",
       "      <th>2019-09-06 00:00:00-04:00</th>\n",
       "      <td>290.170013</td>\n",
       "    </tr>\n",
       "    <tr>\n",
       "      <th>2019-09-09 00:00:00-04:00</th>\n",
       "      <td>294.339996</td>\n",
       "    </tr>\n",
       "    <tr>\n",
       "      <th>2019-09-10 00:00:00-04:00</th>\n",
       "      <td>287.989990</td>\n",
       "    </tr>\n",
       "    <tr>\n",
       "      <th>2019-09-11 00:00:00-04:00</th>\n",
       "      <td>288.269989</td>\n",
       "    </tr>\n",
       "  </tbody>\n",
       "</table>\n",
       "<p>1759 rows × 1 columns</p>\n",
       "</div>"
      ],
      "text/plain": [
       "                                close\n",
       "Date                                 \n",
       "2012-09-13 00:00:00-04:00    8.285714\n",
       "2012-09-14 00:00:00-04:00    8.645714\n",
       "2012-09-17 00:00:00-04:00    8.145714\n",
       "2012-09-18 00:00:00-04:00    8.008571\n",
       "2012-09-19 00:00:00-04:00    8.148571\n",
       "...                               ...\n",
       "2019-09-05 00:00:00-04:00  293.250000\n",
       "2019-09-06 00:00:00-04:00  290.170013\n",
       "2019-09-09 00:00:00-04:00  294.339996\n",
       "2019-09-10 00:00:00-04:00  287.989990\n",
       "2019-09-11 00:00:00-04:00  288.269989\n",
       "\n",
       "[1759 rows x 1 columns]"
      ]
     },
     "execution_count": 34,
     "metadata": {},
     "output_type": "execute_result"
    }
   ],
   "source": [
    "my_stock"
   ]
  },
  {
   "cell_type": "code",
   "execution_count": null,
   "metadata": {},
   "outputs": [],
   "source": []
  }
 ],
 "metadata": {
  "kernelspec": {
   "display_name": "base",
   "language": "python",
   "name": "python3"
  },
  "language_info": {
   "codemirror_mode": {
    "name": "ipython",
    "version": 3
   },
   "file_extension": ".py",
   "mimetype": "text/x-python",
   "name": "python",
   "nbconvert_exporter": "python",
   "pygments_lexer": "ipython3",
   "version": "3.11.4"
  }
 },
 "nbformat": 4,
 "nbformat_minor": 2
}

{
 "cells": [
  {
   "cell_type": "code",
   "execution_count": 34,
   "metadata": {},
   "outputs": [
    {
     "name": "stdout",
     "output_type": "stream",
     "text": [
      "Estadístico de prueba KS: 0.438292487046084\n",
      "P-valor: 0.0007710188583950339\n",
      "\n",
      "Resultado de la prueba:\n",
      "Se rechaza la hipótesis nula. Los datos no siguen la distribución normal propuesta.\n"
     ]
    }
   ],
   "source": [
    "import scipy.stats as st\n",
    "import numpy as np\n",
    "import matplotlib.pyplot as plt\n",
    "import seaborn as sns\n",
    "\n",
    "\n",
    "data = [0.15, -0.45, -1, 0.7, 0.55, -0.65,\n",
    "        0.56, 0.765, -0.95, 0.15, 0.25, 0.45,\n",
    "        -0.35, 0.55, 0.95, -0.25, 0.95, 0.85,\n",
    "        -0.15]\n",
    "\n",
    "\n",
    "\n",
    "sorted_data1=sorted(data)\n",
    "\n",
    "data_array = np.array(data)\n",
    "\n",
    "# Normalize the array between 0 and 1\n",
    "normalized_data = (data_array - np.min(data_array)) / (np.max(data_array) - np.min(data_array))\n",
    "\n",
    "\n",
    "\n",
    "\n",
    "media=0.125\n",
    "desviacion_estandar=0.645\n",
    "tamaño_muestra=19\n",
    "\n",
    "datos_normales=st.norm.rvs(loc=media, scale=desviacion_estandar, size=tamaño_muestra)\n",
    "\n",
    "\n",
    "kstest_result = st.kstest(normalized_data, 'norm', args=(media, desviacion_estandar))\n",
    "print(\"Estadístico de prueba KS:\", kstest_result.statistic)\n",
    "print(\"P-valor:\", kstest_result.pvalue)\n",
    "\n",
    "\n",
    "#Son diferentes o no sigen una distribucion normal\n",
    "\n",
    "alpha = 0.05\n",
    "print(\"\\nResultado de la prueba:\")\n",
    "if kstest_result.pvalue < alpha:\n",
    "    print(\"Se rechaza la hipótesis nula. Los datos no siguen la distribución normal propuesta.\")\n",
    "else:\n",
    "    print(\"No hay suficiente evidencia para rechazar la hipótesis nula. Los datos podrían seguir la distribución normal propuesta.\")\n",
    "\n",
    "\n"
   ]
  },
  {
   "cell_type": "markdown",
   "metadata": {},
   "source": [
    "## Punto 7"
   ]
  },
  {
   "cell_type": "code",
   "execution_count": 35,
   "metadata": {},
   "outputs": [
    {
     "name": "stdout",
     "output_type": "stream",
     "text": [
      "No hay suficiente evidencia para rechazar la hipótesis nula. Dn = 0.0 <= D_alpha = 0.371\n",
      "[0.05263158 0.10526316 0.15789474 0.21052632 0.26315789 0.31578947\n",
      " 0.36842105 0.42105263 0.47368421 0.52631579 0.57894737 0.63157895\n",
      " 0.68421053 0.73684211 0.78947368 0.84210526 0.89473684 0.94736842\n",
      " 1.        ]\n",
      "[0.05263158 0.10526316 0.15789474 0.21052632 0.26315789 0.31578947\n",
      " 0.36842105 0.42105263 0.47368421 0.52631579 0.57894737 0.63157895\n",
      " 0.68421053 0.73684211 0.78947368 0.84210526 0.89473684 0.94736842\n",
      " 1.        ]\n"
     ]
    }
   ],
   "source": [
    "import numpy as np\n",
    "\n",
    "# Función acumulada proporcionada\n",
    "def funcion_acumulada(x):\n",
    "    if 0 <= x <= 1:\n",
    "        return (9/15)*x - 0.065\n",
    "    else:\n",
    "        return 0\n",
    "\n",
    "# Datos dados\n",
    "data2 = [0.16, 0.565, 0.76, 0.7, 0.55, 0.54,\n",
    "         0.56, 0.765, 0.88, 0.15, 0.25, 0.45,\n",
    "         0.12, 0.55, 0.95, 0.67, 0.95, 0.85,\n",
    "         0.15]\n",
    "\n",
    "# 1. Ordenar los datos de menor a mayor\n",
    "sorted_data = np.sort(data2)\n",
    "\n",
    "# 2. Calcular la función acumulada empírica (Fn) de los datos ordenados\n",
    "Fn = np.arange(1, len(sorted_data) + 1) / len(sorted_data)\n",
    "\n",
    "# 3. Calcular la función acumulada teórica (F) de la función_acumulada proporcionada\n",
    "F = np.array([funcion_acumulada(x) for x in sorted_data1])\n",
    "F=np.arange(1, len(sorted_data1) + 1) / len(sorted_data1)\n",
    "\n",
    "# 4. Calcular la diferencia absoluta entre las funciones acumuladas empírica y teórica\n",
    "diferencia_absoluta = np.abs(Fn - F)\n",
    "\n",
    "# 5. Encontrar el máximo valor de la diferencia absoluta\n",
    "D = np.max(diferencia_absoluta)\n",
    "\n",
    "# 6. Calcular el estadístico de prueba\n",
    "Dn = np.sqrt(len(sorted_data)) * D\n",
    "\n",
    "# 7. Comparar con el valor crítico\n",
    "valor_critico = 0.371  # Valor crítico para un nivel de significancia del 10%\n",
    "\n",
    "# 8. Tomar la decisión\n",
    "nivel_significancia = 0.1\n",
    "if Dn > valor_critico:\n",
    "    print(f\"Se rechaza la hipótesis nula. Dn = {Dn} > D_alpha = {valor_critico}\")\n",
    "else:\n",
    "    print(f\"No hay suficiente evidencia para rechazar la hipótesis nula. Dn = {Dn} <= D_alpha = {valor_critico}\")\n",
    "\n",
    "\n",
    "print(F)\n",
    "print(Fn)"
   ]
  },
  {
   "cell_type": "code",
   "execution_count": 29,
   "metadata": {},
   "outputs": [],
   "source": [
    "F = np.array([funcion_acumulada(x) for x in data])\n",
    "\n"
   ]
  },
  {
   "cell_type": "markdown",
   "metadata": {},
   "source": [
    "## Preparcial Librerias Utiles (Prueba de Kolmovorog)"
   ]
  },
  {
   "cell_type": "code",
   "execution_count": 74,
   "metadata": {},
   "outputs": [
    {
     "name": "stdout",
     "output_type": "stream",
     "text": [
      "Estadístico de prueba: 0.24196365222307303\n",
      "Valor p: 0.8685888274629627\n",
      "No se puede rechazar H0: Los datos siguen una distribución normal con media 0 y desviación estándar 1\n"
     ]
    }
   ],
   "source": [
    "from scipy.stats import kstest, norm\n",
    "\n",
    "# Supongamos que tenemos los siguientes datos.\n",
    "data = [-1, -0.45, -0.15, 0.55, 0.7]\n",
    "\n",
    "# Realizamos la prueba de Kolmogorov-Smirnov\n",
    "resultado_prueba = kstest(data, norm(loc=0, scale=1).cdf)\n",
    "\n",
    "# Imprimimos los resultados\n",
    "print(f\"Estadístico de prueba: {resultado_prueba.statistic}\")\n",
    "print(f\"Valor p: {resultado_prueba.pvalue}\")\n",
    "\n",
    "# Interpretación de los resultados\n",
    "nivel_significancia = 0.05\n",
    "if resultado_prueba.pvalue < nivel_significancia:\n",
    "    print(\"Rechazar H0: Los datos no siguen una distribución normal con media 0 y desviación estándar 1\")\n",
    "else:\n",
    "    print(\"No se puede rechazar H0: Los datos siguen una distribución normal con media 0 y desviación estándar 1\")\n",
    "\n",
    "\n",
    "#Tenemos las muestras de las siguientes datos\n",
    "numbers = [1.50, 1.60, 1.11, 2.85, 2.99, 1.43,\n",
    "           1.78, 1.20, 1.20, 1.15, 1.05, 2.50,\n",
    "           1.60, 1.50, 1.20, 1.33, 1.56, 1.70,\n",
    "           2.98, 2.05, 1.50, 1.70]\n",
    "\n",
    "\n",
    "#Queremos ver si siguien una distribución uniforme en el intervalo [1, 3]\n",
    "\n",
    "\n",
    "#1. Queremos hacer una prueba chi cuadrado con k = 5 intervalos\n",
    "k = 4\n",
    "#2. Calculamos la frecuencia esperada de cada intervalo\n",
    "frecuencia_esperada = len(numbers) / k\n",
    "\n",
    "\n",
    "\n",
    "\n"
   ]
  },
  {
   "cell_type": "code",
   "execution_count": 75,
   "metadata": {},
   "outputs": [
    {
     "data": {
      "text/plain": [
       "Power_divergenceResult(statistic=8.90909090909091, pvalue=0.030524311925166546)"
      ]
     },
     "execution_count": 75,
     "metadata": {},
     "output_type": "execute_result"
    }
   ],
   "source": [
    "#count the number of frecuencies in the 4 intervals\n",
    "import numpy as np\n",
    "frecuencias, intervalos = np.histogram(numbers, bins=k)\n",
    "\n",
    "#do the chi square test\n",
    "from scipy.stats import chisquare\n",
    "chisquare(frecuencias, frecuencia_esperada)\n",
    "\n",
    "#The p-value is 0.0309, which is less than the significance level of 0.05. Therefore, we reject the null hypothesis and conclude that the data do not follow a uniform distribution in the interval [1, 3].\n"
   ]
  },
  {
   "cell_type": "code",
   "execution_count": 137,
   "metadata": {},
   "outputs": [
    {
     "name": "stdout",
     "output_type": "stream",
     "text": [
      "loc = 0.0, scale = 0.30598290598290595\n",
      "[3.26815642 2.76386006 2.62833074 2.54169046 2.1494922  1.92225655\n",
      " 1.90089837 1.81781251 1.81781251 1.76773824 1.71904334 1.30009629\n",
      " 0.92982657 0.90421315 0.8793053  0.59470811 0.50294104 0.19456227\n",
      " 0.12444015]\n",
      "[0.         0.05128205 0.06666667 0.07692308 0.12820513 0.16239316\n",
      " 0.16581197 0.17948718 0.17948718 0.18803419 0.1965812  0.28205128\n",
      " 0.38461538 0.39316239 0.4017094  0.52136752 0.57264957 0.86324786\n",
      " 1.        ]\n",
      "[11  4  2  2]\n",
      "[6 2 7 4]\n"
     ]
    },
    {
     "data": {
      "text/plain": [
       "Power_divergenceResult(statistic=10.738095238095239, pvalue=0.013229765523382665)"
      ]
     },
     "execution_count": 137,
     "metadata": {},
     "output_type": "execute_result"
    }
   ],
   "source": [
    "from scipy.stats import expon, chisquare\n",
    "import numpy as np\n",
    "import matplotlib.pyplot as plt\n",
    "\n",
    "# Your data\n",
    "X = [120, 350, 240, 130, 60, 180, 120, 112, 245, 600, 320, 520, 54, 45, 15, 90, 125, 110, 250]\n",
    "\n",
    "\n",
    "#normalize the data\n",
    "X_array = np.array(X)\n",
    "X_array=np.sort(X_array)\n",
    "X_standardized = (X_array - np.min(X_array)) / (np.max(X_array) - np.min(X_array))\n",
    "\n",
    "\n",
    "# Fit an exponential distribution to the data\n",
    "loc, scale = expon.fit(X_standardized)\n",
    "print(f\"loc = {loc}, scale = {scale}\")\n",
    "\n",
    "k = 4\n",
    "# Generate expected frequencies based on the exponential distribution\n",
    "expected_frequencies = expon.pdf(X_standardized, loc=loc, scale=scale) \n",
    "print(expected_frequencies)\n",
    "print(X_standardized)\n",
    "expected_frequencies= np.histogram(expected_frequencies, bins=k)\n",
    "\n",
    "#Divide the data into 5 intervals\n",
    "X_frecuencias, X_intervalos = np.histogram(X_standardized, bins=k)\n",
    "\n",
    "print(X_frecuencias)\n",
    "print(expected_frequencies[0])\n",
    "\n",
    "# Perform the chi-square test\n",
    "chisquare(X_frecuencias, expected_frequencies[0])\n",
    "\n"
   ]
  },
  {
   "cell_type": "markdown",
   "metadata": {},
   "source": [
    "## Simulación de Monte Carlo"
   ]
  },
  {
   "cell_type": "code",
   "execution_count": 161,
   "metadata": {},
   "outputs": [
    {
     "name": "stdout",
     "output_type": "stream",
     "text": [
      "El tiempo promedio de llegada es 50.06821888829596 minutos\n",
      "La desviación estándar de los tiempos de llegada es 15.268257290041365 minutos\n",
      "Skewness: 1.5178111908574963\n",
      "Kurtosis: 5.079497702060989\n"
     ]
    },
    {
     "data": {
      "image/png": "[encoded data removed]",
      "text/plain": [
       "<Figure size 640x480 with 1 Axes>"
      ]
     },
     "metadata": {},
     "output_type": "display_data"
    }
   ],
   "source": [
    "media_exponecial=15\n",
    "import random\n",
    "\n",
    "#create a unifmrom distribution between 20 and 40\n",
    "from scipy.stats import uniform\n",
    "uniform_distribution = uniform(loc=20, scale=20)\n",
    "\n",
    "#generate 1000 random numbers\n",
    "random_numbers = uniform_distribution.rvs(size=1000)\n",
    "\n",
    "plt.hist(random_numbers, bins=20)\n",
    "\n",
    "#create a exponential distribution with mean of 15\n",
    "from scipy.stats import expon\n",
    "t_p = expon(scale=media_exponecial)\n",
    "\n",
    "\n",
    "def tiempo_adicional_trafico():\n",
    "    probabilidad = random.uniform(0, 1)\n",
    "    if probabilidad < 0.1:\n",
    "        return 0\n",
    "    elif probabilidad < 0.7:\n",
    "        return 5\n",
    "    else:\n",
    "        return 10\n",
    "\n",
    "def tiempo_total_llegada():\n",
    "    tiempo_preparacion=expon(scale=15).rvs()\n",
    "    tiempo_viaje=random.uniform(20, 40)\n",
    "    tiempo_trafico=tiempo_adicional_trafico()\n",
    "\n",
    "    tiempo_total=tiempo_preparacion+tiempo_viaje+tiempo_trafico\n",
    "    return tiempo_total\n",
    "\n",
    "num_simulaciones = 1000\n",
    "\n",
    "tiempos_totales=[]\n",
    "\n",
    "for i in range(num_simulaciones):\n",
    "    tiempos_totales.append(tiempo_total_llegada())\n",
    "\n",
    "\n",
    "promedio_tiempos_totales = np.mean(tiempos_totales)\n",
    "print(f\"El tiempo promedio de llegada es {promedio_tiempos_totales} minutos\")\n",
    "\n",
    "desviacion_estandard_tiempos_totales = np.std(tiempos_totales)\n",
    "print(f\"La desviación estándar de los tiempos de llegada es {desviacion_estandard_tiempos_totales} minutos\")\n",
    "\n",
    "\n",
    "\n",
    "#do a sensibility analysis\n",
    "\n",
    "#plot the histogram of the data\n",
    "plt.hist(tiempos_totales, bins=20)\n",
    "#calculate the skewness and kurtosis\n",
    "from scipy.stats import skew, kurtosis\n",
    "print(f\"Skewness: {skew(tiempos_totales)}\")\n",
    "print(f\"Kurtosis: {kurtosis(tiempos_totales)}\")\n",
    "# and asimetry and curtosis\n",
    "\n",
    "#vemos que tiene asimetria positiva esto es que los datos estan \n",
    "\n"
   ]
  },
  {
   "cell_type": "code",
   "execution_count": null,
   "metadata": {},
   "outputs": [],
   "source": [
    "dfit = distfit(todf=True)\n",
    "dfit.fit_transform(df['TiempoEntreArribos'])\n",
    "dfit.plot()\n",
    "dfit.plot_summary()\n",
    "plt.axhline(y = 0.05, color = 'r', linestyle = '-')\n",
    "plt.show()"
   ]
  },
  {
   "cell_type": "code",
   "execution_count": null,
   "metadata": {},
   "outputs": [],
   "source": []
  }
 ],
 "metadata": {
  "kernelspec": {
   "display_name": "MachineLearning",
   "language": "python",
   "name": "python3"
  },
  "language_info": {
   "codemirror_mode": {
    "name": "ipython",
    "version": 3
   },
   "file_extension": ".py",
   "mimetype": "text/x-python",
   "name": "python",
   "nbconvert_exporter": "python",
   "pygments_lexer": "ipython3",
   "version": "3.11.4"
  },
  "orig_nbformat": 4
 },
 "nbformat": 4,
 "nbformat_minor": 2
}

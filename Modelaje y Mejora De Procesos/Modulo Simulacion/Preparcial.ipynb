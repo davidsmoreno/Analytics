{
 "cells": [
  {
   "cell_type": "code",
   "execution_count": 34,
   "metadata": {},
   "outputs": [
    {
     "name": "stdout",
     "output_type": "stream",
     "text": [
      "Estadístico de prueba KS: 0.438292487046084\n",
      "P-valor: 0.0007710188583950339\n",
      "\n",
      "Resultado de la prueba:\n",
      "Se rechaza la hipótesis nula. Los datos no siguen la distribución normal propuesta.\n"
     ]
    }
   ],
   "source": [
    "import scipy.stats as st\n",
    "import numpy as np\n",
    "import matplotlib.pyplot as plt\n",
    "import seaborn as sns\n",
    "\n",
    "\n",
    "data = [0.15, -0.45, -1, 0.7, 0.55, -0.65,\n",
    "        0.56, 0.765, -0.95, 0.15, 0.25, 0.45,\n",
    "        -0.35, 0.55, 0.95, -0.25, 0.95, 0.85,\n",
    "        -0.15]\n",
    "\n",
    "\n",
    "\n",
    "sorted_data1=sorted(data)\n",
    "\n",
    "data_array = np.array(data)\n",
    "\n",
    "# Normalize the array between 0 and 1\n",
    "normalized_data = (data_array - np.min(data_array)) / (np.max(data_array) - np.min(data_array))\n",
    "\n",
    "\n",
    "\n",
    "\n",
    "media=0.125\n",
    "desviacion_estandar=0.645\n",
    "tamaño_muestra=19\n",
    "\n",
    "datos_normales=st.norm.rvs(loc=media, scale=desviacion_estandar, size=tamaño_muestra)\n",
    "\n",
    "\n",
    "kstest_result = st.kstest(normalized_data, 'norm', args=(media, desviacion_estandar))\n",
    "print(\"Estadístico de prueba KS:\", kstest_result.statistic)\n",
    "print(\"P-valor:\", kstest_result.pvalue)\n",
    "\n",
    "\n",
    "#Son diferentes o no sigen una distribucion normal\n",
    "\n",
    "alpha = 0.05\n",
    "print(\"\\nResultado de la prueba:\")\n",
    "if kstest_result.pvalue < alpha:\n",
    "    print(\"Se rechaza la hipótesis nula. Los datos no siguen la distribución normal propuesta.\")\n",
    "else:\n",
    "    print(\"No hay suficiente evidencia para rechazar la hipótesis nula. Los datos podrían seguir la distribución normal propuesta.\")\n",
    "\n",
    "\n"
   ]
  },
  {
   "cell_type": "markdown",
   "metadata": {},
   "source": [
    "## Punto 7"
   ]
  },
  {
   "cell_type": "code",
   "execution_count": 35,
   "metadata": {},
   "outputs": [
    {
     "name": "stdout",
     "output_type": "stream",
     "text": [
      "No hay suficiente evidencia para rechazar la hipótesis nula. Dn = 0.0 <= D_alpha = 0.371\n",
      "[0.05263158 0.10526316 0.15789474 0.21052632 0.26315789 0.31578947\n",
      " 0.36842105 0.42105263 0.47368421 0.52631579 0.57894737 0.63157895\n",
      " 0.68421053 0.73684211 0.78947368 0.84210526 0.89473684 0.94736842\n",
      " 1.        ]\n",
      "[0.05263158 0.10526316 0.15789474 0.21052632 0.26315789 0.31578947\n",
      " 0.36842105 0.42105263 0.47368421 0.52631579 0.57894737 0.63157895\n",
      " 0.68421053 0.73684211 0.78947368 0.84210526 0.89473684 0.94736842\n",
      " 1.        ]\n"
     ]
    }
   ],
   "source": [
    "import numpy as np\n",
    "\n",
    "# Función acumulada proporcionada\n",
    "def funcion_acumulada(x):\n",
    "    if 0 <= x <= 1:\n",
    "        return (9/15)*x - 0.065\n",
    "    else:\n",
    "        return 0\n",
    "\n",
    "# Datos dados\n",
    "data2 = [0.16, 0.565, 0.76, 0.7, 0.55, 0.54,\n",
    "         0.56, 0.765, 0.88, 0.15, 0.25, 0.45,\n",
    "         0.12, 0.55, 0.95, 0.67, 0.95, 0.85,\n",
    "         0.15]\n",
    "\n",
    "# 1. Ordenar los datos de menor a mayor\n",
    "sorted_data = np.sort(data2)\n",
    "\n",
    "# 2. Calcular la función acumulada empírica (Fn) de los datos ordenados\n",
    "Fn = np.arange(1, len(sorted_data) + 1) / len(sorted_data)\n",
    "\n",
    "# 3. Calcular la función acumulada teórica (F) de la función_acumulada proporcionada\n",
    "F = np.array([funcion_acumulada(x) for x in sorted_data1])\n",
    "F=np.arange(1, len(sorted_data1) + 1) / len(sorted_data1)\n",
    "\n",
    "# 4. Calcular la diferencia absoluta entre las funciones acumuladas empírica y teórica\n",
    "diferencia_absoluta = np.abs(Fn - F)\n",
    "\n",
    "# 5. Encontrar el máximo valor de la diferencia absoluta\n",
    "D = np.max(diferencia_absoluta)\n",
    "\n",
    "# 6. Calcular el estadístico de prueba\n",
    "Dn = np.sqrt(len(sorted_data)) * D\n",
    "\n",
    "# 7. Comparar con el valor crítico\n",
    "valor_critico = 0.371  # Valor crítico para un nivel de significancia del 10%\n",
    "\n",
    "# 8. Tomar la decisión\n",
    "nivel_significancia = 0.1\n",
    "if Dn > valor_critico:\n",
    "    print(f\"Se rechaza la hipótesis nula. Dn = {Dn} > D_alpha = {valor_critico}\")\n",
    "else:\n",
    "    print(f\"No hay suficiente evidencia para rechazar la hipótesis nula. Dn = {Dn} <= D_alpha = {valor_critico}\")\n",
    "\n",
    "\n",
    "print(F)\n",
    "print(Fn)"
   ]
  },
  {
   "cell_type": "code",
   "execution_count": 29,
   "metadata": {},
   "outputs": [],
   "source": [
    "F = np.array([funcion_acumulada(x) for x in data])\n",
    "\n"
   ]
  },
  {
   "cell_type": "code",
   "execution_count": null,
   "metadata": {},
   "outputs": [],
   "source": []
  }
 ],
 "metadata": {
  "kernelspec": {
   "display_name": "MachineLearning",
   "language": "python",
   "name": "python3"
  },
  "language_info": {
   "codemirror_mode": {
    "name": "ipython",
    "version": 3
   },
   "file_extension": ".py",
   "mimetype": "text/x-python",
   "name": "python",
   "nbconvert_exporter": "python",
   "pygments_lexer": "ipython3",
   "version": "3.11.5"
  },
  "orig_nbformat": 4
 },
 "nbformat": 4,
 "nbformat_minor": 2
}

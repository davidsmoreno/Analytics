{
 "cells": [
  {
   "cell_type": "markdown",
   "metadata": {},
   "source": [
    "## Simulación de venta de articulos"
   ]
  },
  {
   "cell_type": "code",
   "execution_count": 73,
   "metadata": {},
   "outputs": [],
   "source": [
    "from scipy.stats import norm\n",
    "from scipy.stats import randint\n",
    "\n",
    "import numpy as np\n",
    "import pandas as pd\n",
    "import matplotlib.pyplot as plt\n"
   ]
  },
  {
   "cell_type": "code",
   "execution_count": 74,
   "metadata": {},
   "outputs": [],
   "source": [
    "# parámetros del modelo\n",
    "media_precio = 100\n",
    "desv_est_precio = 10\n",
    "min_unids = 10000\n",
    "max_unids = 20000\n",
    "\n",
    "\n",
    "#generación de precios y unids\n",
    "n_exps = 10000\n",
    "precios = norm.rvs(loc=media_precio, scale=desv_est_precio, size=n_exps)\n",
    "unids = randint.rvs(min_unids, max_unids, size=n_exps)#Uniformes\n"
   ]
  },
  {
   "cell_type": "code",
   "execution_count": 75,
   "metadata": {},
   "outputs": [
    {
     "data": {
      "text/html": [
       "<div>\n",
       "<style scoped>\n",
       "    .dataframe tbody tr th:only-of-type {\n",
       "        vertical-align: middle;\n",
       "    }\n",
       "\n",
       "    .dataframe tbody tr th {\n",
       "        vertical-align: top;\n",
       "    }\n",
       "\n",
       "    .dataframe thead th {\n",
       "        text-align: right;\n",
       "    }\n",
       "</style>\n",
       "<table border=\"1\" class=\"dataframe\">\n",
       "  <thead>\n",
       "    <tr style=\"text-align: right;\">\n",
       "      <th></th>\n",
       "      <th>ingresos</th>\n",
       "    </tr>\n",
       "  </thead>\n",
       "  <tbody>\n",
       "    <tr>\n",
       "      <th>0</th>\n",
       "      <td>1.130593e+06</td>\n",
       "    </tr>\n",
       "    <tr>\n",
       "      <th>1</th>\n",
       "      <td>1.543915e+06</td>\n",
       "    </tr>\n",
       "    <tr>\n",
       "      <th>2</th>\n",
       "      <td>1.254891e+06</td>\n",
       "    </tr>\n",
       "    <tr>\n",
       "      <th>3</th>\n",
       "      <td>1.704136e+06</td>\n",
       "    </tr>\n",
       "    <tr>\n",
       "      <th>4</th>\n",
       "      <td>1.518269e+06</td>\n",
       "    </tr>\n",
       "  </tbody>\n",
       "</table>\n",
       "</div>"
      ],
      "text/plain": [
       "       ingresos\n",
       "0  1.130593e+06\n",
       "1  1.543915e+06\n",
       "2  1.254891e+06\n",
       "3  1.704136e+06\n",
       "4  1.518269e+06"
      ]
     },
     "execution_count": 75,
     "metadata": {},
     "output_type": "execute_result"
    }
   ],
   "source": [
    "# ventas \n",
    "ingresos = pd.DataFrame()\n",
    "\n",
    "lista_ingresos = []\n",
    "for i in range(n_exps):\n",
    "    lista_ingresos.append( precios[i]*unids[i])\n",
    "    \n",
    "ingresos[\"ingresos\"] = lista_ingresos\n",
    "ingresos.head()\n"
   ]
  },
  {
   "cell_type": "code",
   "execution_count": 76,
   "metadata": {},
   "outputs": [
    {
     "data": {
      "image/png": "[encoded data removed]",
      "text/plain": [
       "<Figure size 640x480 with 1 Axes>"
      ]
     },
     "metadata": {},
     "output_type": "display_data"
    }
   ],
   "source": [
    "ingresos.hist(bins=30)\n",
    "plt.show()\n"
   ]
  },
  {
   "cell_type": "code",
   "execution_count": 77,
   "metadata": {},
   "outputs": [
    {
     "data": {
      "text/html": [
       "<div>\n",
       "<style scoped>\n",
       "    .dataframe tbody tr th:only-of-type {\n",
       "        vertical-align: middle;\n",
       "    }\n",
       "\n",
       "    .dataframe tbody tr th {\n",
       "        vertical-align: top;\n",
       "    }\n",
       "\n",
       "    .dataframe thead th {\n",
       "        text-align: right;\n",
       "    }\n",
       "</style>\n",
       "<table border=\"1\" class=\"dataframe\">\n",
       "  <thead>\n",
       "    <tr style=\"text-align: right;\">\n",
       "      <th></th>\n",
       "      <th>ingresos</th>\n",
       "    </tr>\n",
       "  </thead>\n",
       "  <tbody>\n",
       "    <tr>\n",
       "      <th>count</th>\n",
       "      <td>1.000000e+04</td>\n",
       "    </tr>\n",
       "    <tr>\n",
       "      <th>mean</th>\n",
       "      <td>1.498365e+06</td>\n",
       "    </tr>\n",
       "    <tr>\n",
       "      <th>std</th>\n",
       "      <td>3.275842e+05</td>\n",
       "    </tr>\n",
       "    <tr>\n",
       "      <th>min</th>\n",
       "      <td>7.008928e+05</td>\n",
       "    </tr>\n",
       "    <tr>\n",
       "      <th>25%</th>\n",
       "      <td>1.231312e+06</td>\n",
       "    </tr>\n",
       "    <tr>\n",
       "      <th>50%</th>\n",
       "      <td>1.485928e+06</td>\n",
       "    </tr>\n",
       "    <tr>\n",
       "      <th>75%</th>\n",
       "      <td>1.740419e+06</td>\n",
       "    </tr>\n",
       "    <tr>\n",
       "      <th>max</th>\n",
       "      <td>2.578376e+06</td>\n",
       "    </tr>\n",
       "  </tbody>\n",
       "</table>\n",
       "</div>"
      ],
      "text/plain": [
       "           ingresos\n",
       "count  1.000000e+04\n",
       "mean   1.498365e+06\n",
       "std    3.275842e+05\n",
       "min    7.008928e+05\n",
       "25%    1.231312e+06\n",
       "50%    1.485928e+06\n",
       "75%    1.740419e+06\n",
       "max    2.578376e+06"
      ]
     },
     "execution_count": 77,
     "metadata": {},
     "output_type": "execute_result"
    }
   ],
   "source": [
    "ingresos.describe()"
   ]
  },
  {
   "cell_type": "code",
   "execution_count": 78,
   "metadata": {},
   "outputs": [
    {
     "data": {
      "text/plain": [
       "(1491943.2707286351, 1504785.8919114862)"
      ]
     },
     "execution_count": 78,
     "metadata": {},
     "output_type": "execute_result"
    }
   ],
   "source": [
    "import numpy as np\n",
    "import scipy.stats as st\n",
    "import math\n",
    "\n",
    "# intervalo de confianza para la media\n",
    "st.t.interval(confidence=0.95, df=len(ingresos)-1,\n",
    "              loc=ingresos[\"ingresos\"].mean(),\n",
    "              scale=ingresos[\"ingresos\"].std()/math.sqrt(len(ingresos)))\n",
    "\n"
   ]
  },
  {
   "cell_type": "code",
   "execution_count": 79,
   "metadata": {},
   "outputs": [
    {
     "data": {
      "text/plain": [
       "(856233.5221775107, 2140495.640462611)"
      ]
     },
     "execution_count": 79,
     "metadata": {},
     "output_type": "execute_result"
    }
   ],
   "source": [
    "# intervalo de confianza para la variable aleatoria\n",
    "st.t.interval(confidence=0.95, df=len(ingresos)-1,\n",
    "              loc=ingresos[\"ingresos\"].mean(),\n",
    "              scale=ingresos[\"ingresos\"].std())"
   ]
  },
  {
   "cell_type": "markdown",
   "metadata": {},
   "source": [
    "## Taller en clase"
   ]
  },
  {
   "cell_type": "code",
   "execution_count": 80,
   "metadata": {},
   "outputs": [
    {
     "name": "stdout",
     "output_type": "stream",
     "text": [
      "       ingresos\n",
      "0  1.130593e+06\n",
      "1  1.543915e+06\n",
      "2  1.254891e+06\n",
      "3  1.704136e+06\n",
      "4  1.518269e+06\n"
     ]
    },
    {
     "data": {
      "image/png": "[encoded data removed]",
      "text/plain": [
       "<Figure size 640x480 with 1 Axes>"
      ]
     },
     "metadata": {},
     "output_type": "display_data"
    }
   ],
   "source": [
    "import numpy as np\n",
    "import pandas as pd\n",
    "import matplotlib.pyplot as plt\n",
    "from scipy.stats import norm, randint\n",
    "\n",
    "# Parámetros del modelo\n",
    "media_precio = 80  # Media del precio\n",
    "desv_est_precio = 10  # Desviación estándar del precio\n",
    "min_unids = 15000  # Cantidad mínima de unidades\n",
    "max_unids = 16000  # Cantidad máxima de unidades\n",
    "\n",
    "# Generación de precios y unidades\n",
    "n_exps = 10000\n",
    "precios = norm.rvs(loc=media_precio, scale=desv_est_precio, size=n_exps)\n",
    "unids = randint.rvs(min_unids, max_unids, size=n_exps)\n",
    "\n",
    "# Cálculo de ingresos\n",
    "ingresos_2 = pd.DataFrame()\n",
    "\n",
    "lista_ingresos = []\n",
    "for i in range(n_exps):\n",
    "    lista_ingresos.append(precios[i] * unids[i])\n",
    "\n",
    "ingresos_2[\"ingresos\"] = lista_ingresos\n",
    "\n",
    "# Mostrar los primeros registros de ingresos\n",
    "print(ingresos.head())\n",
    "\n",
    "# Histograma de ingresos\n",
    "ingresos_2.hist(bins=30)\n",
    "plt.xlabel(\"Ingresos\")\n",
    "plt.ylabel(\"Frecuencia\")\n",
    "plt.title(\"Distribución de Ingresos\")\n",
    "plt.show()\n"
   ]
  },
  {
   "cell_type": "code",
   "execution_count": 81,
   "metadata": {},
   "outputs": [
    {
     "data": {
      "image/png": "[encoded data removed]",
      "text/plain": [
       "<Figure size 640x480 with 1 Axes>"
      ]
     },
     "metadata": {},
     "output_type": "display_data"
    }
   ],
   "source": [
    "fig, ax = plt.subplots()\n",
    "\n",
    "ax.hist(ingresos_2, bins=30, density=True,color=\"blue\",label=\"Ingresos_2\",alpha=0.5)\n",
    "ax.hist(ingresos, bins=30, density=True,color=\"red\",label=\"Ingresos\",alpha=0.5)\n",
    "\n",
    "ax.set_xlabel(\"Value\")\n",
    "ax.set_ylabel(\"Frequency\")\n",
    "ax.set_title(\"Distribución de de los dos ingresos\")\n",
    "plt.show()"
   ]
  },
  {
   "cell_type": "markdown",
   "metadata": {},
   "source": [
    "## Prueba de Medias"
   ]
  },
  {
   "cell_type": "markdown",
   "metadata": {},
   "source": [
    "#### Prueba t-tes"
   ]
  },
  {
   "cell_type": "code",
   "execution_count": 84,
   "metadata": {},
   "outputs": [
    {
     "name": "stdout",
     "output_type": "stream",
     "text": [
      "t_stat:  [70.73248498]\n",
      "p_value:  [0.]\n",
      "Rechazamos la hipótesis nula\n",
      "(array([1491943.27072864]), array([1504785.89191149]))  es el intervalo de confianza para los ingresos_1\n",
      "(array([1238459.21626762]), array([1244600.07283699]))  es el intervalo de confianza para los ingresos_2\n"
     ]
    }
   ],
   "source": [
    "import scipy.stats as stats\n",
    "mean_ingresos = ingresos[\"ingresos\"].mean()\n",
    "mean_ingresos_2 = ingresos_2[\"ingresos\"].mean()\n",
    "\n",
    "\n",
    "t_stat, p_value = stats.ttest_ind(ingresos, ingresos_2)\n",
    "print(\"t_stat: \", t_stat)\n",
    "print(\"p_value: \", p_value)\n",
    "if p_value < 0.05:\n",
    "    print(\"Rechazamos la hipótesis nula\")\n",
    "else:\n",
    "    print(\"No podemos rechazar la hipótesis nula\")\n",
    "\n",
    "#Calculemos un intervalo al 95 pociento\n",
    "alfa = 0.05\n",
    "conf_interval=stats.t.interval(1-alfa,len(ingresos)-1, loc=mean_ingresos, scale=stats.sem(ingresos))\n",
    "print(conf_interval, \" es el intervalo de confianza para los ingresos_1\")\n",
    "\n",
    "conf_interval_2=stats.t.interval(1-alfa,len(ingresos_2)-1, loc=mean_ingresos_2, scale=stats.sem(ingresos_2))\n",
    "print(conf_interval_2, \" es el intervalo de confianza para los ingresos_2\")\n",
    "\n",
    "\n"
   ]
  },
  {
   "cell_type": "code",
   "execution_count": 82,
   "metadata": {},
   "outputs": [
    {
     "data": {
      "text/plain": [
       "count    1.000000e+04\n",
       "mean     1.498365e+06\n",
       "std      3.275842e+05\n",
       "min      7.008928e+05\n",
       "25%      1.231312e+06\n",
       "50%      1.485928e+06\n",
       "75%      1.740419e+06\n",
       "max      2.578376e+06\n",
       "Name: ingresos, dtype: float64"
      ]
     },
     "execution_count": 82,
     "metadata": {},
     "output_type": "execute_result"
    }
   ],
   "source": [
    "ingresos[\"ingresos\"].describe()"
   ]
  },
  {
   "cell_type": "code",
   "execution_count": 83,
   "metadata": {},
   "outputs": [
    {
     "data": {
      "text/plain": [
       "count    1.000000e+04\n",
       "mean     1.241530e+06\n",
       "std      1.566384e+05\n",
       "min      5.640134e+05\n",
       "25%      1.137629e+06\n",
       "50%      1.240381e+06\n",
       "75%      1.347098e+06\n",
       "max      1.934832e+06\n",
       "Name: ingresos, dtype: float64"
      ]
     },
     "execution_count": 83,
     "metadata": {},
     "output_type": "execute_result"
    }
   ],
   "source": [
    "ingresos_2[\"ingresos\"].describe()"
   ]
  },
  {
   "cell_type": "code",
   "execution_count": 40,
   "metadata": {},
   "outputs": [
    {
     "data": {
      "text/plain": [
       "(array([ 14.,  37.,  61., 116., 154., 174., 244., 301., 295., 393., 466.,\n",
       "        505., 475., 483., 591., 541., 567., 538., 529., 517., 536., 511.,\n",
       "        421., 408., 333., 289., 226., 152.,  91.,  32.]),\n",
       " array([0.03391758, 0.06550721, 0.09709684, 0.12868646, 0.16027609,\n",
       "        0.19186572, 0.22345535, 0.25504497, 0.2866346 , 0.31822423,\n",
       "        0.34981386, 0.38140349, 0.41299311, 0.44458274, 0.47617237,\n",
       "        0.507762  , 0.53935162, 0.57094125, 0.60253088, 0.63412051,\n",
       "        0.66571013, 0.69729976, 0.72888939, 0.76047902, 0.79206865,\n",
       "        0.82365827, 0.8552479 , 0.88683753, 0.91842716, 0.95001678,\n",
       "        0.98160641]),\n",
       " <BarContainer object of 30 artists>)"
      ]
     },
     "execution_count": 40,
     "metadata": {},
     "output_type": "execute_result"
    },
    {
     "data": {
      "image/png": "[encoded data removed]",
      "text/plain": [
       "<Figure size 640x480 with 1 Axes>"
      ]
     },
     "metadata": {},
     "output_type": "display_data"
    }
   ],
   "source": [
    "from scipy.stats import beta\n",
    "import random\n",
    "import matplotlib.pyplot as plt\n",
    "import numpy as np\n",
    "\n",
    "# Parameters for the Beta distribution\n",
    "a = 3\n",
    "b = 2.5\n",
    "size = 10000\n",
    "\n",
    "min_value = 0.17\n",
    "max_value = 0.41\n",
    "size = 10000\n",
    "\n",
    "# Create a list to store the 10,000 random values\n",
    "beta_values = beta.rvs(a, b, loc=min_value, scale=(max_value - min_value), size=size)\n",
    "# Print the first few values\n",
    "\n",
    "\n",
    "plt.hist(saturacion_values, bins=30)"
   ]
  },
  {
   "cell_type": "markdown",
   "metadata": {},
   "source": [
    "### Petrolero"
   ]
  },
  {
   "cell_type": "code",
   "execution_count": 104,
   "metadata": {},
   "outputs": [
    {
     "name": "stdout",
     "output_type": "stream",
     "text": [
      "Media de POES: 2592058426.6423182 bbl\n",
      "Desviación Estándar de POES: 932100933.604976 bbl\n"
     ]
    }
   ],
   "source": [
    "import numpy as np\n",
    "\n",
    "# Número de simulaciones Montecarlo\n",
    "num_simulaciones = 10000\n",
    "\n",
    "# Genera variables aleatorias para cada parámetro\n",
    "A_values = 805 # Área del campo en acres (rango entre 80 y 120)\n",
    "H_values = np.random.uniform(162, 407, num_simulaciones)   # Espesor de interés en pies (rango entre 40 y 60) # si esta\n",
    "porosidad_values = np.random.uniform(0.26, 0.27, num_simulaciones)  # Porosidad efectiva (rango entre 0.15 y 0.25) # Esta\n",
    "saturacion_values = beta.ppf([0.17,0.29,0.41]a=3,b=2.5,0.17, 0.41, num_simulaciones)  # Saturación de agua (rango entre 0.25 y 0.35) # Si esta#saturacion\n",
    "Boi_values = np.random.uniform(0.1,0.2, num_simulaciones)  # Factor volumétrico inicial del petróleo (rango entre 1.0 y 1.5)\n",
    "\n",
    "# Inicializa un arreglo para almacenar los resultados\n",
    "POES_values = np.zeros(num_simulaciones)\n",
    "\n",
    "# Realiza las simulaciones Montecarlo\n",
    "for i in range(num_simulaciones):\n",
    "    POES = 7758 * A_values * H_values[i] * porosidad_values[i] * (1 - saturacion_values[i]) / Boi_values[i]\n",
    "    POES_values[i] = POES\n",
    "\n",
    "# Calcula estadísticas de los resultados\n",
    "media_POES = np.mean(POES_values)\n",
    "desviacion_estandar_POES = np.std(POES_values)\n",
    "\n",
    "# Imprime resultados\n",
    "print(\"Media de POES:\", media_POES, \"bbl\")\n",
    "print(\"Desviación Estándar de POES:\", desviacion_estandar_POES, \"bbl\")\n"
   ]
  },
  {
   "cell_type": "code",
   "execution_count": 105,
   "metadata": {},
   "outputs": [
    {
     "data": {
      "text/plain": [
       "(array([ 51., 211., 455., 637., 751., 795., 828., 817., 822., 748., 658.,\n",
       "        599., 536., 445., 355., 305., 241., 179., 142., 118.,  85.,  75.,\n",
       "         45.,  36.,  29.,  20.,   6.,   7.,   2.,   2.]),\n",
       " array([8.27352560e+08, 1.01838363e+09, 1.20941470e+09, 1.40044577e+09,\n",
       "        1.59147684e+09, 1.78250791e+09, 1.97353898e+09, 2.16457005e+09,\n",
       "        2.35560112e+09, 2.54663219e+09, 2.73766326e+09, 2.92869433e+09,\n",
       "        3.11972540e+09, 3.31075647e+09, 3.50178754e+09, 3.69281861e+09,\n",
       "        3.88384968e+09, 4.07488075e+09, 4.26591182e+09, 4.45694289e+09,\n",
       "        4.64797396e+09, 4.83900503e+09, 5.03003610e+09, 5.22106717e+09,\n",
       "        5.41209824e+09, 5.60312931e+09, 5.79416038e+09, 5.98519145e+09,\n",
       "        6.17622252e+09, 6.36725359e+09, 6.55828466e+09]),\n",
       " <BarContainer object of 30 artists>)"
      ]
     },
     "execution_count": 105,
     "metadata": {},
     "output_type": "execute_result"
    },
    {
     "data": {
      "image/png": "[encoded data removed]",
      "text/plain": [
       "<Figure size 640x480 with 1 Axes>"
      ]
     },
     "metadata": {},
     "output_type": "display_data"
    }
   ],
   "source": [
    "plt.hist(POES_values, bins=30)"
   ]
  },
  {
   "cell_type": "code",
   "execution_count": 107,
   "metadata": {},
   "outputs": [
    {
     "data": {
      "text/html": [
       "<div>\n",
       "<style scoped>\n",
       "    .dataframe tbody tr th:only-of-type {\n",
       "        vertical-align: middle;\n",
       "    }\n",
       "\n",
       "    .dataframe tbody tr th {\n",
       "        vertical-align: top;\n",
       "    }\n",
       "\n",
       "    .dataframe thead th {\n",
       "        text-align: right;\n",
       "    }\n",
       "</style>\n",
       "<table border=\"1\" class=\"dataframe\">\n",
       "  <thead>\n",
       "    <tr style=\"text-align: right;\">\n",
       "      <th></th>\n",
       "      <th>0</th>\n",
       "    </tr>\n",
       "  </thead>\n",
       "  <tbody>\n",
       "    <tr>\n",
       "      <th>count</th>\n",
       "      <td>1.000000e+04</td>\n",
       "    </tr>\n",
       "    <tr>\n",
       "      <th>mean</th>\n",
       "      <td>2.592058e+09</td>\n",
       "    </tr>\n",
       "    <tr>\n",
       "      <th>std</th>\n",
       "      <td>9.321475e+08</td>\n",
       "    </tr>\n",
       "    <tr>\n",
       "      <th>min</th>\n",
       "      <td>8.273526e+08</td>\n",
       "    </tr>\n",
       "    <tr>\n",
       "      <th>25%</th>\n",
       "      <td>1.883342e+09</td>\n",
       "    </tr>\n",
       "    <tr>\n",
       "      <th>50%</th>\n",
       "      <td>2.451916e+09</td>\n",
       "    </tr>\n",
       "    <tr>\n",
       "      <th>75%</th>\n",
       "      <td>3.154254e+09</td>\n",
       "    </tr>\n",
       "    <tr>\n",
       "      <th>max</th>\n",
       "      <td>6.558285e+09</td>\n",
       "    </tr>\n",
       "  </tbody>\n",
       "</table>\n",
       "</div>"
      ],
      "text/plain": [
       "                  0\n",
       "count  1.000000e+04\n",
       "mean   2.592058e+09\n",
       "std    9.321475e+08\n",
       "min    8.273526e+08\n",
       "25%    1.883342e+09\n",
       "50%    2.451916e+09\n",
       "75%    3.154254e+09\n",
       "max    6.558285e+09"
      ]
     },
     "execution_count": 107,
     "metadata": {},
     "output_type": "execute_result"
    }
   ],
   "source": [
    "POES_values=pd.DataFrame(POES_values)\n",
    "POES_values.describe()"
   ]
  },
  {
   "cell_type": "markdown",
   "metadata": {},
   "source": [
    "## Media intervalo"
   ]
  },
  {
   "cell_type": "code",
   "execution_count": 108,
   "metadata": {},
   "outputs": [
    {
     "data": {
      "text/plain": [
       "(array([2.57378646e+09]), array([2.61033039e+09]))"
      ]
     },
     "execution_count": 108,
     "metadata": {},
     "output_type": "execute_result"
    }
   ],
   "source": [
    "import scipy.stats as st\n",
    "import math\n",
    "\n",
    "st.t.interval(confidence=0.95, df=len(POES_values)-1,loc=POES_values.mean(),scale=POES_values.std()/math.sqrt(len(POES_values)))"
   ]
  },
  {
   "cell_type": "code",
   "execution_count": 110,
   "metadata": {},
   "outputs": [
    {
     "name": "stdout",
     "output_type": "stream",
     "text": [
      "El percentil 10 es:  0    1.495934e+09\n",
      "Name: 0.1, dtype: float64\n",
      "El percentil 90 es:  0    3.870998e+09\n",
      "Name: 0.9, dtype: float64\n"
     ]
    }
   ],
   "source": [
    "\n",
    "percentil_10=POES_values.quantile(0.1)\n",
    "percentil_90=POES_values.quantile(0.9)\n",
    "print(\"El percentil 10 es: \", percentil_10)\n",
    "print(\"El percentil 90 es: \", percentil_90)\n",
    " "
   ]
  },
  {
   "cell_type": "markdown",
   "metadata": {},
   "source": [
    "## Punto 4\n"
   ]
  },
  {
   "cell_type": "code",
   "execution_count": 129,
   "metadata": {},
   "outputs": [
    {
     "data": {
      "text/plain": [
       "(array([ 51., 211., 455., 637., 751., 795., 828., 817., 822., 748., 658.,\n",
       "        599., 536., 445., 355., 305., 241., 179., 142., 118.,  85.,  75.,\n",
       "         45.,  36.,  29.,  20.,   6.,   7.,   2.,   2.]),\n",
       " array([8.27352560e+08, 1.01838363e+09, 1.20941470e+09, 1.40044577e+09,\n",
       "        1.59147684e+09, 1.78250791e+09, 1.97353898e+09, 2.16457005e+09,\n",
       "        2.35560112e+09, 2.54663219e+09, 2.73766326e+09, 2.92869433e+09,\n",
       "        3.11972540e+09, 3.31075647e+09, 3.50178754e+09, 3.69281861e+09,\n",
       "        3.88384968e+09, 4.07488075e+09, 4.26591182e+09, 4.45694289e+09,\n",
       "        4.64797396e+09, 4.83900503e+09, 5.03003610e+09, 5.22106717e+09,\n",
       "        5.41209824e+09, 5.60312931e+09, 5.79416038e+09, 5.98519145e+09,\n",
       "        6.17622252e+09, 6.36725359e+09, 6.55828466e+09]),\n",
       " <BarContainer object of 30 artists>)"
      ]
     },
     "execution_count": 129,
     "metadata": {},
     "output_type": "execute_result"
    },
    {
     "data": {
      "image/png": "[encoded data removed]",
      "text/plain": [
       "<Figure size 640x480 with 1 Axes>"
      ]
     },
     "metadata": {},
     "output_type": "display_data"
    }
   ],
   "source": [
    "Rf=norm.rvs(loc=0.17,scale=0.3,size=10000)\n",
    "Rf=pd.DataFrame(Rf)\n",
    "\n",
    "\n",
    "Reservas=Rf*POES_values\n",
    "\n",
    "plt.hist(Reservas, bins=30)\n",
    "plt.hist(POES_values, bins=30,color=\"red\",alpha=0.5)"
   ]
  },
  {
   "cell_type": "code",
   "execution_count": 126,
   "metadata": {},
   "outputs": [
    {
     "data": {
      "text/html": [
       "<div>\n",
       "<style scoped>\n",
       "    .dataframe tbody tr th:only-of-type {\n",
       "        vertical-align: middle;\n",
       "    }\n",
       "\n",
       "    .dataframe tbody tr th {\n",
       "        vertical-align: top;\n",
       "    }\n",
       "\n",
       "    .dataframe thead th {\n",
       "        text-align: right;\n",
       "    }\n",
       "</style>\n",
       "<table border=\"1\" class=\"dataframe\">\n",
       "  <thead>\n",
       "    <tr style=\"text-align: right;\">\n",
       "      <th></th>\n",
       "      <th>0</th>\n",
       "    </tr>\n",
       "  </thead>\n",
       "  <tbody>\n",
       "    <tr>\n",
       "      <th>count</th>\n",
       "      <td>1.000000e+04</td>\n",
       "    </tr>\n",
       "    <tr>\n",
       "      <th>mean</th>\n",
       "      <td>4.379255e+08</td>\n",
       "    </tr>\n",
       "    <tr>\n",
       "      <th>std</th>\n",
       "      <td>8.361918e+08</td>\n",
       "    </tr>\n",
       "    <tr>\n",
       "      <th>min</th>\n",
       "      <td>-3.372877e+09</td>\n",
       "    </tr>\n",
       "    <tr>\n",
       "      <th>25%</th>\n",
       "      <td>-6.299170e+07</td>\n",
       "    </tr>\n",
       "    <tr>\n",
       "      <th>50%</th>\n",
       "      <td>3.945699e+08</td>\n",
       "    </tr>\n",
       "    <tr>\n",
       "      <th>75%</th>\n",
       "      <td>8.949972e+08</td>\n",
       "    </tr>\n",
       "    <tr>\n",
       "      <th>max</th>\n",
       "      <td>5.610294e+09</td>\n",
       "    </tr>\n",
       "  </tbody>\n",
       "</table>\n",
       "</div>"
      ],
      "text/plain": [
       "                  0\n",
       "count  1.000000e+04\n",
       "mean   4.379255e+08\n",
       "std    8.361918e+08\n",
       "min   -3.372877e+09\n",
       "25%   -6.299170e+07\n",
       "50%    3.945699e+08\n",
       "75%    8.949972e+08\n",
       "max    5.610294e+09"
      ]
     },
     "execution_count": 126,
     "metadata": {},
     "output_type": "execute_result"
    }
   ],
   "source": [
    "Reservas.describe()"
   ]
  },
  {
   "cell_type": "code",
   "execution_count": 127,
   "metadata": {},
   "outputs": [
    {
     "data": {
      "text/plain": [
       "(array([4.21534502e+08]), array([4.54316587e+08]))"
      ]
     },
     "execution_count": 127,
     "metadata": {},
     "output_type": "execute_result"
    }
   ],
   "source": [
    "st.t.interval(confidence=0.95, df=len(Reservas)-1,loc=Reservas.mean(),scale=Reservas.std()/math.sqrt(len(Reservas)))"
   ]
  },
  {
   "cell_type": "code",
   "execution_count": null,
   "metadata": {},
   "outputs": [],
   "source": []
  }
 ],
 "metadata": {
  "kernelspec": {
   "display_name": "Python 3 (ipykernel)",
   "language": "python",
   "name": "python3"
  },
  "language_info": {
   "codemirror_mode": {
    "name": "ipython",
    "version": 3
   },
   "file_extension": ".py",
   "mimetype": "text/x-python",
   "name": "python",
   "nbconvert_exporter": "python",
   "pygments_lexer": "ipython3",
   "version": "3.11.5"
  },
  "vscode": {
   "interpreter": {
    "hash": "c0b1841c3a9ede5f0df38ef74fe84e5ae0b003950945172f1b507ff85d6c4a6c"
   }
  }
 },
 "nbformat": 4,
 "nbformat_minor": 2
}

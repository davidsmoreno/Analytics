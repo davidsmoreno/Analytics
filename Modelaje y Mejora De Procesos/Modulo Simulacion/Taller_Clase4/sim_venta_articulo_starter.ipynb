{
 "cells": [
  {
   "cell_type": "markdown",
   "metadata": {},
   "source": [
    "## Simulación de venta de articulos"
   ]
  },
  {
   "cell_type": "code",
   "execution_count": 1,
   "metadata": {},
   "outputs": [],
   "source": [
    "from scipy.stats import norm\n",
    "from scipy.stats import randint\n",
    "\n",
    "import numpy as np\n",
    "import pandas as pd\n",
    "import matplotlib.pyplot as plt\n"
   ]
  },
  {
   "cell_type": "code",
   "execution_count": 3,
   "metadata": {},
   "outputs": [],
   "source": [
    "# parámetros del modelo\n",
    "media_precio = 100\n",
    "desv_est_precio = 10\n",
    "min_unids = 10000\n",
    "max_unids = 20000\n",
    "\n",
    "\n",
    "#generación de precios y unids\n",
    "n_exps = 10000\n",
    "precios = norm.rvs(loc=media_precio, scale=desv_est_precio, size=n_exps)\n",
    "unids = randint.rvs(min_unids, max_unids, size=n_exps)\n"
   ]
  },
  {
   "cell_type": "code",
   "execution_count": 4,
   "metadata": {},
   "outputs": [
    {
     "data": {
      "text/html": [
       "<div>\n",
       "<style scoped>\n",
       "    .dataframe tbody tr th:only-of-type {\n",
       "        vertical-align: middle;\n",
       "    }\n",
       "\n",
       "    .dataframe tbody tr th {\n",
       "        vertical-align: top;\n",
       "    }\n",
       "\n",
       "    .dataframe thead th {\n",
       "        text-align: right;\n",
       "    }\n",
       "</style>\n",
       "<table border=\"1\" class=\"dataframe\">\n",
       "  <thead>\n",
       "    <tr style=\"text-align: right;\">\n",
       "      <th></th>\n",
       "      <th>ingresos</th>\n",
       "    </tr>\n",
       "  </thead>\n",
       "  <tbody>\n",
       "    <tr>\n",
       "      <th>0</th>\n",
       "      <td>9.929470e+05</td>\n",
       "    </tr>\n",
       "    <tr>\n",
       "      <th>1</th>\n",
       "      <td>1.235413e+06</td>\n",
       "    </tr>\n",
       "    <tr>\n",
       "      <th>2</th>\n",
       "      <td>1.945188e+06</td>\n",
       "    </tr>\n",
       "    <tr>\n",
       "      <th>3</th>\n",
       "      <td>1.234948e+06</td>\n",
       "    </tr>\n",
       "    <tr>\n",
       "      <th>4</th>\n",
       "      <td>2.116994e+06</td>\n",
       "    </tr>\n",
       "  </tbody>\n",
       "</table>\n",
       "</div>"
      ],
      "text/plain": [
       "       ingresos\n",
       "0  9.929470e+05\n",
       "1  1.235413e+06\n",
       "2  1.945188e+06\n",
       "3  1.234948e+06\n",
       "4  2.116994e+06"
      ]
     },
     "execution_count": 4,
     "metadata": {},
     "output_type": "execute_result"
    }
   ],
   "source": [
    "# ventas \n",
    "ingresos = pd.DataFrame()\n",
    "\n",
    "lista_ingresos = []\n",
    "for i in range(n_exps):\n",
    "    lista_ingresos.append( precios[i]*unids[i])\n",
    "    \n",
    "ingresos[\"ingresos\"] = lista_ingresos\n",
    "ingresos.head()\n"
   ]
  },
  {
   "cell_type": "code",
   "execution_count": 5,
   "metadata": {},
   "outputs": [
    {
     "data": {
      "image/png": "[encoded data removed]",
      "text/plain": [
       "<Figure size 640x480 with 1 Axes>"
      ]
     },
     "metadata": {},
     "output_type": "display_data"
    }
   ],
   "source": [
    "ingresos.hist(bins=30)\n",
    "plt.show()\n"
   ]
  },
  {
   "cell_type": "code",
   "execution_count": 6,
   "metadata": {},
   "outputs": [
    {
     "data": {
      "text/html": [
       "<div>\n",
       "<style scoped>\n",
       "    .dataframe tbody tr th:only-of-type {\n",
       "        vertical-align: middle;\n",
       "    }\n",
       "\n",
       "    .dataframe tbody tr th {\n",
       "        vertical-align: top;\n",
       "    }\n",
       "\n",
       "    .dataframe thead th {\n",
       "        text-align: right;\n",
       "    }\n",
       "</style>\n",
       "<table border=\"1\" class=\"dataframe\">\n",
       "  <thead>\n",
       "    <tr style=\"text-align: right;\">\n",
       "      <th></th>\n",
       "      <th>ingresos</th>\n",
       "    </tr>\n",
       "  </thead>\n",
       "  <tbody>\n",
       "    <tr>\n",
       "      <th>count</th>\n",
       "      <td>1.000000e+04</td>\n",
       "    </tr>\n",
       "    <tr>\n",
       "      <th>mean</th>\n",
       "      <td>1.502082e+06</td>\n",
       "    </tr>\n",
       "    <tr>\n",
       "      <th>std</th>\n",
       "      <td>3.301655e+05</td>\n",
       "    </tr>\n",
       "    <tr>\n",
       "      <th>min</th>\n",
       "      <td>7.111237e+05</td>\n",
       "    </tr>\n",
       "    <tr>\n",
       "      <th>25%</th>\n",
       "      <td>1.238418e+06</td>\n",
       "    </tr>\n",
       "    <tr>\n",
       "      <th>50%</th>\n",
       "      <td>1.487280e+06</td>\n",
       "    </tr>\n",
       "    <tr>\n",
       "      <th>75%</th>\n",
       "      <td>1.748796e+06</td>\n",
       "    </tr>\n",
       "    <tr>\n",
       "      <th>max</th>\n",
       "      <td>2.639263e+06</td>\n",
       "    </tr>\n",
       "  </tbody>\n",
       "</table>\n",
       "</div>"
      ],
      "text/plain": [
       "           ingresos\n",
       "count  1.000000e+04\n",
       "mean   1.502082e+06\n",
       "std    3.301655e+05\n",
       "min    7.111237e+05\n",
       "25%    1.238418e+06\n",
       "50%    1.487280e+06\n",
       "75%    1.748796e+06\n",
       "max    2.639263e+06"
      ]
     },
     "execution_count": 6,
     "metadata": {},
     "output_type": "execute_result"
    }
   ],
   "source": [
    "ingresos.describe()"
   ]
  },
  {
   "cell_type": "code",
   "execution_count": 7,
   "metadata": {},
   "outputs": [
    {
     "data": {
      "text/plain": [
       "(1495609.9534689777, 1508553.7705096935)"
      ]
     },
     "execution_count": 7,
     "metadata": {},
     "output_type": "execute_result"
    }
   ],
   "source": [
    "import numpy as np\n",
    "import scipy.stats as st\n",
    "import math\n",
    "\n",
    "# intervalo de confianza para la media\n",
    "st.t.interval(confidence=0.95, df=len(ingresos)-1,\n",
    "              loc=ingresos[\"ingresos\"].mean(),\n",
    "              scale=ingresos[\"ingresos\"].std()/math.sqrt(len(ingresos)))\n",
    "\n"
   ]
  },
  {
   "cell_type": "code",
   "execution_count": 8,
   "metadata": {},
   "outputs": [
    {
     "data": {
      "text/plain": [
       "(854891.0099535543, 2149272.714025117)"
      ]
     },
     "execution_count": 8,
     "metadata": {},
     "output_type": "execute_result"
    }
   ],
   "source": [
    "# intervalo de confianza para la variable aleatoria\n",
    "st.t.interval(confidence=0.95, df=len(ingresos)-1,\n",
    "              loc=ingresos[\"ingresos\"].mean(),\n",
    "              scale=ingresos[\"ingresos\"].std())"
   ]
  },
  {
   "cell_type": "markdown",
   "metadata": {},
   "source": [
    "## Taller en clase"
   ]
  },
  {
   "cell_type": "code",
   "execution_count": 9,
   "metadata": {},
   "outputs": [
    {
     "name": "stdout",
     "output_type": "stream",
     "text": [
      "       ingresos\n",
      "0  1.113574e+06\n",
      "1  1.125090e+06\n",
      "2  1.276907e+06\n",
      "3  1.148035e+06\n",
      "4  1.466229e+06\n"
     ]
    },
    {
     "data": {
      "image/png": "[encoded data removed]",
      "text/plain": [
       "<Figure size 640x480 with 1 Axes>"
      ]
     },
     "metadata": {},
     "output_type": "display_data"
    }
   ],
   "source": [
    "import numpy as np\n",
    "import pandas as pd\n",
    "import matplotlib.pyplot as plt\n",
    "from scipy.stats import norm, randint\n",
    "\n",
    "# Parámetros del modelo\n",
    "media_precio = 80  # Media del precio\n",
    "desv_est_precio = 10  # Desviación estándar del precio\n",
    "min_unids = 15000  # Cantidad mínima de unidades\n",
    "max_unids = 16000  # Cantidad máxima de unidades\n",
    "\n",
    "# Generación de precios y unidades\n",
    "n_exps = 10000\n",
    "precios = norm.rvs(loc=media_precio, scale=desv_est_precio, size=n_exps)\n",
    "unids = randint.rvs(min_unids, max_unids, size=n_exps)\n",
    "\n",
    "# Cálculo de ingresos\n",
    "ingresos = pd.DataFrame()\n",
    "\n",
    "lista_ingresos = []\n",
    "for i in range(n_exps):\n",
    "    lista_ingresos.append(precios[i] * unids[i])\n",
    "\n",
    "ingresos[\"ingresos\"] = lista_ingresos\n",
    "\n",
    "# Mostrar los primeros registros de ingresos\n",
    "print(ingresos.head())\n",
    "\n",
    "# Histograma de ingresos\n",
    "ingresos.hist(bins=30)\n",
    "plt.xlabel(\"Ingresos\")\n",
    "plt.ylabel(\"Frecuencia\")\n",
    "plt.title(\"Distribución de Ingresos\")\n",
    "plt.show()\n"
   ]
  }
 ],
 "metadata": {
  "kernelspec": {
   "display_name": "Python 3 (ipykernel)",
   "language": "python",
   "name": "python3"
  },
  "language_info": {
   "codemirror_mode": {
    "name": "ipython",
    "version": 3
   },
   "file_extension": ".py",
   "mimetype": "text/x-python",
   "name": "python",
   "nbconvert_exporter": "python",
   "pygments_lexer": "ipython3",
   "version": "3.11.5"
  },
  "vscode": {
   "interpreter": {
    "hash": "c0b1841c3a9ede5f0df38ef74fe84e5ae0b003950945172f1b507ff85d6c4a6c"
   }
  }
 },
 "nbformat": 4,
 "nbformat_minor": 2
}
